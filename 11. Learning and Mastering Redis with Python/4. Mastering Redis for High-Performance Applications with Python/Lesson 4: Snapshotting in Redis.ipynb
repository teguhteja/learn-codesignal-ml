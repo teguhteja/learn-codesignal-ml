{
         "cells": [
                  {
                           "cell_type": "markdown",
                           "metadata": {},
                           "source": [
                                    "# Lesson 4: Snapshotting in Redis\n",
                                    "\n",
                                    "# Introduction to Snapshotting in Redis 📸\n",
                                    "\n",
                                    "Welcome to the next lesson in our Redis course! So far, you've explored working with Redis Streams, managing key expirations, and using Pub/Sub messaging. Now, it's time to dive into **snapshotting** in Redis, a crucial technique to ensure **data durability** and **recoverability** in case of failures.\n",
                                    "\n",
                                    "---\n",
                                    "\n",
                                    "### What You'll Learn 🧠\n",
                                    "In this lesson, you'll master **manual snapshotting** in Redis. By the end, you’ll know how to:\n",
                                    "\n",
                                    "- 🔹 Use the `SAVE` command to create a synchronous snapshot\n",
                                    "- 🔹 Use the `BGSAVE` command to trigger an asynchronous background snapshot\n",
                                    "\n",
                                    "Here’s a quick code example:\n",
                                    "\n",
                                    "```python\n",
                                    "import redis\n",
                                    "\n",
                                    "# Connect to Redis\n",
                                    "client = redis.Redis(host='localhost', port=6379, db=0)\n",
                                    "\n",
                                    "# Save and load snapshot in Redis\n",
                                    "client.save()       # Synchronous snapshot\n",
                                    "client.bgsave()     # Asynchronous snapshot\n",
                                    "\n",
                                    "print(\"Manual snapshot triggered.\")\n",
                                    "```\n",
                                    "\n",
                                    "This script shows how to use `SAVE` and `BGSAVE` commands to create Redis snapshots, essential for **data durability**.\n",
                                    "\n",
                                    "---\n",
                                    "\n",
                                    "### Key Differences 🛠️\n",
                                    "\n",
                                    "- **`SAVE` Command**: Creates a snapshot synchronously, blocking the Redis server while it saves the data. This can impact performance.\n",
                                    "- **`BGSAVE` Command**: Triggers a snapshot asynchronously, allowing it to run in the background without blocking the server, making it ideal for production use.\n",
                                    "\n",
                                    "---\n",
                                    "\n",
                                    "### Why It Matters 💡\n",
                                    "\n",
                                    "1. **Data Durability**: Regular snapshots reduce the risk of data loss during server crashes or restarts.\n",
                                    "2. **Backup and Recovery**: Snapshots act as backups. You can restore data from them, minimizing downtime and preserving data integrity.\n",
                                    "3. **Operational Efficiency**: Knowing when and how to use snapshots helps you manage memory usage and performance in Redis, ensuring smooth application operation.\n",
                                    "\n",
                                    "By mastering snapshotting, you’ll be equipped to build **robust data persistence strategies** in Redis, ensuring high availability and reliability.\n",
                                    "\n",
                                    "Ready to solidify your understanding? Let’s move to the **practice section** and explore real-world applications of these concepts."
                           ]
                  },
                  {
                           "cell_type": "markdown",
                           "metadata": {},
                           "source": [
                                    "## Creating Snapshots in Redis\n",
                                    "\n",
                                    "Great progress so far! Let's run the code you saw in the lesson to better understand snapshotting in Redis.\n",
                                    "\n",
                                    "Snapshotting allows you to save your data to disk. There are two ways to trigger a snapshot:\n",
                                    "\n",
                                    "save Command: Creates a synchronous snapshot. It blocks Redis until the snapshot is completed.\n",
                                    "\n",
                                    "bgsave Command: Creates an asynchronous snapshot. It runs in the background without blocking Redis.\n",
                                    "\n",
                                    "In this practice, we'll connect to a Redis server, trigger both save and bgsave snapshots, and print a message indicating that the manual snapshot was triggered.\n",
                                    "\n",
                                    "Here's the code:\n",
                                    "\n",
                                    "```py\n",
                                    "import redis\n",
                                    "\n",
                                    "# Connect to Redis\n",
                                    "client = redis.Redis(host='localhost', port=6379, db=0)\n",
                                    "\n",
                                    "# Save and load snapshot in Redis\n",
                                    "client.save()\n",
                                    "client.bgsave()\n",
                                    "\n",
                                    "print(\"Manual snapshot triggered.\")\n",
                                    "\n",
                                    "\n",
                                    "```"
                           ]
                  },
                  {
                           "cell_type": "markdown",
                           "metadata": {},
                           "source": [
                                    "## Using Redis BGSAVE Snapshot"
                           ]
                  },
                  {
                           "cell_type": "markdown",
                           "metadata": {},
                           "source": [
                                    "## Trigger Redis Snapshots Manually"
                           ]
                  }
         ],
         "metadata": {
                  "language_info": {
                           "name": "python"
                  }
         },
         "nbformat": 4,
         "nbformat_minor": 5
}
