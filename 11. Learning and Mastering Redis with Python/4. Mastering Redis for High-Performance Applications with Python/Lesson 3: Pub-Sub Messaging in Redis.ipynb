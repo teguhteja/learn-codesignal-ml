{
         "cells": [
                  {
                           "cell_type": "markdown",
                           "metadata": {},
                           "source": [
                                    "# Lesson 3: Pub-Sub Messaging in Redis\n",
                                    "\n",
                                    "# Pub/Sub Messaging in Redis\n",
                                    "\n",
                                    "Welcome back! In this lesson, we dive into another powerful feature of Redis: **Publish/Subscribe (Pub/Sub) messaging**. This topic builds on our understanding of Redis and introduces a dynamic way to enable real-time communication within your applications.\n",
                                    "\n",
                                    "## What You'll Learn\n",
                                    "In this lesson, you will learn how to set up and use Redis Pub/Sub messaging to send and receive messages between different parts of your application. This is useful for creating real-time features like notifications, chat systems, or live updates.\n",
                                    "\n",
                                    "Here's a sneak peek at how to set up a simple Pub/Sub system in Redis:\n",
                                    "\n",
                                    "```python\n",
                                    "import redis\n",
                                    "import time\n",
                                    "import threading\n",
                                    "\n",
                                    "client = redis.Redis(host='localhost', port=6379, db=0)\n",
                                    "\n",
                                    "def message_handler(message):\n",
                                    "    print(f\"Received message: {message['data']}\")\n",
                                    "\n",
                                    "pubsub = client.pubsub()\n",
                                    "pubsub.subscribe(**{'notifications': message_handler})\n",
                                    "\n",
                                    "def run_pubsub():\n",
                                    "    for message in pubsub.listen():\n",
                                    "        if message['type'] == 'message':\n",
                                    "            message_handler(message)\n",
                                    "\n",
                                    "thread = threading.Thread(target=run_pubsub)\n",
                                    "thread.start()\n",
                                    "\n",
                                    "time.sleep(1)\n",
                                    "publish_result = client.publish('notifications', 'Hello, Redis!')\n",
                                    "print(f\"Message published, number of subscribers that received the message: {publish_result}\")\n",
                                    "\n",
                                    "pubsub.unsubscribe()\n",
                                    "thread.join()\n",
                                    "```\n",
                                    "\n",
                                    "### Breaking Down the Code\n",
                                    "1. **Message Handler Function**: We create a `message_handler` function to print each received message.\n",
                                    "2. **Subscription**: We create a `pubsub` object and subscribe to the `notifications` channel, using `**kwargs` to pass the channel name and message handler function.\n",
                                    "3. **Listening for Messages**: We define a `run_pubsub` function that listens for messages using `pubsub.listen()` and calls `message_handler` when a message is received.\n",
                                    "4. **Background Thread**: We start a new thread to run `run_pubsub` in the background.\n",
                                    "5. **Publishing a Message**: We publish a message to the `notifications` channel after a short delay, then print the number of subscribers that received it. The `message_handler` function also prints the received message.\n",
                                    "\n",
                                    "   **Expected Output:**\n",
                                    "   ```plaintext\n",
                                    "   Message published, number of subscribers that received the message: 1\n",
                                    "   Received message: b'Hello, Redis!'\n",
                                    "   ```\n",
                                    "\n",
                                    "6. **Unsubscribing**: We use `unsubscribe` to stop listening and `join` the thread to avoid running indefinitely.\n",
                                    "\n",
                                    "## Why It Matters\n",
                                    "The Pub/Sub messaging model is essential for enabling real-time communication in modern applications. Whether it’s sending notifications to users, making chat applications, or updating dashboards live, Pub/Sub can help achieve these goals effortlessly.\n",
                                    "\n",
                                    "### Key Benefits of Redis Pub/Sub\n",
                                    "- **Real-Time Communication**: Instantly update parts of your application as events occur, providing a seamless user experience.\n",
                                    "- **Decoupled Architecture**: Pub/Sub allows senders and receivers to be decoupled, making applications more modular and easier to maintain.\n",
                                    "- **Scalability**: Easily scale by adding more subscribers or publishers without changing core logic.\n",
                                    "\n",
                                    "Mastering Pub/Sub messaging in Redis will empower you to build responsive, scalable, and maintainable applications. Ready to see it in action? Let’s head to the practice section and start coding!"
                           ]
                  },
                  {
                           "cell_type": "markdown",
                           "metadata": {},
                           "source": [
                                    "## Run Redis Pub-Sub Messaging Code\n",
                                    "\n",
                                    "Great job on understanding the basics of Pub/Sub messaging!\n",
                                    "\n",
                                    "Let's run the code from our lesson to see it in action. Pay close attention to the output, as this will help solidify your understanding.\n",
                                    "\n",
                                    "Here’s a quick summary:\n",
                                    "\n",
                                    "We set up the subscriber to listen to the notifications channel, using a message handler to print incoming messages.\n",
                                    "We run the subscriber in a separate thread.\n",
                                    "We publish a \"Hello, Redis!\" message to the same channel to see the whole setup in action.\n",
                                    "Finally, we unsubscribe and clean up the thread.\n",
                                    "Run the code below and observe the output.\n",
                                    "\n",
                                    "```py\n",
                                    "import redis\n",
                                    "import time\n",
                                    "import threading\n",
                                    "\n",
                                    "# Connect to Redis\n",
                                    "client = redis.Redis(host='localhost', port=6379, db=0)\n",
                                    "\n",
                                    "# Subscriber part\n",
                                    "def message_handler(message):\n",
                                    "    print(f\"Received message: {message['data']}\")\n",
                                    "\n",
                                    "pubsub = client.pubsub()\n",
                                    "pubsub.subscribe(**{'notifications': message_handler})\n",
                                    "\n",
                                    "# Run the pubsub in a separate thread\n",
                                    "def run_pubsub():\n",
                                    "    for message in pubsub.listen():\n",
                                    "        if message['type'] == 'message':\n",
                                    "            message_handler(message)\n",
                                    "\n",
                                    "thread = threading.Thread(target=run_pubsub)\n",
                                    "thread.start()\n",
                                    "\n",
                                    "# Give some time for the subscription to be set up\n",
                                    "time.sleep(1)\n",
                                    "\n",
                                    "# Publisher part\n",
                                    "publish_result = client.publish('notifications', 'Hello, Redis!')\n",
                                    "print(f\"Message published, number of subscribers that received the message: {publish_result}\")\n",
                                    "\n",
                                    "# Let the subscriber run for some time to ensure it receives the message\n",
                                    "time.sleep(2)\n",
                                    "\n",
                                    "# Stop the pubsub thread\n",
                                    "pubsub.unsubscribe('notifications')\n",
                                    "thread.join()\n",
                                    "\n",
                                    "\n",
                                    "```"
                           ]
                  },
                  {
                           "cell_type": "markdown",
                           "metadata": {},
                           "source": [
                                    "## Update to a New Pub-Sub Channel"
                           ]
                  },
                  {
                           "cell_type": "markdown",
                           "metadata": {},
                           "source": [
                                    "## Debug Redis Pub-Sub Messaging"
                           ]
                  },
                  {
                           "cell_type": "markdown",
                           "metadata": {},
                           "source": [
                                    "## Setting Up Redis Pub-Sub System"
                           ]
                  },
                  {
                           "cell_type": "markdown",
                           "metadata": {},
                           "source": [
                                    "## Set Up Redis Pub-Sub Messaging"
                           ]
                  }
         ],
         "metadata": {
                  "language_info": {
                           "name": "python"
                  }
         },
         "nbformat": 4,
         "nbformat_minor": 5
}
