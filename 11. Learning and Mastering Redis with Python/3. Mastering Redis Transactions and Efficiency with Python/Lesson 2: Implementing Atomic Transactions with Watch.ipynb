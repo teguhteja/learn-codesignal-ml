{
         "cells": [
                  {
                           "cell_type": "markdown",
                           "metadata": {},
                           "source": [
                                    "# Lesson 2: Implementing Atomic Transactions with Watch\n",
                                    "\n",
                                    "# Introduction to `watch` in Redis\n",
                                    "\n",
                                    "Welcome back! You’ve now learned how to build and execute basic transactions in Redis. This next lesson takes you a step further by introducing the `watch` command. This command will help you implement more controlled and conditional transactions. It is essential for scenarios where you need to monitor certain keys and ensure that operations are completed only when specific conditions are met.\n",
                                    "\n",
                                    "## What You'll Learn\n",
                                    "In this unit, you will delve into the functionality of the `watch` command in Redis. Here’s a quick overview of what you will learn:\n",
                                    "\n",
                                    "- **Setting Up `watch`**: Understand the importance of monitoring keys to control transaction execution.\n",
                                    "- **Implementing Conditional Updates**: Write functions that use `watch` to implement safer and more conditional updates to your Redis data.\n",
                                    "\n",
                                    "Let's take a look at a practical example of how to use `watch` in your code.\n",
                                    "\n",
                                    "```python\n",
                                    "import redis\n",
                                    "\n",
                                    "client = redis.Redis(host='localhost', port=6379, db=0)\n",
                                    "\n",
                                    "def update_balance(user_id, increment):\n",
                                    "    with client.pipeline() as pipe:\n",
                                    "        while True:\n",
                                    "            try:\n",
                                    "                pipe.watch(f'balance:{user_id}')\n",
                                    "                balance = int(pipe.get(f'balance:{user_id}') or 0)\n",
                                    "                pipe.multi()\n",
                                    "                pipe.set(f'balance:{user_id}', balance + increment)\n",
                                    "                pipe.execute()\n",
                                    "                break\n",
                                    "            except redis.WatchError as e:\n",
                                    "                print(f\"Retrying transaction: {e}\")\n",
                                    "                continue\n",
                                    "\n",
                                    "client.set('balance:1', 100)\n",
                                    "update_balance(1, 50)\n",
                                    "\n",
                                    "value = client.get('balance:1').decode('utf-8')\n",
                                    "print(f\"Updated balance for user 1: {value}\")\n",
                                    "```\n",
                                    "\n",
                                    "In this example, we start by **watching** the `balance:{user_id}` key to monitor changes. If another client modifies the value before executing the transaction, the `pipe.execute()` will fail, and the transaction will retry. This ensures that your balance updates are consistent.\n",
                                    "\n",
                                    "### Breakdown of Each Step:\n",
                                    "\n",
                                    "1. **Define the Function**: The `update_balance` function takes `user_id` and `increment` as arguments.\n",
                                    "2. **Create a Pipeline**: We use `client.pipeline()` to execute multiple commands in a single transaction.\n",
                                    "3. **Monitor Key**: Inside the `while` loop, we use the `watch` command to monitor the `balance:{user_id}` key, ensuring that no other client modifies it during the transaction.\n",
                                    "4. **Get the Current Balance**: We retrieve the current balance value using `pipe.get()` and set it to `0` if it doesn't exist.\n",
                                    "5. **Start the Transaction**: The `pipe.multi()` command starts the transaction block, allowing multiple commands to be executed atomically.\n",
                                    "6. **Update the Balance**: We update the balance by adding the `increment` value to the current balance.\n",
                                    "7. **Execute the Transaction**: The `pipe.execute()` command executes the transaction.\n",
                                    "8. **Handle Conflicts**: If another client changes the balance key before the transaction is executed, a `redis.WatchError` exception is raised, and the transaction is retried using the `continue` statement.\n",
                                    "\n",
                                    "### How the Function is Used:\n",
                                    "\n",
                                    "1. We set the initial balance for user 1 to `100`.\n",
                                    "2. We call the `update_balance` function with `user_id=1` and `increment=50` to increase the balance by 50.\n",
                                    "3. Finally, we retrieve the updated balance for user 1 and print it.\n",
                                    "\n",
                                    "## Why It Matters\n",
                                    "\n",
                                    "Mastering the `watch` command is crucial for several reasons:\n",
                                    "\n",
                                    "- **Optimized Data Integrity**: Using `watch` ensures that actions only occur if specific conditions are met, allowing for safer updates.\n",
                                    "- **Conditional Logic**: You can tailor your Redis transactions to proceed only when specific keys maintain expected values, adding sophistication and precision to your operations.\n",
                                    "- **Error Handling**: `watch` helps in avoiding conflicts and managing errors when multiple clients try to update the same data.\n",
                                    "\n",
                                    "Using `watch` effectively enables you to write more robust and reliable applications, safeguarding against potential race conditions and ensuring that concurrent updates do not interfere with each other.\n",
                                    "\n",
                                    "Ready to get hands-on and explore further? Let’s move on to the practice section and apply these commands in various scenarios to solidify your understanding."
                           ]
                  },
                  {
                           "cell_type": "markdown",
                           "metadata": {},
                           "source": [
                                    "## Watch and Update User Balance"
                           ]
                  },
                  {
                           "cell_type": "markdown",
                           "metadata": {},
                           "source": [
                                    "## Updating User Balance with Redis"
                           ]
                  },
                  {
                           "cell_type": "markdown",
                           "metadata": {},
                           "source": [
                                    "## Abort Transaction on Negative Balance"
                           ]
                  },
                  {
                           "cell_type": "markdown",
                           "metadata": {},
                           "source": [
                                    "## Update Likes with Redis Transactions"
                           ]
                  },
                  {
                           "cell_type": "markdown",
                           "metadata": {},
                           "source": [
                                    "## Update Points with Redis Transactions"
                           ]
                  }
         ],
         "metadata": {
                  "language_info": {
                           "name": "python"
                  }
         },
         "nbformat": 4,
         "nbformat_minor": 5
}
