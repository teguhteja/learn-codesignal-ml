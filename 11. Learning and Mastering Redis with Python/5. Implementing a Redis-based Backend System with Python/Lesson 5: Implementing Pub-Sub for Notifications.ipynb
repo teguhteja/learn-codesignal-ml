{
            "cells": [
  {
            "cell_type": "markdown",
            "metadata": {},
            "source": [
                "# Lesson 5: Implementing Pub-Sub for Notifications"
            ]
            }
 ,{
            "cell_type": "markdown",
            "metadata": {},
            "source": [
 "## Publish Messages to a Channel" 
   ]
            }
 ,{
            "cell_type": "markdown",
            "metadata": {},
            "source": [
 "## Handle Incoming Messages with Pub-Sub" 
   ]
            }
   ],
 "metadata": {},
 "nbformat": 4,
 "nbformat_minor": 5
}
