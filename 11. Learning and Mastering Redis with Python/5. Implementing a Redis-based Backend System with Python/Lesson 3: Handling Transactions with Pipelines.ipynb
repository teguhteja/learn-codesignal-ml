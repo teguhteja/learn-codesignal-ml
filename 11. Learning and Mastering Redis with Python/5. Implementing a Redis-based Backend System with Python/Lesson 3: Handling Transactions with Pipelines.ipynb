{
            "cells": [
  {
            "cell_type": "markdown",
            "metadata": {},
            "source": [
                "# Lesson 3: Handling Transactions with Pipelines"
            ]
            }
 ,{
            "cell_type": "markdown",
            "metadata": {},
            "source": [
 "## Handling User Data with Pipelines" 
   ]
            }
 ,{
            "cell_type": "markdown",
            "metadata": {},
            "source": [
 "## Using Pipelines for Transactions" 
   ]
            }
 ,{
            "cell_type": "markdown",
            "metadata": {},
            "source": [
 "## Handling Data with Redis Pipelines" 
   ]
            }
   ],
 "metadata": {},
 "nbformat": 4,
 "nbformat_minor": 5
}
