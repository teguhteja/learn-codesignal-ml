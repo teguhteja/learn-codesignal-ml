{
         "cells": [
                  {
                           "cell_type": "markdown",
                           "metadata": {},
                           "source": [
                                    "# Lesson 2: Working with Numbers\n",
                                    "\n",
                                    "\n",
                                    "# Working with Numbers\n",
                                    "\n",
                                    "Welcome back to our Redis course! Now that you know how to connect to a Redis server, it's time to move forward and explore how to work with numbers in Redis. This unit builds on our previous lesson, so make sure you're comfortable with establishing a connection to a Redis server.\n",
                                    "\n",
                                    "## What You'll Learn\n",
                                    "In this lesson, you will learn how to:\n",
                                    "- Set numeric values in Redis.\n",
                                    "- Retrieve and decode numeric values.\n",
                                    "\n",
                                    "### Here's the code snippet that we'll be working with:\n",
                                    "\n",
                                    "```python\n",
                                    "import redis\n",
                                    "\n",
                                    "# Connect to Redis\n",
                                    "client = redis.Redis(host='localhost', port=6379, db=0)\n",
                                    "\n",
                                    "# Setting and getting string values\n",
                                    "client.set('count', 5)\n",
                                    "client.set('completion_rate', 95.5)\n",
                                    "\n",
                                    "count = client.get('count')\n",
                                    "completion_rate = client.get('completion_rate')\n",
                                    "\n",
                                    "print(f\"Course count: {count}, Completion rate: {completion_rate}\")\n",
                                    "\n",
                                    "count = count.decode('utf-8')\n",
                                    "completion_rate = completion_rate.decode('utf-8')\n",
                                    "\n",
                                    "print(f\"Course count: {count}\")\n",
                                    "print(f\"Completion rate: {completion_rate}\")\n",
                                    "```\n",
                                    "\n",
                                    "### Let's break down the code:\n",
                                    "1. Just like in the previous lesson, we first import the `redis` module and establish a connection to the Redis server.\n",
                                    "2. We use the `set` method to store the numeric values: `'count'` with a value of `5` and `'completion_rate'` with a value of `95.5`.\n",
                                    "3. We retrieve these values using the `get` method and then decode them from bytes to strings using `decode('utf-8')`. Note that the return type of the `get` method is a byte string, and we need to decode it to get the actual value.\n",
                                    "\n",
                                    "## Why It Matters\n",
                                    "Working with numbers in Redis is crucial because many real-world applications involve numeric data. From tracking user statistics to monitoring system performance, managing numbers in Redis allows you to perform a variety of useful operations efficiently. By mastering these basic operations with numbers, you'll be well-prepared to tackle more complex tasks and optimize your applications.\n",
                                    "\n",
                                    "Ready to dive in? Let's move on to the practice section and get hands-on experience working with numbers in Redis!\n"
                           ]
                  },
                  {
                           "cell_type": "markdown",
                           "metadata": {},
                           "source": [
                                    "## Working with Redis Numbers\n",
                                    "\n",
                                    "Great job on learning how to connect to a Redis server! Now, let's run the code you saw in the lesson to understand how to work with numbers in Redis.\n",
                                    "\n",
                                    "We will connect to a Redis server, set numeric values, retrieve them, decode them, and print them out.\n",
                                    "\n",
                                    "Run the following code to see how it all works together.\n",
                                    "\n",
                                    "Cosmo • Just now\n"
                           ]
                  },
                  {
                           "cell_type": "code",
                           "execution_count": null,
                           "id": "8fade2eb",
                           "metadata": {},
                           "outputs": [],
                           "source": [
                                    "import redis\n",
                                    "\n",
                                    "# Connect to Redis\n",
                                    "client = redis.Redis(host='localhost', port=6379, db=0)\n",
                                    "\n",
                                    "# Setting and getting string values\n",
                                    "client.set('count', 5)\n",
                                    "client.set('completion_rate', 95.5)\n",
                                    "\n",
                                    "count = client.get('count')\n",
                                    "completion_rate = client.get('completion_rate')\n",
                                    "\n",
                                    "count = count.decode('utf-8')\n",
                                    "completion_rate = completion_rate.decode('utf-8')\n",
                                    "\n",
                                    "print(f\"Course count: {count}\")\n",
                                    "print(f\"Completion rate: {completion_rate}\")"
                           ]
                  },
                  {
                           "cell_type": "markdown",
                           "metadata": {},
                           "source": [
                                    "## Fix the Redis Script\n",
                                    "\n",
                                    "Let's build on what you just learned.\n",
                                    "\n",
                                    "This task sets the count key in Redis to 5. Then it retrieves the value of the count key and increments it by 1.\n",
                                    "\n",
                                    "However, the code is not working as expected. Can you debug the code and fix the issue?\n",
                                    "\n",
                                    "```py\n",
                                    "import redis\n",
                                    "\n",
                                    "# Connect to Redis\n",
                                    "client = redis.Redis(host='localhost', port=6379, db=0)\n",
                                    "\n",
                                    "client.set('count', 5)\n",
                                    "\n",
                                    "count = client.get('count')\n",
                                    "\n",
                                    "count = count.decode('utf-8')\n",
                                    "\n",
                                    "print(f\"New course created. Total count: {count + 1}\")\n",
                                    "```"
                           ]
                  },
                  {
                           "cell_type": "markdown",
                           "metadata": {},
                           "source": [
                                    "## Adding Missing Redis Code Blocks"
                           ]
                  },
                  {
                           "cell_type": "markdown",
                           "metadata": {},
                           "source": [
                                    "## Write Redis Numbers from Scratch"
                           ]
                  }
         ],
         "metadata": {
                  "language_info": {
                           "name": "python"
                  }
         },
         "nbformat": 4,
         "nbformat_minor": 5
}
