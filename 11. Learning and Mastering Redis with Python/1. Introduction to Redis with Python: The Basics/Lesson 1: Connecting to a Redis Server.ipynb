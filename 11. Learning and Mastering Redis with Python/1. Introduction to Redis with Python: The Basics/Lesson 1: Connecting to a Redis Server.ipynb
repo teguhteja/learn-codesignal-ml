{
         "cells": [
                  {
                           "cell_type": "markdown",
                           "metadata": {},
                           "source": [
                                    "# Lesson 1: Connecting to a Redis Server\n",
                                    "\n",
                                    "# Connecting to a Redis Server\n",
                                    "\n",
                                    "Welcome to the first lesson of our Redis course! In this unit, we'll start with the very basics — connecting to a Redis server. Understanding how to establish this connection is essential since it forms the backbone of all the operations you'll perform with Redis. By the end of this lesson, you’ll be confident in setting up a connection to a Redis server and verifying that connection through simple operations.\n",
                                    "\n",
                                    "## What You'll Learn\n",
                                    "\n",
                                    "In this lesson, you will learn how to:\n",
                                    "\n",
                                    "- Connect to a Redis server using Python.\n",
                                    "- Verify your connection by storing and retrieving a value.\n",
                                    "\n",
                                    "Here’s the simple code you’ll be working with:\n",
                                    "\n",
                                    "```python\n",
                                    "import redis\n",
                                    "\n",
                                    "# Connect to the Redis server\n",
                                    "client = redis.Redis(host='localhost', port=6379, db=0)\n",
                                    "\n",
                                    "# Verify the connection by setting and getting a value\n",
                                    "client.set('name', 'Redis Learner')\n",
                                    "print(f\"Stored string in Redis: {client.get('name').decode('utf-8')}\")\n",
                                    "```\n",
                                    "\n",
                                    "### Let's break down the code:\n",
                                    "\n",
                                    "1. We import the `redis` module, which provides the Python interface to Redis.\n",
                                    "2. We establish a connection to the Redis server running on `localhost` at port `6379` and database `0` — the default database.\n",
                                    "3. We set a key-value pair in Redis using the `set` method, where the key is `'name'` and the value is `'Redis Learner'`.\n",
                                    "4. Finally, we retrieve the value stored in Redis using the `get` method and print it to the console. Notice that we decode the value using `decode('utf-8')` to convert it from bytes to a string; otherwise, the byte string `b'Redis Learner'` would be printed. Note that if we try to retrieve a key that doesn't exist, Redis will return `None`.\n",
                                    "\n",
                                    "## Why It Matters\n",
                                    "\n",
                                    "Establishing a connection to a Redis server is the first step in using the various features Redis has to offer, from fast data access to caching and message brokering. Without this fundamental step, you wouldn't be able to use Redis effectively. Knowing how to connect to a Redis server will enable you to start experimenting with Redis's powerful features, such as data structures and atomic operations.\n",
                                    "\n",
                                    "---\n",
                                    "\n",
                                    "**Ready to get started?** Let's dive into the practice section and make sure you can connect to a Redis server seamlessly.\n"
                           ]
                  },
                  {
                           "cell_type": "code",
                           "execution_count": 1,
                           "id": "b052d3cf",
                           "metadata": {},
                           "outputs": [
                                    {
                                             "name": "stdout",
                                             "output_type": "stream",
                                             "text": [
                                                      "Requirement already satisfied: redis in /home/teguhteja/miniconda3/lib/python3.12/site-packages (5.1.1)\n",
                                                      "Note: you may need to restart the kernel to use updated packages.\n"
                                             ]
                                    }
                           ],
                           "source": [
                                    "%pip install redis"
                           ]
                  },
                  {
                           "cell_type": "code",
                           "execution_count": 2,
                           "id": "508a79f2",
                           "metadata": {},
                           "outputs": [
                                    {
                                             "ename": "ConnectionError",
                                             "evalue": "Error 111 connecting to localhost:6379. Connection refused.",
                                             "output_type": "error",
                                             "traceback": [
                                                      "\u001b[0;31m---------------------------------------------------------------------------\u001b[0m",
                                                      "\u001b[0;31mConnectionRefusedError\u001b[0m                    Traceback (most recent call last)",
                                                      "File \u001b[0;32m~/miniconda3/lib/python3.12/site-packages/redis/connection.py:357\u001b[0m, in \u001b[0;36mAbstractConnection.connect\u001b[0;34m(self)\u001b[0m\n\u001b[1;32m    356\u001b[0m \u001b[38;5;28;01mtry\u001b[39;00m:\n\u001b[0;32m--> 357\u001b[0m     sock \u001b[38;5;241m=\u001b[39m \u001b[38;5;28;43mself\u001b[39;49m\u001b[38;5;241;43m.\u001b[39;49m\u001b[43mretry\u001b[49m\u001b[38;5;241;43m.\u001b[39;49m\u001b[43mcall_with_retry\u001b[49m\u001b[43m(\u001b[49m\n\u001b[1;32m    358\u001b[0m \u001b[43m        \u001b[49m\u001b[38;5;28;43;01mlambda\u001b[39;49;00m\u001b[43m:\u001b[49m\u001b[43m \u001b[49m\u001b[38;5;28;43mself\u001b[39;49m\u001b[38;5;241;43m.\u001b[39;49m\u001b[43m_connect\u001b[49m\u001b[43m(\u001b[49m\u001b[43m)\u001b[49m\u001b[43m,\u001b[49m\u001b[43m \u001b[49m\u001b[38;5;28;43;01mlambda\u001b[39;49;00m\u001b[43m \u001b[49m\u001b[43merror\u001b[49m\u001b[43m:\u001b[49m\u001b[43m \u001b[49m\u001b[38;5;28;43mself\u001b[39;49m\u001b[38;5;241;43m.\u001b[39;49m\u001b[43mdisconnect\u001b[49m\u001b[43m(\u001b[49m\u001b[43merror\u001b[49m\u001b[43m)\u001b[49m\n\u001b[1;32m    359\u001b[0m \u001b[43m    \u001b[49m\u001b[43m)\u001b[49m\n\u001b[1;32m    360\u001b[0m \u001b[38;5;28;01mexcept\u001b[39;00m socket\u001b[38;5;241m.\u001b[39mtimeout:\n",
                                                      "File \u001b[0;32m~/miniconda3/lib/python3.12/site-packages/redis/retry.py:62\u001b[0m, in \u001b[0;36mRetry.call_with_retry\u001b[0;34m(self, do, fail)\u001b[0m\n\u001b[1;32m     61\u001b[0m \u001b[38;5;28;01mtry\u001b[39;00m:\n\u001b[0;32m---> 62\u001b[0m     \u001b[38;5;28;01mreturn\u001b[39;00m \u001b[43mdo\u001b[49m\u001b[43m(\u001b[49m\u001b[43m)\u001b[49m\n\u001b[1;32m     63\u001b[0m \u001b[38;5;28;01mexcept\u001b[39;00m \u001b[38;5;28mself\u001b[39m\u001b[38;5;241m.\u001b[39m_supported_errors \u001b[38;5;28;01mas\u001b[39;00m error:\n",
                                                      "File \u001b[0;32m~/miniconda3/lib/python3.12/site-packages/redis/connection.py:358\u001b[0m, in \u001b[0;36mAbstractConnection.connect.<locals>.<lambda>\u001b[0;34m()\u001b[0m\n\u001b[1;32m    356\u001b[0m \u001b[38;5;28;01mtry\u001b[39;00m:\n\u001b[1;32m    357\u001b[0m     sock \u001b[38;5;241m=\u001b[39m \u001b[38;5;28mself\u001b[39m\u001b[38;5;241m.\u001b[39mretry\u001b[38;5;241m.\u001b[39mcall_with_retry(\n\u001b[0;32m--> 358\u001b[0m         \u001b[38;5;28;01mlambda\u001b[39;00m: \u001b[38;5;28;43mself\u001b[39;49m\u001b[38;5;241;43m.\u001b[39;49m\u001b[43m_connect\u001b[49m\u001b[43m(\u001b[49m\u001b[43m)\u001b[49m, \u001b[38;5;28;01mlambda\u001b[39;00m error: \u001b[38;5;28mself\u001b[39m\u001b[38;5;241m.\u001b[39mdisconnect(error)\n\u001b[1;32m    359\u001b[0m     )\n\u001b[1;32m    360\u001b[0m \u001b[38;5;28;01mexcept\u001b[39;00m socket\u001b[38;5;241m.\u001b[39mtimeout:\n",
                                                      "File \u001b[0;32m~/miniconda3/lib/python3.12/site-packages/redis/connection.py:730\u001b[0m, in \u001b[0;36mConnection._connect\u001b[0;34m(self)\u001b[0m\n\u001b[1;32m    729\u001b[0m \u001b[38;5;28;01mif\u001b[39;00m err \u001b[38;5;129;01mis\u001b[39;00m \u001b[38;5;129;01mnot\u001b[39;00m \u001b[38;5;28;01mNone\u001b[39;00m:\n\u001b[0;32m--> 730\u001b[0m     \u001b[38;5;28;01mraise\u001b[39;00m err\n\u001b[1;32m    731\u001b[0m \u001b[38;5;28;01mraise\u001b[39;00m \u001b[38;5;167;01mOSError\u001b[39;00m(\u001b[38;5;124m\"\u001b[39m\u001b[38;5;124msocket.getaddrinfo returned an empty list\u001b[39m\u001b[38;5;124m\"\u001b[39m)\n",
                                                      "File \u001b[0;32m~/miniconda3/lib/python3.12/site-packages/redis/connection.py:718\u001b[0m, in \u001b[0;36mConnection._connect\u001b[0;34m(self)\u001b[0m\n\u001b[1;32m    717\u001b[0m \u001b[38;5;66;03m# connect\u001b[39;00m\n\u001b[0;32m--> 718\u001b[0m \u001b[43msock\u001b[49m\u001b[38;5;241;43m.\u001b[39;49m\u001b[43mconnect\u001b[49m\u001b[43m(\u001b[49m\u001b[43msocket_address\u001b[49m\u001b[43m)\u001b[49m\n\u001b[1;32m    720\u001b[0m \u001b[38;5;66;03m# set the socket_timeout now that we're connected\u001b[39;00m\n",
                                                      "\u001b[0;31mConnectionRefusedError\u001b[0m: [Errno 111] Connection refused",
                                                      "\nDuring handling of the above exception, another exception occurred:\n",
                                                      "\u001b[0;31mConnectionError\u001b[0m                           Traceback (most recent call last)",
                                                      "Cell \u001b[0;32mIn[2], line 7\u001b[0m\n\u001b[1;32m      4\u001b[0m client \u001b[38;5;241m=\u001b[39m redis\u001b[38;5;241m.\u001b[39mRedis(host\u001b[38;5;241m=\u001b[39m\u001b[38;5;124m'\u001b[39m\u001b[38;5;124mlocalhost\u001b[39m\u001b[38;5;124m'\u001b[39m, port\u001b[38;5;241m=\u001b[39m\u001b[38;5;241m6379\u001b[39m, db\u001b[38;5;241m=\u001b[39m\u001b[38;5;241m0\u001b[39m)\n\u001b[1;32m      6\u001b[0m \u001b[38;5;66;03m# Verify the connection by setting and getting a value\u001b[39;00m\n\u001b[0;32m----> 7\u001b[0m \u001b[43mclient\u001b[49m\u001b[38;5;241;43m.\u001b[39;49m\u001b[43mset\u001b[49m\u001b[43m(\u001b[49m\u001b[38;5;124;43m'\u001b[39;49m\u001b[38;5;124;43mname\u001b[39;49m\u001b[38;5;124;43m'\u001b[39;49m\u001b[43m,\u001b[49m\u001b[43m \u001b[49m\u001b[38;5;124;43m'\u001b[39;49m\u001b[38;5;124;43mRedis Learner\u001b[39;49m\u001b[38;5;124;43m'\u001b[39;49m\u001b[43m)\u001b[49m\n\u001b[1;32m      8\u001b[0m \u001b[38;5;28mprint\u001b[39m(\u001b[38;5;124mf\u001b[39m\u001b[38;5;124m\"\u001b[39m\u001b[38;5;124mStored string in Redis: \u001b[39m\u001b[38;5;132;01m{\u001b[39;00mclient\u001b[38;5;241m.\u001b[39mget(\u001b[38;5;124m'\u001b[39m\u001b[38;5;124mname\u001b[39m\u001b[38;5;124m'\u001b[39m)\u001b[38;5;241m.\u001b[39mdecode(\u001b[38;5;124m'\u001b[39m\u001b[38;5;124mutf-8\u001b[39m\u001b[38;5;124m'\u001b[39m)\u001b[38;5;132;01m}\u001b[39;00m\u001b[38;5;124m\"\u001b[39m)\n",
                                                      "File \u001b[0;32m~/miniconda3/lib/python3.12/site-packages/redis/commands/core.py:2335\u001b[0m, in \u001b[0;36mBasicKeyCommands.set\u001b[0;34m(self, name, value, ex, px, nx, xx, keepttl, get, exat, pxat)\u001b[0m\n\u001b[1;32m   2332\u001b[0m     pieces\u001b[38;5;241m.\u001b[39mappend(\u001b[38;5;124m\"\u001b[39m\u001b[38;5;124mGET\u001b[39m\u001b[38;5;124m\"\u001b[39m)\n\u001b[1;32m   2333\u001b[0m     options[\u001b[38;5;124m\"\u001b[39m\u001b[38;5;124mget\u001b[39m\u001b[38;5;124m\"\u001b[39m] \u001b[38;5;241m=\u001b[39m \u001b[38;5;28;01mTrue\u001b[39;00m\n\u001b[0;32m-> 2335\u001b[0m \u001b[38;5;28;01mreturn\u001b[39;00m \u001b[38;5;28;43mself\u001b[39;49m\u001b[38;5;241;43m.\u001b[39;49m\u001b[43mexecute_command\u001b[49m\u001b[43m(\u001b[49m\u001b[38;5;124;43m\"\u001b[39;49m\u001b[38;5;124;43mSET\u001b[39;49m\u001b[38;5;124;43m\"\u001b[39;49m\u001b[43m,\u001b[49m\u001b[43m \u001b[49m\u001b[38;5;241;43m*\u001b[39;49m\u001b[43mpieces\u001b[49m\u001b[43m,\u001b[49m\u001b[43m \u001b[49m\u001b[38;5;241;43m*\u001b[39;49m\u001b[38;5;241;43m*\u001b[39;49m\u001b[43moptions\u001b[49m\u001b[43m)\u001b[49m\n",
                                                      "File \u001b[0;32m~/miniconda3/lib/python3.12/site-packages/redis/client.py:559\u001b[0m, in \u001b[0;36mRedis.execute_command\u001b[0;34m(self, *args, **options)\u001b[0m\n\u001b[1;32m    558\u001b[0m \u001b[38;5;28;01mdef\u001b[39;00m \u001b[38;5;21mexecute_command\u001b[39m(\u001b[38;5;28mself\u001b[39m, \u001b[38;5;241m*\u001b[39margs, \u001b[38;5;241m*\u001b[39m\u001b[38;5;241m*\u001b[39moptions):\n\u001b[0;32m--> 559\u001b[0m     \u001b[38;5;28;01mreturn\u001b[39;00m \u001b[38;5;28;43mself\u001b[39;49m\u001b[38;5;241;43m.\u001b[39;49m\u001b[43m_execute_command\u001b[49m\u001b[43m(\u001b[49m\u001b[38;5;241;43m*\u001b[39;49m\u001b[43margs\u001b[49m\u001b[43m,\u001b[49m\u001b[43m \u001b[49m\u001b[38;5;241;43m*\u001b[39;49m\u001b[38;5;241;43m*\u001b[39;49m\u001b[43moptions\u001b[49m\u001b[43m)\u001b[49m\n",
                                                      "File \u001b[0;32m~/miniconda3/lib/python3.12/site-packages/redis/client.py:565\u001b[0m, in \u001b[0;36mRedis._execute_command\u001b[0;34m(self, *args, **options)\u001b[0m\n\u001b[1;32m    563\u001b[0m pool \u001b[38;5;241m=\u001b[39m \u001b[38;5;28mself\u001b[39m\u001b[38;5;241m.\u001b[39mconnection_pool\n\u001b[1;32m    564\u001b[0m command_name \u001b[38;5;241m=\u001b[39m args[\u001b[38;5;241m0\u001b[39m]\n\u001b[0;32m--> 565\u001b[0m conn \u001b[38;5;241m=\u001b[39m \u001b[38;5;28mself\u001b[39m\u001b[38;5;241m.\u001b[39mconnection \u001b[38;5;129;01mor\u001b[39;00m \u001b[43mpool\u001b[49m\u001b[38;5;241;43m.\u001b[39;49m\u001b[43mget_connection\u001b[49m\u001b[43m(\u001b[49m\u001b[43mcommand_name\u001b[49m\u001b[43m,\u001b[49m\u001b[43m \u001b[49m\u001b[38;5;241;43m*\u001b[39;49m\u001b[38;5;241;43m*\u001b[39;49m\u001b[43moptions\u001b[49m\u001b[43m)\u001b[49m\n\u001b[1;32m    566\u001b[0m \u001b[38;5;28;01mtry\u001b[39;00m:\n\u001b[1;32m    567\u001b[0m     \u001b[38;5;28;01mreturn\u001b[39;00m conn\u001b[38;5;241m.\u001b[39mretry\u001b[38;5;241m.\u001b[39mcall_with_retry(\n\u001b[1;32m    568\u001b[0m         \u001b[38;5;28;01mlambda\u001b[39;00m: \u001b[38;5;28mself\u001b[39m\u001b[38;5;241m.\u001b[39m_send_command_parse_response(\n\u001b[1;32m    569\u001b[0m             conn, command_name, \u001b[38;5;241m*\u001b[39margs, \u001b[38;5;241m*\u001b[39m\u001b[38;5;241m*\u001b[39moptions\n\u001b[1;32m    570\u001b[0m         ),\n\u001b[1;32m    571\u001b[0m         \u001b[38;5;28;01mlambda\u001b[39;00m error: \u001b[38;5;28mself\u001b[39m\u001b[38;5;241m.\u001b[39m_disconnect_raise(conn, error),\n\u001b[1;32m    572\u001b[0m     )\n",
                                                      "File \u001b[0;32m~/miniconda3/lib/python3.12/site-packages/redis/connection.py:1422\u001b[0m, in \u001b[0;36mConnectionPool.get_connection\u001b[0;34m(self, command_name, *keys, **options)\u001b[0m\n\u001b[1;32m   1418\u001b[0m     \u001b[38;5;28mself\u001b[39m\u001b[38;5;241m.\u001b[39m_in_use_connections\u001b[38;5;241m.\u001b[39madd(connection)\n\u001b[1;32m   1420\u001b[0m \u001b[38;5;28;01mtry\u001b[39;00m:\n\u001b[1;32m   1421\u001b[0m     \u001b[38;5;66;03m# ensure this connection is connected to Redis\u001b[39;00m\n\u001b[0;32m-> 1422\u001b[0m     \u001b[43mconnection\u001b[49m\u001b[38;5;241;43m.\u001b[39;49m\u001b[43mconnect\u001b[49m\u001b[43m(\u001b[49m\u001b[43m)\u001b[49m\n\u001b[1;32m   1423\u001b[0m     \u001b[38;5;66;03m# connections that the pool provides should be ready to send\u001b[39;00m\n\u001b[1;32m   1424\u001b[0m     \u001b[38;5;66;03m# a command. if not, the connection was either returned to the\u001b[39;00m\n\u001b[1;32m   1425\u001b[0m     \u001b[38;5;66;03m# pool before all data has been read or the socket has been\u001b[39;00m\n\u001b[1;32m   1426\u001b[0m     \u001b[38;5;66;03m# closed. either way, reconnect and verify everything is good.\u001b[39;00m\n\u001b[1;32m   1427\u001b[0m     \u001b[38;5;28;01mtry\u001b[39;00m:\n",
                                                      "File \u001b[0;32m~/miniconda3/lib/python3.12/site-packages/redis/connection.py:363\u001b[0m, in \u001b[0;36mAbstractConnection.connect\u001b[0;34m(self)\u001b[0m\n\u001b[1;32m    361\u001b[0m     \u001b[38;5;28;01mraise\u001b[39;00m \u001b[38;5;167;01mTimeoutError\u001b[39;00m(\u001b[38;5;124m\"\u001b[39m\u001b[38;5;124mTimeout connecting to server\u001b[39m\u001b[38;5;124m\"\u001b[39m)\n\u001b[1;32m    362\u001b[0m \u001b[38;5;28;01mexcept\u001b[39;00m \u001b[38;5;167;01mOSError\u001b[39;00m \u001b[38;5;28;01mas\u001b[39;00m e:\n\u001b[0;32m--> 363\u001b[0m     \u001b[38;5;28;01mraise\u001b[39;00m \u001b[38;5;167;01mConnectionError\u001b[39;00m(\u001b[38;5;28mself\u001b[39m\u001b[38;5;241m.\u001b[39m_error_message(e))\n\u001b[1;32m    365\u001b[0m \u001b[38;5;28mself\u001b[39m\u001b[38;5;241m.\u001b[39m_sock \u001b[38;5;241m=\u001b[39m sock\n\u001b[1;32m    366\u001b[0m \u001b[38;5;28;01mtry\u001b[39;00m:\n",
                                                      "\u001b[0;31mConnectionError\u001b[0m: Error 111 connecting to localhost:6379. Connection refused."
                                             ]
                                    }
                           ],
                           "source": [
                                    "import redis\n",
                                    "\n",
                                    "# Connect to the Redis server\n",
                                    "client = redis.Redis(host='localhost', port=6379, db=0)\n",
                                    "\n",
                                    "# Verify the connection by setting and getting a value\n",
                                    "client.set('name', 'Redis Learner')\n",
                                    "print(f\"Stored string in Redis: {client.get('name').decode('utf-8')}\")"
                           ]
                  },
                  {
                           "cell_type": "markdown",
                           "metadata": {},
                           "source": [
                                    "## Connecting to Redis Server\n",
                                    "\n",
                                    "# Test Your Redis Connection\n",
                                    "\n",
                                    "You’ve now learned how to connect to a Redis server. Let's put that knowledge to the test by running the code example from the lesson. This will help you understand how to establish a connection.\n",
                                    "\n",
                                    "## Code Breakdown\n",
                                    "\n",
                                    "As a reminder, here is what we do in the code:\n",
                                    "\n",
                                    "1. We import the `redis` module as the Python interface to Redis.\n",
                                    "2. We establish a connection to the Redis server running on `localhost` at port `6379` and use the default database `0`.\n",
                                    "3. We set a key-value pair in Redis using the `set` method, with the key being `'name'` and the value being `'Redis Learner'`.\n",
                                    "4. Finally, we retrieve the value stored in Redis using the `get` method and print it to the console. Note that we use `decode('utf-8')` to convert the value from bytes to a string.\n",
                                    "\n",
                                    "## Try It Yourself\n",
                                    "\n",
                                    "Simply run the code below to see how it works!\n",
                                    "\n",
                                    "```python\n",
                                    "import redis\n",
                                    "\n",
                                    "# Connect to the Redis server\n",
                                    "client = redis.Redis(host='localhost', port=6379, db=0)\n",
                                    "\n",
                                    "# Verify the connection by setting and getting a value\n",
                                    "client.set('name', 'Redis Learner')\n",
                                    "print(f\"Stored string in Redis: {client.get('name').decode('utf-8')}\")\n"
                           ]
                  },
                  {
                           "cell_type": "markdown",
                           "metadata": {},
                           "source": [
                                    "## Change Key and Value in Redis\n",
                                    "\n",
                                    "Great job on learning how to connect to a Redis server! Now, let's make a small change to the code.\n",
                                    "\n",
                                    "Modify the given code to store and retrieve the value for the key 'hero' with the value 'Superman'.\n",
                                    "\n",
                                    "```py\n",
                                    "import redis\n",
                                    "\n",
                                    "# Connect to the Redis server\n",
                                    "client = redis.Redis(host='localhost', port=6379, db=0)\n",
                                    "\n",
                                    "# TODO: Modify the code to store and retrieve the value for the key 'hero' with the value 'Superman'\n",
                                    "client.set('name', 'Redis Learner')\n",
                                    "print(f\"Stored string in Redis: {client.get('name').decode('utf-8')}\")\n",
                                    "```"
                           ]
                  },
                  {
                           "cell_type": "code",
                           "execution_count": 4,
                           "id": "bf5935e7",
                           "metadata": {},
                           "outputs": [
                                    {
                                             "name": "stdout",
                                             "output_type": "stream",
                                             "text": [
                                                      "Stored string in Redis: Superman\n"
                                             ]
                                    }
                           ],
                           "source": [
                                    "import redis\n",
                                    "\n",
                                    "# Connect to the Redis server\n",
                                    "client = redis.Redis(host='localhost', port=6379, db=0)\n",
                                    "\n",
                                    "# Store and retrieve the value for the key 'hero' with the value 'Superman'\n",
                                    "client.set('hero', 'Superman')\n",
                                    "print(f\"Stored string in Redis: {client.get('hero').decode('utf-8')}\")\n"
                           ]
                  },
                  {
                           "cell_type": "markdown",
                           "metadata": {},
                           "source": [
                                    "## Multiline Strings in Redis\n",
                                    "\n",
                                    "Nice work so far! Now let’s practice handling multiline strings.\n",
                                    "\n",
                                    "Change the code to set and retrieve the value for the key 'quote' as a multiline string.\n",
                                    "\n",
                                    "```py\n",
                                    "import redis\n",
                                    "\n",
                                    "# Connect to the Redis server\n",
                                    "client = redis.Redis(host='localhost', port=6379, db=0)\n",
                                    "\n",
                                    "# TODO: Modify the code to store and retrieve a multiline string for the key 'quote'\n",
                                    "# The value should be the following multiline string:\n",
                                    "\"\"\"\n",
                                    "With great power comes great responsibility.\n",
                                    "- Spider-Man\n",
                                    "\"\"\"\n",
                                    "\n",
                                    "client.set('name', 'Redis Learner')\n",
                                    "print(f\"Stored string in Redis: {client.get('name').decode('utf-8')}\")\n",
                                    "\n",
                                    "```"
                           ]
                  },
                  {
                           "cell_type": "code",
                           "execution_count": 5,
                           "id": "d9faba09",
                           "metadata": {},
                           "outputs": [
                                    {
                                             "name": "stdout",
                                             "output_type": "stream",
                                             "text": [
                                                      "Stored string in Redis: \n",
                                                      "With great power comes great responsibility.\n",
                                                      "- Spider-Man\n",
                                                      "\n"
                                             ]
                                    }
                           ],
                           "source": [
                                    "import redis\n",
                                    "\n",
                                    "# Connect to the Redis server\n",
                                    "client = redis.Redis(host='localhost', port=6379, db=0)\n",
                                    "\n",
                                    "# Store and retrieve a multiline string for the key 'quote'\n",
                                    "multiline_quote = \"\"\"\n",
                                    "With great power comes great responsibility.\n",
                                    "- Spider-Man\n",
                                    "\"\"\"\n",
                                    "\n",
                                    "client.set('quote', multiline_quote)\n",
                                    "print(f\"Stored string in Redis: {client.get('quote').decode('utf-8')}\")\n"
                           ]
                  },
                  {
                           "cell_type": "markdown",
                           "metadata": {},
                           "source": [
                                    "## Fix the Redis Connection\n",
                                    "\n",
                                    "You've practiced connecting to a Redis server and setting a key-value pair.\n",
                                    "\n",
                                    "Now, let's identify and fix the error in the provided code. The code should connect to a Redis server, set a value with the key 'planet' to 'Earth', and then retrieve and print that value.\n",
                                    "\n",
                                    "However, there's an error in the code that's preventing it from working as expected. Find and fix the error so that the code works as intended. Hit the Run button to test your solution.\n",
                                    "\n",
                                    "```py\n",
                                    "import redis\n",
                                    "\n",
                                    "# Connect to the Redis server\n",
                                    "client = redis.Redis(host='localhost', port=6379, db=0)\n",
                                    "\n",
                                    "client.set('planet', 'Earth')\n",
                                    "print(f\"Stored string in Redis: {client.get('plant').decode('utf-8')}\")\n",
                                    "\n",
                                    "```"
                           ]
                  },
                  {
                           "cell_type": "code",
                           "execution_count": null,
                           "id": "e7025815",
                           "metadata": {},
                           "outputs": [],
                           "source": [
                                    "import redis\n",
                                    "\n",
                                    "# Connect to the Redis server\n",
                                    "client = redis.Redis(host='localhost', port=6379, db=0)\n",
                                    "\n",
                                    "# Set the key 'planet' to 'Earth'\n",
                                    "client.set('planet', 'Earth')\n",
                                    "\n",
                                    "# Retrieve and print the value stored under 'planet'\n",
                                    "print(f\"Stored string in Redis: {client.get('planet').decode('utf-8')}\")\n"
                           ]
                  },
                  {
                           "cell_type": "markdown",
                           "metadata": {},
                           "source": [
                                    "## Add Missing Redis Connection Details\n",
                                    "\n",
                                    "Great progress so far.\n",
                                    "\n",
                                    "Now, let's fill in the missing parts of the provided code to store a string and retrieve value from Redis.\n",
                                    "\n",
                                    "Follow the TODO comments in the code to complete the task.\n",
                                    "\n",
                                    "```py\n",
                                    "import redis\n",
                                    "\n",
                                    "# Connect to the Redis server\n",
                                    "client = redis.Redis(host='localhost', port=6379, db=0)\n",
                                    "\n",
                                    "# TODO: Set the key and value pair with the key 'hero' and value 'Iron Man'\n",
                                    "\n",
                                    "# TODO: Modify the print statement, so that it decodes the retrieved value from Redis with utf-8 encoding\n",
                                    "print(f\"Stored string in Redis: {client.get('hero')}\")\n",
                                    "\n",
                                    "```\n",
                                    "\n"
                           ]
                  },
                  {
                           "cell_type": "code",
                           "execution_count": null,
                           "id": "c6f1fa28",
                           "metadata": {},
                           "outputs": [],
                           "source": [
                                    "import redis\n",
                                    "\n",
                                    "# Connect to the Redis server\n",
                                    "client = redis.Redis(host='localhost', port=6379, db=0)\n",
                                    "\n",
                                    "# Set the key and value pair with the key 'hero' and value 'Iron Man'\n",
                                    "client.set('hero', 'Iron Man')\n",
                                    "\n",
                                    "# Modify the print statement, so that it decodes the retrieved value from Redis with utf-8 encoding\n",
                                    "print(f\"Stored string in Redis: {client.get('hero').decode('utf-8')}\")\n"
                           ]
                  },
                  {
                           "cell_type": "markdown",
                           "metadata": {},
                           "source": [
                                    "## Connect and Retrieve From Redis\n",
                                    "\n",
                                    "Well done!\n",
                                    "\n",
                                    "Now, use your skills to write the code to connect to a Redis server, set a key-value pair, and retrieve the value.\n",
                                    "\n",
                                    "Follow the TODO instructions in the starter code to complete the task.\n",
                                    "\n",
                                    "```py\n",
                                    "import redis\n",
                                    "\n",
                                    "# TODO: Connect to the Redis server. Remeber to use redis.Redis() to create a connection. Use the port 6379 and the default database 0.\n",
                                    "\n",
                                    "# TODO: Set a key-value pair for the key 'city' with the value 'Gotham'\n",
                                    "\n",
                                    "# TODO: Retrieve the value stored for the key 'city' and print it - remember to decode the value to utf-8\n",
                                    "\n",
                                    "\n",
                                    "```"
                           ]
                  },
                  {
                           "cell_type": "code",
                           "execution_count": null,
                           "id": "1b122897",
                           "metadata": {},
                           "outputs": [],
                           "source": [
                                    "import redis\n",
                                    "\n",
                                    "# Connect to the Redis server. Remember to use redis.Redis() to create a connection. Use port 6379 and the default database 0.\n",
                                    "client = redis.Redis(host='localhost', port=6379, db=0)\n",
                                    "\n",
                                    "# Set a key-value pair for the key 'city' with the value 'Gotham'\n",
                                    "client.set('city', 'Gotham')\n",
                                    "\n",
                                    "# Retrieve the value stored for the key 'city' and print it - remember to decode the value to utf-8\n",
                                    "print(f\"Stored string in Redis: {client.get('city').decode('utf-8')}\")\n"
                           ]
                  },
                  {
                           "cell_type": "code",
                           "execution_count": null,
                           "id": "0ad928ad",
                           "metadata": {},
                           "outputs": [],
                           "source": []
                  }
         ],
         "metadata": {
                  "kernelspec": {
                           "display_name": "base",
                           "language": "python",
                           "name": "python3"
                  },
                  "language_info": {
                           "codemirror_mode": {
                                    "name": "ipython",
                                    "version": 3
                           },
                           "file_extension": ".py",
                           "mimetype": "text/x-python",
                           "name": "python",
                           "nbconvert_exporter": "python",
                           "pygments_lexer": "ipython3",
                           "version": "3.12.2"
                  }
         },
         "nbformat": 4,
         "nbformat_minor": 5
}
