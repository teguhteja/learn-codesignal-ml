{
         "cells": [
                  {
                           "cell_type": "markdown",
                           "metadata": {},
                           "source": [
                                    "# Lesson 5: Hashes in Redis\n",
                                    "\n",
                                    "Here’s the improved Markdown version of your Redis Hashes lesson:\n",
                                    "\n",
                                    "```markdown\n",
                                    "# Understanding Redis Hashes\n",
                                    "\n",
                                    "Welcome back! We've covered how to connect to Redis, work with numbers, and handle lists. Now, it's time to explore another crucial data structure in Redis: **hashes**. Hashes are used to store related pieces of information in a single key, making them perfect for representing objects like user profiles or configurations.\n",
                                    "\n",
                                    "## What You'll Learn\n",
                                    "In this lesson, you will learn how to:\n",
                                    "\n",
                                    "- 🔧 Use the `hset` command to store fields and values in a Redis hash.\n",
                                    "- 🔍 Retrieve data from a hash using the `hgetall` command.\n",
                                    "\n",
                                    "Let's look at an example:\n",
                                    "\n",
                                    "```python\n",
                                    "import redis\n",
                                    "\n",
                                    "# Connect to Redis\n",
                                    "client = redis.Redis(host='localhost', port=6379, db=0)\n",
                                    "\n",
                                    "# Using hashes to store and retrieve fields and values\n",
                                    "client.hset('user:1000', mapping={'username': 'alice', 'email': 'alice@example.com'})\n",
                                    "user = client.hgetall('user:1000')\n",
                                    "print(f\"User details: {{k.decode('utf-8'): v.decode('utf-8') for k, v in user.items()}}\")\n",
                                    "```\n",
                                    "\n",
                                    "### In this example:\n",
                                    "- The `hset` command adds the fields `username` and `email` to the hash `user:1000`.\n",
                                    "- The `hgetall` command retrieves all fields and values from the `user:1000` hash.\n",
                                    "\n",
                                    "In addition, you can use `hget` to retrieve a specific field from the hash. For example, to retrieve the `'username'` field, you would use:\n",
                                    "\n",
                                    "```python\n",
                                    "client.hget('user:1000', 'username')\n",
                                    "```\n",
                                    "\n",
                                    "## Why It Matters\n",
                                    "Understanding hashes in Redis is important for several reasons:\n",
                                    "\n",
                                    "- 🚀 **Efficiency**: Hashes allow you to manage related data in a compact and organized way.\n",
                                    "- 🔄 **Data Structuring**: Hashes are similar to objects in many programming languages, making them well-suited for storing small sets of data.\n",
                                    "- 💡 **Use Cases**: Perfect for applications like user management systems where you need to store details such as usernames, emails, and preferences in a structured manner.\n",
                                    "\n",
                                    "By mastering hashes, you can better organize your data, ensure quick access, and create more efficient applications.\n",
                                    "\n",
                                    "## Let's Practice!\n",
                                    "Start practicing now to solidify your understanding of Redis hashes!\n",
                                    "```\n",
                                    "\n",
                                    "### Key Changes:\n",
                                    "- Added headings for better structure.\n",
                                    "- Used bullet points and icons (emoji) to make the content more engaging.\n",
                                    "- Properly formatted code blocks and examples."
                           ]
                  },
                  {
                           "cell_type": "markdown",
                           "metadata": {},
                           "source": [
                                    "## Running Your First Redis Hash\n",
                                    "\n",
                                    "Great job so far! In this practice, we will run the code to see Redis hashes in action. Running this code will help you understand how Redis stores and retrieves hash data.\n",
                                    "\n",
                                    "Here is a quick recap:\n",
                                    "\n",
                                    "Use the hset command to store fields and values in a hash.\n",
                                    "Use the hgetall command to retrieve all fields and values from the hash.\n",
                                    "Simply run the code to see it in action.\n",
                                    "\n",
                                    "```py\n",
                                    "import redis\n",
                                    "\n",
                                    "# Connect to Redis\n",
                                    "client = redis.Redis(host='localhost', port=6379, db=0)\n",
                                    "\n",
                                    "# Using hashes to store and retrieve fields and values\n",
                                    "client.hset('user:1000', mapping={'username': 'alice', 'email': 'alice@example.com'})\n",
                                    "user = client.hgetall('user:1000')\n",
                                    "print(f\"User details: { {k.decode('utf-8'): v.decode('utf-8') for k, v in user.items()} }\")\n",
                                    "\n",
                                    "```"
                           ]
                  },
                  {
                           "cell_type": "markdown",
                           "metadata": {},
                           "source": [
                                    "## Change Hash to Store New User"
                           ]
                  },
                  {
                           "cell_type": "markdown",
                           "metadata": {},
                           "source": [
                                    "## Redis Hash: Retrieve Specific Field"
                           ]
                  },
                  {
                           "cell_type": "markdown",
                           "metadata": {},
                           "source": [
                                    "## Fix Redis Hash Bug"
                           ]
                  },
                  {
                           "cell_type": "markdown",
                           "metadata": {},
                           "source": [
                                    "## Redis Hash Practice Exercise"
                           ]
                  }
         ],
         "metadata": {
                  "language_info": {
                           "name": "python"
                  }
         },
         "nbformat": 4,
         "nbformat_minor": 5
}
