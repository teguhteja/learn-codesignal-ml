{
         "cells": [
                  {
                           "cell_type": "markdown",
                           "metadata": {},
                           "source": [
                                    "# Lesson 4: Geospatial Indexes in Redis\n",
                                    "\n",
                                    "Here’s the markdown version of your text, properly formatted:\n",
                                    "\n",
                                    "# Discovering Geospatial Indexes in Redis\n",
                                    "\n",
                                    "Welcome! Now that we’ve explored bitmaps in Redis and learned how to handle individual bits within a string, let's take a step further into the fascinating world of Geospatial Indexes. This lesson is a crucial part of our series on advanced Redis data structures designed to extend your data-handling capabilities.\n",
                                    "\n",
                                    "## What You'll Learn\n",
                                    "\n",
                                    "In this lesson, you will discover the power of geospatial indexing in Redis. Specifically, you will learn:\n",
                                    "\n",
                                    "- 🌍 **How to add geographical coordinates** (latitude and longitude) to a sorted set using the `geoadd` command.\n",
                                    "- 📏 **How to calculate the distance** between two locations using the `geodist` command.\n",
                                    "\n",
                                    "To give you a sneak peek, here is an example of adding locations and calculating the distance between them:\n",
                                    "\n",
                                    "```python\n",
                                    "import redis\n",
                                    "\n",
                                    "# Connect to Redis\n",
                                    "client = redis.Redis(host='localhost', port=6379, db=0)\n",
                                    "\n",
                                    "# Adding locations with geographic coordinates (longitude, latitude, name)\n",
                                    "client.geoadd('locations', (13.361389, 38.115556, 'Palermo'))\n",
                                    "client.geoadd('locations', (15.087269, 37.502669, 'Catania'))\n",
                                    "\n",
                                    "# Calculating distance between locations\n",
                                    "distance = client.geodist('locations', 'Palermo', 'Catania', unit='km')\n",
                                    "print(f\"Distance between Palermo and Catania: {distance} km\")\n",
                                    "```\n",
                                    "\n",
                                    "In this code:\n",
                                    "- `geoadd` adds the specified locations to the Redis geospatial index.\n",
                                    "- `geodist` calculates the distance between two locations in kilometers.\n",
                                    "\n",
                                    "This practical example will be detailed further in the lesson.\n",
                                    "\n",
                                    "## Let's Break Down the Concepts and Commands:\n",
                                    "\n",
                                    "- **`geoadd` command**: Adds one or more geospatial items (longitude, latitude, name) to a sorted set.\n",
                                    "- **`geodist` command**: Calculates the distance between two locations in the sorted set. It takes the names of the two locations and an optional unit parameter (e.g., `km` for kilometers or `mi` for miles).\n",
                                    "\n",
                                    "## Why It Matters\n",
                                    "\n",
                                    "Understanding geospatial indexes in Redis is important for several reasons:\n",
                                    "\n",
                                    "- 🌍 **Geographical Data Handling**: Many applications require you to handle geographical data efficiently, such as ride-sharing services, geofencing, and location-based recommendations.\n",
                                    "- ⚡ **Efficiency**: Redis's geospatial capabilities are optimized for the fast and efficient storage and retrieval of location data. This makes operations like finding nearby points or calculating distances instantaneous.\n",
                                    "- 📱 **Broad Applications**: Mastering geospatial indexes enables you to create applications that can deliver personalized, location-based services, enhancing user experience and engagement.\n",
                                    "\n",
                                    "Harnessing geospatial indexes in Redis provides you with a powerful tool to address a host of real-world challenges involving geographic information. Ready to dive into practical exercises? Let's proceed to the practice section and put this knowledge to use."
                           ]
                  },
                  {
                           "cell_type": "markdown",
                           "metadata": {},
                           "source": [
                                    "## Geospatial Indexing in Action\n",
                                    "\n",
                                    "Great job on learning the basics of geospatial indexing in Redis! Now, let's put that knowledge into practice.\n",
                                    "\n",
                                    "Geospatial indexes allow you to store and query geographic locations efficiently. The two main commands you'll use are:\n",
                                    "\n",
                                    "geoadd: Adds geospatial items with latitude, longitude, and a name.\n",
                                    "geodist: Calculates the distance between two items in the sorted set.\n",
                                    "In this exercise, you'll run the provided code to:\n",
                                    "\n",
                                    "Connect to Redis.\n",
                                    "Use geoadd to add two cities (Palermo and Catania) with their coordinates.\n",
                                    "Calculate the distance between these cities using geodist.\n",
                                    "Simply run the code to see everything in action.\n",
                                    "\n",
                                    "```py\n",
                                    "import redis\n",
                                    "\n",
                                    "client = redis.Redis(host='localhost', port=6379, db=0)\n",
                                    "\n",
                                    "client.geoadd('locations', (13.361389, 38.115556, 'Palermo'))\n",
                                    "client.geoadd('locations', (15.087269, 37.502669, 'Catania'))\n",
                                    "\n",
                                    "distance = client.geodist('locations', 'Palermo', 'Catania', unit='km')\n",
                                    "print(f\"Distance between Palermo and Catania: {distance} km\")\n",
                                    "\n",
                                    "\n",
                                    "```"
                           ]
                  },
                  {
                           "cell_type": "markdown",
                           "metadata": {},
                           "source": [
                                    "## Changing Geospatial Coordinates in Redis"
                           ]
                  },
                  {
                           "cell_type": "markdown",
                           "metadata": {},
                           "source": [
                                    "## Change Distance Unit to Miles"
                           ]
                  },
                  {
                           "cell_type": "markdown",
                           "metadata": {},
                           "source": [
                                    "## Adding and Measuring Geo Coordinates"
                           ]
                  }
         ],
         "metadata": {
                  "language_info": {
                           "name": "python"
                  }
         },
         "nbformat": 4,
         "nbformat_minor": 5
}
