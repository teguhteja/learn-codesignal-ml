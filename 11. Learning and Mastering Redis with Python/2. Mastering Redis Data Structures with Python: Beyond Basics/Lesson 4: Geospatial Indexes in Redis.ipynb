{
            "cells": [
  {
            "cell_type": "markdown",
            "metadata": {},
            "source": [
                "# Lesson 4: Geospatial Indexes in Redis"
            ]
            }
 ,{
            "cell_type": "markdown",
            "metadata": {},
            "source": [
 "## Geospatial Indexing in Action" 
   ]
            }
 ,{
            "cell_type": "markdown",
            "metadata": {},
            "source": [
 "## Changing Geospatial Coordinates in Redis" 
   ]
            }
 ,{
            "cell_type": "markdown",
            "metadata": {},
            "source": [
 "## Change Distance Unit to Miles" 
   ]
            }
 ,{
            "cell_type": "markdown",
            "metadata": {},
            "source": [
 "## Adding and Measuring Geo Coordinates" 
   ]
            }
   ],
 "metadata": {},
 "nbformat": 4,
 "nbformat_minor": 5
}
