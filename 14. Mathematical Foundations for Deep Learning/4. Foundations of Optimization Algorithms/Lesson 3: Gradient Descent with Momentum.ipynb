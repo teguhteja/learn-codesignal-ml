{
            "cells": [
  {
            "cell_type": "markdown",
            "metadata": {},
            "source": [
                "# Lesson 3: Gradient Descent with Momentum"
            ]
            }
 ,{
            "cell_type": "markdown",
            "metadata": {},
            "source": [
 "## Applying Momentum in Gradient Descent" 
   ]
            }
 ,{
            "cell_type": "markdown",
            "metadata": {},
            "source": [
 "## Gradient Descent with Momentum: Minimize and Plot Contour" 
   ]
            }
 ,{
            "cell_type": "markdown",
            "metadata": {},
            "source": [
 "## Adjust Momentum to Observe Convergence Speed" 
   ]
            }
 ,{
            "cell_type": "markdown",
            "metadata": {},
            "source": [
 "## Plotting Gradient Descent with Momentum" 
   ]
            }
 ,{
            "cell_type": "markdown",
            "metadata": {},
            "source": [
 "## Gradient Descent with Momentum from Multiple Initial Points" 
   ]
            }
   ],
 "metadata": {},
 "nbformat": 4,
 "nbformat_minor": 5
}
