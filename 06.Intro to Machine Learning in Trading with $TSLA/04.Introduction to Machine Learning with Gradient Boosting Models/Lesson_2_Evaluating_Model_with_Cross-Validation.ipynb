{
 "cells": [
  {
   "cell_type": "markdown",
   "metadata": {},
   "source": [
    "# Lesson 2 Evaluating Model with Cross-Validation"
   ]
  },
  {
   "cell_type": "markdown",
   "metadata": {},
   "source": [
 "## Changing the Number of Cross-Validation Folds" 
   ]
  },
  {
   "cell_type": "markdown",
   "metadata": {},
   "source": [
 "## Evaluate Cross-Validation" 
   ]
  },
  {
   "cell_type": "markdown",
   "metadata": {},
   "source": [
 "## Complete the Cross-Validation and Model Instantiation" 
   ]
  },
  {
   "cell_type": "markdown",
   "metadata": {},
   "source": [
 "## Complete Cross-Validation Evaluation" 
   ]
  },
  {
   "cell_type": "markdown",
   "metadata": {},
   "source": [
 "## Evaluating Gradient Boosting Model with Cross-Validation" 
   ]
  }],
 "metadata": {},
 "nbformat": 4,
 "nbformat_minor": 5
}
