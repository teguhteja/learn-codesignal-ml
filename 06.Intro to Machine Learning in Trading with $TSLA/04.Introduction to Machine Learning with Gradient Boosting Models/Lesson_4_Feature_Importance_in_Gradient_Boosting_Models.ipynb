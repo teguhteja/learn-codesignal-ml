{
 "cells": [
  {
   "cell_type": "markdown",
   "metadata": {},
   "source": [
    "# Lesson 4 Feature Importance in Gradient Boosting Models"
   ]
  },
  {
   "cell_type": "markdown",
   "metadata": {},
   "source": [
 "## Remove Volume Feature for Better Analysis" 
   ]
  },
  {
   "cell_type": "markdown",
   "metadata": {},
   "source": [
 "## Feature Importance Calculation in Gradient Boosting Models" 
   ]
  },
  {
   "cell_type": "markdown",
   "metadata": {},
   "source": [
 "## Calculate and Visualize Feature Importance in Gradient Boosting Model" 
   ]
  },
  {
   "cell_type": "markdown",
   "metadata": {},
   "source": [
 "## Computing and Visualizing Feature Importance" 
   ]
  },
  {
   "cell_type": "markdown",
   "metadata": {},
   "source": [
 "## Compute and Visualize Feature Importance in Gradient Boosting Model" 
   ]
  }],
 "metadata": {},
 "nbformat": 4,
 "nbformat_minor": 5
}
