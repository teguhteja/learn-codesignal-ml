{
 "cells": [
  {
   "cell_type": "markdown",
   "metadata": {},
   "source": [
    "# Lesson 3 Hyperparameter Tuning Using GridSearchCV"
   ]
  },
  {
   "cell_type": "markdown",
   "metadata": {},
   "source": [
 "## Adjusting Cross-Validation Folds in GridSearchCV" 
   ]
  },
  {
   "cell_type": "markdown",
   "metadata": {},
   "source": [
 "## Hyperparameter Tuning Debugging with GridSearchCV" 
   ]
  },
  {
   "cell_type": "markdown",
   "metadata": {},
   "source": [
 "## Hyperparameter Tuning and Model Visualization" 
   ]
  },
  {
   "cell_type": "markdown",
   "metadata": {},
   "source": [
 "## GridSearchCV for Hyperparameter Tuning" 
   ]
  },
  {
   "cell_type": "markdown",
   "metadata": {},
   "source": [
 "## Hyperparameter Tuning with GridSearchCV" 
   ]
  }],
 "metadata": {},
 "nbformat": 4,
 "nbformat_minor": 5
}
