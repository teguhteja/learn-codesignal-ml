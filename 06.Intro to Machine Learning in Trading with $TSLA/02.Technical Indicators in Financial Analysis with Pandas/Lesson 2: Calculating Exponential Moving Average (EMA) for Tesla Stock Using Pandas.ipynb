{
 "cells": [
  {
   "cell_type": "markdown",
   "metadata": {},
   "source": [
    "# Lesson 2"
   ]
  },
  {
   "cell_type": "markdown",
   "metadata": {},
   "source": [
    "Calculate 15-day EMA for Tesla Stock"
   ]
  },
  {
   "cell_type": "markdown",
   "metadata": {},
   "source": [
    "Identifying and Fixing an Issue in EMA Calculation"
   ]
  },
  {
   "cell_type": "markdown",
   "metadata": {},
   "source": [
    "Calculate 200-day EMA for Tesla Stock"
   ]
  },
  {
   "cell_type": "markdown",
   "metadata": {},
   "source": [
    "Calculate and Visualize EMAs for Tesla Stock"
   ]
  },
  {
   "cell_type": "markdown",
   "metadata": {},
   "source": [
    "Calculate and Visualize the 20-day EMA for Tesla Stock"
   ]
  }
   ],
 "metadata": {},
 "nbformat": 4,
 "nbformat_minor": 5
}
