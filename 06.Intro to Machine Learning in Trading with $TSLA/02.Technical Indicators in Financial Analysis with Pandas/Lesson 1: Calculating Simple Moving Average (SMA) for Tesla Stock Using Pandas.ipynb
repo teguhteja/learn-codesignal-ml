{
 "cells": [
  {
   "cell_type": "markdown",
   "metadata": {},
   "source": [
    "# Lesson 1"
   ]
  },
  {
   "cell_type": "markdown",
   "metadata": {},
   "source": [
    "Adjust the Simple Moving Average Window Size"
   ]
  },
  {
   "cell_type": "markdown",
   "metadata": {},
   "source": [
    "Fix the Code to Visualize Stock Prices and SMA"
   ]
  },
  {
   "cell_type": "markdown",
   "metadata": {},
   "source": [
    "Calculate and Visualize 20-day SMA for TSLA"
   ]
  },
  {
   "cell_type": "markdown",
   "metadata": {},
   "source": [
    "Add Missing Analysis for Tesla Stock SMA"
   ]
  },
  {
   "cell_type": "markdown",
   "metadata": {},
   "source": [
    "Calculating and Visualizing the 20-day Simple Moving Average for $TSLA"
   ]
  }
   ],
 
 "metadata": {},
 "nbformat": 4,
 "nbformat_minor": 5
}
