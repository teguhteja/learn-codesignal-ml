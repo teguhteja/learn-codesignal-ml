{
 "cells": [
  {
   "cell_type": "markdown",
   "metadata": {},
   "source": [
    "# Lesson 5"
   ]
  },
  {
   "cell_type": "markdown",
   "metadata": {},
   "source": [
    "## Creating Lag Features for Two Days" 
   ]
  },
  {
   "cell_type": "markdown",
   "metadata": {},
   "source": [
    "## Fix the Lag Feature Code" 
   ]
  },
  {
   "cell_type": "markdown",
   "metadata": {},
   "source": [
    "## Adding Lag Features and Handling NaN Values" 
   ]
  }
   ]
  ,
 "metadata": {},
 "nbformat": 4,
 "nbformat_minor": 5
}
