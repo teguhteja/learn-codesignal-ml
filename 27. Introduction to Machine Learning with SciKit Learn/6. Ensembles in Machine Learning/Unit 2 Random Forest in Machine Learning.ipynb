{
            "cells": [
  {
            "cell_type": "markdown",
            "metadata": {},
            "source": [
                "# Unit 2 Random Forest in Machine Learning"
            ]
            }
 ,{
            "cell_type": "markdown",
            "metadata": {},
            "source": [
 "## Adjusting Random Forest Tree Depth" 
   ]
            }
 ,{
            "cell_type": "markdown",
            "metadata": {},
            "source": [
 "## Complete the Random Forest Classifier for Wine Dataset" 
   ]
            }
 ,{
            "cell_type": "markdown",
            "metadata": {},
            "source": [
 "## Improving Random Forest for Wine Classification" 
   ]
            }
 ,{
            "cell_type": "markdown",
            "metadata": {},
            "source": [
 "## Evaluate Random Forest Accuracy with Varying Depths" 
   ]
            }
   ],
 "metadata": {},
 "nbformat": 4,
 "nbformat_minor": 5
}
