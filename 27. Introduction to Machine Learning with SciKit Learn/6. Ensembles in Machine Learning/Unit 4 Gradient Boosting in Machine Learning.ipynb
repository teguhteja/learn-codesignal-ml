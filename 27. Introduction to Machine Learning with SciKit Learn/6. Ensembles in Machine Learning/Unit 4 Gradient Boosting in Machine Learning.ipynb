{
            "cells": [
  {
            "cell_type": "markdown",
            "metadata": {},
            "source": [
                "# Unit 4 Gradient Boosting in Machine Learning"
            ]
            }
 ,{
            "cell_type": "markdown",
            "metadata": {},
            "source": [
 "## Adjust Gradient Boosting Estimators" 
   ]
            }
 ,{
            "cell_type": "markdown",
            "metadata": {},
            "source": [
 "## Complete the Gradient Boosting Setup for Digit Classification" 
   ]
            }
 ,{
            "cell_type": "markdown",
            "metadata": {},
            "source": [
 "## Gradient Boosting vs. AdaBoost on Synthetic Data" 
   ]
            }
 ,{
            "cell_type": "markdown",
            "metadata": {},
            "source": [
 "## Comparing Models Efficiency" 
   ]
            }
 ,{
            "cell_type": "markdown",
            "metadata": {},
            "source": [
 "## Gradient Boosting with Varying Estimators" 
   ]
            }
   ],
 "metadata": {},
 "nbformat": 4,
 "nbformat_minor": 5
}
