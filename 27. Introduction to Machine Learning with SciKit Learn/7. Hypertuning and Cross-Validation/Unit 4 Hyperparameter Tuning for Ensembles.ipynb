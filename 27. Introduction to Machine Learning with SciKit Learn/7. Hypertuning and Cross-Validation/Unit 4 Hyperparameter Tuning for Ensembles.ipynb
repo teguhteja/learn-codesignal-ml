{
            "cells": [
  {
            "cell_type": "markdown",
            "metadata": {},
            "source": [
                "# Unit 4 Hyperparameter Tuning for Ensembles"
            ]
            }
 ,{
            "cell_type": "markdown",
            "metadata": {},
            "source": [
 "## Discover Best Hyperparameters for Wine Classification" 
   ]
            }
 ,{
            "cell_type": "markdown",
            "metadata": {},
            "source": [
 "## Hyperparameter Tuning for Wine Classification" 
   ]
            }
 ,{
            "cell_type": "markdown",
            "metadata": {},
            "source": [
 "## Update AdaBoost" 
   ]
            }
   ],
 "metadata": {},
 "nbformat": 4,
 "nbformat_minor": 5
}
