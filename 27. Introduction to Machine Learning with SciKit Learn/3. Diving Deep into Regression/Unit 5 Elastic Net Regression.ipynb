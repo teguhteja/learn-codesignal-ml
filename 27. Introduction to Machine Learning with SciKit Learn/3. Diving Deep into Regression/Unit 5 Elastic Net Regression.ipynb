{
            "cells": [
  {
            "cell_type": "markdown",
            "metadata": {},
            "source": [
                "# Unit 5 Elastic Net Regression"
            ]
            }
 ,{
            "cell_type": "markdown",
            "metadata": {},
            "source": [
 "## Adjust Elastic Net Regularization" 
   ]
            }
 ,{
            "cell_type": "markdown",
            "metadata": {},
            "source": [
 "## Adjust Elastic Net's l1_ratio Parameter" 
   ]
            }
 ,{
            "cell_type": "markdown",
            "metadata": {},
            "source": [
 "## Elastic Net Regression with Diabetes Data" 
   ]
            }
   ],
 "metadata": {},
 "nbformat": 4,
 "nbformat_minor": 5
}
