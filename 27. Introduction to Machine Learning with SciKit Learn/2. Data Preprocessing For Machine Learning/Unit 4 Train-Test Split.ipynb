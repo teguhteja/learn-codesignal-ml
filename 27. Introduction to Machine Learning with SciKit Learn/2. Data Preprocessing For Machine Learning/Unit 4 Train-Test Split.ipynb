{
         "cells": [
                  {
                           "cell_type": "markdown",
                           "metadata": {},
                           "source": [
                                    "# Unit 4 Train-Test Split\n",
                                    "\n",
                                    "## Train-Test Split\n",
                                    "\n",
                                    "### Lesson Introduction\n",
                                    "\n",
                                    "Imagine you built a robot to recognize apples and oranges. But how do you know if it's good at this task? You need to test it on some new apples and oranges it hasn’t seen before. In machine learning, we do something similar by splitting our data into training and test sets. This helps us see how well our model performs on new data.\n",
                                    "\n",
                                    "It helps indicating and preventing **overfitting**. Overfitting is when a machine learning model learns the training data too well, including noise and details that don’t apply to new data. This results in excellent performance on the training set but poor performance on the test set, indicating that the model has memorized specifics rather than understanding general patterns.\n",
                                    "\n",
                                    "Today, we will learn how to split a dataset into training and test sets using the `train_test_split` function from Scikit-learn. By the end of this lesson, you'll know how to prepare your data properly to evaluate your model.\n",
                                    "\n",
                                    "-----\n",
                                    "\n",
                                    "### What is a Train-Test Split\n",
                                    "\n",
                                    "A train-test split is cutting the dataset into two parts: one to train the model and one to test it. The training set helps the model learn patterns, and the test set helps us check if the model is good at predicting new data.\n",
                                    "\n",
                                    "For example, if you have 10 pictures of fruits, you might use 8 to train your robot and 2 to test it. This ensures the robot hasn’t memorized the training pictures but can recognize new ones too.\n",
                                    "\n",
                                    "-----\n",
                                    "\n",
                                    "### The `train_test_split` Function\n",
                                    "\n",
                                    "To split the data, we use the `train_test_split` function from the Scikit-learn library. This function makes it easy to divide your data randomly. Let’s first see how to import what we need:\n",
                                    "\n",
                                    "```python\n",
                                    "from sklearn.model_selection import train_test_split\n",
                                    "```\n",
                                    "\n",
                                    "-----\n",
                                    "\n",
                                    "### Small Dataset\n",
                                    "\n",
                                    "Let's use a very small dataset. Imagine we have 10 fruit images (features) and their labels (like apple or orange). Here is our dataset:\n",
                                    "\n",
                                    "```python\n",
                                    "# Small dataset\n",
                                    "X = [[0.1], [0.2], [0.1], [0.5], [0.5], [0.2], [0.2], [0.4], [0.1], [0.2]]  # 10 features\n",
                                    "y = [0, 0, 0, 1, 1, 0, 0, 1, 0, 0]  # 10 target labels\n",
                                    "```\n",
                                    "\n",
                                    "In this example, `X` is your features (like fruit images), and `y` is your target labels (like 0 for 'apple' or 1 for 'orange').\n",
                                    "\n",
                                    "-----\n",
                                    "\n",
                                    "### Splitting the Dataset\n",
                                    "\n",
                                    "Now, let's use the `train_test_split` function to divide our dataset into training and test sets:\n",
                                    "\n",
                                    "```python\n",
                                    "X_train, X_test, y_train, y_test = train_test_split(X, y, test_size=0.2, random_state=42)\n",
                                    "print(len(X_train))  # 8\n",
                                    "print(len(X_test))  # 2\n",
                                    "print(len(y_train))  # 8\n",
                                    "print(len(y_test))  # 2\n",
                                    "```\n",
                                    "\n",
                                    "Here’s what this does:\n",
                                    "\n",
                                    "  * `X_train` and `y_train` are the training sets.\n",
                                    "  * `X_test` and `y_test` are the test sets.\n",
                                    "  * `test_size=0.2` means 20% of the data is for testing, and 80% is for training. It is common to use 20-30% of your data for the test set.\n",
                                    "  * `random_state=42` ensures the split is the same every time you run the code, which is handy for reproducibility. You can use any integer in `random_state`, 42 is just a random choice (or a reference to some book 😉)\n",
                                    "\n",
                                    "-----\n",
                                    "\n",
                                    "### Lesson Summary\n",
                                    "\n",
                                    "In this lesson, we learned why it's important to split our data into training and test sets. We discussed overfitting, which is like memorizing homework answers but failing the test. We then explored the `train_test_split` function, used a small dataset, and split it into training and test sets. Finally, we checked the sizes of our splits to ensure everything was correctly set up.\n",
                                    "\n",
                                    "Great job\\! Now, it’s time to practice what you’ve learned. You will get hands-on experience applying the train-test split to different datasets, ensuring you’re ready to evaluate your models correctly. Remember, practice is key to mastering machine learning concepts\\!"
                           ]
                  },
                  {
                           "cell_type": "markdown",
                           "metadata": {},
                           "source": [
                                    "## Adjusting Test Set Size\n",
                                    "\n",
                                    "Space Explorer, let's tweak the train-test split. Change the test_size to 0.5 instead of 0.3 and see how it changes the sizes of the training and test sets.\n",
                                    "\n",
                                    "\n",
                                    "```python\n",
                                    "from sklearn.model_selection import train_test_split\n",
                                    "\n",
                                    "# Fruit dataset\n",
                                    "X = [[0.3], [0.4], [0.4], [0.7], [0.5], [0.3], [0.8], [0.6], [0.4], [0.2]]\n",
                                    "y = [1, 1, 0, 1, 0, 0, 1, 1, 0, 0]  # 1 for orange, 0 for apple\n",
                                    "\n",
                                    "# Splitting the dataset\n",
                                    "X_train, X_test, y_train, y_test = train_test_split(X, y, test_size=0.3, random_state=1)\n",
                                    "\n",
                                    "print(\"Training set size:\", len(X_train))\n",
                                    "print(\"Test set size:\", len(X_test))\n",
                                    "\n",
                                    "```\n",
                                    "\n",
                                    "```python\n",
                                    "from sklearn.model_selection import train_test_split\n",
                                    "\n",
                                    "# Fruit dataset\n",
                                    "X = [[0.3], [0.4], [0.4], [0.7], [0.5], [0.3], [0.8], [0.6], [0.4], [0.2]]\n",
                                    "y = [1, 1, 0, 1, 0, 0, 1, 1, 0, 0]  # 1 for orange, 0 for apple\n",
                                    "\n",
                                    "# Splitting the dataset with test_size changed to 0.5\n",
                                    "X_train, X_test, y_train, y_test = train_test_split(X, y, test_size=0.5, random_state=1) # Changed test_size from 0.3 to 0.5\n",
                                    "\n",
                                    "print(\"Training set size:\", len(X_train))\n",
                                    "print(\"Test set size:\", len(X_test))\n",
                                    "```"
                           ]
                  },
                  {
                           "cell_type": "markdown",
                           "metadata": {},
                           "source": [
                                    "## Debug the Fruit Dataset Split"
                           ]
                  },
                  {
                           "cell_type": "markdown",
                           "metadata": {},
                           "source": [
                                    "## Splitting the Fruit Dataset"
                           ]
                  },
                  {
                           "cell_type": "markdown",
                           "metadata": {},
                           "source": [
                                    "## Splitting the Iris Dataset"
                           ]
                  }
         ],
         "metadata": {
                  "language_info": {
                           "name": "python"
                  }
         },
         "nbformat": 4,
         "nbformat_minor": 5
}
