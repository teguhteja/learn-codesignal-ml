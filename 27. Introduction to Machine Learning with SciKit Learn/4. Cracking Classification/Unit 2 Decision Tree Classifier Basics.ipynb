{
            "cells": [
  {
            "cell_type": "markdown",
            "metadata": {},
            "source": [
                "# Unit 2 Decision Tree Classifier Basics"
            ]
            }
 ,{
            "cell_type": "markdown",
            "metadata": {},
            "source": [
 "## Adjust Decision Tree Depth" 
   ]
            }
 ,{
            "cell_type": "markdown",
            "metadata": {},
            "source": [
 "## Train and Predict with Decision Tree Classifier" 
   ]
            }
 ,{
            "cell_type": "markdown",
            "metadata": {},
            "source": [
 "## Train the Decision Tree Classifier" 
   ]
            }
 ,{
            "cell_type": "markdown",
            "metadata": {},
            "source": [
 "## Comparing Logistic Regression and Decision Tree Models" 
   ]
            }
   ],
 "metadata": {},
 "nbformat": 4,
 "nbformat_minor": 5
}
