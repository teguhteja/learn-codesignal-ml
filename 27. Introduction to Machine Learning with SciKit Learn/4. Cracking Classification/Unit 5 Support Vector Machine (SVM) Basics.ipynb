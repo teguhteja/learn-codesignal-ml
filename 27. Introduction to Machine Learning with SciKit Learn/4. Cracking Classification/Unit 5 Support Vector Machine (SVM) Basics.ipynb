{
            "cells": [
  {
            "cell_type": "markdown",
            "metadata": {},
            "source": [
                "# Unit 5 Support Vector Machine (SVM) Basics"
            ]
            }
 ,{
            "cell_type": "markdown",
            "metadata": {},
            "source": [
 "## Changing SVM Kernel" 
   ]
            }
 ,{
            "cell_type": "markdown",
            "metadata": {},
            "source": [
 "## Complete the Wine Classification SVM" 
   ]
            }
 ,{
            "cell_type": "markdown",
            "metadata": {},
            "source": [
 "## Bringing Out the Power of the RBF Kernel" 
   ]
            }
   ],
 "metadata": {},
 "nbformat": 4,
 "nbformat_minor": 5
}
