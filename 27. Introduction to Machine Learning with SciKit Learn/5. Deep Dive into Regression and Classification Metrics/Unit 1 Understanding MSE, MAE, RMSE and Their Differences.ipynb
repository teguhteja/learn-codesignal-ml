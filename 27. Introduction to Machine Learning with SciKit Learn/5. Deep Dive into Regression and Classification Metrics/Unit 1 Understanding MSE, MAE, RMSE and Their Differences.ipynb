{
            "cells": [
  {
            "cell_type": "markdown",
            "metadata": {},
            "source": [
                "# Unit 1 Understanding MSE, MAE, RMSE and Their Differences"
            ]
            }
 ,{
            "cell_type": "markdown",
            "metadata": {},
            "source": [
 "## Changing RMSE to MAE Calculation" 
   ]
            }
 ,{
            "cell_type": "markdown",
            "metadata": {},
            "source": [
 "## Calculating House Price Errors" 
   ]
            }
 ,{
            "cell_type": "markdown",
            "metadata": {},
            "source": [
 "## Compare MSE and MAE effects" 
   ]
            }
 ,{
            "cell_type": "markdown",
            "metadata": {},
            "source": [
 "## Complete the Linear Regression Code and Calculate MAE" 
   ]
            }
   ],
 "metadata": {},
 "nbformat": 4,
 "nbformat_minor": 5
}
