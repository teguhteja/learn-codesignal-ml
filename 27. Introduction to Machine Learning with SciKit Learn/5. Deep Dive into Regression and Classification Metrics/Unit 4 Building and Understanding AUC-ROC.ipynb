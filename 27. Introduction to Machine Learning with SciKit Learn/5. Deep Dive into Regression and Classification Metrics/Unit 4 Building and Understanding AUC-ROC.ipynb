{
            "cells": [
  {
            "cell_type": "markdown",
            "metadata": {},
            "source": [
                "# Unit 4 Building and Understanding AUC-ROC"
            ]
            }
 ,{
            "cell_type": "markdown",
            "metadata": {},
            "source": [
 "## Calculating TPR and FPR" 
   ]
            }
 ,{
            "cell_type": "markdown",
            "metadata": {},
            "source": [
 "## Calculate AUC-ROC for Medical Test" 
   ]
            }
 ,{
            "cell_type": "markdown",
            "metadata": {},
            "source": [
 "## Calculating AUC-ROC for Medical Diagnosis" 
   ]
            }
   ],
 "metadata": {},
 "nbformat": 4,
 "nbformat_minor": 5
}
