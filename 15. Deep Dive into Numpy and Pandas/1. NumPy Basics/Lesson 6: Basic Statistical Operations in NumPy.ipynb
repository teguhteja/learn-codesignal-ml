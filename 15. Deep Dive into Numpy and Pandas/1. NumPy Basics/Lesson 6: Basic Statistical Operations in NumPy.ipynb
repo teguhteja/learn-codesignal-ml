{
            "cells": [
  {
            "cell_type": "markdown",
            "metadata": {},
            "source": [
                "# Lesson 6: Basic Statistical Operations in NumPy"
            ]
            }
 ,{
            "cell_type": "markdown",
            "metadata": {},
            "source": [
 "## Class Performance Statistics with NumPy" 
   ]
            }
 ,{
            "cell_type": "markdown",
            "metadata": {},
            "source": [
 "## Statistical Insight: Finding the Mode" 
   ]
            }
   ],
 "metadata": {},
 "nbformat": 4,
 "nbformat_minor": 5
}
