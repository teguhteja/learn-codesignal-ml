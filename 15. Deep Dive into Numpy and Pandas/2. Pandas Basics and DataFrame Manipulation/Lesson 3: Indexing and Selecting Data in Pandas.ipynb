{
            "cells": [
  {
            "cell_type": "markdown",
            "metadata": {},
            "source": [
                "# Lesson 3: Indexing and Selecting Data in Pandas"
            ]
            }
 ,{
            "cell_type": "markdown",
            "metadata": {},
            "source": [
 "## Exploring School Cities in a DataFrame" 
   ]
            }
 ,{
            "cell_type": "markdown",
            "metadata": {},
            "source": [
 "## Practicing Integer-based Indexing with iloc[]" 
   ]
            }
 ,{
            "cell_type": "markdown",
            "metadata": {},
            "source": [
 "## Data Retrieval Accuracy in School Records" 
   ]
            }
 ,{
            "cell_type": "markdown",
            "metadata": {},
            "source": [
 "## Indexing Galactic Academy Data" 
   ]
            }
 ,{
            "cell_type": "markdown",
            "metadata": {},
            "source": [
 "## Setting the Index in a DataFrame" 
   ]
            }
   ],
 "metadata": {},
 "nbformat": 4,
 "nbformat_minor": 5
}
