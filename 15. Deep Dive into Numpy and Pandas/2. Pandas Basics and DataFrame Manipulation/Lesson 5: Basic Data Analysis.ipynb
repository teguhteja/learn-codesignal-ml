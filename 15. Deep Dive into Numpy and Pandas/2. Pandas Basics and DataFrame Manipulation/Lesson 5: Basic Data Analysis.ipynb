{
            "cells": [
  {
            "cell_type": "markdown",
            "metadata": {},
            "source": [
                "# Lesson 5: Basic Data Analysis"
            ]
            }
 ,{
            "cell_type": "markdown",
            "metadata": {},
            "source": [
 "## Average Pet Clinic Visits by Species" 
   ]
            }
 ,{
            "cell_type": "markdown",
            "metadata": {},
            "source": [
 "## Sorting Pandas Data by Type in Reverse Order" 
   ]
            }
 ,{
            "cell_type": "markdown",
            "metadata": {},
            "source": [
 "## Aggregating and Sorting Pet Care Data" 
   ]
            }
   ],
 "metadata": {},
 "nbformat": 4,
 "nbformat_minor": 5
}
