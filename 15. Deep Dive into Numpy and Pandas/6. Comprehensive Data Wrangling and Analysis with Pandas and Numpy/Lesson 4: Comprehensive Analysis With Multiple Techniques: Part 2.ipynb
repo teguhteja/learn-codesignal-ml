{
            "cells": [
  {
            "cell_type": "markdown",
            "metadata": {},
            "source": [
                "# Lesson 4: Comprehensive Analysis With Multiple Techniques: Part 2"
            ]
            }
 ,{
            "cell_type": "markdown",
            "metadata": {},
            "source": [
 "## Groupby Titanic Data by Class" 
   ]
            }
 ,{
            "cell_type": "markdown",
            "metadata": {},
            "source": [
 "## Analyzing Survival Rates Among Different Age Groups" 
   ]
            }
 ,{
            "cell_type": "markdown",
            "metadata": {},
            "source": [
 "## Analyzing Titanic's Fare Data" 
   ]
            }
   ],
 "metadata": {},
 "nbformat": 4,
 "nbformat_minor": 5
}
