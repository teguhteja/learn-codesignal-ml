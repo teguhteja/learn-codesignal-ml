{
            "cells": [
  {
            "cell_type": "markdown",
            "metadata": {},
            "source": [
                "# Lesson 1: Complex Groupby Operations in Pandas"
            ]
            }
 ,{
            "cell_type": "markdown",
            "metadata": {},
            "source": [
 "## Passenger Fare Statistics on the Titanic" 
   ]
            }
 ,{
            "cell_type": "markdown",
            "metadata": {},
            "source": [
 "## Detailed Titanic Statistics by Group" 
   ]
            }
 ,{
            "cell_type": "markdown",
            "metadata": {},
            "source": [
 "## Analyze Titanic Data with Groupby" 
   ]
            }
 ,{
            "cell_type": "markdown",
            "metadata": {},
            "source": [
 "## Analyzing Titanic Data with Groupby" 
   ]
            }
   ],
 "metadata": {},
 "nbformat": 4,
 "nbformat_minor": 5
}
