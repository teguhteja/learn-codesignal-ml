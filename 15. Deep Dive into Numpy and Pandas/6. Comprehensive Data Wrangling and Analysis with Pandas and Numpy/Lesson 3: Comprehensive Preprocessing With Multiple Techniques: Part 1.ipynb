{
            "cells": [
  {
            "cell_type": "markdown",
            "metadata": {},
            "source": [
                "# Lesson 3: Comprehensive Preprocessing With Multiple Techniques: Part 1"
            ]
            }
 ,{
            "cell_type": "markdown",
            "metadata": {},
            "source": [
 "## Drop Irrelevant Columns from Titanic Dataset" 
   ]
            }
 ,{
            "cell_type": "markdown",
            "metadata": {},
            "source": [
 "## Dropping Columns and Handling Missing Values" 
   ]
            }
 ,{
            "cell_type": "markdown",
            "metadata": {},
            "source": [
 "## Encoding Categorical Data" 
   ]
            }
 ,{
            "cell_type": "markdown",
            "metadata": {},
            "source": [
 "## Preprocess Titanic Data by Handling Missing Values and Scaling" 
   ]
            }
   ],
 "metadata": {},
 "nbformat": 4,
 "nbformat_minor": 5
}
