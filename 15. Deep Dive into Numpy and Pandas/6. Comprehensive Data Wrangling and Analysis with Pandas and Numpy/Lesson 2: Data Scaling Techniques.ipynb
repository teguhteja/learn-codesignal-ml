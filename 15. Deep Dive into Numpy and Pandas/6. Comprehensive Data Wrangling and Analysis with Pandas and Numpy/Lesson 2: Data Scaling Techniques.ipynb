{
            "cells": [
  {
            "cell_type": "markdown",
            "metadata": {},
            "source": [
                "# Lesson 2: Data Scaling Techniques"
            ]
            }
 ,{
            "cell_type": "markdown",
            "metadata": {},
            "source": [
 "## Standard Scaling for the Age Column" 
   ]
            }
 ,{
            "cell_type": "markdown",
            "metadata": {},
            "source": [
 "## Apply Min-Max Scaling to 'fare' Column" 
   ]
            }
 ,{
            "cell_type": "markdown",
            "metadata": {},
            "source": [
 "## Standard Scaling of Titanic 'Fare' Column" 
   ]
            }
   ],
 "metadata": {},
 "nbformat": 4,
 "nbformat_minor": 5
}
