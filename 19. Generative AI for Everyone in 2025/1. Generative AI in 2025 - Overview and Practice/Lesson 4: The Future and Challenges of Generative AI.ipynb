{
 "cells": [
  {
   "cell_type": "markdown",
   "id": "6c07d71b",
   "metadata": {},
   "source": [
    "# Lesson 4: The Future and Challenges of Generative AI"
   ]
  },
  {
   "cell_type": "markdown",
   "id": "da8ffd95",
   "metadata": {},
   "source": [
    "## Trend Matcher: Aligning Future AI Trends with Examples\n",
    "\n",
    "Match each of the following examples to the Generative AI trend it best represents:\n",
    "\n",
    "Hyper-personalization\n",
    "Multimodal Creativity\n",
    "Ethical Innovation\n",
    "Write the number corresponding to the trend next to each example.\n",
    "\n",
    "```md\n",
    "1. \"An AI fashion app that suggests outfits based on your Instagram photos and shopping history.\"\n",
    "- Trend:\n",
    "\n",
    "2. \"A collaborative platform where AI helps musicians compose songs by generating melodies and matching lyrics.\"\n",
    "- Trend:\n",
    "\n",
    "3. \"An AI editor that scans your written content for biased language and offers neutral alternatives before publication.\"\n",
    "- Trend:\n",
    "\n",
    "4. \"An AI tool that creates a complete marketing campaign by generating copy, images, videos, and background music from a single product description.\"\n",
    "- Trend:\n",
    "```\n",
    "```md\n",
    "\"An AI fashion app that suggests outfits based on your Instagram photos and shopping history.\"\n",
    "\n",
    "Trend: 1️⃣ Hyper-personalization\n",
    "\n",
    "\"A collaborative platform where AI helps musicians compose songs by generating melodies and matching lyrics.\"\n",
    "\n",
    "Trend: 2️⃣ Multimodal Creativity\n",
    "\n",
    "\"An AI editor that scans your written content for biased language and offers neutral alternatives before publication.\"\n",
    "\n",
    "Trend: 3️⃣ Ethical Innovation\n",
    "\n",
    "\"An AI tool that creates a complete marketing campaign by generating copy, images, videos, and background music from a single product description.\"\n",
    "\n",
    "Trend: 2️⃣ Multimodal Creativity\n",
    "```"
   ]
  },
  {
   "cell_type": "markdown",
   "id": "c5576a2f",
   "metadata": {},
   "source": [
    "## AI Blueprint: Designing Tomorrow’s Projects\n",
    "\n",
    "Imagine your project is: \"Designing a virtual reality game set in ancient Egypt.\"\n",
    "\n",
    "Below are some possible roles and some possible prompts. Select one role and one prompt that best fit the goal of creating an immersive, historically inspired VR experience.\n",
    "\n",
    "Possible AI Roles:\n",
    "\n",
    "Historical Accuracy Partner\n",
    "Musical Score Generator\n",
    "Sustainability Consultant\n",
    "Narrative Designer\n",
    "Possible Prompt Ideas:\n",
    "\n",
    "\"Brainstorm general ideas about ancient Egypt.\"\n",
    "\"Generate detailed references on ancient Egyptian culture, architecture, clothing, and suggestions for gameplay elements.\"\n",
    "\"Write a realistic short story set in an Egyptian tomb.\"\n",
    "\"Generate random facts about desert survival and sandstorms.\"\n",
    "\n",
    "```md\n",
    "1. Project: \"Designing a virtual reality game set in ancient Egypt.\"\n",
    "- AI Role:\n",
    "- Prompt:\n",
    "\n",
    "```\n",
    "\n",
    "```md\n",
    "Project: \"Designing a virtual reality game set in ancient Egypt.\"\n",
    "\n",
    "AI Role: Historical Accuracy Partner\n",
    "\n",
    "Prompt: \"Generate detailed references on ancient Egyptian culture, architecture, clothing, and suggestions for gameplay elements.\"\n",
    "```"
   ]
  },
  {
   "cell_type": "markdown",
   "id": "3a291d71",
   "metadata": {},
   "source": [
    "## Risk Radar: Mapping Ethical and Practical Dangers\n",
    "\n",
    "A company wants to use Generative AI for the following projects. Identify one ethical risk and one practical risk for each scenario.\n",
    "\n",
    "```md\n",
    "1. \"Using AI to write news articles about politics.\"\n",
    "- Ethical Risk:\n",
    "- Practical Risk:\n",
    "\n",
    "2. \"Using AI to generate influencer-style social media posts for a skincare brand.\"\n",
    "- Ethical Risk:\n",
    "- Practical Risk:\n",
    "\n",
    "```\n",
    "\n",
    "```md\n",
    "1. \"Using AI to write news articles about politics.\"  \n",
    "- Ethical Risk: Potential bias in AI-generated content could influence public opinion unfairly, leading to misinformation or manipulation.  \n",
    "- Practical Risk: AI may generate factually incorrect or misleading information, requiring extensive human oversight and verification.  \n",
    "\n",
    "2. \"Using AI to generate influencer-style social media posts for a skincare brand.\"  \n",
    "- Ethical Risk: AI-generated endorsements might mislead consumers if they appear as genuine influencer opinions rather than branded content.  \n",
    "- Practical Risk: AI may struggle to maintain a consistent brand voice or engage authentically with audiences, reducing effectiveness in building trust.  \n",
    "```"
   ]
  },
  {
   "cell_type": "markdown",
   "id": "78e0efdc",
   "metadata": {},
   "source": [
    "## Sharing Generative AI Concepts"
   ]
  }
 ],
 "metadata": {
  "kernelspec": {
   "display_name": "Python 3 (ipykernel)",
   "language": "python",
   "name": "python3"
  },
  "language_info": {
   "codemirror_mode": {
    "name": "ipython",
    "version": 3
   },
   "file_extension": ".py",
   "mimetype": "text/x-python",
   "name": "python",
   "nbconvert_exporter": "python",
   "pygments_lexer": "ipython3",
   "version": "3.12.2"
  }
 },
 "nbformat": 4,
 "nbformat_minor": 5
}
