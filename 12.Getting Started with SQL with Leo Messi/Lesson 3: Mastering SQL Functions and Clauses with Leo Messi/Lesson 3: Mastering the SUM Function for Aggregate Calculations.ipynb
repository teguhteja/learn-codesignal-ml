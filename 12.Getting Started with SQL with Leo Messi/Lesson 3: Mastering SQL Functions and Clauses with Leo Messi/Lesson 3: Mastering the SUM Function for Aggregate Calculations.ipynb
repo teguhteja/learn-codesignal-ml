{
 "cells": [
  {
   "cell_type": "markdown",
   "metadata": {},
   "source": [
    "# Lesson 3: Mastering the SUM Function for Aggregate Calculations\n",
    "\n",
    "# Mastering the SUM Function for Aggregate Calculations\n",
    "\n",
    "## Introduction to Aggregate Functions in SQL\n",
    "Welcome back! So far, we've explored the **COUNT** function to count rows and the **DISTINCT** keyword to ensure data uniqueness. Now, we will dive into another powerful aggregate function in SQL: **SUM**.\n",
    "\n",
    "Aggregate functions help us summarize and analyze data. For example, when analyzing a soccer match dataset, you might want to find the total number of goals scored by a team throughout a season. The **SUM** function allows you to add up values in a column, providing valuable insights.\n",
    "\n",
    "Let's get started by understanding the tools and environment you'll need for this lesson.\n",
    "\n",
    "---\n",
    "\n",
    "## Understanding SUM\n",
    "The **SUM** function is an aggregate operation in SQL used to calculate the total sum of a numerical column in a database. Think of it as a mathematical operation that adds up all the numbers in a set—simple, yet profound!\n",
    "\n",
    "The syntax is as follows: \n",
    "\n",
    "```sql\n",
    "SUM(column)\n",
    "```\n",
    "\n",
    "Where **column** is the name of the column for which you want to calculate the sum.\n",
    "\n",
    "You might be wondering, \"When would I need to use **SUM**?\" Consider a situation where you have a matches database like ours and want to determine the total number of events of each season. That's a perfect opportunity to deploy the **SUM** function. Let's see how it works!\n",
    "\n",
    "---\n",
    "\n",
    "## Applying SUM in a Query\n",
    "Here's the basic syntax:\n",
    "\n",
    "```sql\n",
    "SELECT SUM(expression) FROM table_name;\n",
    "```\n",
    "\n",
    "- **SUM(expression)**: The **SUM()** function expects at least one argument to specify what to sum. The correct usage is **SUM(expression)**, where expression is typically a column name or a numerical value, such as **SUM(1)** to count occurrences or **SUM(column_name)** to sum up values from a specific column.\n",
    "- **table_name**: The table containing the column you want to sum.\n",
    "\n",
    "For example, if you want to find the total number of trophies won in all seasons, you would use the **SUM** function on the column that records the number of trophies:\n",
    "\n",
    "```sql\n",
    "SELECT SUM(trophies_won) FROM Seasons;\n",
    "```\n",
    "\n",
    "### Output:\n",
    "```\n",
    " SUM(trophies_won) \n",
    "-------------------\n",
    "                 28 \n",
    "```\n",
    "\n",
    "Let's see a practical example emphasizing our shared interest: soccer matches, and then break it down:\n",
    "\n",
    "```sql\n",
    "SELECT Matches.season_id, SUM(1) AS TotalEvents\n",
    "FROM Matches\n",
    "JOIN MatchEvents ON Matches.match_id = MatchEvents.match_id\n",
    "GROUP BY Matches.season_id;\n",
    "```\n",
    "\n",
    "### Sneak peek of the output:\n",
    "```\n",
    "| season_id | TotalEvents |\n",
    "|-----------|-------------|\n",
    "|         1 |           1 |\n",
    "|         2 |           8 |\n",
    "```\n",
    "\n",
    "It might seem complex, but don't worry! We're here to dissect it line by line.\n",
    "\n",
    "- **SELECT Matches.season_id, SUM(1) AS TotalEvents**: In this query, **SUM(1)** is used to count the number of events for each season. This utilizes the **SUM()** function in a straightforward manner to aggregate the total count of events by season. This part of the query selects rows separately for each group according to the **season_id** from the Matches table and calculates the total number of events by summing **1** for each event in the group.\n",
    "- **FROM Matches**: This line informs SQL that our main table in this operation is Matches.\n",
    "- **JOIN MatchEvents ON Matches.match_id = MatchEvents.match_id**: Here, we express our intention to join the Matches table with the MatchEvents table on the common field **match_id**, essentially linking matches and their respective events. Note that **JOIN** here is synonymous with **INNER JOIN**, which ensures that only matching rows between the tables are selected.\n",
    "- **GROUP BY Matches.season_id**: Finally, we use the **GROUP BY** clause to group the total events by seasons. You will learn more about **GROUP BY** in the next unit!\n",
    "\n",
    "---\n",
    "\n",
    "## Common Pitfalls and Tips\n",
    "When working with the **SUM** function, there are a few common pitfalls to be aware of:\n",
    "\n",
    "- Bear in mind that **SUM** works with numerical data. Using it on non-numerical columns will result in errors.\n",
    "- The **AS** keyword, as seen in the code, can make your output more readable by renaming the result of our **SUM** operation. Don't forget to use it as necessary.\n",
    "\n",
    "---\n",
    "\n",
    "## Lesson Recap and Looking Ahead\n",
    "Great job! You've made excellent progress in mastering SQL functions. In this lesson, we learned about the **SUM** function and how to use it to perform aggregate calculations in SQL. We applied it to our Lionel Messi database and calculated the total events in each season.\n",
    "\n",
    "In the upcoming practice exercises, you'll get the opportunity to apply the **SUM** function, deepen your understanding, and increase your confidence in handling it. Stay determined as you continue to unleash the power of SQL!"
   ]
  },
  {
   "cell_type": "markdown",
   "metadata": {},
   "source": [
    "## Summing Events by Clubs"
   ]
  },
  {
   "cell_type": "markdown",
   "metadata": {},
   "source": [
    "## Summing Events by Season"
   ]
  },
  {
   "cell_type": "markdown",
   "metadata": {},
   "source": [
    "## Fix the Aggregate Function Query"
   ]
  },
  {
   "cell_type": "markdown",
   "metadata": {},
   "source": [
    "## Summarize Events by Club"
   ]
  },
  {
   "cell_type": "markdown",
   "metadata": {},
   "source": [
    "## Mastering SQL Aggregate Functions"
   ]
  }
 ],
 "metadata": {
  "language_info": {
   "name": "python"
  }
 },
 "nbformat": 4,
 "nbformat_minor": 5
}
