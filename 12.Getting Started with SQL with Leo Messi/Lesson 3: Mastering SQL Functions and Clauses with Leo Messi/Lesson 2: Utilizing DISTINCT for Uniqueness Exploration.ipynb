{
 "cells": [
  {
   "cell_type": "markdown",
   "metadata": {},
   "source": [
    "# Lesson 2: Utilizing DISTINCT for Uniqueness Exploration\n",
    "\n",
    "# Utilizing DISTINCT for Uniqueness Exploration\n",
    "\n",
    "## Introduction to DISTINCT\n",
    "Hello again! I hope you enjoyed the previous unit on understanding and using the **COUNT** function. Today, we're going to expand your SQL knowledge further by introducing a new concept: the **DISTINCT** keyword in SQL. While DISTINCT is not strictly a function, it's a powerful keyword/clause that will help you strengthen your data querying skills.\n",
    "\n",
    "When handling data, especially large datasets, we often encounter duplicate values. The **DISTINCT** keyword helps us remove these duplicates and present a clean, unique list of values. Isn't that handy?!\n",
    "\n",
    "This concept is common in many areas of life. Imagine you're trying to create a list of all the cities from which your friends come. If three friends come from New York, should we count New York three times? Of course not! We use distinct or unique values, and SQL provides the **DISTINCT** keyword to do just that with our data.\n",
    "\n",
    "As we learn SQL using Messi's matches, we'll be using **DISTINCT** to explore his distinct sports footprints.\n",
    "\n",
    "---\n",
    "\n",
    "## The Need for DISTINCT in Our Database\n",
    "Given Lionel Messi's rich game history, utilizing **DISTINCT** is quite handy. We can use it to identify unique seasons and much more. It will broaden our understanding of his matches data.\n",
    "\n",
    "Let's first learn the format of a basic SQL query that uses **DISTINCT**:\n",
    "\n",
    "```sql\n",
    "SELECT DISTINCT column_name FROM table_name;\n",
    "```\n",
    "\n",
    "It is time to apply this format to our Lionel Messi's matches dataset. Consider the following statement:\n",
    "\n",
    "```sql\n",
    "SELECT DISTINCT season_id FROM Matches;\n",
    "```\n",
    "\n",
    "### Sneak peek of the output:\n",
    "```\n",
    " season_id\n",
    "-----------\n",
    "        1\n",
    "        2\n",
    "```\n",
    "\n",
    "This query will fetch all the distinct or unique **season_id** from the **Matches** table. We use **DISTINCT** to avoid getting repeated IDs in the output.\n",
    "\n",
    "---\n",
    "\n",
    "## More Applications of DISTINCT\n",
    "Let's look at a few more examples using the **DISTINCT** keyword.\n",
    "\n",
    "What if we want to know all the unique clubs Messi has played for? Simple! We would run:\n",
    "\n",
    "```sql\n",
    "SELECT DISTINCT club_id FROM Matches;\n",
    "```\n",
    "\n",
    "### Output:\n",
    "```\n",
    " club_id\n",
    "---------\n",
    "      1\n",
    "      2\n",
    "```\n",
    "\n",
    "When using **DISTINCT**, it's important to remember that fetching unique values from large datasets can be time-consuming and may slow down your queries. Therefore, always consider the performance implications and use **DISTINCT** only when necessary.\n",
    "\n",
    "---\n",
    "\n",
    "## Lesson Wrap-Up and Practice Preview\n",
    "That wraps up our introduction to the **DISTINCT** keyword in SQL! Well done on expanding your SQL toolkit. Today, you learned to use **DISTINCT** to fetch unique values from a database, which is handy in many data analysis scenarios. We also explored how **DISTINCT** can be applied to Lionel Messi's data for deeper insights.\n",
    "\n",
    "Now, it's time to apply your newfound knowledge in practice! Next up, you'll be tackling some hands-on exercises using **DISTINCT** with the Lionel Messi dataset. Happy coding!"
   ]
  },
  {
   "cell_type": "markdown",
   "metadata": {},
   "source": [
    "## Extracting Season IDs Query\n",
    "\n",
    "Let's start by extracting every season_id from the Matches table. This query will showcase the distribution of matches across various seasons.\n",
    "\n",
    "-- TODO: Select all seasons from Matches\n",
    "\n",
    "To extract every `season_id` from the `Matches` table and showcase the distribution of matches across various seasons, you can use the `SELECT` statement in SQL. If you want to ensure that each `season_id` is listed only once, you can use the `DISTINCT` keyword. Here's how you can write the SQL query:\n",
    "\n",
    "```sql\n",
    "-- TODO: Select all unique season_ids from Matches\n",
    "SELECT DISTINCT season_id FROM Matches;\n",
    "```\n",
    "\n",
    "This query will return a list of unique `season_id` values from the `Matches` table, allowing you to see which seasons have recorded matches."
   ]
  },
  {
   "cell_type": "markdown",
   "metadata": {},
   "source": [
    "## Finding Unique Season IDs"
   ]
  },
  {
   "cell_type": "markdown",
   "metadata": {},
   "source": [
    "## Fix the Unique Season Query"
   ]
  },
  {
   "cell_type": "markdown",
   "metadata": {},
   "source": [
    "## Unique Match Venues Retrieval"
   ]
  },
  {
   "cell_type": "markdown",
   "metadata": {},
   "source": [
    "## Unique Season Identification Task"
   ]
  }
 ],
 "metadata": {
  "language_info": {
   "name": "python"
  }
 },
 "nbformat": 4,
 "nbformat_minor": 5
}
