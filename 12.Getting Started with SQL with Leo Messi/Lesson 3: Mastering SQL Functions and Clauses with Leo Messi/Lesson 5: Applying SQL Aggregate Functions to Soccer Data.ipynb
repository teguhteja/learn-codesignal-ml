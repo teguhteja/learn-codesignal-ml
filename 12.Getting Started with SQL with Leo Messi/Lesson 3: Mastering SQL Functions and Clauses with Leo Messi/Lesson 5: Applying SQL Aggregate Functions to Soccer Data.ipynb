{
 "cells": [
  {
   "cell_type": "markdown",
   "metadata": {},
   "source": [
    "# Lesson 5: Applying SQL Aggregate Functions to Soccer Data\n",
    "\n",
    "# Applying SQL Aggregate Functions to Soccer Data\n",
    "\n",
    "## Quick Recap\n",
    "Great job on making it this far! Thus far, we've covered a great deal, from drilling into **COUNT** and **DISTINCT** to exploring **SUM** and **GROUP BY**. These are some of the key SQL functions required to dig deep into any dataset. In this unit, we're going to broaden our repertoire by applying these aggregate functions to analyze data related to Lionel Messi's career achievements.\n",
    "\n",
    "As you may recall from our previous lessons, aggregate functions allow us to perform calculations on a set of values to return a single scalar value. We've already seen the **COUNT** and **SUM** functions in action, but have you ever wondered if we could derive other useful insights, such as averages? That’s where the SQL **AVG** function comes into play.\n",
    "\n",
    "---\n",
    "\n",
    "## SUM and AVG Functions\n",
    "At this juncture, the **SUM** function must seem pretty familiar to you. It does the heavy lifting when we need to find total values. For instance, it calculates total trophies won or total goals scored in our case.\n",
    "\n",
    "On the other hand, the **AVG** function might be new to you. It's a classic SQL function utilized for calculating the arithmetic mean of a set of values. Simply put, **AVG** can help us determine an average value, such as the average trophies won per season in Lionel Messi's career.\n",
    "\n",
    "---\n",
    "\n",
    "## Example 1: Utilizing The SUM Function\n",
    "\n",
    "```sql\n",
    "-- Aggregate total trophies won per each season\n",
    "SELECT Seasons.season_id, SUM(Seasons.trophies_won) AS TotalTrophiesWon\n",
    "FROM Seasons\n",
    "JOIN Matches ON Seasons.season_id = Matches.season_id\n",
    "GROUP BY Seasons.season_id;\n",
    "```\n",
    "\n",
    "### Sneak peek of the output:\n",
    "```\n",
    "| season_id | TotalTrophiesWon |\n",
    "|-----------|------------------|\n",
    "|         1 |                1 |\n",
    "|         2 |               16 |\n",
    "```\n",
    "\n",
    "In the above example, we're using the **SUM** function to find the total trophies won per season in Lionel Messi's career. This is achieved by joining the **Seasons** and **Matches** tables on **season_id**, where **Matches** records the details of matches played in each season. The **GROUP BY** clause ensures we get a total trophies count for each season, providing a comprehensive view of Messi's career achievements.\n",
    "\n",
    "---\n",
    "\n",
    "## Example 2: Leveraging The AVG Function\n",
    "\n",
    "```sql\n",
    "-- Aggregate average trophies won per each season after 2010\n",
    "SELECT Seasons.season_id, AVG(Seasons.trophies_won) AS AverageTrophiesWon\n",
    "FROM Seasons\n",
    "JOIN Matches ON Seasons.season_id = Matches.season_id\n",
    "WHERE YEAR(Matches.date) > 2010\n",
    "GROUP BY Seasons.season_id;\n",
    "```\n",
    "\n",
    "### Sneak peek of the output:\n",
    "```\n",
    "| season_id | AverageTrophiesWon |\n",
    "|-----------|--------------------|\n",
    "|         7 |             3.0000 |\n",
    "|         8 |             4.0000 |\n",
    "```\n",
    "\n",
    "Here, we're introducing the **AVG** function to find the average trophies won per season in Lionel Messi's career after 2010. By filtering matches based on the date condition (**YEAR(Matches.date) > 2010**), we focus on more recent seasons. The **AVG** function calculates the arithmetic mean of trophies won across these seasons, offering insights into Messi's consistent performance over time.\n",
    "\n",
    "---\n",
    "\n",
    "## Remembering the GROUP BY Clause\n",
    "From our past lessons, you should recall that the **GROUP BY** clause groups a result into subsets that share the same attribute value. It’s a vital component when using aggregate functions like **SUM**, **COUNT**, **AVG**, and others because it enables us to apply these functions to each group of data independently, providing us with insightful segmented data.\n",
    "\n",
    "As you've noticed in our examples, **GROUP BY** plays an essential role when using aggregate functions. We use **GROUP BY** to return a separate sum or average for each season, allowing us to analyze Messi's career achievements in a structured manner.\n",
    "\n",
    "---\n",
    "\n",
    "## You Are Almost There\n",
    "Excellent work on learning how to use the **SUM** and **AVG** functions and mastering their symbiotic relationship with the **GROUP BY** clause. Using these functions isn't always straightforward, but with practice, it will become second nature.\n",
    "\n",
    "Congratulations on completing this lesson of the course! Let's continue practicing to solidify this knowledge and enhance your SQL skills further."
   ]
  },
  {
   "cell_type": "markdown",
   "metadata": {},
   "source": [
    "## Fix SQL Aggregation Query"
   ]
  },
  {
   "cell_type": "markdown",
   "metadata": {},
   "source": [
    "## Fix the Aggregate Query"
   ]
  },
  {
   "cell_type": "markdown",
   "metadata": {},
   "source": [
    "## Calculate Average Trophies Won Per Season"
   ]
  },
  {
   "cell_type": "markdown",
   "metadata": {},
   "source": [
    "## Calculate Total Trophies Won"
   ]
  }
 ],
 "metadata": {
  "language_info": {
   "name": "python"
  }
 },
 "nbformat": 4,
 "nbformat_minor": 5
}
