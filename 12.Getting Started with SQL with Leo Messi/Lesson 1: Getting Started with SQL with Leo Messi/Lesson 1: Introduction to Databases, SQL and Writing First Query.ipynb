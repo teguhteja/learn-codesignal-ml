{
 "cells": [
  {
   "cell_type": "markdown",
   "metadata": {},
   "source": [
    "# Lesson 1: Introduction to Databases, SQL and Writing First Query\n",
    "\n",
    "# Introduction to Databases, SQL, and Writing Your First Query\n",
    "\n",
    "## Welcome to Databases and SQL\n",
    "Hello, and welcome to the magical world of databases and SQL!\n",
    "\n",
    "### What is a Database?\n",
    "A **database** is like a huge digital filing cabinet where you can store, manage, and retrieve data. In this course, we'll focus on a specific type of database known as a **relational database**, which stores data in tables—similar to how an Excel file has different sheets for different sets of data.\n",
    "\n",
    "### What is SQL?\n",
    "**SQL** (Structured Query Language) is the standard language used to interact with databases. Think of it as a toolbox for managing and manipulating data. Whether you want to find a specific piece of data, update it, delete it, or create a new one, SQL is your go-to resource.\n",
    "\n",
    "---\n",
    "\n",
    "## SQL and Its Tools - Introduction to MySQL\n",
    "The tool we'll use in these lessons is **MySQL**. While there are multiple database management systems that use SQL, such as PostgreSQL and SQLite, MySQL is a well-established, flexible tool, making it an excellent starting point for beginners.\n",
    "\n",
    "MySQL's widespread use and supportive community ensure you can easily find help and resources as you learn.\n",
    "\n",
    "---\n",
    "\n",
    "## Your Dataset - Lionel Messi's Career Stats\n",
    "To make our data journey engaging, we’re using a unique dataset—tables that capture various aspects of **Lionel Messi's** illustrious career. This dataset includes detailed statistics from different seasons, matches, goals, assists, and more. \n",
    "\n",
    "### Sample of the Seasons Table\n",
    "Here's a sneak peek at a sample of the **Seasons** table:\n",
    "\n",
    "| season_id | season | trophies_won |\n",
    "|-----------|--------|---------------|\n",
    "| 1         | 04/05  | 1             |\n",
    "| 2         | 05/06  | 2             |\n",
    "\n",
    "This table records each season with a unique identifier, the name of the season, and the number of trophies won. With this in mind, let's move on to writing our first simple SQL command.\n",
    "\n",
    "---\n",
    "\n",
    "## The `SHOW TABLES` Command\n",
    "Sometimes you might want to know what tables are present in the database you're working with. Here is where the `SHOW TABLES` command comes in handy:\n",
    "\n",
    "```sql\n",
    "SHOW TABLES;\n",
    "```\n",
    "\n",
    "Executing this command returns a list of all the tables in your current database:\n",
    "\n",
    "| Tables_in_practice_db |\n",
    "|------------------------|\n",
    "| clubs                  |\n",
    "| competitions           |\n",
    "| matches                |\n",
    "| matchevents            |\n",
    "| players                |\n",
    "| seasons                |\n",
    "\n",
    "---\n",
    "\n",
    "## Understanding SQL Syntax Essentials\n",
    "Learning SQL syntax effectively is crucial for communicating clearly with databases. Here are some fundamental syntax components to know:\n",
    "\n",
    "- **Semicolon (;)**: Serves as the end of a statement, similar to a period in a sentence. Correct usage is crucial for clear command separation. \n",
    "  - Example: `SHOW TABLES;`\n",
    "\n",
    "- **Comments**: Used for adding notes or explanations within your SQL code, which are ignored during execution. SQL supports both single-line and multi-line comments.\n",
    "  \n",
    "  - **Single-line comments** start with `--`. The rest of the line after `--` is ignored by SQL. \n",
    "    - Example:\n",
    "    ```sql\n",
    "    -- This command lists all tables\n",
    "    SHOW TABLES;\n",
    "    ```\n",
    "\n",
    "  - **Multi-line comments** are enclosed in `/*` and `*/`, ignoring everything in between. These are useful for longer explanations or notes. \n",
    "    - Example:\n",
    "    ```sql\n",
    "    /*\n",
    "    The following command is used\n",
    "    to display all tables in the database\n",
    "    */\n",
    "    SHOW TABLES;\n",
    "    ```\n",
    "\n",
    "Grasping the use of semicolons for statement demarcation and comments for annotating your SQL scripts ensures your queries are both effective and easily understandable.\n",
    "\n",
    "---\n",
    "\n",
    "## Getting to Know a Table - Viewing All Data\n",
    "Next, let's learn how to view all data from a table:\n",
    "\n",
    "```sql\n",
    "SELECT * FROM Seasons;\n",
    "```\n",
    "\n",
    "The `SELECT` keyword specifies the data we wish to see. The asterisk `*` represents our request to see all the data. Finally, `FROM Seasons;` instructs the database to display the data from the **Seasons** table.\n",
    "\n",
    "Upon executing this command, we'll receive a comprehensive list of all the data present in the **Seasons** table. You'll get to try it in the practice section that follows.\n",
    "\n",
    "---\n",
    "\n",
    "## Recap\n",
    "That's a wrap for our first lesson! We've journeyed from understanding the basics of databases and SQL to learning how to write our first query. Now, you're equipped to display a list of all tables in your dataset using `SHOW TABLES;` and to view all data from a table with `SELECT * FROM Seasons;`.\n",
    "\n",
    "Now, let's apply our newly acquired knowledge to some practical exercises! The upcoming practice exercises are based on the topics covered in this lesson. These will reinforce your understanding and help you become comfortable with the basics of SQL."
   ]
  },
  {
   "cell_type": "markdown",
   "metadata": {},
   "source": [
    "## Running Your First SQL Queries"
   ]
  },
  {
   "cell_type": "markdown",
   "metadata": {},
   "source": [
    "## Unveiling all Records from a Seasons Table"
   ]
  },
  {
   "cell_type": "markdown",
   "metadata": {},
   "source": [
    "## Unveiling Specific Season Details"
   ]
  },
  {
   "cell_type": "markdown",
   "metadata": {},
   "source": [
    "## Unveiling the database's tables"
   ]
  },
  {
   "cell_type": "markdown",
   "metadata": {},
   "source": [
    "## Exploring Database Tables with SQL"
   ]
  }
 ],
 "metadata": {
  "language_info": {
   "name": "python"
  }
 },
 "nbformat": 4,
 "nbformat_minor": 5
}
