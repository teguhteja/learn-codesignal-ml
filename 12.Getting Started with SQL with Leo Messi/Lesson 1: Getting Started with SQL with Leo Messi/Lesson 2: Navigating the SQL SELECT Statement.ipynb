{
 "cells": [
  {
   "cell_type": "markdown",
   "metadata": {},
   "source": [
    "# Lesson 2: Navigating the SQL SELECT Statement\n",
    "\n",
    "# Navigating the SQL SELECT Statement\n",
    "\n",
    "## Greetings!\n",
    "Welcome to our second unit in the **\"Learning SQL with Leo Messi\"** course!\n",
    "\n",
    "You have already journeyed through what databases are, explored the world of SQL, and understood the usage of MySQL. Remember how we wrote our first `SHOW TABLES` SQL command to list all the tables in a Messi database? That was your first step into SQL syntax!\n",
    "\n",
    "SQL, unlike many programming languages, doesn't deal with logic or flow control; instead, it understands, manipulates, and retrieves data stored in databases in a structured manner.\n",
    "\n",
    "---\n",
    "\n",
    "## Getting to Know SELECT Syntax\n",
    "In this lesson, we will cover the **SELECT** keyword. The syntax is straightforward.\n",
    "\n",
    "### General Syntax:\n",
    "```sql\n",
    "SELECT column1, column2, ..., columnN FROM table_name;\n",
    "```\n",
    "In this syntax, you mention the column names that you want to retrieve, separated by commas. If you want to retrieve all columns, replace the column names with an asterisk (*).\n",
    "\n",
    "---\n",
    "\n",
    "## Querying the Database: Select All\n",
    "Let's pull all the data from the **Clubs** table. We'll use the asterisk (*) symbol to do this.\n",
    "\n",
    "```sql\n",
    "SELECT * FROM Clubs;\n",
    "```\n",
    "This statement fetches all columns, along with their data, from the **Clubs** table. You would see `club_id`, `club_name`, `club_country`, and more, all displaying data from Lionel Messi's clubs table.\n",
    "\n",
    "---\n",
    "\n",
    "## SELECT for Specific Columns\n",
    "Now, what if we want only specific information, such as the club name and club country? It's simple! We replace the asterisk with the required column names. Here's how:\n",
    "\n",
    "```sql\n",
    "SELECT club_name, club_country FROM Clubs;\n",
    "```\n",
    "In this example, we have fetched only the `club_name` and `club_country` columns from our **Clubs** table. Isn’t fine-tuning our query results exciting?\n",
    "\n",
    "---\n",
    "\n",
    "## Alias in SQL: Using the AS Keyword\n",
    "Can we rename column names in the output for better understanding? Yes, we can! Thanks to SQL aliasing features. The **AS** keyword is used to rename a column or table with an alias.\n",
    "\n",
    "```sql\n",
    "SELECT club_name AS Name, club_country AS \"Club Country\" FROM Clubs;\n",
    "```\n",
    "In this statement, **AS** is used to rename `club_name` to **Name** and `club_country` to **Club Country** in our output. Notice that we use double quotes around **Club Country** because the new name contains spaces. This way, our result set has more comprehensible column names.\n",
    "\n",
    "### Sample Output\n",
    "The output of this query would be:\n",
    "\n",
    "| Name                 | Club Country |\n",
    "|----------------------|--------------|\n",
    "| FC Barcelona         | Spain        |\n",
    "| Paris Saint-Germain  | France       |\n",
    "\n",
    "---\n",
    "\n",
    "## Wrapping Up: Summary and Preparing for Practice\n",
    "Let's recap what we've covered:\n",
    "- `SELECT * FROM Clubs;` will fetch all columns.\n",
    "- `SELECT club_name, club_country FROM Clubs;` will fetch specific columns.\n",
    "- `SELECT club_name AS Name, club_country AS \"Club Country\" FROM Clubs;` will fetch specific columns and rename them in the output.\n",
    "\n",
    "Practice these commands with different columns and aliases to gain a firm understanding of the **SELECT** statement. Don't worry if you make mistakes—they are stepping stones to mastering any new skill. Let's get to practice!\n",
    "\n",
    "---\n",
    "\n",
    "## End of Lesson Recap and Lookahead\n",
    "That wraps up our second unit! You now understand the SQL syntax, the **SELECT** command, and the usage of the **AS** keyword to rename items in the output of your query.\n",
    "\n",
    "The practice exercises that follow this lesson will further reinforce these concepts. Remember, the best way to learn is by doing. So, try writing and running your own SQL commands before you move on to the practice exercises.\n",
    "\n",
    "Great job so far, and keep practicing!"
   ]
  },
  {
   "cell_type": "markdown",
   "metadata": {},
   "source": [
    "## Selecting Specific Columns in SQL\n",
    "\n",
    "You've previously learned how to fetch all columns from a table and select specific columns. Let's take it a step further. Your task is to modify the given SQL query to fetch club_id and club_name from the Clubs table instead of fetching all columns.\n",
    "\n",
    "```sql\n",
    "-- TODO: Select all columns from the Clubs table\n",
    "SELECT * FROM Clubs;\n",
    "```\n",
    "\n",
    "To modify the SQL query to fetch only the `club_id` and `club_name` columns from the `Clubs` table, update it as follows:\n",
    "\n",
    "```sql\n",
    "-- Select club_id and club_name from the Clubs table\n",
    "SELECT club_id, club_name FROM Clubs;\n",
    "```"
   ]
  },
  {
   "cell_type": "markdown",
   "metadata": {},
   "source": [
    "## Select and Rename Columns\n",
    "\n",
    "Now that you've learned about selecting specific columns and using aliases, let's practice applying these concepts. Modify the given SQL query to fetch the club_name and club_country columns from the Clubs table and give them aliases Name and Club Country, respectively.\n",
    "\n",
    "```sql\n",
    "-- TODO: Select club_name and club_country with aliases\n",
    "SELECT club_name, club_country FROM Clubs;\n",
    "\n",
    "```\n",
    "\n",
    "Here's the modified SQL query using aliases for `club_name` and `club_country`:\n",
    "\n",
    "```sql\n",
    "-- Select club_name and club_country with aliases\n",
    "SELECT club_name AS Name, club_country AS \"Club Country\" FROM Clubs;\n",
    "``` \n",
    "\n",
    "*Note*: The double quotes around \"Club Country\" ensure that the alias is interpreted as a single string, preserving the space."
   ]
  },
  {
   "cell_type": "markdown",
   "metadata": {},
   "source": [
    "## Fix the SQL Query"
   ]
  },
  {
   "cell_type": "markdown",
   "metadata": {},
   "source": [
    "## Renaming Columns with SQL"
   ]
  },
  {
   "cell_type": "markdown",
   "metadata": {},
   "source": [
    "## Navigating Advanced SQL Queries"
   ]
  }
 ],
 "metadata": {
  "language_info": {
   "name": "python"
  }
 },
 "nbformat": 4,
 "nbformat_minor": 5
}
