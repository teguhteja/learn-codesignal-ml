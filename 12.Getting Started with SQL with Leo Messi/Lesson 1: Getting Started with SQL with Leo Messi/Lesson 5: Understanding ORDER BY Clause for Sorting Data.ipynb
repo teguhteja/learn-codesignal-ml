{
 "cells": [
  {
   "cell_type": "markdown",
   "metadata": {},
   "source": [
    "# Lesson 5: Understanding ORDER BY Clause for Sorting Data\n",
    "\n",
    "# Understanding `ORDER BY` Clause for Sorting Data\n",
    "\n",
    "## Introduction\n",
    "Hello again! As we continue our journey through SQL, let’s take a moment to recap. So far, we've explored SQL basics, worked with queries, selected data from tables, and used the `WHERE` clause with logical operators to filter data.\n",
    "\n",
    "Now, let’s dive into a new SQL keyword — **`ORDER BY`** — and see how to use it to organize and sort our data.\n",
    "\n",
    "---\n",
    "\n",
    "## Understanding `ORDER BY` Clause\n",
    "In SQL, the **`ORDER BY`** keyword is used to sort result sets in either ascending or descending order. It's an invaluable tool for gaining insights from data and is one you’ll use frequently. By default, **`ORDER BY`** sorts records in ascending order, but you can use **`DESC`** after the column name to apply descending order.\n",
    "\n",
    "### Example:\n",
    "Suppose we have a `Matches` table with the columns: `match_id`, `date`, and `result`. If we want to sort our list of matches by year in descending order, we could use the `ORDER BY` clause like this:\n",
    "\n",
    "```sql\n",
    "SELECT match_id, date, result \n",
    "FROM Matches\n",
    "ORDER BY YEAR(date) DESC;\n",
    "```\n",
    "\n",
    "---\n",
    "\n",
    "## Linking `SELECT` with `ORDER BY`\n",
    "Remember the `SELECT` statement? It's back again, but this time we’re pairing it with `ORDER BY`. Here’s the general syntax:\n",
    "\n",
    "```sql\n",
    "SELECT column_name \n",
    "FROM table_name \n",
    "ORDER BY column_name ASC|DESC;\n",
    "```\n",
    "\n",
    "To see this in action, here’s a code example you’ll be able to understand by the end of this lesson:\n",
    "\n",
    "```sql\n",
    "SELECT match_id, date, result\n",
    "FROM Matches \n",
    "ORDER BY YEAR(date) ASC;\n",
    "```\n",
    "\n",
    "This query retrieves `match_id`, `date`, and `result` columns from the `Matches` table and organizes them in ascending order by year.\n",
    "\n",
    "---\n",
    "\n",
    "## Interpreting Results\n",
    "\n",
    "Let’s break down this SQL query and its output:\n",
    "\n",
    "1. **`SELECT match_id, date, result`**: Specifies the columns we want from the `Matches` table.\n",
    "2. **`FROM Matches`**: Indicates the table we’re querying.\n",
    "3. **`ORDER BY YEAR(date) ASC`**: Uses the `ORDER BY` clause to sort records by year in ascending order. The **`ASC`** part specifies ascending order, although it’s optional since `ORDER BY` defaults to ascending order.\n",
    "\n",
    "Running the query will list the matches sorted by year in ascending order.\n",
    "\n",
    "---\n",
    "\n",
    "## Summary and Preparation for Practice\n",
    "Great job! Today, you’ve learned how to sort data in SQL using the **`ORDER BY`** clause. Understanding how to arrange data using `ORDER BY` is a critical skill as you dive into more complex data analysis.\n",
    "\n",
    "Get ready for the upcoming practice sections, where you’ll get hands-on with the **`ORDER BY`** clause to sort different aspects of Messi's dataset. Happy sorting!\n",
    "\n",
    "Remember, the goal isn’t just to know how to use `ORDER BY` but to understand **why** and **when** to use it."
   ]
  },
  {
   "cell_type": "markdown",
   "metadata": {},
   "source": [
    "## Ordering Match Results by Date"
   ]
  },
  {
   "cell_type": "markdown",
   "metadata": {},
   "source": [
    "## Sorting Match Records by ID"
   ]
  },
  {
   "cell_type": "markdown",
   "metadata": {},
   "source": [
    "## Sorting Match Results Ascending"
   ]
  },
  {
   "cell_type": "markdown",
   "metadata": {},
   "source": [
    "## Sort Match Results Numerically"
   ]
  },
  {
   "cell_type": "markdown",
   "metadata": {},
   "source": [
    "## Sorting Match Results Correctly"
   ]
  }
 ],
 "metadata": {
  "language_info": {
   "name": "python"
  }
 },
 "nbformat": 4,
 "nbformat_minor": 5
}
