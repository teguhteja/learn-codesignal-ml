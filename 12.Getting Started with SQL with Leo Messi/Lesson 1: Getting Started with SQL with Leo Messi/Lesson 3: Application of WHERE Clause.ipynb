{
 "cells": [
  {
   "cell_type": "markdown",
   "metadata": {},
   "source": [
    "# Lesson 3: Application of WHERE Clause\n",
    "\n",
    "# Application of WHERE Clause\n",
    "\n",
    "## Introduction\n",
    "Greetings! In the previous lessons, we immersed ourselves in the basics of SQL, learned about databases, and discussed the **SELECT** statement. We practiced those concepts with actual data related to soccer superstar Lionel Messi. This lesson brings us to another important aspect of SQL — the **WHERE** clause. With this tool, we'll be able to narrow down our data retrieval to only select the records that meet certain conditions.\n",
    "\n",
    "---\n",
    "\n",
    "## Understanding the WHERE Clause\n",
    "The **WHERE** clause is an essential part of SQL used to filter records. This clause extracts only those records from a table that fulfill a specified condition. The **WHERE** clause can be used with SQL commands like **SELECT**, **UPDATE**, **DELETE**, etc. It significantly enhances our ability to interact with a database by allowing us to retrieve targeted data instead of complete sets of records.\n",
    "\n",
    "---\n",
    "\n",
    "## Syntax of WHERE Clause\n",
    "The syntax of the **WHERE** clause looks like this:\n",
    "\n",
    "```sql\n",
    "SELECT column1, column2, ...\n",
    "FROM table_name\n",
    "WHERE condition;\n",
    "```\n",
    "\n",
    "In this syntax, after the **SELECT** statement and the **FROM** statement, we add the **WHERE** clause followed by a condition. The condition is what we set to filter our data. If the condition is true for a record, then that record is selected.\n",
    "\n",
    "---\n",
    "\n",
    "## Your Dataset - Lionel Messi's Matches\n",
    "Before we dive into examples of using the **WHERE** clause, let's familiarize ourselves with the **Matches** table. This table stores details about soccer matches and includes the following columns:\n",
    "\n",
    "| match_id | season_id | competition_id | matchday | date       | venue | club_id | opponent_id | result |\n",
    "|----------|-----------|----------------|----------|------------|-------|---------|-------------|--------|\n",
    "| 1        | 1         | 1              | 34       | 2005-01-05 | H     | 1       | 2           | 2:0    |\n",
    "| 2        | 2         | 2              | Group Stage | 2005-11-02 | H     | 1       | 2           | 5:0    |\n",
    "\n",
    "---\n",
    "\n",
    "## Example of WHERE Clause Use\n",
    "Let's see the **WHERE** clause in action to fetch matches from a specific year. Suppose you want to know all the matches Lionel Messi played in **2005**. Here's how you would write the SQL query:\n",
    "\n",
    "```sql\n",
    "SELECT match_id, date, venue, result\n",
    "FROM Matches\n",
    "WHERE YEAR(date) = 2005;\n",
    "```\n",
    "\n",
    "This query uses the **WHERE** clause to filter matches where the date year is equal to **2005**. Note how we used the **YEAR()** function on the date for this query, as the date is a **DATE** type column.\n",
    "\n",
    "---\n",
    "\n",
    "## Another Example\n",
    "To filter our records and get specifics, we would lean on the **WHERE** clause. Let's say we are interested in all of Messi's matches played after the year **2005**. We can achieve this by adding a **WHERE** clause to our previous query:\n",
    "\n",
    "```sql\n",
    "SELECT * FROM Matches\n",
    "WHERE YEAR(date) > 2005;\n",
    "```\n",
    "\n",
    "Here, `WHERE YEAR(date) > 2005` is the condition we've set. The **YEAR(date)** function extracts the year from the date column, and `> 2005` specifies that we’re looking for records where the year is greater than **2005**. The query selects all rows from the **Matches** table whose date field contains a year later than **2005**.\n",
    "\n",
    "---\n",
    "\n",
    "## Bringing it Together and Next Steps\n",
    "Well done for getting through this new concept! We've just learned what the **WHERE** clause is, how its syntax works, and how it helps us customize our data retrieval process. By using the **WHERE** clause, we were able to retrieve all of Messi's matches played after **2005** from the **Matches** table.\n",
    "\n",
    "Next, in our practice exercises, we'll be using the **WHERE** clause extensively to create more selective queries. Remember, mastery comes with practice. So head over to the exercises and give it a go! Soon enough, you'll be navigating SQL databases like a pro!"
   ]
  },
  {
   "cell_type": "markdown",
   "metadata": {},
   "source": [
    "## Select Matches After 2005"
   ]
  },
  {
   "cell_type": "markdown",
   "metadata": {},
   "source": [
    "## Selecting Specific Matches Using SQL"
   ]
  },
  {
   "cell_type": "markdown",
   "metadata": {},
   "source": [
    "## Filtering Soccer Matches Effortlessly"
   ]
  },
  {
   "cell_type": "markdown",
   "metadata": {},
   "source": [
    "## Fix the SQL Query Bug"
   ]
  },
  {
   "cell_type": "markdown",
   "metadata": {},
   "source": [
    "## Selecting Matches by Year"
   ]
  }
 ],
 "metadata": {
  "language_info": {
   "name": "python"
  }
 },
 "nbformat": 4,
 "nbformat_minor": 5
}
