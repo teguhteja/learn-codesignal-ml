{
 "cells": [
  {
   "cell_type": "markdown",
   "metadata": {},
   "source": [
    "# Lesson 4: Mastering SELECT Statements with Logical Operators\n",
    "\n",
    "# Mastering SELECT Statements with Logical Operators\n",
    "\n",
    "## Introduction to the Lesson\n",
    "Great job on making it this far! Today we're going to extend your SQL knowledge even further. So far, you've learned about the basics of SQL, the **SELECT** statement, and the **WHERE** clause. Today, we're going to focus on enhancing those skills using logical operators.\n",
    "\n",
    "Logical operators are at the heart of any computational language, and SQL is no exception. They're used in the **WHERE** clause of **SELECT** statements (as well as other statements like **INSERT**, **UPDATE**, and **DELETE**, which you'll learn about in the future) to combine or negate conditions and ultimately help us sieve out precise information from our database.\n",
    "\n",
    "---\n",
    "\n",
    "## Understanding AND and OR Operators in SQL\n",
    "Firstly, we have the **AND** and **OR** operators.\n",
    "\n",
    "- An **AND** operator returns **TRUE** if both listed conditions are true. It narrows your search results because it adds more conditions that records must meet.\n",
    "  \n",
    "- An **OR** operator returns **TRUE** if either of the conditions listed is true. It broadens your search results because it only requires one of the conditions to be met.\n",
    "\n",
    "To see them in action, follow the code examples:\n",
    "\n",
    "```sql\n",
    "/* Using 'AND' operator */\n",
    "SELECT * FROM Matches WHERE competition_id > 1 AND date < '2006-01-01';\n",
    "\n",
    "/* Using 'OR' operator */\n",
    "SELECT * FROM Matches WHERE venue = 'H' OR result = '5:0';\n",
    "```\n",
    "\n",
    "### Analysis of Code Snippets\n",
    "- In the first example, we employ the **AND** operator, which extracts matches from the database (`SELECT * FROM Matches`) that meet both conditions: the `competition_id` is greater than **1** and the `date` is earlier than **2006-01-01**.\n",
    "\n",
    "- In the second snippet, we utilize the **OR** operator, extracting matches that are either played at a **Home** venue (`venue = 'H'`) or have a result of **5:0** (`result = '5:0'`). This means matches that fulfill either or both conditions will be returned.\n",
    "\n",
    "---\n",
    "\n",
    "## Introduction to IN and BETWEEN Operators in SQL\n",
    "Next, we have the **IN** and **BETWEEN** operators:\n",
    "\n",
    "- The **IN** operator allows us to specify multiple values in a **WHERE** clause, providing a clean, efficient alternative to multiple **OR** conditions.\n",
    "\n",
    "- The **BETWEEN** operator selects values within a given range, which can be numbers, text, or dates.\n",
    "\n",
    "Now let's use these operators:\n",
    "\n",
    "```sql\n",
    "/* Using 'IN' operator */\n",
    "SELECT * FROM Matches WHERE match_id IN (1, 2, 3);\n",
    "\n",
    "/* Using 'BETWEEN' operator */\n",
    "SELECT * FROM Matches WHERE match_id BETWEEN 1 AND 5;\n",
    "```\n",
    "\n",
    "### Analysis of Operators\n",
    "- The first example employs the **IN** operator to extract matches that have a `match_id` of **1**, **2**, or **3**. It's less tedious than writing `match_id = 1 OR match_id = 2 OR match_id = 3`.\n",
    "\n",
    "- The next line, using the **BETWEEN** operator, performs a range-based search. This command extracts matches that have a `match_id` between **1** and **5** (i.e., numbers **1**, **2**, **3**, **4**, and **5**).\n",
    "\n",
    "---\n",
    "\n",
    "## Conceptualizing the NOT Operator\n",
    "Finally, we have the **NOT** operator, which is used to exclude records that meet specific conditions. Let's try it out in a **SELECT** statement:\n",
    "\n",
    "```sql\n",
    "/* Using 'NOT' operator */\n",
    "SELECT * FROM Matches WHERE match_id NOT BETWEEN 3 AND 8;\n",
    "```\n",
    "\n",
    "In the snippet above, we use the **NOT** operator to exclude certain records from our selection. This line extracts features of matches where the `match_id` is not in the range of **3** to **8**.\n",
    "\n",
    "Logical operators, such as **AND**, **OR**, **IN**, **NOT IN**, and **BETWEEN**, help us refine our SQL queries to get the data we need in a more efficient and specific way. These tools will allow us to retrieve specific sets of data from our database, which in our case, are Messi's football stats.\n",
    "\n",
    "---\n",
    "\n",
    "## Review, Conclusion, and Upcoming Practice\n",
    "Great job! Today, you've deepened your understanding of the **SELECT** statement through the usage of logical operators, making your data retrieval more precise and flexible. You started with **AND** and **OR** operators, moved to the **IN** operator, and finally used the **BETWEEN** operator.\n",
    "\n",
    "As usual, remember that practice makes perfect! Our upcoming exercises will offer hands-on learning opportunities to further enhance your skills and understanding. We'll be using Messi's soccer stats to run some SQL queries using all the logical operators you've learned.\n",
    "\n",
    "So, get ready to retrieve some specific data while deepening your understanding of SQL. Keep practicing, and you'll become a SQL superstar in no time!"
   ]
  },
  {
   "cell_type": "markdown",
   "metadata": {},
   "source": [
    "## Refine Match Data Selection"
   ]
  },
  {
   "cell_type": "markdown",
   "metadata": {},
   "source": [
    "## Refine Your SQL Queries"
   ]
  },
  {
   "cell_type": "markdown",
   "metadata": {},
   "source": [
    "## Refine Match Data Selection"
   ]
  },
  {
   "cell_type": "markdown",
   "metadata": {},
   "source": [
    "## Fetch Match Events by Duration"
   ]
  },
  {
   "cell_type": "markdown",
   "metadata": {},
   "source": [
    "## Fetch Messi's Matches"
   ]
  }
 ],
 "metadata": {
  "language_info": {
   "name": "python"
  }
 },
 "nbformat": 4,
 "nbformat_minor": 5
}
