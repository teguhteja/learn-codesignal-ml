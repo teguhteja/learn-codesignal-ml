{
 "cells": [
  {
   "cell_type": "markdown",
   "metadata": {},
   "source": [
    "# Lesson 3: Understanding Advanced SQL Joins with Messi's Match Data\n",
    "\n",
    "# Understanding Advanced SQL Joins with Messi's Match Data\n",
    "\n",
    "## Introduction to Diving Deeper into Joins\n",
    "Great work! You've grasped the essentials and have now explored **INNER JOIN** while analyzing Lionel Messi's match history. Now it's time to delve deeper into SQL **JOINs** using the data from Messi's matches and career stats. We are going to focus on **LEFT JOIN** and **RIGHT JOIN** in this course. Before we start working with the more detailed soccer data at our disposal, it's vital for us to clearly understand these joins through a simpler example.\n",
    "\n",
    "---\n",
    "\n",
    "## Recap of SQL Joins\n",
    "Before we start, keep in mind that SQL **JOINs** allow us to combine data from two or more tables based on a related column. We've previously worked with **INNER JOIN**, which selects rows that have matching values in both tables. In this lesson, we'll see how **LEFT JOIN** and **RIGHT JOIN** can help us manipulate our data further.\n",
    "\n",
    "---\n",
    "\n",
    "## Sample Tables Overview\n",
    "To help understand these **JOIN** types, consider two simple tables: **Matches** and **MatchEvents**.\n",
    "\n",
    "### Matches Table:\n",
    "\n",
    "| match_id | season_id | competition_id | matchday | date       | venue | club_id | opponent_id | result |\n",
    "|----------|-----------|----------------|----------|------------|-------|---------|-------------|--------|\n",
    "| 1        | 1         | 1              | 34       | 2005-01-05 | H     | 1       | 2           | 2:0    |\n",
    "| 2        | 2         | 2              | Group Stage | 2005-11-02 | H     | 1       | 2           | 5:0    |\n",
    "\n",
    "The **Matches** table provides detailed information about each match, including the `match_id`, `date`, `result`, and other relevant attributes like season, competition, venue, and participating clubs. This is useful for tracking the specifics of when, where, and against whom each match took place.\n",
    "\n",
    "### MatchEvents Table:\n",
    "\n",
    "| event_id | match_id | playing_position | minute | at_score | event_type         | goal_assist_id |\n",
    "|----------|----------|------------------|--------|----------|---------------------|-----------------|\n",
    "| 1        | 1        | CF               | 90+1   | 2:0      | Left-footed shot    | 1               |\n",
    "| 2        | 2        | RW               | 34     | 3:0      | Left-footed shot    | NULL            |\n",
    "\n",
    "The **MatchEvents** table helps to connect each match to the events that happened in it using corresponding `match_id` values.\n",
    "\n",
    "---\n",
    "\n",
    "## INNER JOIN Explained\n",
    "**INNER JOIN** returns rows when there's a match in both tables. If there's no match, those rows are not included in the output.\n",
    "\n",
    "### Example:\n",
    "\n",
    "```sql\n",
    "SELECT Matches.match_id, Matches.result, MatchEvents.event_id, MatchEvents.event_type\n",
    "FROM Matches\n",
    "INNER JOIN MatchEvents ON Matches.match_id = MatchEvents.match_id;\n",
    "```\n",
    "\n",
    "### Sneak Peek of the Output:\n",
    "| match_id | result | event_id | event_type         |\n",
    "|----------|--------|----------|---------------------|\n",
    "| 1        | 2:0    | 1        | Left-footed shot    |\n",
    "| 2        | 5:0    | 2        | Left-footed shot    |\n",
    "\n",
    "---\n",
    "\n",
    "## Understanding the LEFT JOIN\n",
    "**LEFT JOIN** includes all rows from the left table, along with any matches from the right table. If there's no match, the output displays **NULL** for the right table's columns.\n",
    "\n",
    "### Example:\n",
    "\n",
    "```sql\n",
    "SELECT Matches.match_id, Matches.result, MatchEvents.event_id, MatchEvents.event_type\n",
    "FROM Matches\n",
    "LEFT JOIN MatchEvents ON Matches.match_id = MatchEvents.match_id;\n",
    "```\n",
    "\n",
    "### Sneak Peek of the Output:\n",
    "| match_id | result | event_id | event_type         |\n",
    "|----------|--------|----------|---------------------|\n",
    "| 1        | 2:0    | 1        | Left-footed shot    |\n",
    "| 2        | 5:0    | 2        | Left-footed shot    |\n",
    "\n",
    "---\n",
    "\n",
    "## Diving into the RIGHT JOIN\n",
    "**RIGHT JOIN** ensures that every row from the right table is included in the output, with matched rows from the left table.\n",
    "\n",
    "### Example:\n",
    "\n",
    "```sql\n",
    "SELECT Matches.match_id, Matches.result, MatchEvents.event_id, MatchEvents.event_type\n",
    "FROM Matches\n",
    "RIGHT JOIN MatchEvents ON Matches.match_id = MatchEvents.match_id;\n",
    "```\n",
    "\n",
    "### Sneak Peek of the Output:\n",
    "| match_id | result | event_id | event_type         |\n",
    "|----------|--------|----------|---------------------|\n",
    "| 1        | 2:0    | 1        | Left-footed shot    |\n",
    "| 2        | 5:0    | 2        | Left-footed shot    |\n",
    "\n",
    "**Note:** With the provided sample tables, there currently seems to be no visible difference due to the limited number of rows and the fact that each match has a corresponding event. However, in general, there is a difference: **RIGHT JOIN** includes all rows from the right table (**MatchEvents**) and any corresponding rows from the left table (**Matches**). It's advisable to try this on tables with more rows and different cases where some rows in the right table do not have corresponding rows in the left table to see the full effect.\n",
    "\n",
    "---\n",
    "\n",
    "## Summary and Next Steps\n",
    "Having explored **INNER JOIN**, **LEFT JOIN**, and **RIGHT JOIN** in detail:\n",
    "\n",
    "- **INNER JOIN** returns rows with matching values in both tables.\n",
    "- **LEFT JOIN** holds all data from the left table, irrespective of whether there's a match in the right.\n",
    "- **RIGHT JOIN** behaves similarly to **LEFT JOIN** but favors the right table.\n",
    "\n",
    "With a solid understanding of each **JOIN** type, we are now ready to explore even more complex queries using the Messi match and event dataset in upcoming lessons. Prepare to delve into **FULL JOIN** in our next lesson, as we continue unraveling the subtleties of SQL **JOINs**. Journey onward in your SQL exploration!"
   ]
  },
  {
   "cell_type": "markdown",
   "metadata": {},
   "source": [
    "## Exploring Left Joins with Leo Messi's Matches Data"
   ]
  },
  {
   "cell_type": "markdown",
   "metadata": {},
   "source": [
    "## Exploring RIGHT JOIN in SQL"
   ]
  },
  {
   "cell_type": "markdown",
   "metadata": {},
   "source": [
    "## Correcting the RIGHT JOIN Query"
   ]
  },
  {
   "cell_type": "markdown",
   "metadata": {},
   "source": [
    "## Linking Players and Teams with LEFT JOIN"
   ]
  },
  {
   "cell_type": "markdown",
   "metadata": {},
   "source": [
    "## SQL Query Using LEFT JOIN to Match Players with Their Teams"
   ]
  }
 ],
 "metadata": {
  "language_info": {
   "name": "python"
  }
 },
 "nbformat": 4,
 "nbformat_minor": 5
}
