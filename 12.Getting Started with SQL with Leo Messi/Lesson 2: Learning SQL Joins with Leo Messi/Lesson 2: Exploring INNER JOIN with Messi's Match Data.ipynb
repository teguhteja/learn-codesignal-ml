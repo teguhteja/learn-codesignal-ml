{
 "cells": [
  {
   "cell_type": "markdown",
   "metadata": {},
   "source": [
    "# Lesson 2: Exploring INNER JOIN with Messi's Match Data\n",
    "\n",
    "# Exploring INNER JOIN with Messi's Match Data\n",
    "\n",
    "## Welcome and Recap\n",
    "Salute and welcome back! It's splendid to see you eager to sink deeper into the cosmos of SQL **JOINs** through our athletic sentinel, Leo Messi's career statistics. Previously, we cast light on distinct kinds of **JOINs** and toured separately through the rich tables in our football database. Our next itinerary involves an in-depth discussion of **INNER JOIN**.\n",
    "\n",
    "---\n",
    "\n",
    "## Exploring INNER JOIN\n",
    "In this session, we aim to detail one vital type of **JOIN**: the **INNER JOIN**. Essentially, the **INNER JOIN** in SQL is a clause that merges rows from two tables based on a shared column between them. The output is a result set that exclusively includes the rows satisfying the match condition.\n",
    "\n",
    "Before we rush headlong into any particular examples, let's take a minute to inspect the standard syntax for running an **INNER JOIN**:\n",
    "\n",
    "```sql\n",
    "SELECT column1, column2, ...\n",
    "FROM table1\n",
    "INNER JOIN table2\n",
    "ON table1.column_name = table2.column_name;\n",
    "```\n",
    "\n",
    "This syntax is the scaffolding of our queries anytime we desire to intertwine data from two interconnected tables. We'll explore the practical interpretation of this structure in joining **Matches** and **MatchEvents** later in this lesson.\n",
    "\n",
    "By the completion of this lesson, you should be skilled at fetching match and event data from the **MatchEvents** and **Matches** tables using **INNER JOIN**. The key `match_id` will serve as the common link between these two tables.\n",
    "\n",
    "---\n",
    "\n",
    "## INNER JOIN in Action\n",
    "Let's inaugurate with a barebones example:\n",
    "\n",
    "Suppose we have a **MatchEvents** table showcasing the event **Left-footed shot**. This event can be found in the **Matches** table under the `match_id` **12345**. We can cleverly exploit an **INNER JOIN** to unify these two tables:\n",
    "\n",
    "```sql\n",
    "SELECT Matches.date, MatchEvents.event_type \n",
    "FROM Matches \n",
    "INNER JOIN MatchEvents \n",
    "ON Matches.match_id = MatchEvents.match_id;\n",
    "```\n",
    "\n",
    "### Sneak Peek of the Output:\n",
    "| date       | event_type        |\n",
    "|------------|-------------------|\n",
    "| 2005-05-01 | Left-footed shot  |\n",
    "| 2005-11-02 | Left-footed shot  |\n",
    "\n",
    "In this SQL statement:\n",
    "\n",
    "- `SELECT Matches.date, MatchEvents.event_type` designates the information we desire — the date from the **Matches** table and the event_type from the **MatchEvents** table.\n",
    "- `FROM Matches` marks out the table we launch our query from.\n",
    "- `INNER JOIN MatchEvents` specifies our aim to associate the **Matches** table with the **MatchEvents** table.\n",
    "- `ON Matches.match_id = MatchEvents.match_id` is the crucial condition linking these tables. It states that the join should manifest on the `match_id` columns, which should exist in both tables. This condition certifies that rows from **Matches** and **MatchEvents** are matched correctly.\n",
    "\n",
    "After executing the **INNER JOIN** query on the **Matches** and **MatchEvents** tables, the result generates an exhaustive list that matches each event with its respective date. This output exemplifies the power of **INNER JOIN** to proficiently bind related data from two tables, delivering a crystal-clear overview of the association between matches and events.\n",
    "\n",
    "---\n",
    "\n",
    "## Reversing the Order\n",
    "We polish this topic by fetching all the event types and their corresponding match dates in descending order of `match_id`. Here is the template for the query:\n",
    "\n",
    "```sql\n",
    "SELECT Matches.date, MatchEvents.event_type \n",
    "FROM Matches \n",
    "INNER JOIN MatchEvents \n",
    "ON Matches.match_id = MatchEvents.match_id \n",
    "ORDER BY Matches.match_id DESC;\n",
    "```\n",
    "\n",
    "### Sneak Peek of the Output:\n",
    "| date       | event_type          |\n",
    "|------------|---------------------|\n",
    "| 2023-03-04 | Left-footed shot    |\n",
    "| 2023-02-26 | Right-footed shot   |\n",
    "\n",
    "In this scenario, the `ORDER BY Matches.match_id DESC` condition organizes the results in descending order by `match_id`.\n",
    "\n",
    "---\n",
    "\n",
    "## Epilogue\n",
    "Well done! You've conquered much territory over this lesson. You've mastered the **INNER JOIN** instruction to pull out specific data from two interlaced tables. This SQL instrument is priceless in exploring the intricate connections buried within databases. Continue practicing, and before you know it, you'll be churning out SQL statements just like Messi scores goals!"
   ]
  },
  {
   "cell_type": "markdown",
   "metadata": {},
   "source": [
    "## Exploring Matches and Events Relationships with SQL INNER JOIN\n",
    "\n",
    "Great job grasping SQL JOINs! It's time to put your knowledge into action. Execute the following code to fetch the match dates and their corresponding events from the Matches and MatchEvents tables.\n",
    "\n",
    "Observe the output to understand the workings of this query more deeply.\n",
    "\n",
    "```sql\n",
    "SELECT Matches.date, MatchEvents.event_type \n",
    "FROM Matches \n",
    "INNER JOIN MatchEvents \n",
    "ON Matches.match_id = MatchEvents.match_id;\n",
    "\n",
    "```\n"
   ]
  },
  {
   "cell_type": "markdown",
   "metadata": {},
   "source": [
    "## Filtering and Ordering Matches Data with SQL INNER JOIN\n",
    "\n",
    "In this exercise, you need to write a SQL query to retrieve all match dates and events after the year 2005. The provided SQL code has an error preventing it from running correctly. Identify and correct the mistake to complete the task successfully.\n",
    "\n",
    "-- TODO: Complete the INNER JOIN clause with the MatchEvents table\n",
    "SELECT Matches.date, MatchEvents.event_type \n",
    "FROM Matches \n",
    "INNER JOIN \n",
    "ON Matches.match_id = MatchEvents.match_id\n",
    "WHERE YEAR(Matches.date) > 2005;\n",
    "\n",
    "The error in the provided SQL code is that the table name `MatchEvents` is missing from the `INNER JOIN` clause. You need to specify the name of the table to complete the `INNER JOIN`. Here is the corrected query:\n",
    "\n",
    "```sql\n",
    "SELECT Matches.date, MatchEvents.event_type \n",
    "FROM Matches \n",
    "INNER JOIN MatchEvents \n",
    "ON Matches.match_id = MatchEvents.match_id\n",
    "WHERE YEAR(Matches.date) > 2005;\n",
    "```\n",
    "\n",
    "### Explanation of the Correction:\n",
    "- **`INNER JOIN MatchEvents`**: Added `MatchEvents` to complete the `INNER JOIN` clause, linking it properly to the `Matches` table.\n",
    "- The rest of the query uses the `WHERE` clause to filter for match dates that are after the year 2005 using `YEAR(Matches.date) > 2005`."
   ]
  },
  {
   "cell_type": "markdown",
   "metadata": {},
   "source": [
    "## Debugging SQL Query to Fetch Specific Matches"
   ]
  },
  {
   "cell_type": "markdown",
   "metadata": {},
   "source": [
    "## Filtering Matches by Match date"
   ]
  },
  {
   "cell_type": "markdown",
   "metadata": {},
   "source": [
    "## Unveiling the Matches and Events with INNER JOIN"
   ]
  }
 ],
 "metadata": {
  "language_info": {
   "name": "python"
  }
 },
 "nbformat": 4,
 "nbformat_minor": 5
}
