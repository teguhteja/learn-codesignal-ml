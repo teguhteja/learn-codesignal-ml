{
 "cells": [
  {
   "cell_type": "markdown",
   "metadata": {},
   "source": [
    "# Lesson 2: Utilizing Conditional Operators - LIKE, IN, and BETWEEN\n",
    "\n",
    "# Utilizing Conditional Operators: LIKE, IN, and BETWEEN\n",
    "\n",
    "## Introduction to SQL Conditional Operators\n",
    "In our previous lesson, we explored the foundational knowledge of the **AND** and **OR** logical operators in SQL. Now, we’ll expand on that by introducing SQL **conditional operators**—**LIKE**, **BETWEEN**, and **IN**—to enhance the precision and detail of your queries.\n",
    "\n",
    "SQL conditional operators allow us to filter query results based on specific criteria. These operators are typically used in the `WHERE` clause to specify conditions that data must meet to be included. Let’s dive into each of these conditional operators.\n",
    "\n",
    "## Getting Started with the LIKE Operator\n",
    "The **LIKE** operator is used in a `WHERE` clause to search for a specific pattern within a column. Often, it works with wildcard characters, like the `%` sign, which represents zero, one, or multiple characters.\n",
    "\n",
    "### `%` Wildcard Usage:\n",
    "- **Beginning of string** (e.g., `%pattern`): Matches any sequence of characters leading up to the specified pattern.\n",
    "- **End of string** (e.g., `pattern%`): Matches any sequence of characters that follow the specified pattern.\n",
    "- **Middle of string** (e.g., `st%ng`): Matches any sequence of characters between specified patterns.\n",
    "\n",
    "Here’s an example showing how to use the LIKE operator:\n",
    "\n",
    "```sql\n",
    "-- Find all matches played in 2005\n",
    "SELECT match_id, date\n",
    "FROM Matches\n",
    "WHERE date LIKE '2005%';\n",
    "\n",
    "-- Output:\n",
    "-- | match_id | date       |\n",
    "-- |----------|------------|\n",
    "-- |        1 | 2005-05-01 |\n",
    "-- |        2 | 2005-11-02 |\n",
    "-- |        3 | 2005-11-27 |\n",
    "```\n",
    "\n",
    "In this example, we search for all matches in the `Matches` table where the date starts with `'2005'`. Using the **LIKE** operator with the `%` wildcard returns all matches played in 2005.\n",
    "\n",
    "## The Power of the BETWEEN Operator\n",
    "The **BETWEEN** operator is used to select values within a specified range, which can include numbers, text, or dates. It is also used within the `WHERE` clause.\n",
    "\n",
    "### Syntax:\n",
    "```sql\n",
    "column_name BETWEEN value1 AND value2\n",
    "```\n",
    "where **value1** and **value2** define the range. Note that **BETWEEN** is inclusive of both `value1` and `value2`.\n",
    "\n",
    "Example of the **BETWEEN** operator:\n",
    "\n",
    "```sql\n",
    "-- Choose events that occurred in the first half\n",
    "SELECT event_id, minute\n",
    "FROM MatchEvents\n",
    "WHERE minute BETWEEN 1 AND 45;\n",
    "\n",
    "-- Output:\n",
    "-- | event_id | minute |\n",
    "-- |----------|--------|\n",
    "-- |        2 | 34     |\n",
    "-- |        8 | 42     |\n",
    "```\n",
    "\n",
    "In this example, the **BETWEEN** operator filters events from the `MatchEvents` table that occurred between the 1st and 45th minutes (inclusive).\n",
    "\n",
    "## Efficiency of the IN Operator\n",
    "The **IN** operator filters data based on multiple values in a `WHERE` clause, acting as a shorthand for multiple `OR` conditions. It’s particularly useful when comparing a column to more than two values.\n",
    "\n",
    "Example of the **IN** operator:\n",
    "\n",
    "```sql\n",
    "-- Find matches from specific competitions and list their results\n",
    "SELECT \n",
    "    m.match_id AS MatchID,\n",
    "    m.result AS Result,\n",
    "    me.event_type AS EventType\n",
    "FROM Matches m\n",
    "JOIN MatchEvents me ON m.match_id = me.match_id\n",
    "WHERE m.competition_id IN (1, 2) AND me.event_type = 'Left-footed shot';\n",
    "\n",
    "-- Output:\n",
    "-- | MatchID | Result | EventType        |\n",
    "-- |---------|--------|------------------|\n",
    "-- |       1 | 2:0    | Left-footed shot |\n",
    "-- |       2 | 5:0    | Left-footed shot |\n",
    "```\n",
    "\n",
    "In this query, the **IN** operator allows us to select matches where the `competition_id` is either `1` or `2`, and the `event_type` in `MatchEvents` is `'Left-footed shot'`. The table aliases `m` and `me` are used to make the query more concise: `m` represents the `Matches` table, and `me` represents the `MatchEvents` table. This improves the readability of SQL queries.\n",
    "\n",
    "## Lesson Review and Practice Overview\n",
    "Congratulations on completing this lesson! You’ve now gained a solid understanding of **SQL conditional operators**. These tools can significantly enhance the precision and flexibility of your data queries. \n",
    "\n",
    "Next, you’ll get hands-on practice to reinforce your skills. Applying these new operators across different scenarios will further strengthen your SQL proficiency. Keep up the excellent work, and let’s keep the SQL momentum going strong in the next section!"
   ]
  },
  {
   "cell_type": "markdown",
   "metadata": {},
   "source": [
    "## First Half Match Events"
   ]
  },
  {
   "cell_type": "markdown",
   "metadata": {},
   "source": [
    "## Filtering Match Events with BETWEEN"
   ]
  },
  {
   "cell_type": "markdown",
   "metadata": {},
   "source": [
    "## Finding Matches from 2005"
   ]
  },
  {
   "cell_type": "markdown",
   "metadata": {},
   "source": [
    "## Utilizing Conditional Operators in SQL"
   ]
  },
  {
   "cell_type": "markdown",
   "metadata": {},
   "source": [
    "## Utilize SQL Conditional Operators"
   ]
  }
 ],
 "metadata": {
  "language_info": {
   "name": "python"
  }
 },
 "nbformat": 4,
 "nbformat_minor": 5
}
