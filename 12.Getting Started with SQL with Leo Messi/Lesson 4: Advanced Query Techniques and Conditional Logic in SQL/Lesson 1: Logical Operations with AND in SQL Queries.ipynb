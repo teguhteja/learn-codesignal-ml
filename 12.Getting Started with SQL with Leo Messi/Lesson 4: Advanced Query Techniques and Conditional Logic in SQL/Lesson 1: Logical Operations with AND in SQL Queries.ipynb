{
 "cells": [
  {
   "cell_type": "markdown",
   "metadata": {},
   "source": [
    "# Lesson 1: Logical Operations with AND in SQL Queries\n",
    "\n",
    "# Logical Operations with AND in SQL Queries\n",
    "\n",
    "## Introduction and Context Setting\n",
    "Welcome to the course **\"Learning SQL with Leo Messi\"!** In this course, you'll learn how to use SQL to query and analyze real-world data centered around soccer games.\n",
    "\n",
    "**Main Tables Used:**\n",
    "1. **Matches**: Contains data about the matches played.\n",
    "2. **MatchEvents**: Contains data about events that occurred during each match.\n",
    "\n",
    "### Table Preview:\n",
    "\n",
    "**Matches Table:**\n",
    "\n",
    "| match_id | season_id | competition_id | matchday     | date       | venue | club_id | opponent_id | result |\n",
    "|----------|-----------|----------------|--------------|------------|-------|---------|-------------|--------|\n",
    "| 1        | 1         | 1              | 34           | 2005-01-05 | H     | 1       | 2           | 2:0    |\n",
    "| 2        | 2         | 2              | Group Stage  | 2005-11-02 | H     | 1       | 2           | 5:0    |\n",
    "\n",
    "**MatchEvents Table:**\n",
    "\n",
    "| event_id | match_id | playing_position | minute | at_score | event_type       | goal_assist_id |\n",
    "|----------|----------|------------------|--------|----------|------------------|----------------|\n",
    "| 1        | 1        | CF               | 90+1   | 2:0      | Left-footed shot | 1              |\n",
    "| 2        | 2        | RW               | 34     | 3:0      | Left-footed shot | NULL           |\n",
    "\n",
    "## Logical Operators\n",
    "Logical operators are essential in SQL for filtering data based on specific conditions. Key logical operators include:\n",
    "- **AND**: All conditions must be true.\n",
    "- **OR**: At least one condition must be true.\n",
    "- **NOT**: The condition must be false.\n",
    "\n",
    "In this section, we'll focus on the **AND** operator, which we’ll use frequently.\n",
    "\n",
    "Logical operators allow you to refine your data queries to extract only what you need. Mastering these operations is essential for effective SQL querying.\n",
    "\n",
    "## Understanding Syntax and Clause Structure\n",
    "Think of SQL statements as phrases that you can break into parts. Each part serves a specific purpose. For example, consider:\n",
    "\n",
    "```sql\n",
    "SELECT *\n",
    "FROM Matches\n",
    "WHERE result = '4:0' AND YEAR(date) BETWEEN 2010 AND 2013;\n",
    "```\n",
    "\n",
    "**Example Output:**\n",
    "| match_id | season_id | competition_id | matchday | date       | venue | club_id | opponent_id | result |\n",
    "|----------|-----------|----------------|----------|------------|-------|---------|-------------|--------|\n",
    "| 100      | 6         | 1              | 18       | 2010-01-16 | H     | 1       | 2           | 4:0    |\n",
    "| 101      | 6         | 1              | 18       | 2010-01-16 | H     | 1       | 2           | 4:0    |\n",
    "\n",
    "This SQL statement has several parts:\n",
    "- **`SELECT *`**: Retrieves all columns.\n",
    "- **`FROM Matches`**: Specifies the table.\n",
    "- **`WHERE`**: Starts the condition clause to refine the query.\n",
    "- **`result = '4:0' AND YEAR(date) BETWEEN 2010 AND 2013`**: Sets conditions that each row must meet to be included.\n",
    "\n",
    "Notice the **AND** operator here? It lets us set multiple conditions. This statement instructs SQL to \"show me all columns from the Matches table, but only those where the result is '4:0' **and** the year is between 2010 and 2013.\"\n",
    "\n",
    "## Using AND/OR with Numeric Fields\n",
    "Logical operators like **AND** and **OR** aren't limited to boolean values. They also work with numeric data, allowing comparisons with **=, >, <, >=, <=**, and **<>** or **!=** for \"not equal.\"\n",
    "\n",
    "## Using Logical Operators with Date Fields\n",
    "We can also apply logical operators to date fields. For example:\n",
    "\n",
    "```sql\n",
    "SELECT MatchEvents.*\n",
    "FROM MatchEvents\n",
    "JOIN Matches ON Matches.match_id = MatchEvents.match_id\n",
    "WHERE Matches.date > '2010-01-01' AND MatchEvents.minute < 30;\n",
    "```\n",
    "\n",
    "**Example Output:**\n",
    "\n",
    "| event_id | match_id | playing_position | minute | at_score | event_type       | goal_assist_id |\n",
    "|----------|----------|------------------|--------|----------|------------------|----------------|\n",
    "| 103      | 103      | RW               | 7      | 1:0      | Left-footed shot | 19             |\n",
    "| 110      | 110      | CF               | 13     | 1:0      | Left-footed shot | 19             |\n",
    "\n",
    "In this query, we retrieve all match events (SELECT MatchEvents.*) where the date is after January 1, 2010, **and** the event occurred before the 30th minute (MatchEvents.minute < 30). The **AND** operator combines these conditions.\n",
    "\n",
    "## Summary and Upcoming Practice\n",
    "This introduction covered the **AND/OR** logical operators in SQL. We learned how to construct SQL queries using these operators to filter specific data based on multiple conditions. Next, you'll tackle various exercises to practice using logical operators in SQL and retrieving specific data. Keep practicing, and happy querying!"
   ]
  },
  {
   "cell_type": "markdown",
   "metadata": {},
   "source": [
    "## Fix SQL Query Syntax Error"
   ]
  },
  {
   "cell_type": "markdown",
   "metadata": {},
   "source": [
    "## Logical Operations in SQL Queries"
   ]
  },
  {
   "cell_type": "markdown",
   "metadata": {},
   "source": [
    "## Refining SQL Queries with Conditions"
   ]
  },
  {
   "cell_type": "markdown",
   "metadata": {},
   "source": [
    "## Logical Operations with AND/OR in SQL Queries"
   ]
  },
  {
   "cell_type": "markdown",
   "metadata": {},
   "source": [
    "## Retrieve Specific Match Details"
   ]
  }
 ],
 "metadata": {
  "language_info": {
   "name": "python"
  }
 },
 "nbformat": 4,
 "nbformat_minor": 5
}
