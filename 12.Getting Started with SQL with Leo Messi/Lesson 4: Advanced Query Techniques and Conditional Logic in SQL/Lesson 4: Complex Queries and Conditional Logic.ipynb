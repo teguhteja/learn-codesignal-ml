{
 "cells": [
  {
   "cell_type": "markdown",
   "metadata": {},
   "source": [
    "# Lesson 4: Complex Queries and Conditional Logic\n",
    "\n",
    "# Complex Queries and Conditional Logic\n",
    "\n",
    "## Introduction\n",
    "Hi there! You’ve made substantial progress, and I’m impressed with all you’ve learned so far. You’ve mastered SQL logical and conditional operators and elevated your data analysis with subqueries. In this unit, we're diving into **complex queries and conditional logic**—an advanced SQL topic that will allow for even more intricate data queries and analysis.\n",
    "\n",
    "We'll continue working with our sports database, focusing on the **Matches** and **MatchEvents** tables. As a quick reminder, the `Matches` table contains details such as match IDs, dates, and results, while `MatchEvents` holds information about events during matches, like minute and event type.\n",
    "\n",
    "Are you ready to get started? Let’s jump right in!\n",
    "\n",
    "---\n",
    "\n",
    "## Employing the IF Function in SQL\n",
    "The **IF** function is one of SQL’s most useful tools for adding conditional logic to queries. It operates on a simple principle: if a specific condition is true, do something; if it’s false, do something else.\n",
    "\n",
    "Let’s put this into practice by categorizing matches into 'Recent' and 'Earlier' periods:\n",
    "\n",
    "```sql\n",
    "SELECT\n",
    "    match_id AS MatchID,\n",
    "    date AS MatchDate,\n",
    "    IF(YEAR(date) > 2015, 'Recent Match', 'Earlier Match') AS MatchPeriod\n",
    "FROM\n",
    "    Matches;\n",
    "```\n",
    "\n",
    "**Output:**\n",
    "| MatchID | MatchDate  | MatchPeriod   |\n",
    "|---------|------------|---------------|\n",
    "|       1 | 2005-05-01 | Earlier Match |\n",
    "|       2 | 2005-11-02 | Earlier Match |\n",
    "\n",
    "In this query, the IF function checks whether each match’s date is after 2015. If true, it returns 'Recent Match'; otherwise, it returns 'Earlier Match'. This approach categorizes matches based on dates efficiently and clearly.\n",
    "\n",
    "---\n",
    "\n",
    "## Deep Dive into the CASE Statement\n",
    "The **CASE** statement is an exceptionally versatile SQL tool for executing actions based on various conditions. It offers functionality similar to the IF function but with enhanced flexibility, as it supports multiple conditions for handling complex logic.\n",
    "\n",
    "Here’s how we can categorize matches by their event time using CASE:\n",
    "\n",
    "```sql\n",
    "SELECT\n",
    "    m.match_id AS MatchID,\n",
    "    me.minute AS Minute,\n",
    "    CASE\n",
    "        WHEN me.minute < 30 THEN 'Early'\n",
    "        WHEN me.minute BETWEEN 30 AND 60 THEN 'Mid'\n",
    "        ELSE 'Late'\n",
    "    END AS EventTimeCategory\n",
    "FROM\n",
    "    MatchEvents me\n",
    "JOIN\n",
    "    Matches m ON me.match_id = m.match_id;\n",
    "```\n",
    "\n",
    "**Output:**\n",
    "| MatchID | Minute | EventTimeCategory |\n",
    "|---------|--------|-------------------|\n",
    "|       1 | 90+1   | Late              |\n",
    "|       2 | 34     | Mid               |\n",
    "\n",
    "In this example:\n",
    "1. We join the `Matches` and `MatchEvents` tables through `match_id`.\n",
    "2. Using **CASE**, we determine the time category of a match event:\n",
    "   - If the minute is less than 30, 'Early' is returned.\n",
    "   - If the minute is between 30 and 60, 'Mid' is returned.\n",
    "   - Otherwise, the `ELSE` clause catches all remaining cases, returning 'Late'.\n",
    "\n",
    "The **CASE** statement concludes with the `END` keyword, followed by an alias (`AS EventTimeCategory`), which labels the outcome as a new column in the results.\n",
    "\n",
    "---\n",
    "\n",
    "## Conclusion and Practice: Transferring Learning into Action\n",
    "Great job! You’ve just learned to use the **IF** function and **CASE** statement to create more advanced SQL queries. You now have the skills to filter data more accurately, write conditional statements in SQL, and analyze real-world data more effectively.\n",
    "\n",
    "Next, try a series of practice exercises on CodeSignal to reinforce what you’ve learned. The more you practice these skills, the more confident you’ll become in handling real-world scenarios.\n",
    "\n",
    "---\n",
    "\n",
    "## A Final Note\n",
    "Congratulations! You’re almost at the end of this course. Be proud of your progress—these tools are powerful additions to your data analysis arsenal, and they’ll be invaluable in your future work. Keep practicing, keep learning, and remember: your new skills are just the beginning of a fantastic journey in data analysis!"
   ]
  },
  {
   "cell_type": "markdown",
   "metadata": {},
   "source": [
    "## Categorize Matches with IF Function"
   ]
  },
  {
   "cell_type": "markdown",
   "metadata": {},
   "source": [
    "## Categorize Matches by Date"
   ]
  },
  {
   "cell_type": "markdown",
   "metadata": {},
   "source": [
    "## Categorize Match Events by Minutes"
   ]
  },
  {
   "cell_type": "markdown",
   "metadata": {},
   "source": [
    "## Creating and Querying Match Statistics in SQL"
   ]
  }
 ],
 "metadata": {
  "language_info": {
   "name": "python"
  }
 },
 "nbformat": 4,
 "nbformat_minor": 5
}
