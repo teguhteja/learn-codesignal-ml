{
 "cells": [
  {
   "cell_type": "markdown",
   "metadata": {},
   "source": [
    "# Lesson 3: Mastering Subqueries for Data Analysis\n",
    "\n",
    "# Mastering Subqueries for Data Analysis\n",
    "\n",
    "## Recap of Previous Lessons\n",
    "Hello again! In our previous lessons, we explored logical AND/OR operations and delved into SQL conditional operators such as **LIKE**, **IN**, and **BETWEEN**. These tools not only allow us to filter and retrieve data accurately, but also provide more nuanced control over our queries. In this unit, we’ll build on those skills and introduce a new SQL concept: **subqueries**, which enable us to perform more complex data analysis.\n",
    "\n",
    "## Introduction to Subqueries\n",
    "So, what is a subquery? Also known as an \"inner query\" or \"nested query,\" a **subquery** is a query nested within another SQL query. It helps solve complex problems that require multiple steps, making our SQL statements even more powerful. A subquery can retrieve data that the main (or outer) SQL query can use. Like other SQL queries, they begin with a `SELECT` statement and conclude with clauses such as `WHERE` or `FROM`.\n",
    "\n",
    "For instance, here’s a simple subquery that calculates the average minute of events in the `MatchEvents` table:\n",
    "\n",
    "```sql\n",
    "SELECT AVG(minute) FROM MatchEvents;\n",
    "\n",
    "-- Output:\n",
    "--  AVG(minute) \n",
    "-- -------------\n",
    "--    51.828125 \n",
    "```\n",
    "\n",
    "Using this subquery within a larger query allows us to compare each event’s minute to the average and filter results accordingly.\n",
    "\n",
    "## Nesting Subqueries\n",
    "Subqueries can be **nested within other subqueries** or main queries, enabling SQL to solve more intricate tasks. Nesting is simply placing one query inside another, potentially creating multiple layers. Though this may sound complex, the beauty of subqueries is that they can always be broken down into manageable steps.\n",
    "\n",
    "## Subquery Use Case Example\n",
    "Let’s examine a practical example. Suppose we want to find matches where an event occurred later than the average minute of all events. Here’s how to do this with a subquery:\n",
    "\n",
    "```sql\n",
    "SELECT \n",
    "    m.match_id AS MatchID,\n",
    "    me.minute AS Minute,\n",
    "    me.event_type AS EventType\n",
    "FROM Matches m\n",
    "INNER JOIN MatchEvents me ON m.match_id = me.match_id\n",
    "WHERE me.minute > (\n",
    "    SELECT AVG(minute)\n",
    "    FROM MatchEvents\n",
    ");\n",
    "\n",
    "-- Sneak peek of the output:\n",
    "-- | MatchID | Minute | EventType              |\n",
    "-- |---------|--------|------------------------|\n",
    "-- |       1 | 90+1   | Left-footed shot       |\n",
    "-- |       5 | 82     | Left-footed shot       |\n",
    "```\n",
    "\n",
    "In this example:\n",
    "1. We use aliases `m` for `Matches` and `me` for `MatchEvents` to simplify references.\n",
    "2. We perform an `INNER JOIN` on `Matches` and `MatchEvents` using the `match_id` field.\n",
    "3. In the `WHERE` clause, we compare each event’s minute to the average minute of all events using the subquery `(SELECT AVG(minute) FROM MatchEvents)`.\n",
    "4. This query retrieves matches where at least one event happened later than the average minute.\n",
    "\n",
    "Now you’ve seen how to use subqueries to tackle complex SQL problems!\n",
    "\n",
    "## Summary and Upcoming Practice\n",
    "Great job making it this far! In this lesson, we covered **subqueries** and how they simplify complex SQL tasks. To help solidify this knowledge, we’ve prepared a series of practice exercises where you can apply subqueries in real-world scenarios.\n",
    "\n",
    "In the next lesson, we’ll dive into more advanced SQL techniques. Keep up the great work—you’re doing amazing!"
   ]
  },
  {
   "cell_type": "markdown",
   "metadata": {},
   "source": [
    "## Fixing Errors in Subqueries"
   ]
  },
  {
   "cell_type": "markdown",
   "metadata": {},
   "source": [
    "## Subqueries in Action"
   ]
  },
  {
   "cell_type": "markdown",
   "metadata": {},
   "source": [
    "## Refining Event Timing Queries"
   ]
  },
  {
   "cell_type": "markdown",
   "metadata": {},
   "source": [
    "## Mastering Subqueries for Data Analysis"
   ]
  },
  {
   "cell_type": "markdown",
   "metadata": {},
   "source": [
    "## Subquery Magic in Action"
   ]
  }
 ],
 "metadata": {
  "language_info": {
   "name": "python"
  }
 },
 "nbformat": 4,
 "nbformat_minor": 5
}
