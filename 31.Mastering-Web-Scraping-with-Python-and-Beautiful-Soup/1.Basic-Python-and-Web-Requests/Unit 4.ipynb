{
            "cells": [
  {
            "cell_type": "markdown",
            "metadata": {},
            "source": [
                "# Unit 4"
            ]
            }
 ,{
            "cell_type": "markdown",
            "metadata": {},
            "source": [
 "## Mastering Data Retrieval: Query Parameters and REST APIs in Python" 
   ]
            }
 ,{
            "cell_type": "markdown",
            "metadata": {},
            "source": [
 "## Exploring Mars with Python and Wikipedia API" 
   ]
            }
 ,{
            "cell_type": "markdown",
            "metadata": {},
            "source": [
 "## Switch to Jupiter: Update Space Data Retrieval Code" 
   ]
            }
 ,{
            "cell_type": "markdown",
            "metadata": {},
            "source": [
 "## Add Query Parameters for Mars Data Retrieval from Wikipedia API" 
   ]
            }
 ,{
            "cell_type": "markdown",
            "metadata": {},
            "source": [
 "## Navigating the Stars: Retrieving Lunar Data with Python" 
   ]
            }
   ],
 "metadata": {},
 "nbformat": 4,
 "nbformat_minor": 5
}
