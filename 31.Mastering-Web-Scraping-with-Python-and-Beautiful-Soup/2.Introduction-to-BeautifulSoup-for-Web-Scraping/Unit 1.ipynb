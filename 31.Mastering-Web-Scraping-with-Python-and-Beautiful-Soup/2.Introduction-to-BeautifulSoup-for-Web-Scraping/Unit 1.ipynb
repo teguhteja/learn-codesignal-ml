{
            "cells": [
  {
            "cell_type": "markdown",
            "metadata": {},
            "source": [
                "# Unit 1"
            ]
            }
 ,{
            "cell_type": "markdown",
            "metadata": {},
            "source": [
 "## Mastering HTML Parsing with BeautifulSoup in Python" 
   ]
            }
 ,{
            "cell_type": "markdown",
            "metadata": {},
            "source": [
 "## Extracting the Main Heading with BeautifulSoup" 
   ]
            }
 ,{
            "cell_type": "markdown",
            "metadata": {},
            "source": [
 "## Modify the BeautifulSoup Code to Extract a Paragraph Text" 
   ]
            }
 ,{
            "cell_type": "markdown",
            "metadata": {},
            "source": [
 "## Parse the Travel Agency's Name from HTML Using BeautifulSoup" 
   ]
            }
   ],
 "metadata": {},
 "nbformat": 4,
 "nbformat_minor": 5
}
