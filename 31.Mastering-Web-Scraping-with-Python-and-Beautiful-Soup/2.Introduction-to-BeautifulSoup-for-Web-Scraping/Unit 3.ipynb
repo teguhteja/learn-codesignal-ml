{
            "cells": [
  {
            "cell_type": "markdown",
            "metadata": {},
            "source": [
                "# Unit 3"
            ]
            }
 ,{
            "cell_type": "markdown",
            "metadata": {},
            "source": [
 "## Navigating HTML Trees with BeautifulSoup" 
   ]
            }
 ,{
            "cell_type": "markdown",
            "metadata": {},
            "source": [
 "## Exploring a Travel Booking Website with Beautiful Soup" 
   ]
            }
 ,{
            "cell_type": "markdown",
            "metadata": {},
            "source": [
 "## Navigating Sibling Elements with BeautifulSoup" 
   ]
            }
 ,{
            "cell_type": "markdown",
            "metadata": {},
            "source": [
 "## Navigating the Travel Booking Website HTML Tree" 
   ]
            }
 ,{
            "cell_type": "markdown",
            "metadata": {},
            "source": [
 "## Navigating the HTML Tree on a Travel Booking Site" 
   ]
            }
 ,{
            "cell_type": "markdown",
            "metadata": {},
            "source": [
 "## Navigating HTML Elements with BeautifulSoup" 
   ]
            }
   ],
 "metadata": {},
 "nbformat": 4,
 "nbformat_minor": 5
}
