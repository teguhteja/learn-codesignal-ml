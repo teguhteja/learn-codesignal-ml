{
         "cells": [
                  {
                           "cell_type": "markdown",
                           "metadata": {},
                           "source": [
                                    "# Lesson 3: Simplifying User Input with Message Suggestions\n",
                                    "\n",
                                    "Welcome back! In the previous lesson, you learned how to integrate API requests to create a dynamic chat interface. This allowed for real-time communication between the user and the server, enhancing the interactivity of our application. Today, we will build on that foundation by adding **message suggestions** to our chat interface. Message suggestions are predefined prompts that users can select to quickly send common queries. This feature not only improves user experience by making interactions more efficient but also guides users in formulating their questions.\n",
                                    "\n",
                                    "---\n",
                                    "\n",
                                    "## Enhancing the Chat Interface with Suggestions\n",
                                    "\n",
                                    "To implement message suggestions, we will add buttons to our `chat.html` file. These buttons will represent common queries that users might have, such as asking about services, business hours, or contact information. By clicking on these buttons, users can quickly send these queries without typing them out manually.\n",
                                    "\n",
                                    "We will position these buttons within a `<div>` element with the class `suggestions`, placed above the chat container and input elements. This placement ensures that the suggestion buttons are easily accessible to users as they interact with the chat interface.\n",
                                    "\n",
                                    "```html\n",
                                    "<!DOCTYPE html>\n",
                                    "<html>\n",
                                    "  <!-- Head section... -->\n",
                                    "  <body>\n",
                                    "    <!-- Header section... -->\n",
                                    "    <div class=\"suggestions\">\n",
                                    "      <button class=\"suggestion-btn\" onclick=\"usePrompt('What services do you offer?')\">\n",
                                    "        Our Services\n",
                                    "      </button>\n",
                                    "      <button class=\"suggestion-btn\" onclick=\"usePrompt('What are your business hours?')\">\n",
                                    "        Business Hours\n",
                                    "      </button>\n",
                                    "      <button class=\"suggestion-btn\" onclick=\"usePrompt('What is your contact email?')\">\n",
                                    "        Contact Email\n",
                                    "      </button>\n",
                                    "    </div>\n",
                                    "    <!-- Chat container and input elements... -->\n",
                                    "    <!-- Script functions... -->\n",
                                    "  </body>\n",
                                    "</html>\n",
                                    "```\n",
                                    "\n",
                                    "- **Our Services** → `\"What services do you offer?\"`  \n",
                                    "- **Business Hours** → `\"What are your business hours?\"`  \n",
                                    "- **Contact Email** → `\"What is your contact email?\"`\n",
                                    "\n",
                                    "Each button is styled with the class `suggestion-btn` and uses the `onclick` attribute to call the `usePrompt` function with a specific query.\n",
                                    "\n",
                                    "---\n",
                                    "\n",
                                    "## Implementing the `usePrompt` Function\n",
                                    "\n",
                                    "The `usePrompt` function is a crucial part of our message suggestions feature. It takes a predefined prompt as an argument, populates the chat input with this prompt, and immediately sends the message.\n",
                                    "\n",
                                    "```html\n",
                                    "<script>\n",
                                    "  function usePrompt(prompt) {\n",
                                    "    messageInput.value = prompt;\n",
                                    "    sendMessage();\n",
                                    "  }\n",
                                    "</script>\n",
                                    "```\n",
                                    "\n",
                                    "1. **Set the input value**: `messageInput.value = prompt;`  \n",
                                    "2. **Send the message**: `sendMessage();`\n",
                                    "\n",
                                    "This seamless integration allows users to quickly send predefined messages, enhancing efficiency and guiding the conversation.\n",
                                    "\n",
                                    "---\n",
                                    "\n",
                                    "## Summary and Next Steps\n",
                                    "\n",
                                    "In this lesson, you learned how to:\n",
                                    "\n",
                                    "- Add **suggestion buttons** to the chat interface for common queries.  \n",
                                    "- Implement the **`usePrompt`** function to populate and send predefined messages.  \n",
                                    "\n",
                                    "These additions make your chat interface more user-friendly and efficient. In the next unit, we’ll focus on styling the interface to make it visually appealing. Keep experimenting with these features and get ready for more enhancements ahead!\n"
                           ]
                  },
                  {
                           "cell_type": "markdown",
                           "metadata": {},
                           "source": [
                                    "## Adding Your First Suggestion Button"
                           ]
                  },
                  {
                           "cell_type": "markdown",
                           "metadata": {},
                           "source": [
                                    "## Making Suggestion Buttons Interactive"
                           ]
                  },
                  {
                           "cell_type": "markdown",
                           "metadata": {},
                           "source": [
                                    "## Modifying Button Prompts for Clarity"
                           ]
                  },
                  {
                           "cell_type": "markdown",
                           "metadata": {},
                           "source": [
                                    "## Expanding Your Chat Suggestion Options"
                           ]
                  }
         ],
         "metadata": {
                  "language_info": {
                           "name": "python"
                  }
         },
         "nbformat": 4,
         "nbformat_minor": 5
}
