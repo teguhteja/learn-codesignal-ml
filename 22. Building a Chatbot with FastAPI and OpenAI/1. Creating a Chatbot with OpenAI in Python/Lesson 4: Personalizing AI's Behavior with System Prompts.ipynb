{
            "cells": [
  {
            "cell_type": "markdown",
            "metadata": {},
            "source": [
                "# Lesson 4: Personalizing AI's Behavior with System Prompts"
            ]
            }
 ,{
            "cell_type": "markdown",
            "metadata": {},
            "source": [
 "## Creating Custom AI Personas with System Prompts" 
   ]
            }
 ,{
            "cell_type": "markdown",
            "metadata": {},
            "source": [
 "## Maintaining AI Persona Across Multiple Interactions" 
   ]
            }
 ,{
            "cell_type": "markdown",
            "metadata": {},
            "source": [
 "## Fixing the System Prompt Role Bug" 
   ]
            }
 ,{
            "cell_type": "markdown",
            "metadata": {},
            "source": [
 "## Creating a Custom AI Persona with System Prompts" 
   ]
            }
   ],
 "metadata": {},
 "nbformat": 4,
 "nbformat_minor": 5
}
