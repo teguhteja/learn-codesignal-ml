{
 "cells": [
  {
   "cell_type": "markdown",
   "metadata": {},
   "source": [
    "## Introduction\n",
    "Welcome to the \"Formatting Fundamentals: Crafting Precise Prompts,\" a crucial chapter in our course, \"Journey Into Format Control in Prompt Engineering.\" This lesson aims to introduce you to the essential skills necessary for customization and controlling the output formats from Large Language Models (LLMs). Understanding how to communicate your format needs effectively can drastically enhance the usability of the responses you receive, regardless of whether you're aiming for a simple list or a structured JSON object. Let's embark on this journey of exploration together, unravelling the secrets to precise and customized prompt outcomes.\n",
    "\n",
    "## Understanding Prompt Formatting Basics\n",
    "The manner in which we phrase our requests or commands to an LLM can significantly influence the kinds of responses we receive. Proper formatting of our prompts is akin to providing clear instructions, ensuring that the LLM knows exactly what we're seeking. Here's a simple demonstration:\n",
    "\n",
    "```Markdown\n",
    "__ASK__\n",
    "List the top three benefits of using LLMs.\n",
    "\n",
    "__CONSTRAINTS__\n",
    "- Use bulleted list format.\n",
    "```\n",
    "\n",
    "Sample output:\n",
    "\n",
    "- Enhanced efficiency in content generation: LLMs can quickly produce written material, accelerating tasks like report writing, content creation for websites, and email drafting.\n",
    "- Improved accessibility to information: They can summarize complex documents, translate languages, and provide instant answers to queries, making information more accessible to users.\n",
    "- Personalized learning and assistance: LLMs can adapt to individual user needs, offering tailored tutoring in educational contexts or personalized recommendations for content, thus enhancing the user experience.\n",
    "\n",
    "## The Role of Detailed Instructions\n",
    "Similar to a recipe that guides you through each step of preparing a dish, providing detailed instructions within your prompt can lead the LLM to produce the exact format you're after. This could include specifying the use of bullet points, numbered lists, or even complex data structures like JSON. Why JSON? Sometimes the output of your prompts needs to be digested by computers and not humans and structured formats like JSON are much easier for computers to process.\n",
    "\n",
    "Here's an example:\n",
    "\n",
    "```Markdown\n",
    "\n",
    "__ASK__\n",
    "Generate a JSON object representing a simple to-do list.\n",
    "\n",
    "__CONSTRAINTS__\n",
    "- Include keys for \"task\" and \"priority\".\n",
    "- Limit to three items.\n",
    "```\n",
    "\n",
    "You may then receive an output similar to this:\n",
    "\n",
    "```JSON\n",
    "\n",
    "[\n",
    "  {\n",
    "    \"task\": \"Finish the Prompt Engineering course\",\n",
    "    \"priority\": \"high\"\n",
    "  },\n",
    "  {\n",
    "    \"task\": \"Prepare the meeting agenda\",\n",
    "    \"priority\": \"medium\"\n",
    "  },\n",
    "  {\n",
    "    \"task\": \"Book a vet appointment\",\n",
    "    \"priority\": \"low\"\n",
    "  }\n",
    "]\n",
    "```\n",
    "\n",
    "## Conclusion\n",
    "Mastering the art of formatting prompts is about much more than achieving a specific aesthetic; it's about enhancing communication with LLMs to obtain the most effective and usable outputs. As we continue this course, remember that how we ask is as crucial as what we ask. With the core principles of proper formatting under our belt, we're better equipped to navigate the vast potential of prompt engineering, ensuring our interactions with LLMs are as productive and efficient as possible."
   ]
  },
  {
   "cell_type": "markdown",
   "metadata": {},
   "source": [
    "## Always a Bulleted List"
   ]
  },
  {
   "cell_type": "markdown",
   "metadata": {},
   "source": [
    "## Structuring Team Data Effectively"
   ]
  },
  {
   "cell_type": "markdown",
   "metadata": {},
   "source": [
    "## Mastering Prompt Formatting"
   ]
  },
  {
   "cell_type": "markdown",
   "metadata": {},
   "source": []
  }
 ],
 "metadata": {
  "language_info": {
   "name": "python"
  }
 },
 "nbformat": 4,
 "nbformat_minor": 2
}
