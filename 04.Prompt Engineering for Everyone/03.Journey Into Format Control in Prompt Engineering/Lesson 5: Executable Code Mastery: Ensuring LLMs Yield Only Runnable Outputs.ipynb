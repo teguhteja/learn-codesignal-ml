{
 "cells": [
  {
   "cell_type": "markdown",
   "metadata": {},
   "source": [
    "## Introduction\n",
    "Welcome to the last lesson of this course! This lesson focuses on honing a vital skill set: constructing prompts that get LLMs to generate not just any code, but executable code. As we traverse this lesson, let us always remember: the art of prompt engineering for runnable code doesn't hinge on complexity but clarity and precision.\n",
    "\n",
    "## Understanding Runnable Code\n",
    "Within the context of LLMs, runnable code signifies the code that can undergo execution as it stands without any need for modifications or corrections. It is immediate, actionable, and most significantly, correct. Attaining runnable code from an LLM necessitates a profound understanding of both the language in which you're soliciting the code and the environment intended for its execution.\n",
    "\n",
    "```Markdown\n",
    "\n",
    "__ASK__\n",
    "Generate a Python function that adds two numbers.\n",
    "\n",
    "__CONSTRAINTS__\n",
    "- Use Python 3 syntax.\n",
    "- Ensure the code can be run without any modifications.\n",
    "```\n",
    "\n",
    "This prompt will return the function we want but more likely than not it will also include an intro or an outro about the code being written. This means that if we want to feed this output into a compiler that could run the code we'd run into problems.\n",
    "\n",
    "##  Refining The Prompt\n",
    "Let's see how we can refine the prompt above to just give us the code and nothing else.\n",
    "\n",
    "```Markdown\n",
    "\n",
    "__ASK__\n",
    "Generate a Python function that adds two numbers.\n",
    "\n",
    "__CONSTRAINTS__\n",
    "- Use Python 3 syntax.\n",
    "- Ensure the code can be run without any modifications.\n",
    "- Do not include an introduction or a conclusion, just give me the code.\n",
    "```\n",
    "\n",
    "Sample output:\n",
    "\n",
    "```Python\n",
    "def add_numbers(a, b):\n",
    "    return a + b\n",
    "```\n",
    "\n",
    "With the addition of the new constraint, the LLM understands that you want just the runnable code. You'll likely still get it formatted into markdown backticks so if you want to skip those too consider including an example.\n",
    "\n",
    "## Conclusion\n",
    "In conclusion, to obtain runnable code directly from LLMs, precision and clarity in your prompt are paramount. By explicitly specifying not only the requirements of the code but also the need for brevity and exclusion of any non-code elements, you guide the LLM towards producing clean, executable code. Time to practice these hands on.\n",
    "\n"
   ]
  },
  {
   "cell_type": "markdown",
   "metadata": {},
   "source": [
    "## Customer table query\n",
    "Your task is to edit this prompt so that it specifies the creation of an SQL query which would return first_name, last_name, and email from the customer table. Make sure nothing other than the query comes back from the LLM.\n",
    "\n",
    "```markdown\n",
    "__ASK__\n",
    "Generate an SQL query.\n",
    "\n",
    "__CONSTRAINTS__\n",
    "- Retrieve first_name, last_name, and email from the `customer` table.\n",
    "- Ensure the SQL is fully runnable.\n",
    "- Return only the SQL query.\n",
    "\n",
    "__EXAMPLE__\n",
    "SELECT first_name, last_name, email FROM customer;\n",
    "\n",
    "\n",
    "```"
   ]
  },
  {
   "cell_type": "markdown",
   "metadata": {},
   "source": [
    "## Crafting an SQL Query"
   ]
  },
  {
   "cell_type": "markdown",
   "metadata": {},
   "source": [
    "## Scraping Weather Data with Python"
   ]
  },
  {
   "cell_type": "markdown",
   "metadata": {},
   "source": []
  }
 ],
 "metadata": {
  "language_info": {
   "name": "python"
  }
 },
 "nbformat": 4,
 "nbformat_minor": 2
}
