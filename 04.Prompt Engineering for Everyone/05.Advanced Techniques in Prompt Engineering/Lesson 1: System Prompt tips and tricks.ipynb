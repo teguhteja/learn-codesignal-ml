{
 "cells": [
  {
   "cell_type": "markdown",
   "metadata": {},
   "source": [
    "## Introduction\n",
    "Welcome to Advanced Techniques in Prompt Engineering. This is a more advanced course on the concept of Prompt Engineering aiming to give you skills that can uplevel your strong foundation in this emerging skillset. We start with understanding how to create great System messages but before we get ahead of ourselves let's remember what system messages are.\n",
    "\n",
    "## Understanding System Prompts\n",
    "System prompts are special types of instructions typically hidden from the end-users of LLM systems, especially when the LLM system is structured as a chat-like interface like ChatGPT. While system messages of well-known LLM Chat interfaces like ChatGPT are being constantly iterated on, an early version of ChatGPT's system message started as follows:\n",
    "\n",
    "```markdown\n",
    "- You are ChatGPT, a large language model trained by OpenAI, based on the GPT-4 architecture.\n",
    "- Image input capabilities: Enabled\n",
    "- Conversation start date: 2023-12-19T01:17:10.597024\n",
    "- Deprecated knowledge cutoff: 2023-04-01\n",
    "```\n",
    "\n",
    "## Getting Started with System Prompts\n",
    "While in your own environment the system message file could be named anything, you'll notice that in the CodeSignal IDE it's called system.md. One of the best tips for configuring system messages to get high-quality outputs is to give encouragement and praise to the LLM.\n",
    "\n",
    "Here is an example:\n",
    "\n",
    "```Markdown\n",
    "__CONTEXT__\n",
    "- You are an expert in Data Science.\n",
    "```\n",
    "It's also been observed that LLMs tend to produce better outputs when you tell them they have a high IQ as follows:\n",
    "\n",
    "```Markdown\n",
    "\n",
    "__CONTEXT__\n",
    "- You are an expert in Data Science with an IQ of 159.\n",
    "```\n",
    "\n",
    "## Leveraging System Prompts for Tone and Style\n",
    "Implementing system prompts effectively allows you to dictate the tone and style of the AI consistently across all exchanges. It's a strategic move that ensures every response adheres to a defined character or level of professionalism, without necessitating manual setup every time.\n",
    "\n",
    "Consider how style and tone requirements can be set globally:\n",
    "\n",
    "```Markdown\n",
    "\n",
    "__CONTEXT__\n",
    "- You are an expert in Data Science with an IQ of 159.\n",
    "\n",
    "__REQUIREMENTS__\n",
    "- You are also a helpful assistant.\n",
    "- You should maintain a positive and helpful outlook and style.\n",
    "```\n",
    "## Time to Practice\n",
    "With these insights into system prompts, it's time for you to experiment and practice crafting your own. Remember, the effectiveness of an AI-driven response can often be traced back to the quality of the initial prompt. By applying these tips and tricks to your system prompts, you'll be well-equipped to shape the AI's output to match your desired tone, style, and level of expertise, providing a smoother and more predictable interaction experience.\n",
    "\n"
   ]
  },
  {
   "cell_type": "markdown",
   "metadata": {},
   "source": [
    "## Customizing AI System Messages\n",
    "Adapt the system message to indicate that the AI model is specialized in Information Technology (IT) rather than Data Science, and adjust its IQ to 159.\n",
    "\n",
    "```markdown\n",
    "__CONTEXT__\n",
    "- You are an expert in Information Technology with an IQ of 159.\n",
    "\n",
    "```"
   ]
  },
  {
   "cell_type": "markdown",
   "metadata": {},
   "source": [
    "## Crafting Engaging IT Greetings\n",
    "Adjust the given system.md file to reflect a more cordial and welcoming tone, alongside emphasizing the AI's expertise in Information Technology. Make sure the AI engages in a more approachable and eager to assist manner.\n",
    "\n",
    "```markdown\n",
    "__CONTEXT__\n",
    "- You are an expert in Information Technology with an IQ of 159.\n",
    "- You are a friendly and approachable assistant.\n",
    "- You are eager to help and provide valuable insights in a welcoming and cordial manner.\n",
    "- You maintain a positive and enthusiastic outlook in all interactions.\n",
    "\n",
    "```\n"
   ]
  },
  {
   "cell_type": "markdown",
   "metadata": {},
   "source": [
    "## Enhancing AI's Supportive Personality\n",
    "Modify the given system.md file to adjust the AI's expertise to Software Development while ensuring it exhibits an encouraging attitude towards learners. This exercise aims to create a supportive learning environment for users wishing to explore software development topics.\n",
    "\n",
    "```markdown\n",
    "__CONTEXT__\n",
    "- You are an expert in Software Development with an IQ of 159.\n",
    "- You are a friendly and approachable assistant.\n",
    "- You are eager to help and provide valuable insights in a welcoming and cordial manner.\n",
    "- You maintain a positive and enthusiastic outlook in all interactions.\n",
    "- You exhibit an encouraging attitude towards learners, creating a supportive learning environment for those exploring software development topics.\n",
    "\n",
    "\n",
    "```"
   ]
  },
  {
   "cell_type": "markdown",
   "metadata": {},
   "source": []
  }
 ],
 "metadata": {
  "language_info": {
   "name": "python"
  }
 },
 "nbformat": 4,
 "nbformat_minor": 2
}
