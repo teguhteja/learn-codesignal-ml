{
 "cells": [
  {
   "cell_type": "markdown",
   "metadata": {},
   "source": [
    "## Introduction\n",
    "Welcome to the next stage of our journey into Advanced Techniques in Prompt Engineering. We will focus on the Chain-of-Thought method. This approach not only enhances the model's output but also aids in attaining precise answers by guiding the model through a logical sequence of reasoning.\n",
    "\n",
    "## Understanding Chain of Thought\n",
    "The Chain of Thought method is a compelling technique that encourages the model to \"think aloud\" as it reaches an answer. This technique is particularly useful when dealing with complex problems that can benefit from step-by-step reasoning. Unlike most humans who by adulthood know that the best way to think through a complex problem is to think step-by-step, LLMs don't have this instinctive understanding. Explicitly prompting the model to detail its thought process is proven to lead to more accurate and helpful responses.\n",
    "\n",
    "## Example without Chain of Thought\n",
    "One task that LLMs are notoriously bad at is mathematical computations. Let's see an example:\n",
    "\n",
    "```Markdown\n",
    "\n",
    "__ASK__\n",
    "What's 197*971\n",
    "While after running this many times you might get the right answer, more often than not the LLM will make a mistake and respond with numbers like 191,087, 191,987, etc, none of which are correct.\n",
    "\n",
    "```\n",
    "\n",
    "## Applying Chain of Thought\n",
    "Now let's see what happens when we change it to apply Chain-of-Thought. The most standard way to apply this method is to add a requirement to think step-by-step. Other acceptable options include\n",
    "\n",
    "- begin by carefully analyzing the problem\n",
    "- show your work before responding\n",
    "- etc\n",
    "\n",
    "```markdown\n",
    "__ASK__\n",
    "\n",
    "what's 197*971\n",
    "\n",
    "__REQUIREMENTS__\n",
    "- Think step-by-step\n",
    "```\n",
    "\n",
    "Sample output:\n",
    "\n",
    "```markdown\n",
    "Step 1: Multiply 7 (units place of 197) by 971\n",
    "       7 * 971 = 6797\n",
    "Step 2: Multiply 9 (tens place of 197) by 971 and add a zero at the end\n",
    "       9 * 971 = 8739 => 87390\n",
    "Step 3: Multiply 1 (hundreds place of 197) by 971 and add two zeroes at the end\n",
    "       1 * 971 = 971 => 97100\n",
    "Step 4: Add all the results from steps 1, 2, and 3\n",
    "       6797 + 87390 + 97100 = 191287\n",
    "\n",
    "Therefore, 197 * 971 = 191,287\n",
    "And that response is spot on.\n",
    "```\n",
    "\n",
    "## Time to Practice\n",
    "Having learned how to structure your prompts to efficiently utilize the Chain of Thought method, it's now your turn to experiment with this approach. Remember, the goal is to encourage the model to think through problems, step by step, and conclude with concise and accurate answers. Let's begin the practice!\n",
    "\n"
   ]
  },
  {
   "cell_type": "markdown",
   "metadata": {},
   "source": [
    "## Chain of Thought for Computation Simplification\n",
    "\n",
    "Build upon the given prompt to calculate the product of two numbers in a way that demands the AI to break down the process using the Chain of Thought method.\n",
    "\n",
    "```markdown\n",
    "\n",
    "__REQUIREMENTS__\n",
    "- Think step-by-step\n",
    "- Show your work before responding\n",
    "\n",
    "```"
   ]
  },
  {
   "cell_type": "markdown",
   "metadata": {},
   "source": [
    "## Chain of Thought in Multiplication\n",
    "\n",
    "Using the Chain of Thought method, modify the given prompt for calculating the product of the given numbers. In addition, give extra guidance to express these numbers as a combination of nearby numbers that are easier to multiply.\n",
    "\n",
    "```markdown\n",
    "\n",
    "__ASK__\n",
    "What's: 197*971\n",
    "\n",
    "__REQUIREMENTS__\n",
    "- Think step-by-step\n",
    "- Express these numbers as a combination of nearby numbers that are easier to multiply\n",
    "\n",
    "```"
   ]
  },
  {
   "cell_type": "markdown",
   "metadata": {},
   "source": [
    "## Chain of Thought With Word Problems\n",
    "\n",
    "Another place where Chain-of-Thought could be a powerful tool is with word problems. Apply the method to the given problem to solve it.\n",
    "\n",
    "```markdown\n",
    "\n",
    "__ASK__\n",
    "How many keystrokes are needed to type the numbers from 1 to 500?\n",
    "\n",
    "__REQUIREMENTS__\n",
    "- Think step-by-step\n",
    "- Break down the numbers into ranges that are easier to count\n",
    "\n",
    "\n",
    "```"
   ]
  },
  {
   "cell_type": "markdown",
   "metadata": {},
   "source": []
  }
 ],
 "metadata": {
  "language_info": {
   "name": "python"
  }
 },
 "nbformat": 4,
 "nbformat_minor": 2
}
