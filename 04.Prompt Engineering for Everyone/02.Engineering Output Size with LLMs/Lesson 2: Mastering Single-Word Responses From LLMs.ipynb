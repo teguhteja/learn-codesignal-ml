{
 "cells": [
  {
   "cell_type": "markdown",
   "metadata": {},
   "source": [
    "## Introduction\n",
    "In this lesson, we're turning our attention to a specific technique of getting single-word output from LLMs. We'll use the example of designing an AI tutor that provides verdicts on code correctness. Our goal is to refine our prompts so that this AI tutor can succinctly report whether a piece of code is correct with a single word: \"True\" for correct and \"False\" for incorrect.\n",
    "\n",
    "Getting a single-word output, in this case, is important cause you can parse it out to use in the rest of your AI tutor development work.\n",
    "\n",
    "## The Challenge of Obtaining Binary Verdicts\n",
    "When we task LLMs with evaluating code, the natural inclination of these models is to provide detailed feedback, explanations, or even corrected versions of the code. However, for an AI tutor scenario, we need it to distill its evaluation into a binary choice—correct or incorrect. Mastering this prompt design challenges us to direct the LLM's focus away from its propensity for elaboration towards a stark, binary output.\n",
    "\n",
    "Consider a typical, less focused prompt:\n",
    "`\n",
    "__ASK__\n",
    "Review this piece of code and tell me if it's correct or incorrect\n",
    "\n",
    "__CONTEXT__\n",
    "\n",
    "def fibonacci(n):\n",
    "    a, b = 0, 1\n",
    "    while a < n:\n",
    "        print(a, end=' ')\n",
    "        a, b = b, a+b\n",
    "    print()\n",
    "\n",
    "# Example usage\n",
    "fibonacci(1000)\n",
    "\n",
    "__CONSTRAINTS__\n",
    "- Keep your output short.\n",
    "`\n",
    "\n",
    "Sample output:\n",
    "\n",
    "`The code correctly implements a function to print the Fibonacci sequence up to, but not including, a given number n. It's correct in its functionality.`\n",
    "\n",
    "## Refining Prompts for Binary Code Verdicts\n",
    "To ensure we receive a \"True\" or \"False\" response regarding the correctness of a code snippet, clarity and specificity are key in our prompts. We must explicitly request that the model's output be limited to one of these two options, eliminating the opportunity for additional commentary.\n",
    "\n",
    "Here's how to adjust our prompt for this purpose:\n",
    "\n",
    "`\n",
    "__ASK__\n",
    "Review this piece of code and tell me if it's correct or incorrect\n",
    "\n",
    "__CONTEXT__\n",
    "\n",
    "def fibonacci(n):\n",
    "    a, b = 0, 1\n",
    "    while a < n:\n",
    "        print(a, end=' ')\n",
    "        a, b = b, a+b\n",
    "    print()\n",
    "\n",
    "# Example usage\n",
    "fibonacci(1000)\n",
    "\n",
    "__CONSTRAINTS__\n",
    "- DO NOT start with an intro or include an outro.\n",
    "- Respond with just one word: True or False\n",
    "`\n",
    "\n",
    "Sample output:\n",
    "\n",
    "`True`\n",
    "\n",
    "You can see that we added two things, an explicit CONSTRAINTS: not to include an intro or outro which is very common with LLMs as well as a specification to give a one-word response.\n",
    "\n",
    "If we wanted to make this prompt even better we could include an example.\n",
    "\n",
    "## Time to Practice\n",
    "Now it's time to try building prompts like this on your own to solidify your understanding.\n",
    "\n"
   ]
  },
  {
   "cell_type": "markdown",
   "metadata": {},
   "source": [
    "## Check Palindrome Code\n",
    "Revise the following prompt to specifically instruct the AI to analyze a certain piece of Python code for any errors, and modify the guidelines so that the answer must be provided as either \"True\" or \"False\" without further elaboration.\n",
    "\n",
    "`\n",
    "__ASK__  \n",
    "Analyze the given Python code for errors.\n",
    "\n",
    "Is the provided function for checking if a string is a palindrome implemented correctly?\n",
    "\n",
    "```python\n",
    "def palindrome_check(s):\n",
    "    return s == s[::-1]\n",
    "\n",
    "print(palindrome_check(\"radar\"))\n",
    "```\n",
    "\n",
    "__CONSTRAINTS__  \n",
    "- The answer must be provided as either \"True\" or \"False\" without further elaboration.\n",
    "`"
   ]
  },
  {
   "cell_type": "markdown",
   "metadata": {},
   "source": [
    "## True or False Code Verdict Challenge"
   ]
  },
  {
   "cell_type": "markdown",
   "metadata": {},
   "source": [
    "## Just Yes or No"
   ]
  },
  {
   "cell_type": "markdown",
   "metadata": {},
   "source": []
  }
 ],
 "metadata": {
  "language_info": {
   "name": "python"
  }
 },
 "nbformat": 4,
 "nbformat_minor": 2
}
