{
 "cells": [
  {
   "cell_type": "markdown",
   "metadata": {},
   "source": [
    "## Introduction\n",
    "This lesson focuses on crafting prompts to obtain single-sentence summaries, specifically in the context of financial market trends. By using the example of summarizing stock market trends, our objective is to fine-tune our prompts so that the LLM provides us with a concise, informative sentence that captures the essence of the market's current state.\n",
    "\n",
    "Single-sentence summaries are crucial for financial analysts and investors who require a quick understanding of market sentiment without delving into detailed reports.\n",
    "\n",
    "Tasking LLMs to distill complex information like financial market data into a single sentence is challenging. LLMs tend to provide detailed explanations or multiple viewpoints, which, while beneficial for understanding, may not be ideal for those needing quick insights.\n",
    "\n",
    "Consider a general, less focused prompt. Note that the full contents of the context is skipped for brevity.\n",
    "\n",
    "```Markdown\n",
    "\n",
    "__ASK__\n",
    "Provide an overview of today's stock market trend.\n",
    "\n",
    "__CONTEXT__\n",
    "The S&P 500 saw a slight increase in the morning but experienced volatility in the afternoon due to unexpected political news, closing with a minor gain.\n",
    "...\n",
    "\n",
    "__CONSTRAINTS__\n",
    "- Keep your overview brief.\n",
    "```\n",
    "\n",
    "Sample output:\n",
    "\n",
    "`Today's stock market showed positive trends across major indexes. The S&P 500 increased by 0.52% to 5,096.27, the Nasdaq Composite rose by 0.90% to 16,091.92, and the Dow Jones Industrial Average saw a modest gain of 0.12%, closing at 38,996.39.`\n",
    "\n",
    "## Refining Prompts for Concise Market Summaries\n",
    "To guide the LLM towards delivering a one-sentence summary, we must be explicit about our constraints and what we expect in the response. It involves directly specifying the desired length and depth of analysis.\n",
    "\n",
    "Here's an improvement to our prompt for this purpose:\n",
    "\n",
    "```Markdown\n",
    "__ASK__\n",
    "Provide an overview of today's stock market trend.\n",
    "\n",
    "__CONTEXT__\n",
    "The S&P 500 saw a slight increase in the morning but experienced volatility in the afternoon due to unexpected political news, closing with a minor gain.\n",
    "...\n",
    "\n",
    "__CONSTRAINTS__\n",
    "- Respond with just one sentence.\n",
    "- Keep the sentence short while capturing the key high-level points.\n",
    "```\n",
    "\n",
    "Sample output:\n",
    "\n",
    "`Today's stock market ended positively, with gains in the S&P 500, Nasdaq, and Dow Jones.`\n",
    "\n",
    "In this refined prompt, we've added explicit instructions to focus on one-sentence responses while not skipping over important information. This helps in extracting single-sentence insights that are comprehensible at a glance.\n",
    "\n",
    "## Time to Practice\n",
    "Now that you've learned how to craft prompts for single-sentence outputs, it's time for you to practice to turn this knowledge into skills.\n",
    "\n"
   ]
  },
  {
   "cell_type": "markdown",
   "metadata": {},
   "source": [
    "## Market Impact of Fed's Rate Hike\n",
    "\n",
    "Refine this prompt to ensure it produces a single-sentence summary of the given financial market situation, focusing specifically on the impact of a certain event.\n",
    "\n",
    "```markdown\n",
    "__ASK__\n",
    "Summarize the impact of today's Federal Reserve interest rate hike on the stock market.\n",
    "\n",
    "__CONTEXT__\n",
    "The stock market's reaction to the Federal Reserve's latest interest rate hike presented a complex picture, with investor sentiments divided across different sectors.\n",
    "\n",
    "__CONSTRAINTS__\n",
    "- Respond with just one sentence.\n",
    "- Keep the sentence short while capturing the key high-level points.\n",
    "\n",
    "```"
   ]
  },
  {
   "cell_type": "markdown",
   "metadata": {},
   "source": [
    "## Summarize a Complex Topic\n",
    "\n",
    "Adapt this prompt so it requires generating a one-sentence explanation of the effect of a specific code optimization on program performance.\n",
    "\n",
    "\n",
    "```markdown\n",
    "__ASK__\n",
    "Generate a one-sentence explanation of the effect of a specific code optimization on program performance.\n",
    "\n",
    "__CONTEXT__\n",
    "Optimizing a program's performance through code refinements can significantly alter its execution dynamics. A common illustration is the enhancement of recursive functions, such as the calculation of Fibonacci numbers, by integrating memoization techniques. Without optimization, a naive recursive approach to computing Fibonacci numbers suffers from a severe inefficiency—exponential time complexity—due to the repeated computation of the same values. By introducing memoization, which stores and reuses the results of expensive function calls, the algorithm's efficiency improves dramatically from exponential to linear time complexity. This adjustment drastically reduces the number of computations needed to arrive at a result, thereby enhancing the program's execution speed. Memoization effectively addresses the fundamental problem of unnecessary repetition in recursive calculations, turning a potentially sluggish operation into a swift and efficient process. This transformation underscores the power of algorithmic optimization in programming and the specific impact of memoization on improving recursive functions' performance.\n",
    "\n",
    "```"
   ]
  },
  {
   "cell_type": "markdown",
   "metadata": {},
   "source": [
    "## Summarizing a Dataset\n",
    "Revise this prompt to summarize the key insight derived from the provided dataset, which details daily sales numbers across various product categories.\n",
    "\n",
    "`\n",
    "__ASK__\n",
    "Summarize the key insight derived from the provided dataset, which details daily sales numbers across various product categories.\n",
    "\n",
    "__CONTEXT__\n",
    "\n",
    "| Date       | Electronics | Apparel | Home Goods | Beauty Products |\n",
    "|------------|-------------|---------|------------|-----------------|\n",
    "| 2023-01-01 | 120         | 80      | 45         | 60              |\n",
    "| 2023-01-02 | 115         | 85      | 47         | 65              |\n",
    "| 2023-01-03 | 125         | 82      | 50         | 70              |\n",
    "| ...        | ...         | ...     | ...        | ...             |\n",
    "| 2023-03-30 | 130         | 90      | 55         | 75              |\n",
    "| 2023-03-31 | 135         | 95      | 58         | 80              |\n",
    "`"
   ]
  },
  {
   "cell_type": "markdown",
   "metadata": {},
   "source": []
  },
  {
   "cell_type": "markdown",
   "metadata": {},
   "source": []
  }
 ],
 "metadata": {
  "language_info": {
   "name": "python"
  }
 },
 "nbformat": 4,
 "nbformat_minor": 2
}
