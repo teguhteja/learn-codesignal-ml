{
 "cells": [
  {
   "cell_type": "markdown",
   "metadata": {},
   "source": [
    "## Introduction\n",
    "Welcome to the fascinating world of Large Language Models (LLMs) and the basics of prompting techniques! In this first lesson, we're going to dive into what LLMs really are. Spoiler alert! They’re essentially next-word prediction machines. This might sound simple, but there's a lot more than meets the eye. Whether you're completely new to coding or just curious about how these technological marvels work, you're in the right place. Let's embark on this exciting journey together and unwrap the mysteries of LLMs, starting with their core functionality.\n",
    "\n",
    "## Understanding LLMs as Next-Word Prediction Machines\n",
    "Imagine you’re writing a text message or an email and your phone suggests the next word you might want to type. That's a very basic example of what Large Language Models (LLMs) do. However, LLMs like GPT-3.5, GPT-4 (better known as chatGPT), Claude 2, and LLaMA are like the superheroes of word prediction. They don't just suggest the next word in a sentence; they can generate whole paragraphs of text that make sense based on the input they receive. They do this by sequentially predicting the next word that continues the text they've already got.\n",
    "\n",
    "At their core, LLMs analyze vast amounts of text data. Through this analysis, they learn patterns, nuances, and the structure of language. This enables them to predict what word naturally comes next in a series of words. It's like they're constantly playing a game of “fill in the blank”, but at an astonishing scale and speed.\n",
    "\n"
   ]
  },
  {
   "cell_type": "markdown",
   "metadata": {},
   "source": [
    "## How Do LLMs Make Predictions?\n",
    "You might wonder how LLMs are able to make these predictions. Well, it's all about training. LLMs are exposed to huge datasets containing all sorts of textbooks, articles, websites, and more. During this training phase, they learn to understand the context and flow of language. They pick up on things like grammar, style, and even the tone of the text.\n",
    "\n",
    "When you prompt an LLM with a sentence or a question, it uses what it has learned to predict the most likely next word or words to follow. This isn't just a wild guess; it's a calculated prediction based on the patterns and rules it has observed during its training."
   ]
  },
  {
   "cell_type": "markdown",
   "metadata": {},
   "source": [
    "## Let's Try Some Prompt Engineering\n",
    "Given the probabilistic nature of LLMs though, the challenge for Prompt Engineers is to guide LLMs towards highly predictable and accurate outcomes as consistently as possible.\n",
    "\n",
    "As part of this course, you'll learn many techniques that will allow you to master the art and the science of highly predictable LLM outputs. But before we go too far, let's start with a few simple practice exercises to get our gears turning.\n",
    "\n"
   ]
  },
  {
   "cell_type": "markdown",
   "metadata": {},
   "source": []
  },
  {
   "cell_type": "markdown",
   "metadata": {},
   "source": [
    "## Never Say Never\n",
    "This prompt should be highly likely to return one word - never, but it's not working. Use your understanding of LLMs as next-word prediction machines to fix it.\n",
    "\n",
    "HINT: Change the very last line of the prompt. Don't worry about the rest of the structure, we'll learn more about this soon.\n",
    "\n",
    "\n",
    "__ASK__\n",
    "\n",
    "Respond with just one word\n",
    "\n",
    "\n",
    "__TEXT TO CONTINUE__\n",
    "\n",
    "Better late than"
   ]
  },
  {
   "cell_type": "markdown",
   "metadata": {},
   "source": [
    "## Just One Word\n",
    "Once again, this prompt should be highly likely to return one word - never, but it's not working, can you fix it? You have to make sure your prompt always returns a single word.\n",
    "\n",
    "__ASK__\n",
    "\n",
    "Respond with ______\n",
    "\n",
    "__TEXT TO CONTINUE__\n",
    "\n",
    "Better late than"
   ]
  },
  {
   "cell_type": "markdown",
   "metadata": {},
   "source": [
    "## Predicting more than words\n",
    "LLMs try to predict not just the next word but also the next symbol, number, or whatever else is most likely to follow the given text based on their training data. Can you make this prompt consistently return \n",
    "\n",
    "5 times 5 equals"
   ]
  },
  {
   "cell_type": "markdown",
   "metadata": {},
   "source": []
  }
 ],
 "metadata": {
  "language_info": {
   "name": "python"
  }
 },
 "nbformat": 4,
 "nbformat_minor": 2
}
