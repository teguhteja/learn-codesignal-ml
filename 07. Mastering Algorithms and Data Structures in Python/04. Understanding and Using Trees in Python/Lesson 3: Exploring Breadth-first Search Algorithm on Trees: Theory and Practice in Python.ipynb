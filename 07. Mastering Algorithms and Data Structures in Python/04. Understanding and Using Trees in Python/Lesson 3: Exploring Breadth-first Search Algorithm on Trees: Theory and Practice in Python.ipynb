{
            "cells": [
  {
            "cell_type": "markdown",
            "metadata": {},
            "source": [
                "# Lesson 3: Exploring Breadth-first Search Algorithm on Trees: Theory and Practice in Python"
            ]
            }
 ,{
            "cell_type": "markdown",
            "metadata": {},
            "source": [
 "## Exploring the World's Major Rainforests with BFS Traversal" 
   ]
            }
 ,{
            "cell_type": "markdown",
            "metadata": {},
            "source": [
 "## Changing the Starting Position of BFS Traversal" 
   ]
            }
 ,{
            "cell_type": "markdown",
            "metadata": {},
            "source": [
 "## Fixing the Flow of Command with BFS" 
   ]
            }
 ,{
            "cell_type": "markdown",
            "metadata": {},
            "source": [
 "## Constructing a Royal Family Tree using Breadth-First Search" 
   ]
            }
 ,{
            "cell_type": "markdown",
            "metadata": {},
            "source": [
 "## Implementing Breadth-First Search from scratch" 
   ]
            }
   ],
 "metadata": {},
 "nbformat": 4,
 "nbformat_minor": 5
}
