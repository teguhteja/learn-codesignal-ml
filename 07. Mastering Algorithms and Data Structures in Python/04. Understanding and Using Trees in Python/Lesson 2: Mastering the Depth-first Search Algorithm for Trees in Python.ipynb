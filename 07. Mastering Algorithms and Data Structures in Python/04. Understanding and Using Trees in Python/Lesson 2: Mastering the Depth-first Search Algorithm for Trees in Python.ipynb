{
            "cells": [
  {
            "cell_type": "markdown",
            "metadata": {},
            "source": [
                "# Lesson 2: Mastering the Depth-first Search Algorithm for Trees in Python"
            ]
            }
 ,{
            "cell_type": "markdown",
            "metadata": {},
            "source": [
 "## Traversing the Company Hierarchy with DFS" 
   ]
            }
 ,{
            "cell_type": "markdown",
            "metadata": {},
            "source": [
 "## Applying DFS to a Structured Planetary Hierarchy" 
   ]
            }
 ,{
            "cell_type": "markdown",
            "metadata": {},
            "source": [
 "## Galactic Hierarchy: Restoring Cosmic Navigation" 
   ]
            }
 ,{
            "cell_type": "markdown",
            "metadata": {},
            "source": [
 "## Implementing Depth-First Search in a Department Hierarchy" 
   ]
            }
 ,{
            "cell_type": "markdown",
            "metadata": {},
            "source": [
 "## Creating a DFS Traversal of City Areas from Scratch" 
   ]
            }
   ],
 "metadata": {},
 "nbformat": 4,
 "nbformat_minor": 5
}
