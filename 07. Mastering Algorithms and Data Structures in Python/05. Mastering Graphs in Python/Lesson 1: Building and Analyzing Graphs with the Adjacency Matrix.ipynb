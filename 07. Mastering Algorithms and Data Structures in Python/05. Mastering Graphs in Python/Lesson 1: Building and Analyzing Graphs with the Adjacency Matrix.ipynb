{
            "cells": [
  {
            "cell_type": "markdown",
            "metadata": {},
            "source": [
                "# Lesson 1: Building and Analyzing Graphs with the Adjacency Matrix"
            ]
            }
 ,{
            "cell_type": "markdown",
            "metadata": {},
            "source": [
 "## Exploring Social Network Connections with an Adjacency Matrix" 
   ]
            }
 ,{
            "cell_type": "markdown",
            "metadata": {},
            "source": [
 "## Change the Social Network Connections" 
   ]
            }
 ,{
            "cell_type": "markdown",
            "metadata": {},
            "source": [
 "## Debugging the Friend Suggestions Algorithm" 
   ]
            }
 ,{
            "cell_type": "markdown",
            "metadata": {},
            "source": [
 "## Adding Overlapping Teams Relationships Using an Adjacency Matrix" 
   ]
            }
   ],
 "metadata": {},
 "nbformat": 4,
 "nbformat_minor": 5
}
