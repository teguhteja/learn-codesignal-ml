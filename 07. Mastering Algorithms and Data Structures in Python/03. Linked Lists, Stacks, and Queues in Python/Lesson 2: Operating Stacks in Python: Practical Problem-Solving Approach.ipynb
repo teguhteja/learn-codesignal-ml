{
            "cells": [
  {
            "cell_type": "markdown",
            "metadata": {},
            "source": [
                "# Lesson 2: Operating Stacks in Python: Practical Problem-Solving Approach"
            ]
            }
 ,{
            "cell_type": "markdown",
            "metadata": {},
            "source": [
 "## Balancing the Wild Brackets in a String" 
   ]
            }
 ,{
            "cell_type": "markdown",
            "metadata": {},
            "source": [
 "## Rotational String Manipulation Using Stack Data Structure" 
   ]
            }
 ,{
            "cell_type": "markdown",
            "metadata": {},
            "source": [
 "## \"Reverse Order Postfix Expression Evaluation\"" 
   ]
            }
   ],
 "metadata": {},
 "nbformat": 4,
 "nbformat_minor": 5
}
