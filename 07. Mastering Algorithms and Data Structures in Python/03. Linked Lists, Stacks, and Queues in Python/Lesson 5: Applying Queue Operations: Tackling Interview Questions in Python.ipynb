{
            "cells": [
  {
            "cell_type": "markdown",
            "metadata": {},
            "source": [
                "# Lesson 5: Applying Queue Operations: Tackling Interview Questions in Python"
            ]
            }
 ,{
            "cell_type": "markdown",
            "metadata": {},
            "source": [
 "## Shuffling Elements in a Deque by nth Position" 
   ]
            }
 ,{
            "cell_type": "markdown",
            "metadata": {},
            "source": [
 "## Space Journey Sensor Readings: Calculating Moving Average in Python" 
   ]
            }
   ],
 "metadata": {},
 "nbformat": 4,
 "nbformat_minor": 5
}
