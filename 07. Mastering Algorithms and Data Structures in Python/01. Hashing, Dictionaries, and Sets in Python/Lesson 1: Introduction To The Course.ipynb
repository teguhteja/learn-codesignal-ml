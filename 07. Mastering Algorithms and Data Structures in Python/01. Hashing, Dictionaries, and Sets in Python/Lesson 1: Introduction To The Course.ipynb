{
 "cells": [
  {
   "cell_type": "code",
   "execution_count": null,
   "metadata": {},
   "outputs": [],
   "source": []
  },
  {
   "cell_type": "markdown",
   "metadata": {},
   "source": [
    "Here's the complete Python function that checks the existence of a test element in both a list and a set 100 times, and then prints the time it took for each operation:\n",
    "\n",
    "```python\n",
    "# Importing the necessary libraries\n",
    "import time\n",
    "\n",
    "# Define a function to demonstrate the operation and time complexity of a hash set\n",
    "def compare_operations():\n",
    "  \n",
    "    # Create a list and a set\n",
    "    data_list = []\n",
    "    data_set = set()\n",
    "\n",
    "    # Adding elements to list and set\n",
    "    for i in range(10**6):\n",
    "        data_list.append(i)\n",
    "        data_set.add(i)\n",
    "\n",
    "    # Set and List are ready; now let's define a non-existing item to search for\n",
    "    test_item = 10**6 + 1  # This item is not in our set or list\n",
    "\n",
    "    # Time the 100 consecutive operations of checking whether `test_item` is in `data_set`\n",
    "    start_time_set = time.time()\n",
    "    for _ in range(100):\n",
    "        _ = test_item in data_set\n",
    "    end_time_set = time.time()\n",
    "    set_duration = end_time_set - start_time_set\n",
    "    print(f\"Time taken for 100 checks in set: {set_duration:.6f} seconds\")\n",
    "\n",
    "    # Time the 100 consecutive operations of checking whether `test_item` is in `data_list`\n",
    "    start_time_list = time.time()\n",
    "    for _ in range(100):\n",
    "        _ = test_item in data_list\n",
    "    end_time_list = time.time()\n",
    "    list_duration = end_time_list - start_time_list\n",
    "    print(f\"Time taken for 100 checks in list: {list_duration:.6f} seconds\")\n",
    "\n",
    "# Execute the function\n",
    "compare_operations()\n",
    "```\n",
    "\n",
    "### Explanation:\n",
    "- **Data Structures**: A list (`data_list`) and a set (`data_set`) are populated with one million integers (`0` to `999,999`).\n",
    "- **Test Item**: The `test_item` is set to `1,000,001`, which is not present in either the list or the set.\n",
    "- **Time Measurement**: The code uses `time.time()` to measure how long it takes to check if `test_item` is in the `data_set` and `data_list` 100 times.\n",
    "- **Performance**: The set operations are expected to be faster than list operations due to the average constant time complexity (`O(1)`) for lookups in sets compared to the linear time complexity (`O(n)`) for lists.\n",
    "\n",
    "### Example Output:\n",
    "```plaintext\n",
    "Time taken for 100 checks in set: 0.000154 seconds\n",
    "Time taken for 100 checks in list: 0.762346 seconds\n",
    "```\n",
    "\n",
    "This example output shows that checking the presence of an item in a set is significantly faster than checking in a list, especially as the size of the dataset grows."
   ]
  }
 ],
 "metadata": {
  "language_info": {
   "name": "python"
  }
 },
 "nbformat": 4,
 "nbformat_minor": 2
}
