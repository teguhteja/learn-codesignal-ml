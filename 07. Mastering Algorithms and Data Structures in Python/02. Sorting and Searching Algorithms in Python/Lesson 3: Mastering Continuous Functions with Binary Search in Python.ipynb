{
         "cells": [
                  {
                           "cell_type": "markdown",
                           "metadata": {},
                           "source": [
                                    "# Lesson 3: Mastering Continuous Functions with Binary Search in Python\n",
                                    "\n",
                                    "\n",
                                    "## Introduction\n",
                                    "Hello everyone, and welcome back to another exciting lesson! Today, we embark on an intriguing journey of applying the binary search algorithm, which we have thoroughly covered in previous lessons, to **continuous functions**. This lesson aims to spark your curiosity and expand your understanding of binary search. It will provide new insights on how to determine a specific function value within a continuous interval, broadening the application of binary search from discrete space to continuous functions. So, let's unravel this exciting topic together!\n",
                                    "\n",
                                    "## Understanding Continuous Functions\n",
                                    "Before diving into binary search and continuous functions, let's refresh our understanding of continuous functions.\n",
                                    "\n",
                                    "A **continuous function** produces smooth, unbroken output for a continuous range of inputs without any abrupt changes or gaps. In mathematical terms, a function \\( f(x) \\) is continuous at a point \\( x = a \\) if the limit of \\( f(x) \\) as \\( x \\) approaches \\( a \\) from the left is equal to the limit as it approaches from the right, and these values are equal to \\( f(a) \\).\n",
                                    "\n",
                                    "This property is crucial because it ensures the function maintains an order, allowing us to apply binary search to continuous functions, even though they aren't sorted in the traditional sense.\n",
                                    "\n",
                                    "## Binary Search Recap\n",
                                    "Binary search is a powerful search algorithm with logarithmic time complexity. It repeatedly divides the search interval in half and compares the middle element with the target. If the middle element matches the target, the position is returned. Otherwise, the search continues in either the left or right half.\n",
                                    "\n",
                                    "When applied to continuous functions, instead of comparing a list's middle element, we compare the function value \\( f(x) \\) at the midpoint and adjust our search boundaries accordingly.\n",
                                    "\n",
                                    "## Finding the Function Value with Binary Search\n",
                                    "Let's break down the steps for finding a specific function value using binary search:\n",
                                    "\n",
                                    "1. **Define the interval**: Set the left and right bounds \\([ \\text{left}, \\text{right} )\\) where the function value could exist.\n",
                                    "2. **Precision setting**: Continue narrowing the interval until the difference between the bounds is smaller than a tiny number \\( \\epsilon \\) (the precision).\n",
                                    "3. **Midpoint calculation**: Calculate the midpoint \\( m = \\frac{\\text{left} + \\text{right}}{2} \\).\n",
                                    "4. **Update the interval**: If \\( f(m) \\) is less than the target, set left to \\( m \\); otherwise, set right to \\( m \\).\n",
                                    "5. **Repeat**: Continue until the interval is sufficiently small, and the function value is as close to the target as desired.\n",
                                    "\n",
                                    "### Example in Python\n",
                                    "\n",
                                    "Consider the function \\( f(x) = x^2 - 2 \\). Let's find \\( x \\) such that \\( f(x) = 0 \\) within the interval \\([1, 2]\\):\n",
                                    "\n",
                                    "```python\n",
                                    "# Define the function\n",
                                    "def f(x):\n",
                                    "    return x * x - 2\n",
                                    "\n",
                                    "# Define the binary search function\n",
                                    "def binary_search(target, left, right, precision):\n",
                                    "    while right - left > precision:\n",
                                    "        mid = (left + right) / 2\n",
                                    "        if f(mid) < target:  # If midpoint value is less than target\n",
                                    "            left = mid  # Update left boundary\n",
                                    "        else:\n",
                                    "            right = mid  # Update right boundary\n",
                                    "    return left  # Return final left boundary\n",
                                    "\n",
                                    "# Set precision and run the search\n",
                                    "epsilon = 1e-6\n",
                                    "result = binary_search(0, 1, 2, epsilon)\n",
                                    "print(\"x for which f(x) is approximately 0:\", result)\n",
                                    "```\n",
                                    "\n",
                                    "### Output:\n",
                                    "```\n",
                                    "x for which f(x) is approximately 0: 1.4142131805419922\n",
                                    "```\n",
                                    "\n",
                                    "## Implications of Precision\n",
                                    "In the binary search function, the precision \\( \\epsilon \\) dictates how close the result is to the target. A smaller \\( \\epsilon \\) increases the precision but also increases the number of iterations needed, making the algorithm run longer. Choosing an appropriate \\( \\epsilon \\) balances accuracy and performance.\n",
                                    "\n",
                                    "## Applying the Technique to a Complex Problem\n",
                                    "With binary search on continuous functions, we can tackle a wide range of problems. For instance, in physics, finding when an object's velocity \\( V(t) = 9.81 \\times t - 0.65 \\times t^2 \\) equals a target value within a given time range can be efficiently solved with binary search.\n",
                                    "\n",
                                    "## Wrapping Up\n",
                                    "We've explored how binary search can be applied to continuous functions, discussed the significance of precision, and implemented a Python solution. This opens up possibilities for solving real-world problems efficiently.\n",
                                    "\n",
                                    "## Ready for Practice?\n",
                                    "Now it's time to practice! Applying what you've learned through exercises will solidify your understanding. So, let's dive into some practice problems and take your skills to the next level. Happy coding!\n"
                           ]
                  },
                  {
                           "cell_type": "markdown",
                           "metadata": {},
                           "source": [
                                    "## Calculating the Fall Time of a Ball with Binary Search"
                           ]
                  },
                  {
                           "cell_type": "markdown",
                           "metadata": {},
                           "source": [
                                    "## Modifying Binary Search to Find Specific Function Value"
                           ]
                  },
                  {
                           "cell_type": "markdown",
                           "metadata": {},
                           "source": [
                                    "## Decoding the Misplaced Root of a Polynomial Function"
                           ]
                  },
                  {
                           "cell_type": "markdown",
                           "metadata": {},
                           "source": [
                                    "## Determining the Optimal Coffee Temperature with Binary Search"
                           ]
                  },
                  {
                           "cell_type": "markdown",
                           "metadata": {},
                           "source": [
                                    "## Implementing Binary Search on Continuous Function from Scratch"
                           ]
                  }
         ],
         "metadata": {
                  "language_info": {
                           "name": "python"
                  }
         },
         "nbformat": 4,
         "nbformat_minor": 5
}
