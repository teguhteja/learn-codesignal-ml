{
         "cells": [
                  {
                           "cell_type": "markdown",
                           "metadata": {},
                           "source": [
                                    "# Lesson 7: Mastering Sorting in Python: Practical Problem-Solving with Built-in Functions\n",
                                    "\n",
                                    "## Introduction\n",
                                    "\n",
                                    "Welcome to the lesson on mastering Python's built-in sorting function! By this point, you've likely realized that sorting isn't merely an abstract mathematical operation but a substantial real-world necessity. Sorting influences how we understand data, locate specific data entries in large datasets, and efficiently use our computational resources.\n",
                                    "\n",
                                    "Consider an e-library system where thousands of books are stored. Sorting these books based on their titles or authors not only makes the database more organized but also permits faster searching and accessing of specific books. In this lesson, we'll explore several scenarios where Python's built-in `sorted()` function comes to our rescue. Let's get started!\n",
                                    "\n",
                                    "## Problem 1: Sorting Values in a List\n",
                                    "\n",
                                    "As a starting point, let's consider a familiar task: sorting a list of integers generated randomly in ascending order. In our e-library example, this task could be likened to arranging the books based on their unique ID numbers.\n",
                                    "\n",
                                    "Python provides a built-in function called `sorted()` that sorts a given list without modifying the original one. Instead, it returns a new list with the elements of the original list in sorted order. Here's how we can solve this problem:\n",
                                    "\n",
                                    "```python\n",
                                    "def sort_list(values):\n",
                                    "    return sorted(values)\n",
                                    "```\n",
                                    "\n",
                                    "Using the built-in `sorted()` function, we've sorted the list easily and efficiently.\n",
                                    "\n",
                                    "## Problem 2: Sorting Values in a List in Reverse Order\n",
                                    "\n",
                                    "Next, suppose you need to sort a list of integers in descending order. For instance, you might want to arrange the e-library's books based on their publication year, with the most recent ones appearing first.\n",
                                    "\n",
                                    "The `sorted()` function is handy here as well, but we need to set its `reverse` argument to `True`. Here's how to do that:\n",
                                    "\n",
                                    "```python\n",
                                    "def sort_list(values):\n",
                                    "    return sorted(values, reverse=True)\n",
                                    "```\n",
                                    "\n",
                                    "Setting the `reverse` parameter to `True instructs Python to sort the elements in descending order, a departure from the default ascending order.\n",
                                    "\n",
                                    "## Problem 3: Sorting Tuples by the Second Element\n",
                                    "\n",
                                    "Consider a situation where you need to sort a list of tuples. Each tuple contains two elements — an integer and a string (for instance, the integer might be a unique ID representing a book, and the string is the book's title). You want to arrange these tuples based on the strings.\n",
                                    "\n",
                                    "The `sorted()` function can sort complex data structures like tuples using the `key` parameter. This parameter defines a function that takes an input element and returns a key that Python will use for sorting purposes. To sort the tuples based on the second element (i.e., the string), we'll use a lambda function as the key. Here's the solution:\n",
                                    "\n",
                                    "```python\n",
                                    "def sort_tuples(tuples):\n",
                                    "    return sorted(tuples, key=lambda x: x[1])\n",
                                    "```\n",
                                    "\n",
                                    "The lambda function `x: x[1]` takes an element from `tuples` and returns its second element (i.e., `x[1]`). The `sorted()` function uses these second elements to sort the tuples.\n",
                                    "\n",
                                    "Additionally, if the second element can include ties, we can handle this by sorting first by `x[1]` and then by `x[0]`:\n",
                                    "\n",
                                    "```python\n",
                                    "def sort_tuples_ties(values):\n",
                                    "    return sorted(values, key=lambda x: (x[1], x[0]))\n",
                                    "```\n",
                                    "\n",
                                    "This code will sort the `values` list, first by the `x[1]` value and, in case of a tie, by the `x[0]` value.\n",
                                    "\n",
                                    "## Problem 4: Sorting a Dictionary Based on Values\n",
                                    "\n",
                                    "For our final case, imagine that you have a dictionary where each key-value pair represents the title of a book (as a key) and its corresponding author's name (as a value). Your task is to sort this dictionary based on the authors' names and return a list of tuples, where each tuple is a key-value pair from the dictionary.\n",
                                    "\n",
                                    "Python provides the `items()` method, which converts a dictionary into a list of its key-value pairs as tuples. We can then sort this list using `sorted()` and the `key` parameter. Let's see this in action:\n",
                                    "\n",
                                    "```python\n",
                                    "def sort_dict(dictionary):\n",
                                    "    return sorted(dictionary.items(), key=lambda x: x[1])\n",
                                    "```\n",
                                    "\n",
                                    "Thus, with this code, you can easily sort the e-library's book titles based on the authors' names.\n",
                                    "\n",
                                    "## Wrapping Up!\n",
                                    "\n",
                                    "In this lesson, you've delved into using Python's built-in sorting function. We explored four practical scenarios and learned how to solve each one using the `sorted()` function. Whether sorting simple lists of integers, lists of tuples, or dictionaries, you now have the proficiency needed to leverage Python's built-in sorting function to make your data more structured and your algorithms more efficient.\n",
                                    "\n",
                                    "Congratulations on your significant progress in mastering sorting in Python! Your next step involves applying these concepts through hands-on exercises. We have a set of practice problems that will require you to implement what you've learned in this lesson. Completing these exercises will reinforce your understanding and enhance your ability to solve real-world problems using Python's built-in sorting function. So, let's roll up our sleeves and get started! Remember, consistency is key — practice regularly, and you'll experience substantial improvement in your problem-solving skills!\n"
                           ]
                  },
                  {
                           "cell_type": "markdown",
                           "metadata": {},
                           "source": [
                                    "## Cosmic Number Sorter"
                           ]
                  },
                  {
                           "cell_type": "markdown",
                           "metadata": {},
                           "source": [
                                    "## Interstellar Sales Sorting Challenge"
                           ]
                  },
                  {
                           "cell_type": "markdown",
                           "metadata": {},
                           "source": [
                                    "## Sorting Course Enrollment Tuples by ID in Descending Order"
                           ]
                  },
                  {
                           "cell_type": "markdown",
                           "metadata": {},
                           "source": [
                                    "## Sorting a Dictionary by High Scores in Descending Order"
                           ]
                  }
         ],
         "metadata": {
                  "language_info": {
                           "name": "python"
                  }
         },
         "nbformat": 4,
         "nbformat_minor": 5
}
