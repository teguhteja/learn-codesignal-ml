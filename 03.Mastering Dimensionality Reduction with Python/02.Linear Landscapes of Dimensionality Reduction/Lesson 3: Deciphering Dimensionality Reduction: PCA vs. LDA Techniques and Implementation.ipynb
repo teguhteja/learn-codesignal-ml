{
 "cells": [
  {
   "cell_type": "markdown",
   "metadata": {},
   "source": [
    "## Dimensionality Reduction Showdown: LDA vs PCA on Iris Dataset"
   ]
  },
  {
   "cell_type": "markdown",
   "metadata": {},
   "source": [
    "\n",
    "## Applying PCA and Training the Logistic Regression Model\n"
   ]
  },
  {
   "cell_type": "markdown",
   "metadata": {},
   "source": [
    "\n",
    "## Implementing LDA and PCA in Iris Classification"
   ]
  }
 ],
 "metadata": {
  "language_info": {
   "name": "python"
  }
 },
 "nbformat": 4,
 "nbformat_minor": 2
}
