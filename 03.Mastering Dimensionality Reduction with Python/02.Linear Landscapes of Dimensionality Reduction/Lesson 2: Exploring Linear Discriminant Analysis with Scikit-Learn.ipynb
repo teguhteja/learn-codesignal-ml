{
 "cells": [
  {
   "cell_type": "markdown",
   "metadata": {},
   "source": [
    "## Visualizing Iris Dataset with LDA\n"
   ]
  },
  {
   "cell_type": "markdown",
   "metadata": {},
   "source": [
    "\n",
    "##  Dimensionality Reduction and Plot Adjustment in LDA\n"
   ]
  },
  {
   "cell_type": "markdown",
   "metadata": {},
   "source": [
    "\n",
    "##  Predicting with LDA and Evaluating Accuracy\n"
   ]
  },
  {
   "cell_type": "markdown",
   "metadata": {},
   "source": [
    "\n",
    "##  Journey through the Code Nebula with LDA"
   ]
  }
 ],
 "metadata": {
  "language_info": {
   "name": "python"
  }
 },
 "nbformat": 4,
 "nbformat_minor": 2
}
