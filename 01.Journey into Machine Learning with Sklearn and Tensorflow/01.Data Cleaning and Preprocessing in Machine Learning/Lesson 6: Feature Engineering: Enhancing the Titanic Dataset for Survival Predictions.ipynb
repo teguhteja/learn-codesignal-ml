{
 "cells": [
  {
   "cell_type": "code",
   "execution_count": null,
   "metadata": {},
   "outputs": [],
   "source": []
  },
  {
   "cell_type": "markdown",
   "metadata": {},
   "source": [
    "## Implement Log Transformation on 'fare’ Feature"
   ]
  },
  {
   "cell_type": "markdown",
   "metadata": {},
   "source": [
    "## Implement Binary Encoding on 'embark_town' Feature"
   ]
  },
  {
   "cell_type": "markdown",
   "metadata": {},
   "source": [
    "## Implement Log Transformation on 'fare’ Feature"
   ]
  },
  {
   "cell_type": "markdown",
   "metadata": {},
   "source": [
    "## Implement One-Hot Encoding on 'class' Feature"
   ]
  },
  {
   "cell_type": "markdown",
   "metadata": {},
   "source": []
  }
 ],
 "metadata": {
  "language_info": {
   "name": "python"
  }
 },
 "nbformat": 4,
 "nbformat_minor": 2
}
