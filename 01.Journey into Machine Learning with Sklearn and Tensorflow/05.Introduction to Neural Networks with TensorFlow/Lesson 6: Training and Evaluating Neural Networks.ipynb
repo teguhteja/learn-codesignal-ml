{
            "cells": [
  {
            "cell_type": "markdown",
            "metadata": {},
            "source": [
                "# Lesson 6: Training and Evaluating Neural Networks"
            ]
            }
 ,{
            "cell_type": "markdown",
            "metadata": {},
            "source": [
 "## Observe the Learning Trajectory of a Neural Network" 
   ]
            }
 ,{
            "cell_type": "markdown",
            "metadata": {},
            "source": [
 "## Enhancing Neural Network Training with Epochs" 
   ]
            }
 ,{
            "cell_type": "markdown",
            "metadata": {},
            "source": [
 "## Adding a Second Layer to the Neural Network" 
   ]
            }
   ],
 "metadata": {},
 "nbformat": 4,
 "nbformat_minor": 5
}
