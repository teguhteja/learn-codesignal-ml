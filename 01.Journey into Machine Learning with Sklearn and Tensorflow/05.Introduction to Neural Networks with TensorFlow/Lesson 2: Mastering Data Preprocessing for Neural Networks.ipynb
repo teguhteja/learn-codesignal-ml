{
         "cells": [
                  {
                           "cell_type": "markdown",
                           "metadata": {},
                           "source": [
                                    "# Lesson 2: Mastering Data Preprocessing for Neural Networks\n",
                                    "\n",
                                    "Here's the markdown version of your lesson on data preprocessing for neural networks:\n",
                                    "\n",
                                    "---\n",
                                    "\n",
                                    "# Mastering Data Preprocessing for Neural Networks\n",
                                    "\n",
                                    "## The Importance of Data Preprocessing Dimensions\n",
                                    "\n",
                                    "Welcome to this crucial lesson! Today, we're exploring the dimensions of data preprocessing that you need to master before setting up any Machine Learning model, including neural networks. The preprocessing phase is especially critical when dealing with image data. So, let's delve into why this is so important.\n",
                                    "\n",
                                    "Many Machine Learning models require the data to be in a format where each row represents a sample and each column represents a feature. However, in our scenario, image data is presented as a 2D array (think of it like a grid of pixel values). Therefore, we need to convert it into a 1D array, a preprocessing step known as flattening.\n",
                                    "\n",
                                    "In Python, this conversion can be accomplished using the `reshape` operation in numpy. Here's how it's achieved:\n",
                                    "\n",
                                    "```python\n",
                                    "from sklearn import datasets\n",
                                    "\n",
                                    "digits = datasets.load_digits()\n",
                                    "\n",
                                    "# Number of samples included in the images\n",
                                    "n_samples = len(digits.images)\n",
                                    "\n",
                                    "# Reshape the array to flatten it into 1D\n",
                                    "X = digits.images.reshape((n_samples, -1))\n",
                                    "```\n",
                                    "\n",
                                    "Here, `n_samples` denotes the number of samples in our dataset, and `-1` implies that the length in that dimension is inferred. This code instructs numpy to calculate the size of the dimension that will maintain the total number of elements the same as in the original array.\n",
                                    "\n",
                                    "## Data Splitting for Machine Learning\n",
                                    "\n",
                                    "After reshaping our data into a more compatible format, the next step in data preprocessing is to segment our data into training and test sets. This process is vital because it enables us to assess our model's performance on unseen data, thereby helping prevent overfitting.\n",
                                    "\n",
                                    "Scikit-learn provides an efficient method to carry out this operation using the `train_test_split()` function. Here's how it's done:\n",
                                    "\n",
                                    "```python\n",
                                    "from sklearn.model_selection import train_test_split\n",
                                    "\n",
                                    "# Splitting the data into training and test sets\n",
                                    "X_train, X_test, y_train, y_test = train_test_split(X, digits.target, test_size=0.5, shuffle=False)\n",
                                    "```\n",
                                    "\n",
                                    "This function divides our dataset into training and testing sets according to the proportions specified by `test_size`. The `shuffle` parameter decides whether the data should be shuffled before splitting. In this case, we're opting not to shuffle the data.\n",
                                    "\n",
                                    "## Data Standardization and Transformation\n",
                                    "\n",
                                    "Once we've reshaped and segmented our data, the next important step is to standardize our data for Neural Networks. Standardization ensures that all features in our dataset operate on the same scale, ensuring that each feature is treated equally by the model, which can enhance the model's performance.\n",
                                    "\n",
                                    "The `StandardScaler` from the sklearn library allows us to standardize our data efficiently:\n",
                                    "\n",
                                    "```python\n",
                                    "from sklearn.preprocessing import StandardScaler\n",
                                    "\n",
                                    "# Instantiate the standard scaler\n",
                                    "scaler = StandardScaler()\n",
                                    "\n",
                                    "# Fit the scaler to the training data and transform it\n",
                                    "X_train = scaler.fit_transform(X_train)\n",
                                    "\n",
                                    "# Transform the test data\n",
                                    "X_test = scaler.transform(X_test)\n",
                                    "```\n",
                                    "\n",
                                    "This sequence first calculates the mean and standard deviation of the training data, then subtracts the mean from each feature and divides it by its corresponding standard deviation, effectively scaling the data.\n",
                                    "\n",
                                    "## Dataset Characteristics\n",
                                    "\n",
                                    "After completing the preprocessing steps of reshaping, splitting, and standardization, it's beneficial to observe the nature and characteristics of our dataset in detail. Python offers numerous options to explore these qualities, even with simple print statements.\n",
                                    "\n",
                                    "Consider the following command, which prints the shape of our dataset:\n",
                                    "\n",
                                    "```python\n",
                                    "# Print shapes of the datasets\n",
                                    "print(f\"Training data shape: {X_train.shape}\")\n",
                                    "print(f\"Test data shape: {X_test.shape}\")\n",
                                    "```\n",
                                    "\n",
                                    "Output:\n",
                                    "\n",
                                    "```python\n",
                                    "Training data shape: (898, 64)\n",
                                    "Test data shape: (899, 64)\n",
                                    "```\n",
                                    "\n",
                                    "The output from these commands provides insight into the number of samples and features present in our training and testing datasets.\n",
                                    "\n",
                                    "## Lesson Summary and Practice\n",
                                    "\n",
                                    "Congratulations on reaching the end of this lesson on Data Preprocessing and Transformation! You've acquired essential skills in reshaping image data, splitting it into training and testing sets, standardizing the data, and combining all these steps.\n",
                                    "\n",
                                    "In the upcoming practice exercises, you'll gain hands-on experience with these concepts, augmenting your prowess in these techniques and deepening your understanding.\n",
                                    "\n",
                                    "We are almost ready to start learning about neural networks! For now, let's practice some of what we've learned above.\n",
                                    "\n",
                                    "---\n",
                                    "\n",
                                    "This markdown version organizes the content clearly, making it easy to follow and understand the steps involved in data preprocessing for neural networks."
                           ]
                  },
                  {
                           "cell_type": "markdown",
                           "metadata": {},
                           "source": [
                                    "## Displaying the Flattened Digits Dataset"
                           ]
                  },
                  {
                           "cell_type": "markdown",
                           "metadata": {},
                           "source": [
                                    "## Shuffling Digits Dataset for Better Training"
                           ]
                  },
                  {
                           "cell_type": "markdown",
                           "metadata": {},
                           "source": [
                                    "## Standardizing Data for Neural Networks"
                           ]
                  },
                  {
                           "cell_type": "markdown",
                           "metadata": {},
                           "source": [
                                    "## Data Preprocessing: Fit or Fit-Transform?"
                           ]
                  },
                  {
                           "cell_type": "markdown",
                           "metadata": {},
                           "source": [
                                    "## Data Preprocessing for Neural Networks"
                           ]
                  }
         ],
         "metadata": {
                  "language_info": {
                           "name": "python"
                  }
         },
         "nbformat": 4,
         "nbformat_minor": 5
}
