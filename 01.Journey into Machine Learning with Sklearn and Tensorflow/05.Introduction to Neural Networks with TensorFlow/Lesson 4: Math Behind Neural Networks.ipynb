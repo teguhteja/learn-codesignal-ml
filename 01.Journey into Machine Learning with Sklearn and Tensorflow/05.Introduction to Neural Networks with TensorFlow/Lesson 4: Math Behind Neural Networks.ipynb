{
            "cells": [
  {
            "cell_type": "markdown",
            "metadata": {},
            "source": [
                "# Lesson 4: Math Behind Neural Networks"
            ]
            }
 ,{
            "cell_type": "markdown",
            "metadata": {},
            "source": [
 "## Implementing the Sigmoid Activation Function" 
   ]
            }
 ,{
            "cell_type": "markdown",
            "metadata": {},
            "source": [
 "## Implementing the ReLU Activation Function" 
   ]
            }
 ,{
            "cell_type": "markdown",
            "metadata": {},
            "source": [
 "## Neuron Output Calculation Fix" 
   ]
            }
 ,{
            "cell_type": "markdown",
            "metadata": {},
            "source": [
 "## Defining Second Layer of Neurons" 
   ]
            }
   ],
 "metadata": {},
 "nbformat": 4,
 "nbformat_minor": 5
}
