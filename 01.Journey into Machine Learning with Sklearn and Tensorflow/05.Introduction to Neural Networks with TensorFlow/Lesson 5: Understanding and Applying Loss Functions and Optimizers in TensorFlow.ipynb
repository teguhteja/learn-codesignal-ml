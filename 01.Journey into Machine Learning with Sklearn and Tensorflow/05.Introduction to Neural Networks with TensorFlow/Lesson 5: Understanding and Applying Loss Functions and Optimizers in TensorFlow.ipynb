{
            "cells": [
  {
            "cell_type": "markdown",
            "metadata": {},
            "source": [
                "# Lesson 5: Understanding and Applying Loss Functions and Optimizers in TensorFlow"
            ]
            }
 ,{
            "cell_type": "markdown",
            "metadata": {},
            "source": [
 "## Exploring the Neural Network Architecture" 
   ]
            }
 ,{
            "cell_type": "markdown",
            "metadata": {},
            "source": [
 "## Applying Optimal Settings for Neural Network Compilation" 
   ]
            }
 ,{
            "cell_type": "markdown",
            "metadata": {},
            "source": [
 "## Correcting Neural Network Errors" 
   ]
            }
 ,{
            "cell_type": "markdown",
            "metadata": {},
            "source": [
 "## Building a Classification Neural Network" 
   ]
            }
   ],
 "metadata": {},
 "nbformat": 4,
 "nbformat_minor": 5
}
