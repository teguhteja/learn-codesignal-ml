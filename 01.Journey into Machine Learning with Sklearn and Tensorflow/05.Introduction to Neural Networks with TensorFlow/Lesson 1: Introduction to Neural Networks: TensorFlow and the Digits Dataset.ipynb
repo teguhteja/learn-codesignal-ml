{
         "cells": [
                  {
                           "attachments": {
                                    "image.png": {
                                             "image/png": "[encoded data removed]"
                                    }
                           },
                           "cell_type": "markdown",
                           "metadata": {},
                           "source": [
                                    "# Lesson 1: Introduction to Neural Networks: TensorFlow and the Digits Dataset\n",
                                    "\n",
                                    "Here's the markdown version of your lesson:\n",
                                    "\n",
                                    "---\n",
                                    "\n",
                                    "# Introduction to Neural Networks: TensorFlow and the Digits Dataset\n",
                                    "\n",
                                    "## Understanding TensorFlow and The Digits Dataset\n",
                                    "\n",
                                    "Welcome aboard! In this lesson, we'll embark on the fascinating journey of neural networks and deep learning using TensorFlow, an open-source library developed by the Google Brain team. We'll grasp its essence and then delve into the Digits dataset from scikit-learn.\n",
                                    "\n",
                                    "TensorFlow offers a flexible, efficient, and extensible framework for various machine learning and deep learning models. Such models find applications in numerous areas like image and speech recognition, as well as the generation of art and music. Essentially, TensorFlow forms the backbone of deep artificial learning, enabling us to develop, train, and evaluate fundamental deep learning models.\n",
                                    "\n",
                                    "On the other hand, the Digits dataset is part of scikit-learn, a renowned Python library for machine learning. Containing 8x8 images of digits, the Digits dataset aids us in building and training our neural network models, particularly for pattern recognition.\n",
                                    "\n",
                                    "In this course, we'll learn how to train a neural network that's able to recognize handwritten digits—cool, huh? Let's get to it!\n",
                                    "\n",
                                    "## Importing TensorFlow and The Digits Dataset\n",
                                    "\n",
                                    "Having unraveled what TensorFlow and the Digits dataset are, we'll start by importing these for our use. In Python, the `import` keyword brings various libraries into our projects.\n",
                                    "\n",
                                    "First, let's import TensorFlow and alias it as `tf`:\n",
                                    "\n",
                                    "```python\n",
                                    "import tensorflow as tf\n",
                                    "```\n",
                                    "\n",
                                    "To import the Digits dataset, which resides in the `datasets` module of the scikit-learn library, we can use:\n",
                                    "\n",
                                    "```python\n",
                                    "from sklearn import datasets\n",
                                    "```\n",
                                    "\n",
                                    "## Loading and Displaying a Sample From The Dataset\n",
                                    "\n",
                                    "After importing TensorFlow and the Digits dataset, the next step is to load the dataset and display a sample from it. The Digits dataset is loaded with the `datasets.load_digits()` function:\n",
                                    "\n",
                                    "```python\n",
                                    "digits = datasets.load_digits()\n",
                                    "```\n",
                                    "\n",
                                    "Next, let's look at some of the images from the dataset along with their labels:\n",
                                    "\n",
                                    "```python\n",
                                    "import matplotlib.pyplot as plt\n",
                                    "\n",
                                    "# Creating a 3x3 grid for subplots with a smaller figure size\n",
                                    "fig, axes = plt.subplots(nrows=3, ncols=3, figsize=(3, 3))  # Reduced figure size\n",
                                    "\n",
                                    "# Flatten the axes array for easy iterating\n",
                                    "axes = axes.flatten()\n",
                                    "\n",
                                    "for i in range(9):  # Display the first 9 images\n",
                                    "    image, label = digits.images[i], digits.target[i]\n",
                                    "    axes[i].imshow(image, cmap='gray')\n",
                                    "    axes[i].set_title(f'Label: {label}')\n",
                                    "    axes[i].axis('off')  # Hide axes for a cleaner look\n",
                                    "\n",
                                    "plt.tight_layout()  # Adjusts subplot params so that the subplot(s) fits in to the figure area\n",
                                    "plt.show()\n",
                                    "```\n",
                                    "![image.png](attachment:image.png)\n",
                                    "\n",
                                    "This code creates a 3x3 grid of subplots within a figure of size 3x3 inches to display the first nine images from the Digits dataset. Each subplot shows an image with its corresponding label as the title, with the axes turned off for a clean appearance. The `tight_layout()` function is used to adjust the spacing between subplots for optimal display.\n",
                                    "\n",
                                    "While it's easier to see the images in a zoomed-out state like above, we can also examine a single one up-close to see what it looks like.\n",
                                    "\n",
                                    "```python\n",
                                    "image, label = digits.images[99], digits.target[99]\n",
                                    "\n",
                                    "# Displaying the image\n",
                                    "plt.imshow(image, cmap='gray')\n",
                                    "plt.title(f'Label: {label}')\n",
                                    "plt.show()\n",
                                    "```\n",
                                    "\n",
                                    "As the label shows, this is a handwritten \"1\", but since we are looking at it so up-close, it's hard to make it out.\n",
                                    "\n",
                                    "## Verifying TensorFlow's Availability\n",
                                    "\n",
                                    "Since we'll be using TensorFlow in this course, let's see how you can check TensorFlow's availability in your environment before we wrap up this lesson. The CodeSignal IDE comes pre-installed with TensorFlow, but this is how you can install it and check that it's working in your own local environment.\n",
                                    "\n",
                                    "```bash\n",
                                    "pip install tensorflow\n",
                                    "```\n",
                                    "\n",
                                    "```python\n",
                                    "import tensorflow as tf\n",
                                    "\n",
                                    "print(f\"TensorFlow version: {tf.__version__}\")\n",
                                    "```\n",
                                    "\n",
                                    "## Lesson Summary and Looking Ahead\n",
                                    "\n",
                                    "In this lesson, you gained a fair understanding of TensorFlow and the Digits dataset, striking off essentials on your journey through the intriguing realm of neural networks and deep learning. We covered how to import TensorFlow and the Digits dataset, how to display a sample from the dataset, and how to ensure TensorFlow's availability.\n",
                                    "\n",
                                    "Going forward, brace yourselves for an enthralling ride deeper into data preprocessing, neural networks, and optimization techniques. For now, keep practicing and refining your knowledge of TensorFlow usage and handling the Digits dataset. Happy learning!\n",
                                    "\n",
                                    "---\n",
                                    "\n",
                                    "This markdown structure ensures the content is organized and easy to follow, with clear sections for each topic."
                           ]
                  },
                  {
                           "cell_type": "markdown",
                           "metadata": {},
                           "source": [
                                    "## Visualize an Image and Verify TensorFlow Version"
                           ]
                  },
                  {
                           "cell_type": "markdown",
                           "metadata": {},
                           "source": [
                                    "## Exploring Binary Color Map for Digit Images"
                           ]
                  },
                  {
                           "cell_type": "markdown",
                           "metadata": {},
                           "source": [
                                    "## Exploring Image Representation with Color Maps"
                           ]
                  }
         ],
         "metadata": {
                  "language_info": {
                           "name": "python"
                  }
         },
         "nbformat": 4,
         "nbformat_minor": 5
}
