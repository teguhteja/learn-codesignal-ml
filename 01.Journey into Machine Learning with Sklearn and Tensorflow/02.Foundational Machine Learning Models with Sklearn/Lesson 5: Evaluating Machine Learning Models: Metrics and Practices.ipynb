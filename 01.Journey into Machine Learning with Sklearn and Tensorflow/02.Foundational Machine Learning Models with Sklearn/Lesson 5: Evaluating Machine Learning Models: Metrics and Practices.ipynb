{
 "cells": [
  {
   "cell_type": "markdown",
   "metadata": {},
   "source": [
    "# Lesson 5: Evaluating Machine Learning Models: Metrics and Practices"
   ]
  },
  {
   "cell_type": "markdown",
   "metadata": {},
   "source": [
 "## Crunching Numbers: Calculating Mean Absolute Error" 
   ]
  },
  {
   "cell_type": "markdown",
   "metadata": {},
   "source": [
 "## Precision in Logistic Regression Models" 
   ]
  },
  {
   "cell_type": "markdown",
   "metadata": {},
   "source": [
 "## Evaluating Accuracy of Decision Tree Model" 
   ]
  },
   ]
  }
 ],
 "metadata": {},
 "nbformat": 4,
 "nbformat_minor": 5
}
