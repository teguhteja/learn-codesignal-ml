{
 "cells": [
  {
   "cell_type": "markdown",
   "metadata": {},
   "source": [
    "# Lesson 1: Exploring Sklearn: Introduction to Machine Learning Basics"
   ]
  },
  {
   "cell_type": "markdown",
   "metadata": {},
   "source": [
 "## Inspecting the Shape of the Iris Dataset" 
   ]
  },
  {
   "cell_type": "markdown",
   "metadata": {},
   "source": [
 "## Loading the Iris Dataset from Sklearn" 
   ]
  },
  {
   "cell_type": "markdown",
   "metadata": {},
   "source": [
 "## Splitting the Dataset into Training and Testing Data" 
   ]
  },
  {
   "cell_type": "markdown",
   "metadata": {},
   "source": [
 "## Fixing the Dataset Splitting Code" 
   ]
  }
   ],
 "metadata": {},
 "nbformat": 4,
 "nbformat_minor": 5
}
