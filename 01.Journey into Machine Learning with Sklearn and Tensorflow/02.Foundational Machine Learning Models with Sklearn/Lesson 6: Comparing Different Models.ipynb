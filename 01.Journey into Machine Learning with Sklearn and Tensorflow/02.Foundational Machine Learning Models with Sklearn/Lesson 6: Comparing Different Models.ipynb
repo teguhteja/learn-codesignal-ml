{
 "cells": [
  {
   "cell_type": "markdown",
   "metadata": {},
   "source": [
    "# Lesson 6: Comparing Different Models"
   ]
  },
  {
   "cell_type": "markdown",
   "metadata": {},
   "source": [
 "## Implement Linear Regression on the Iris Dataset" 
   ]
  },
  {
   "cell_type": "markdown",
   "metadata": {},
   "source": [
 "## Implementing Logistic Regression Model with Iris Dataset" 
   ]
  },
  {
   "cell_type": "markdown",
   "metadata": {},
   "source": [
 "## Improving Decision Tree Model with Parameter Tuning" 
   ]
  },
   ]
  }
 ],
 "metadata": {},
 "nbformat": 4,
 "nbformat_minor": 5
}
