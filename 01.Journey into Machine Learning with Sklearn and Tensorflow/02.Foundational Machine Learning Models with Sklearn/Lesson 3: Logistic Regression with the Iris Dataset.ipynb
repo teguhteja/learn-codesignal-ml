{
 "cells": [
  {
   "cell_type": "markdown",
   "metadata": {},
   "source": [
    "# Lesson 3: Logistic Regression with the Iris Dataset"
   ]
  },
  {
   "cell_type": "markdown",
   "metadata": {},
   "source": [
 "## Splitting the Dataset into Training and Testing Data" 
   ]
  },
  {
   "cell_type": "markdown",
   "metadata": {},
   "source": [
 "## Generating Predictions using Logistic Regression Model" 
   ]
  },
  {
   "cell_type": "markdown",
   "metadata": {},
   "source": [
 "## Tune the Logistic Regression Model" 
   ]
  },
  {
   "cell_type": "markdown",
   "metadata": {},
   "source": [
 "## Implement Logistic Regression model training" 
   ]
  },
   ]
  }
 ],
 "metadata": {},
 "nbformat": 4,
 "nbformat_minor": 5
}
