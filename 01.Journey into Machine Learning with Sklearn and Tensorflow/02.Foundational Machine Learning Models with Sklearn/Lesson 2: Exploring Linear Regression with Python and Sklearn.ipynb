{
 "cells": [
  {
   "cell_type": "markdown",
   "metadata": {},
   "source": [
    "# Lesson 2: Exploring Linear Regression with Python and Sklearn"
   ]
  },
  {
   "cell_type": "markdown",
   "metadata": {},
   "source": [
 "## Implementing a Linear Regression Model with 2 Features" 
   ]
  },
  {
   "cell_type": "markdown",
   "metadata": {},
   "source": [
 "## Model fitting and evaluation" 
   ]
  },
  {
   "cell_type": "markdown",
   "metadata": {},
   "source": [
 "## Assess Model Performance on Test Data" 
   ]
  },
  {
   "cell_type": "markdown",
   "metadata": {},
   "source": [
 "## Splitting the Dataset into Training and Testing Data" 
   ]
  },
   ]
  }
 ],
 "metadata": {},
 "nbformat": 4,
 "nbformat_minor": 5
}
