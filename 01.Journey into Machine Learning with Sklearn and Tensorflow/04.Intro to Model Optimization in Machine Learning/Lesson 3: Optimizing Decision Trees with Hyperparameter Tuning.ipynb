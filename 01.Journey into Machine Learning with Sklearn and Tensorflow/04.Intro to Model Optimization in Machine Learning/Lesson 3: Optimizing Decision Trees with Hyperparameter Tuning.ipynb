{
            "cells": [
  {
            "cell_type": "markdown",
            "metadata": {},
            "source": [
                "# Lesson 3: Optimizing Decision Trees with Hyperparameter Tuning"
            ]
            }
 ,{
            "cell_type": "markdown",
            "metadata": {},
            "source": [
 "## Widening the GridSearchCV Parameter Range" 
   ]
            }
 ,{
            "cell_type": "markdown",
            "metadata": {},
            "source": [
 "## Sailing Through Decision Tree Hyperparameters" 
   ]
            }
 ,{
            "cell_type": "markdown",
            "metadata": {},
            "source": [
 "## Navigating the GridSearch Space" 
   ]
            }
 ,{
            "cell_type": "markdown",
            "metadata": {},
            "source": [
 "## Exploring the Decision Tree Parameter Space" 
   ]
            }
   ],
 "metadata": {},
 "nbformat": 4,
 "nbformat_minor": 5
}
