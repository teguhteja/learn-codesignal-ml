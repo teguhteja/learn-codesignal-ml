{
 "cells": [
  {
   "cell_type": "markdown",
   "metadata": {},
   "source": [
    "# Lesson 1: Exploring Feature Engineering with the UCI Abalone Dataset"
   ]
  }
 ,{
   "cell_type": "markdown",
   "metadata": {},
   "source": [
 "## Display Dataset Features" 
   ]
  }
 ,{
   "cell_type": "markdown",
   "metadata": {},
   "source": [
 "## Display Dataset Descriptive Features" 
   ]
  }
 ,{
   "cell_type": "markdown",
   "metadata": {},
   "source": [
 "## Display More Dataset Entries" 
   ]
  }
   ],
 "metadata": {},
 "nbformat": 4,
 "nbformat_minor": 5
}
