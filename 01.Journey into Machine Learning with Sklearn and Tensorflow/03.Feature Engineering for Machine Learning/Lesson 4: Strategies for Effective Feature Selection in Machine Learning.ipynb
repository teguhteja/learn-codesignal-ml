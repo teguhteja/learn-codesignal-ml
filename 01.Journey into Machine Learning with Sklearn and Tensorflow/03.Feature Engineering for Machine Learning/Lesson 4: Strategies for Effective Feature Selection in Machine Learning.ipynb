{
 "cells": [
  {
   "cell_type": "markdown",
   "metadata": {},
   "source": [
    "# Lesson 4: Strategies for Effective Feature Selection in Machine Learning"
   ]
  }
 ,{
   "cell_type": "markdown",
   "metadata": {},
   "source": [
 "## Playing With Wrapper Method" 
   ]
  }
 ,{
   "cell_type": "markdown",
   "metadata": {},
   "source": [
 "## Implementing Embedded Feature Selection Method using Lasso" 
   ]
  }
 ,{
   "cell_type": "markdown",
   "metadata": {},
   "source": [
 "## Refining Feature Selection with f_classif" 
   ]
  }
   ],
 "metadata": {},
 "nbformat": 4,
 "nbformat_minor": 5
}
