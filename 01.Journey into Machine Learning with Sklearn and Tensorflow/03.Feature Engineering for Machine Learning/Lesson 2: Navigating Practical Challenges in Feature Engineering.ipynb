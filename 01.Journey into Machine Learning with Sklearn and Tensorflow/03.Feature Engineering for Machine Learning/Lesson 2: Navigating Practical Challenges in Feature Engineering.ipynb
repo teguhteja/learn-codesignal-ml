{
 "cells": [
  {
   "cell_type": "markdown",
   "metadata": {},
   "source": [
    "# Lesson 2: Navigating Practical Challenges in Feature Engineering"
   ]
  }
 ,{
   "cell_type": "markdown",
   "metadata": {},
   "source": [
 "## Implementing Median Imputation for Numeric Features" 
   ]
  }
 ,{
   "cell_type": "markdown",
   "metadata": {},
   "source": [
 "## Applying Label Encoding to Categorical Data" 
   ]
  }
 ,{
   "cell_type": "markdown",
   "metadata": {},
   "source": [
 "## Debugging the Feature Engineering Pipeline" 
   ]
  }
 ,{
   "cell_type": "markdown",
   "metadata": {},
   "source": [
 "## Applying Categorical Encoding and Median Imputation on the Abalone Dataset" 
   ]
  }
   ],
 "metadata": {},
 "nbformat": 4,
 "nbformat_minor": 5
}
