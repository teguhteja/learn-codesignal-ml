{
            "cells": [
  {
            "cell_type": "markdown",
            "metadata": {},
            "source": [
                "# Unit 1"
            ]
            }
 ,{
            "cell_type": "markdown",
            "metadata": {},
            "source": [
                "## What is Streamlit?"
            ]
            }
 ,{
            "cell_type": "markdown",
            "metadata": {},
            "source": [
                "## Setting Up Streamlit Dependencies"
            ]
            }
 ,{
            "cell_type": "markdown",
            "metadata": {},
            "source": [
                "## Create Your First Streamlit App"
            ]
            }
 ,{
            "cell_type": "markdown",
            "metadata": {},
            "source": [
                "## Quiz about Streamlit Basics"
            ]
            }
 ,{
            "cell_type": "markdown",
            "metadata": {},
            "source": [
                "## Quiz about Streamlit Basics"
            ]
            }
   ],
 "metadata": {},
 "nbformat": 4,
 "nbformat_minor": 5
}
