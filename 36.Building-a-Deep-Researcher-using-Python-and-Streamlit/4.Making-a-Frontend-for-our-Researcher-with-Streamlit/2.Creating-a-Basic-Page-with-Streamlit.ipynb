{
            "cells": [
  {
            "cell_type": "markdown",
            "metadata": {},
            "source": [
                "# Unit 2"
            ]
            }
 ,{
            "cell_type": "markdown",
            "metadata": {},
            "source": [
                "## Creating a Basic Page with Streamlit"
            ]
            }
 ,{
            "cell_type": "markdown",
            "metadata": {},
            "source": [
                "## Building Your First Streamlit Page"
            ]
            }
 ,{
            "cell_type": "markdown",
            "metadata": {},
            "source": [
                "## Adding User Input to Your App"
            ]
            }
 ,{
            "cell_type": "markdown",
            "metadata": {},
            "source": [
                "## Adding a Research Depth Slider"
            ]
            }
 ,{
            "cell_type": "markdown",
            "metadata": {},
            "source": [
                "## Adding Interactive Buttons with Feedback"
            ]
            }
 ,{
            "cell_type": "markdown",
            "metadata": {},
            "source": [
                "## Adding Interactive Buttons with Feedback"
            ]
            }
   ],
 "metadata": {},
 "nbformat": 4,
 "nbformat_minor": 5
}
