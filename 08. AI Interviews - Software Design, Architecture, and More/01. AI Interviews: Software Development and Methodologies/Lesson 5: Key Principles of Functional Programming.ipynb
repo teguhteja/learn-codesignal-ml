{
            "cells": [
  {
            "cell_type": "markdown",
            "metadata": {},
            "source": [
                "# Lesson 5: Key Principles of Functional Programming"
            ]
            }
 ,{
            "cell_type": "markdown",
            "metadata": {},
            "source": [
 "## Principles of Functional Programming" 
   ]
            }
   ],
 "metadata": {},
 "nbformat": 4,
 "nbformat_minor": 5
}
