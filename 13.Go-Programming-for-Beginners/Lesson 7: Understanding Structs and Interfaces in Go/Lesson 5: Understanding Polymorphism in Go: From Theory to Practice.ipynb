{
            "cells": [
  {
            "cell_type": "markdown",
            "metadata": {},
            "source": [
                "# Lesson 5: Understanding Polymorphism in Go: From Theory to Practice"
            ]
            }
 ,{
            "cell_type": "markdown",
            "metadata": {},
            "source": [
 "## Polymorphic Zoo: Animal Expressions in Go" 
   ]
            }
 ,{
            "cell_type": "markdown",
            "metadata": {},
            "source": [
 "## Add Behaviors to Zoo Simulator Animals in Go" 
   ]
            }
   ],
 "metadata": {},
 "nbformat": 4,
 "nbformat_minor": 5
}
