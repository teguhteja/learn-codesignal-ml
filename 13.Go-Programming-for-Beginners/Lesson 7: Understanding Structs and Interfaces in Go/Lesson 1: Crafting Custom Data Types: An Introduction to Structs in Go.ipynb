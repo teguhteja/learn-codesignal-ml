{
         "cells": [
                  {
                           "cell_type": "markdown",
                           "metadata": {},
                           "source": [
                                    "# Lesson 1: Crafting Custom Data Types: An Introduction to Structs in Go\n",
                                    "\n",
                                    "## Topic Overview and Importance\n",
                                    "Welcome! Today, we're exploring **structs** in Go. Structs are critical for grouping related data. For example, a library book has properties such as the title, author, and publication year; these can all be represented using a struct in Go. \n",
                                    "\n",
                                    "Our goal is to understand how to **define**, **create**, and **utilize structs** in Go.\n",
                                    "\n",
                                    "---\n",
                                    "\n",
                                    "## Introduction to Structs in Go\n",
                                    "Structs in Go collate related data, facilitating better code organization. Many real-world objects can be modeled as structs.\n",
                                    "\n",
                                    "Creating a struct involves defining a custom type with a set of associated properties, referred to as **fields**. For example, a `Book` struct can contain fields like `Title`, `Author`, and `Year`. \n",
                                    "\n",
                                    "The declaration of these fields follows the pattern:\n",
                                    "```\n",
                                    "fieldName fieldType\n",
                                    "```\n",
                                    "\n",
                                    "### Example: Defining a Struct\n",
                                    "```go\n",
                                    "type Book struct {\n",
                                    "    Title  string\n",
                                    "    Author string\n",
                                    "    Year   int\n",
                                    "}\n",
                                    "```\n",
                                    "Now, we have a `Book` type that includes associated data, marking it as a unique, custom type.\n",
                                    "\n",
                                    "---\n",
                                    "\n",
                                    "## Creating Structs in Go\n",
                                    "Once you've defined a struct, creating an instance of it is straightforward:\n",
                                    "\n",
                                    "### Example: Creating and Using a Struct\n",
                                    "```go\n",
                                    "func main() {\n",
                                    "    var book1 Book \n",
                                    "    book1.Title = \"To Kill a Mockingbird\"\n",
                                    "    book1.Author = \"Harper Lee\"\n",
                                    "    book1.Year = 1960\n",
                                    "\n",
                                    "    fmt.Println(book1) // Output: {To Kill a Mockingbird Harper Lee 1960}\n",
                                    "}\n",
                                    "```\n",
                                    "\n",
                                    "In the code above:\n",
                                    "1. We declare `book1` as a type `Book`.\n",
                                    "2. We assign values to the `book1` fields using dot notation.\n",
                                    "\n",
                                    "---\n",
                                    "\n",
                                    "## Using Structs Effectively in Go\n",
                                    "Structs enable us to manage complex data in an organized fashion. They become indispensable when dealing with large programs that involve multiple complex data relationships.\n",
                                    "\n",
                                    "### Example: Managing a Collection of Structs\n",
                                    "```go\n",
                                    "func main() {\n",
                                    "    book1 := Book{\"To Kill a Mockingbird\", \"Harper Lee\", 1960}\n",
                                    "    book2 := Book{Title: \"1984\", Author: \"George Orwell\", Year: 1949}\n",
                                    "    \n",
                                    "    books := []Book{book1, book2}\n",
                                    "    \n",
                                    "    for _, book := range books {\n",
                                    "        fmt.Println(book) \n",
                                    "        // Output: \n",
                                    "        // {To Kill a Mockingbird Harper Lee 1960}\n",
                                    "        // {1984 George Orwell 1949}\n",
                                    "    }\n",
                                    "}\n",
                                    "```\n",
                                    "\n",
                                    "In this example:\n",
                                    "- We define two `Book` instances and add them to a slice.\n",
                                    "- A `for` loop is used to iterate over the slice and print each book.\n",
                                    "\n",
                                    "---\n",
                                    "\n",
                                    "## Lesson Summary and Practice\n",
                                    "We've covered a significant concept — **structs** in Go. Here's what we've learned:\n",
                                    "1. **Defining Structs**: Using `type` to create a custom struct type.\n",
                                    "2. **Creating Structs**: Instantiating structs and assigning values to their fields.\n",
                                    "3. **Using Structs**: Organizing data and managing collections using structs.\n",
                                    "\n",
                                    "### Next Steps\n",
                                    "We'll delve into using **methods** with structs and explore how they function in complex scenarios. Enjoy your practice!\n",
                                    "\n",
                                    "--- \n",
                                    "\n",
                                    "Let me know if you need further assistance! 🚀"
                           ]
                  },
                  {
                           "cell_type": "markdown",
                           "metadata": {},
                           "source": [
                                    "## Create a Library Book Struct in Go"
                           ]
                  },
                  {
                           "cell_type": "markdown",
                           "metadata": {},
                           "source": [
                                    "## Enhancing Struct Initialization with Field Names"
                           ]
                  },
                  {
                           "cell_type": "markdown",
                           "metadata": {},
                           "source": [
                                    "## Add a Struct for a Book in Go"
                           ]
                  },
                  {
                           "cell_type": "markdown",
                           "metadata": {},
                           "source": [
                                    "## Displaying Books in a Digital Library"
                           ]
                  },
                  {
                           "cell_type": "markdown",
                           "metadata": {},
                           "source": [
                                    "## Modeling a Library Using Structs in Go"
                           ]
                  }
         ],
         "metadata": {
                  "language_info": {
                           "name": "python"
                  }
         },
         "nbformat": 4,
         "nbformat_minor": 5
}
