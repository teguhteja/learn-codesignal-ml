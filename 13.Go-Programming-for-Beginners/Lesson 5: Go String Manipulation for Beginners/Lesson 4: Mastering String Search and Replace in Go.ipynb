{
 "cells": [
  {
   "cell_type": "markdown",
   "metadata": {},
   "source": [
    "# Lesson 4: Mastering String Search and Replace in Go\n",
    "\n",
    "### Overview and Actualizing the Topic  \n",
    "\n",
    "Hello, learners! In today's session, we will explore searching and replacing strings in Go. Imagine this scenario: you're operating a chat service and need to filter and replace certain inappropriate words. This lesson will show you how to accomplish this task using Go's standard `strings` package.  \n",
    "\n",
    "---\n",
    "\n",
    "### String Searching: The `strings.Index` and `strings.LastIndex` Functions  \n",
    "\n",
    "Let's start with string searching. Go offers the `strings.Index` and `strings.LastIndex` functions.  \n",
    "- **`strings.Index`**: Returns the index of the first occurrence of a substring.  \n",
    "- **`strings.LastIndex`**: Returns the index of the last occurrence of a substring.  \n",
    "\n",
    "#### Example 1: Using `strings.Index`  \n",
    "\n",
    "```go\n",
    "package main\n",
    "\n",
    "import (\n",
    "    \"fmt\"\n",
    "    \"strings\"\n",
    ")\n",
    "\n",
    "func main() {\n",
    "    str := \"Hello, CodeSignal learners!\"\n",
    "    fmt.Println(strings.Index(str, \"CodeSignal\")) // Output: 7, as str[7:16] = \"CodeSignal\"\n",
    "}\n",
    "```  \n",
    "\n",
    "In this example, the string \"CodeSignal\" begins at index **7** in our string.  \n",
    "\n",
    "#### Example 2: Using `strings.LastIndex`  \n",
    "\n",
    "```go\n",
    "package main\n",
    "\n",
    "import (\n",
    "    \"fmt\"\n",
    "    \"strings\"\n",
    ")\n",
    "\n",
    "func main() {\n",
    "    str := \"CodeSignal is fun. I love CodeSignal!\"\n",
    "    fmt.Println(strings.LastIndex(str, \"CodeSignal\")) // Output: 26\n",
    "}\n",
    "```  \n",
    "\n",
    "Here, \"CodeSignal\" starts at index **26** in the last instance within our string. Efficient, isn't it?  \n",
    "\n",
    "---\n",
    "\n",
    "### Checking Substring Existence: The `strings.Contains` Function  \n",
    "\n",
    "The `strings.Contains` function checks whether a string contains a particular sequence of characters, regardless of their position.  \n",
    "\n",
    "#### Example:  \n",
    "\n",
    "```go\n",
    "package main\n",
    "\n",
    "import (\n",
    "    \"fmt\"\n",
    "    \"strings\"\n",
    ")\n",
    "\n",
    "func main() {\n",
    "    str := \"Welcome to CodeSignal!\"\n",
    "    fmt.Println(strings.Contains(str, \"CodeSignal\")) // Output: true\n",
    "}\n",
    "```  \n",
    "\n",
    "This proves that \"CodeSignal\" is present in our string. These practical functions are highly useful for real-world situations!  \n",
    "\n",
    "---\n",
    "\n",
    "### String Replacement: The `strings.ReplaceAll` Function  \n",
    "\n",
    "Replacing specific elements within strings is easy with `strings.ReplaceAll`. This function replaces **all** instances of the provided substring with another string.  \n",
    "\n",
    "#### Example:  \n",
    "\n",
    "```go\n",
    "package main\n",
    "\n",
    "import (\n",
    "    \"fmt\"\n",
    "    \"strings\"\n",
    ")\n",
    "\n",
    "func main() {\n",
    "    str := \"Apples are sweet. I love apples! Apples are healthy as well.\"\n",
    "    fmt.Println(strings.ReplaceAll(str, \"Apples\", \"Oranges\")) \n",
    "    // Output: \"Oranges are sweet. I love apples! Oranges are healthy as well.\"\n",
    "}\n",
    "```  \n",
    "\n",
    "Note that \"apples\" (lowercase) remains unchanged because Go treats \"Apples\" (uppercase) and \"apples\" as distinct strings.  \n",
    "\n",
    "---\n",
    "\n",
    "### String Replacement: The `strings.Replace` Function  \n",
    "\n",
    "To replace **only a specific number of occurrences** of a target word, use `strings.Replace`.  \n",
    "\n",
    "#### Example:  \n",
    "\n",
    "```go\n",
    "package main\n",
    "\n",
    "import (\n",
    "    \"fmt\"\n",
    "    \"strings\"\n",
    ")\n",
    "\n",
    "func main() {\n",
    "    str := \"Apples are sweet. I love apples because apples are healthy.\"\n",
    "    fmt.Println(strings.Replace(str, \"apples\", \"oranges\", 1)) \n",
    "    // Output: \"Apples are sweet. I love oranges because apples are healthy.\"\n",
    "}\n",
    "```  \n",
    "\n",
    "Here, only the **first occurrence** of \"apples\" (lowercase) is replaced with \"oranges\". The `1` as the fourth argument specifies the number of replacements to perform.  \n",
    "\n",
    "---\n",
    "\n",
    "### Lesson Summary and Practice  \n",
    "\n",
    "🎉 Fantastic job! Now, you can utilize Go's string search and modification functions effectively:  \n",
    "1. **`strings.Index`** and **`strings.LastIndex`**: Locate specific elements in a string.  \n",
    "2. **`strings.Contains`**: Confirm the presence of a substring.  \n",
    "3. **`strings.ReplaceAll`**: Replace **all** occurrences of a substring.  \n",
    "4. **`strings.Replace`**: Replace a **specific number** of occurrences.  \n",
    "\n",
    "Hands-on exercises are up next! Practice consistently to master these concepts. Happy coding! 🚀  "
   ]
  },
  {
   "cell_type": "markdown",
   "metadata": {},
   "source": [
    "## Promoting Go in Online Chats"
   ]
  },
  {
   "cell_type": "markdown",
   "metadata": {},
   "source": [
    "## Moderating Chat Messages in Go"
   ]
  },
  {
   "cell_type": "markdown",
   "metadata": {},
   "source": [
    "## Formatting Chat Messages in Go"
   ]
  },
  {
   "cell_type": "markdown",
   "metadata": {},
   "source": [
    "## Formatting Chat Messages in Go"
   ]
  },
  {
   "cell_type": "markdown",
   "metadata": {},
   "source": [
    "## Censoring Forbidden Words in Go"
   ]
  },
  {
   "cell_type": "markdown",
   "metadata": {},
   "source": [
    "## Replace the First Word"
   ]
  },
  {
   "cell_type": "markdown",
   "metadata": {},
   "source": [
    "## Add Last Word Replacement Logic to Chat Moderator Program"
   ]
  }
 ],
 "metadata": {
  "language_info": {
   "name": "python"
  }
 },
 "nbformat": 4,
 "nbformat_minor": 5
}
