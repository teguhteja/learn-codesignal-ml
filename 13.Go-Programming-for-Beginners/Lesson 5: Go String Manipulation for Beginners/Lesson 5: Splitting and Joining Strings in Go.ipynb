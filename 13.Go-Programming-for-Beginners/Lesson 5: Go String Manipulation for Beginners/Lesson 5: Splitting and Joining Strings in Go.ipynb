{
            "cells": [
  {
            "cell_type": "markdown",
            "metadata": {},
            "source": [
                "# Lesson 5: Splitting and Joining Strings in Go"
            ]
            }
 ,{
            "cell_type": "markdown",
            "metadata": {},
            "source": [
 "## String Transformation of a Shakespearean Quote in Go" 
   ]
            }
 ,{
            "cell_type": "markdown",
            "metadata": {},
            "source": [
 "## Dramatize Shakespeare with String Manipulation in Go" 
   ]
            }
 ,{
            "cell_type": "markdown",
            "metadata": {},
            "source": [
 "## String Shortening Challenge in Go" 
   ]
            }
   ],
 "metadata": {},
 "nbformat": 4,
 "nbformat_minor": 5
}
