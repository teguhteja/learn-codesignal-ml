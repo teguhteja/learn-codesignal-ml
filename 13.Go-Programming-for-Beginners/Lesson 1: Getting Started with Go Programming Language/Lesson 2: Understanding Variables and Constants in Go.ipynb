{
            "cells": [
  {
            "cell_type": "markdown",
            "metadata": {},
            "source": [
                "# Lesson 2: Understanding Variables and Constants in Go"
            ]
            }
 ,{
            "cell_type": "markdown",
            "metadata": {},
            "source": [
 "## Exploring Go: Variables and Constants of Our Planet" 
   ]
            }
 ,{
            "cell_type": "markdown",
            "metadata": {},
            "source": [
 "## Defining and Using Constants in Go" 
   ]
            }
 ,{
            "cell_type": "markdown",
            "metadata": {},
            "source": [
 "## Navigating Go Variables: Earth's Orbit and Solar System Count Debugging Challenge" 
   ]
            }
 ,{
            "cell_type": "markdown",
            "metadata": {},
            "source": [
 "## Defining Constants in Go: The Speed of a Cheetah" 
   ]
            }
 ,{
            "cell_type": "markdown",
            "metadata": {},
            "source": [
 "## Understanding Variables and Constants in Go" 
   ]
            }
 ,{
            "cell_type": "markdown",
            "metadata": {},
            "source": [
 "## Discovering a New Planet: Update the Variable" 
   ]
            }
   ],
 "metadata": {},
 "nbformat": 4,
 "nbformat_minor": 5
}
