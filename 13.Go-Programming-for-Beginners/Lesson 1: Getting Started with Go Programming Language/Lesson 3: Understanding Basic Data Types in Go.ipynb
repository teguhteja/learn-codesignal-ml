{
 "cells": [
  {
   "cell_type": "markdown",
   "metadata": {},
   "source": [
    "# Lesson 3: Understanding Basic Data Types in Go\n",
    "\n",
    "Here's the cleaned-up and formatted Markdown version:\n",
    "\n",
    "---\n",
    "\n",
    "## Introducing Numerical Data Types\n",
    "\n",
    "In Go, we use numerical data types to represent numbers. Specifically, in this lesson, we're focusing on `int` and `float64`. The `int` data type represents whole integer numbers, and the `float64` data type signifies decimal numbers — numbers with a decimal point.\n",
    "\n",
    "The largest value an `int` can store depends on the system. It's \\(2^{32} - 1\\) (2147483647) on a 32-bit system and \\(2^{64} - 1\\) (9223372036854775807) on a 64-bit system. Here's an example of using the `int` data type:\n",
    "\n",
    "```go\n",
    "var daysInWeek int = 7\n",
    "fmt.Println(daysInWeek)  // This will print: 7\n",
    "\n",
    "var maxInt64 int = 9223372036854775807\n",
    "fmt.Println(maxInt64)  // This will print: 9223372036854775807\n",
    "```\n",
    "\n",
    "### Working with Float64\n",
    "\n",
    "Now, let's move on to the `float64` data type. We use `float64` when dealing with numbers that have decimal points, also known as floating-point numbers. It provides a precision of 15–17 digits. Consider the following example:\n",
    "\n",
    "```go\n",
    "var pi float64 = 3.1415926\n",
    "fmt.Println(pi)  // This will print: 3.1415926\n",
    "```\n",
    "\n",
    "---\n",
    "\n",
    "## Discovering Boolean and Byte Data Types\n",
    "\n",
    "Let's now shift focus to the `bool` and `byte` data types.\n",
    "\n",
    "### Boolean Data Type\n",
    "\n",
    "The `bool` data type in Go can hold one of two possible values: `true` or `false`. This data type is extensively used in logical expressions and decision-making. Here's a simple example:\n",
    "\n",
    "```go\n",
    "var isEarthRound bool = true\n",
    "fmt.Println(isEarthRound)  // This will print: true\n",
    "\n",
    "var isEarthFlat bool = false\n",
    "fmt.Println(isEarthFlat)  // This will print: false\n",
    "```\n",
    "\n",
    "### Byte Data Type\n",
    "\n",
    "The `byte` data type is a special type of integer. Each symbol (character) is associated with a code. With the `byte` data type, we can store a symbol's code in a variable. Here's how to use it:\n",
    "\n",
    "```go\n",
    "var firstLetterOfAlphabet byte = 'A'  // Must be surrounded by SINGLE quotes\n",
    "fmt.Println(firstLetterOfAlphabet)  // This will print: 65 – the code for \"A\"\n",
    "```\n",
    "\n",
    "> **Note**: In Go, there is no special data type for storing characters. If you want to store a single symbol, you should store it inside the `string` data type.\n",
    "\n",
    "---\n",
    "\n",
    "## Exploring String Data Type\n",
    "\n",
    "The `string` data type is as common in Go as there are stars in the cosmos. Go treats `string` as a basic data type and uses it to store a sequence of characters — just a piece of text. The string is always surrounded by double quotes.\n",
    "\n",
    "```go\n",
    "var welcome string = \"Welcome to Go!\"\n",
    "fmt.Println(welcome)  // This will print: Welcome to Go!\n",
    "```\n",
    "\n",
    "Interestingly, strings in Go are immutable. Once a string is created, we cannot change its value.\n",
    "\n",
    "---\n",
    "\n",
    "## Understanding nil\n",
    "\n",
    "As we conclude this journey, let's discuss a very special value: `nil`. `nil` means \"no value\" or \"nothing\", or \"unknown\". It's not equivalent to an empty string (`\"\"`) or `0`. You can't assign `nil` to a regular variable, but you can assign a pointer to `nil`. A pointer is a variable that holds not the value itself, but a link to the value. It effectively points to a specific place in RAM where the required value is stored. We will explore pointers later, but for now, let's use it to see `nil` in action.\n",
    "\n",
    "Here's how you assign `nil` to a pointer:\n",
    "\n",
    "```go\n",
    "var unknown *string = nil\n",
    "fmt.Println(unknown)  // This will print: <nil>\n",
    "```\n",
    "\n",
    "While `string` is a data type that stores strings, `*string` is a pointer to a place where we expect to find a string. In this case, our pointer points nowhere.\n",
    "\n",
    "> **Note**: Since `nil` is nothing, you can't perform any operations on it. You can still print the `nil` variable or reassign it to an actual value, but you can't perform any other operations on it. Attempting to do so will cause an error known as \"nil pointer dereference.\" But no worries, we will cover this in detail in subsequent lessons!\n",
    "\n",
    "---\n",
    "\n",
    "## Lesson Recap and Practice Announcement\n",
    "\n",
    "Bravo! You've successfully navigated the basic data types in Go. You can now use `int` and `float64` for numerical computations, `bool` for decision-making, `byte` to represent Unicode code points, `string` to handle texts, and `nil` to represent an unknown value.\n",
    "\n",
    "Although we've covered a lot, more practice is coming. This additional practice aims to further solidify your understanding. So, get ready for the exercises designed to put your newfound knowledge to the test!\n",
    "\n"
   ]
  },
  {
   "cell_type": "markdown",
   "metadata": {},
   "source": [
    "## Go Data Types in Action: System Performance Evaluation"
   ]
  },
  {
   "cell_type": "markdown",
   "metadata": {},
   "source": [
    "## Fuel Tank Precision Update"
   ]
  },
  {
   "cell_type": "markdown",
   "metadata": {},
   "source": [
    "## System Report Generator Debugging"
   ]
  },
  {
   "cell_type": "markdown",
   "metadata": {},
   "source": [
    "## Data Center Resource Calculation in Go"
   ]
  }
 ],
 "metadata": {
  "language_info": {
   "name": "python"
  }
 },
 "nbformat": 4,
 "nbformat_minor": 5
}
