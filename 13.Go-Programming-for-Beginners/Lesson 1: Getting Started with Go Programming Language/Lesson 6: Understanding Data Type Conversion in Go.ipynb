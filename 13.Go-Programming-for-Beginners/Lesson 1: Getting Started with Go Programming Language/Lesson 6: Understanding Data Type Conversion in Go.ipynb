{
 "cells": [
  {
   "cell_type": "markdown",
   "metadata": {},
   "source": [
    "# Lesson 6: Understanding Data Type Conversion in Go\n",
    "\n",
    "Here's the improved and structured markdown version of your topic overview:\n",
    "\n",
    "---\n",
    "\n",
    "# Topic Overview\n",
    "\n",
    "Greetings! Are you ready to delve deeper into the universe of the Go language? Our current journey covers a fundamental concept in programming: **Data Type Conversion**. Often, we need to transform one data type into another, much like adjusting a spaceship's asteroid-floating-point measurements to fit an integer-based radar system. We will explore both **automatic** and **explicit** conversions, highlighting potential pitfalls and best practices. Let's power up our knowledge engines!\n",
    "\n",
    "---\n",
    "\n",
    "## Automatic (Implicit) Conversions\n",
    "In contrast to many other languages, Go does **not** perform automatic type conversions. Each conversion between different types requires **explicit syntax**. While this may seem restrictive, it is designed to prevent subtle bugs.\n",
    "\n",
    "---\n",
    "\n",
    "## Manual (Explicit) Conversions\n",
    "Sometimes, you may need to fit a large floating-point number into an integer-based variable, which requires explicit casting. Here's an example of how to convert a `float64` to an `int`:\n",
    "\n",
    "```go\n",
    "var d float64 = 10.25  // a double number\n",
    "var i int = int(d)     // casting the float64 to int\n",
    "\n",
    "fmt.Println(\"The value of i:\", i)  // Output: The value of i: 10\n",
    "```\n",
    "\n",
    "> **Note**: The fractional part `0.25` is discarded during the conversion, leaving only `10` as the result.\n",
    "\n",
    "---\n",
    "\n",
    "## Converting to and from Strings: Integer\n",
    "A common type of conversion in Go is transforming numbers to strings (for output) or parsing strings as numbers (for calculations). You will need to import the `strconv` package for string conversion functions. Here's how it looks:\n",
    "\n",
    "```go\n",
    "import (\n",
    "    \"fmt\"\n",
    "    \"strconv\"\n",
    ")\n",
    "\n",
    "var ten int = 10\n",
    "var tenString string = strconv.Itoa(ten)  // converting int to string\n",
    "fmt.Println(\"The value of tenString:\", tenString)  // Output: The value of tenString: 10\n",
    "\n",
    "var twentyFiveString string = \"25\"\n",
    "var twentyFive int\n",
    "twentyFive, _ = strconv.Atoi(twentyFiveString)  // converting string to int\n",
    "fmt.Println(\"The value of twentyFive:\", twentyFive)  // Output: The value of twentyFive: 25\n",
    "\n",
    "var invalidNumber string = \"25abc\"\n",
    "var number int\n",
    "number, _ = strconv.Atoi(invalidNumber)  // Oops! This will throw an error, \"25abc\" is not a number!\n",
    "```\n",
    "\n",
    "### Explanation\n",
    "- **`strconv.Itoa(i)`**: Converts an `int` to a `string`.\n",
    "- **`strconv.Atoi(s)`**: Converts a `string` to an `int` and returns two values: the converted number and an error message if something goes wrong. If there's no error, `_` holds `nil`. We use `_` as a placeholder to ignore the error value.\n",
    "\n",
    "---\n",
    "\n",
    "## Converting to and from Strings: Float\n",
    "You may need to convert strings to `float64` numbers or vice versa. Here's how:\n",
    "\n",
    "```go\n",
    "var pi float64 = 3.14159\n",
    "\n",
    "// Converting float to string\n",
    "var piString string = strconv.FormatFloat(pi, 'f', -1, 64)\n",
    "fmt.Println(\"The value of piString:\", piString)  // Output: The value of piString: 3.14159\n",
    "\n",
    "var invalidFloatString string = \"3.14abc\"\n",
    "var number float64\n",
    "number, _ = strconv.ParseFloat(invalidFloatString, 64)  // This will throw an error!\n",
    "```\n",
    "\n",
    "### Explanation\n",
    "- **`strconv.FormatFloat(f, 'f', -1, 64)`**: Converts a `float64` to a `string`. The `'f'` specifies the format, `-1` allows any precision, and `64` is the bit size.\n",
    "- **`strconv.ParseFloat(s, 64)`**: Parses a `string` into a `float64`. The `64` specifies the bit size of the floating-point number.\n",
    "- **Error Handling**: `strconv` functions return an error if the string is not a valid number. Ensure your inputs are correctly formatted.\n",
    "\n",
    "---\n",
    "\n",
    "## Lesson Summary and Practice\n",
    "Congratulations! You've now mastered **Data Type Conversion** in Go. You've learned that Go enforces explicit type conversions to ensure clarity and avoid bugs.\n",
    "\n",
    "To solidify your understanding, practice with some coding exercises. Remember, **practice is the launchpad** for your newly acquired skills to soar to greater heights!\n",
    "\n",
    "---"
   ]
  },
  {
   "cell_type": "markdown",
   "metadata": {},
   "source": [
    "## Temperature Conversion in Go: Celsius to Fahrenheit"
   ]
  },
  {
   "cell_type": "markdown",
   "metadata": {},
   "source": [
    "## Go Data Type Conversion Challenge: Rounding Planetary Distances"
   ]
  },
  {
   "cell_type": "markdown",
   "metadata": {},
   "source": [
    "## Convert Temperature Reading to String for Logging in Go"
   ]
  },
  {
   "cell_type": "markdown",
   "metadata": {},
   "source": [
    "## Galactic Data Type Conversion Challenge"
   ]
  },
  {
   "cell_type": "markdown",
   "metadata": {},
   "source": [
    "## Add Asteroid Size Conversion to String in Go"
   ]
  }
 ],
 "metadata": {
  "language_info": {
   "name": "python"
  }
 },
 "nbformat": 4,
 "nbformat_minor": 5
}
