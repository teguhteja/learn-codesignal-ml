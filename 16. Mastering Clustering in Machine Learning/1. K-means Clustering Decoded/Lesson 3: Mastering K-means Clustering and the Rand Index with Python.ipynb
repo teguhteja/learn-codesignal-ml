{
            "cells": [
  {
            "cell_type": "markdown",
            "metadata": {},
            "source": [
                "# Lesson 3: Mastering K-means Clustering and the Rand Index with Python"
            ]
            }
 ,{
            "cell_type": "markdown",
            "metadata": {},
            "source": [
 "## Visualizing Clusters with K-Means and Rand Index Evaluation" 
   ]
            }
 ,{
            "cell_type": "markdown",
            "metadata": {},
            "source": [
 "## Adjusting the Number of Clusters in KMeans" 
   ]
            }
 ,{
            "cell_type": "markdown",
            "metadata": {},
            "source": [
 "## Measuring the Cluster Performance" 
   ]
            }
   ],
 "metadata": {},
 "nbformat": 4,
 "nbformat_minor": 5
}
