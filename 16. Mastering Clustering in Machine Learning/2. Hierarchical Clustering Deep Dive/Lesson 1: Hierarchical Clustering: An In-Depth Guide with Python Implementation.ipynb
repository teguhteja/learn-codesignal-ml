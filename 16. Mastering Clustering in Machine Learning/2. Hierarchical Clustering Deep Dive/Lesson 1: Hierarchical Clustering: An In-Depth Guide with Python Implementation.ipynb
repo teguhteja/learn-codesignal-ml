{
            "cells": [
  {
            "cell_type": "markdown",
            "metadata": {},
            "source": [
                "# Lesson 1: Hierarchical Clustering: An In-Depth Guide with Python Implementation"
            ]
            }
 ,{
            "cell_type": "markdown",
            "metadata": {},
            "source": [
 "## Constellation Clustering with Iris Data" 
   ]
            }
 ,{
            "cell_type": "markdown",
            "metadata": {},
            "source": [
 "## Visualizing Flower Clusters using Agglomerative Clustering" 
   ]
            }
 ,{
            "cell_type": "markdown",
            "metadata": {},
            "source": [
 "## Manipulating the number of clusters" 
   ]
            }
 ,{
            "cell_type": "markdown",
            "metadata": {},
            "source": [
 "## Navigating the Stars: Computing Euclidean Distances in Clustering" 
   ]
            }
 ,{
            "cell_type": "markdown",
            "metadata": {},
            "source": [
 "## Merging Clusters in the Stars" 
   ]
            }
   ],
 "metadata": {},
 "nbformat": 4,
 "nbformat_minor": 5
}
