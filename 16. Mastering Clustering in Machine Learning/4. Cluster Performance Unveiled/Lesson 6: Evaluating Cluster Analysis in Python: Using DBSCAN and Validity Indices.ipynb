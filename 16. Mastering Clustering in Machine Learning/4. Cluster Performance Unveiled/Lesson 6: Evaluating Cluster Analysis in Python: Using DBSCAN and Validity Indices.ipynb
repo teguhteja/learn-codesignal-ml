{
 "cells": [
  {
   "cell_type": "markdown",
   "id": "e48f323e",
   "metadata": {},
   "source": [
    "# Lesson 6: Evaluating Cluster Analysis in Python: Using DBSCAN and Validity Indices"
   ]
  },
  {
   "cell_type": "markdown",
   "id": "5a10ffb8",
   "metadata": {},
   "source": [
    "## Unveiling Star Clusters with DBSCAN\n",
    "\n",
    "In the depths of space, we've discovered galaxies grouping based on mysterious rules. Your mission: observe how we apply machine learning to uncover these patterns. The given code uses the DBSCAN algorithm to identify how stars cluster together. Could these clusters hold secrets to the universe? Hit Run to execute the algorithm and reveal the clustering mystery through the Silhouette Score, the Davies-Bouldin Index, and Cross-Tabulation Analysis.\n",
    "\n",
    "```python\n",
    "from sklearn.cluster import DBSCAN\n",
    "from sklearn.metrics import silhouette_score, davies_bouldin_score\n",
    "import numpy as np\n",
    "import pandas as pd\n",
    "\n",
    "# Our dataset\n",
    "X = np.array([[1, 2], [2, 2], [2, 3], [8, 7], [8, 8], [7, 8]])\n",
    "# True labels (assumed, since DBSCAN doesn't require true labels)\n",
    "true_labels = np.array([0, 0, 0, 1, 1, 1])\n",
    "\n",
    "# Setup the DBSCAN model\n",
    "dbscan = DBSCAN(eps=2, min_samples=2)\n",
    "# Fit the model to our dataset\n",
    "dbscan.fit(X)\n",
    "# Assign the DBSCAN cluster labels to a variable\n",
    "labels = dbscan.labels_\n",
    "\n",
    "# Compute the Silhouette Score and print it\n",
    "silhouette = silhouette_score(X, labels)\n",
    "print(f\"Silhouette Score: {silhouette}\")\n",
    "\n",
    "# Compute the Davies-Bouldin Index and print it\n",
    "db_index = davies_bouldin_score(X, labels)\n",
    "print(f\"Davies-Bouldin Index: {db_index}\")\n",
    "\n",
    "# Perform a Cross-Tabulation Analysis and print the table\n",
    "cross_tab = pd.crosstab(labels, true_labels)\n",
    "print(\"Cross-Tabulation Analysis:\")\n",
    "print(cross_tab)\n",
    "```"
   ]
  },
  {
   "cell_type": "markdown",
   "id": "ea6980b4",
   "metadata": {},
   "source": [
    "## Adjusting DBSCAN Parameters"
   ]
  },
  {
   "cell_type": "markdown",
   "id": "eaeec9b8-1145-4f6b-a2db-294dc6ac3bf4",
   "metadata": {},
   "source": []
  }
 ],
 "metadata": {
  "kernelspec": {
   "display_name": "Python 3 (ipykernel)",
   "language": "python",
   "name": "python3"
  },
  "language_info": {
   "codemirror_mode": {
    "name": "ipython",
    "version": 3
   },
   "file_extension": ".py",
   "mimetype": "text/x-python",
   "name": "python",
   "nbconvert_exporter": "python",
   "pygments_lexer": "ipython3",
   "version": "3.12.2"
  }
 },
 "nbformat": 4,
 "nbformat_minor": 5
}
