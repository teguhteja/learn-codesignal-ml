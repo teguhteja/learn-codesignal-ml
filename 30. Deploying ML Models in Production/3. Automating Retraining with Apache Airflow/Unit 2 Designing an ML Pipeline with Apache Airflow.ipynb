{
            "cells": [
  {
            "cell_type": "markdown",
            "metadata": {},
            "source": [
                "# Unit 2 Designing an ML Pipeline with Apache Airflow"
            ]
            }
 ,{
            "cell_type": "markdown",
            "metadata": {},
            "source": [
 "## Model Validation Logic in Airflow" 
   ]
            }
 ,{
            "cell_type": "markdown",
            "metadata": {},
            "source": [
 "## Archiving Models in Your Pipeline" 
   ]
            }
 ,{
            "cell_type": "markdown",
            "metadata": {},
            "source": [
 "## Adding Rollback to Your ML Pipeline" 
   ]
            }
 ,{
            "cell_type": "markdown",
            "metadata": {},
            "source": [
 "## Build a Complete ML Pipeline DAG" 
   ]
            }
   ],
 "metadata": {},
 "nbformat": 4,
 "nbformat_minor": 5
}
