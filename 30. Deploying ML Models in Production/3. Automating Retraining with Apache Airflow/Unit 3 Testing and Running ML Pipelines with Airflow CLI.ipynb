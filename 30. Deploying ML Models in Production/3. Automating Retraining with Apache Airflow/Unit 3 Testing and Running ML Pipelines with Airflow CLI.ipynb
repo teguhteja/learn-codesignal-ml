{
            "cells": [
  {
            "cell_type": "markdown",
            "metadata": {},
            "source": [
                "# Unit 3 Testing and Running ML Pipelines with Airflow CLI"
            ]
            }
 ,{
            "cell_type": "markdown",
            "metadata": {},
            "source": [
 "## Discover Your Airflow Pipelines" 
   ]
            }
 ,{
            "cell_type": "markdown",
            "metadata": {},
            "source": [
 "## Inspecting Your ML Pipeline Structure" 
   ]
            }
 ,{
            "cell_type": "markdown",
            "metadata": {},
            "source": [
 "## Test Your Full ML Pipeline" 
   ]
            }
 ,{
            "cell_type": "markdown",
            "metadata": {},
            "source": [
 "## See All Tasks in Your Pipeline" 
   ]
            }
 ,{
            "cell_type": "markdown",
            "metadata": {},
            "source": [
 "## Test an Individual Pipeline Task" 
   ]
            }
   ],
 "metadata": {},
 "nbformat": 4,
 "nbformat_minor": 5
}
