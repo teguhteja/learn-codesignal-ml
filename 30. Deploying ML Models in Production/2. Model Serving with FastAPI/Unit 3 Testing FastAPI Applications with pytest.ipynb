{
            "cells": [
  {
            "cell_type": "markdown",
            "metadata": {},
            "source": [
                "# Unit 3 Testing FastAPI Applications with pytest"
            ]
            }
 ,{
            "cell_type": "markdown",
            "metadata": {},
            "source": [
 "## Testing FastAPI with Pytest" 
   ]
            }
 ,{
            "cell_type": "markdown",
            "metadata": {},
            "source": [
 "## Testing Your API's Welcome Message" 
   ]
            }
 ,{
            "cell_type": "markdown",
            "metadata": {},
            "source": [
 "## Mocking Models with Pytest Fixtures" 
   ]
            }
 ,{
            "cell_type": "markdown",
            "metadata": {},
            "source": [
 "## Testing API Resilience with Invalid Inputs" 
   ]
            }
   ],
 "metadata": {},
 "nbformat": 4,
 "nbformat_minor": 5
}
