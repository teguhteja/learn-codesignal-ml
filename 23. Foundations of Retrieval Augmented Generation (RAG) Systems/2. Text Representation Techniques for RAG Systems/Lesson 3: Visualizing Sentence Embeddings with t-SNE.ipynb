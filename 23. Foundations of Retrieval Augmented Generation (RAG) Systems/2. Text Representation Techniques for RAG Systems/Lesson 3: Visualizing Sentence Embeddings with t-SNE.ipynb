{
            "cells": [
  {
            "cell_type": "markdown",
            "metadata": {},
            "source": [
                "# Lesson 3: Visualizing Sentence Embeddings with t-SNE"
            ]
            }
 ,{
            "cell_type": "markdown",
            "metadata": {},
            "source": [
 "## Visualize Sentence Clusters" 
   ]
            }
 ,{
            "cell_type": "markdown",
            "metadata": {},
            "source": [
 "## Explore t-SNE Perplexity Effects" 
   ]
            }
 ,{
            "cell_type": "markdown",
            "metadata": {},
            "source": [
 "## Adding a New Category" 
   ]
            }
   ],
 "metadata": {},
 "nbformat": 4,
 "nbformat_minor": 5
}
