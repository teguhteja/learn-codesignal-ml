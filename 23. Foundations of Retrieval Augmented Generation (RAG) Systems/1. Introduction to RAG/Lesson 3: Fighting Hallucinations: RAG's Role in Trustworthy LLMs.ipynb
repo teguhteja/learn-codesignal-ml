{
            "cells": [
  {
            "cell_type": "markdown",
            "metadata": {},
            "source": [
                "# Lesson 3: Fighting Hallucinations: RAG's Role in Trustworthy LLMs"
            ]
            }
 ,{
            "cell_type": "markdown",
            "metadata": {},
            "source": [
 "## Reveal Document Relevance Scores" 
   ]
            }
 ,{
            "cell_type": "markdown",
            "metadata": {},
            "source": [
 "## Enhance RAG Retrieval Function" 
   ]
            }
   ],
 "metadata": {},
 "nbformat": 4,
 "nbformat_minor": 5
}
