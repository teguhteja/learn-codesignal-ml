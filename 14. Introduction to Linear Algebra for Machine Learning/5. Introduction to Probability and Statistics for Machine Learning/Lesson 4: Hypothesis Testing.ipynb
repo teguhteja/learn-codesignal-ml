{
            "cells": [
  {
            "cell_type": "markdown",
            "metadata": {},
            "source": [
                "# Lesson 4: Hypothesis Testing"
            ]
            }
 ,{
            "cell_type": "markdown",
            "metadata": {},
            "source": [
 "## Hypothesis Testing for Exam Scores" 
   ]
            }
 ,{
            "cell_type": "markdown",
            "metadata": {},
            "source": [
 "## Perform a One-Sample T-Test on Daily Water Intake" 
   ]
            }
 ,{
            "cell_type": "markdown",
            "metadata": {},
            "source": [
 "## Two Sample T-Test for Teaching Methods" 
   ]
            }
   ],
 "metadata": {},
 "nbformat": 4,
 "nbformat_minor": 5
}
