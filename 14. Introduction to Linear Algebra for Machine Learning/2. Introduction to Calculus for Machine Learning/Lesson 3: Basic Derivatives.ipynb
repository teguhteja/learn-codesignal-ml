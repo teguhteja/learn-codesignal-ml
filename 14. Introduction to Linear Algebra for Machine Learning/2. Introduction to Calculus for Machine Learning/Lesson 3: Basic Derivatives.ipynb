{
         "cells": [
                  {
                           "cell_type": "markdown",
                           "metadata": {},
                           "source": [
                                    "# Lesson 3: Basic Derivatives\n",
                                    "\n",
                                    "\n",
                                    "Welcome to our lesson on **basic derivatives**! In machine learning, understanding how things change is crucial. Derivatives help measure these changes, which is key for optimizing models. By the end, you'll understand derivatives, know how to calculate them, and see a practical example using Python.\n",
                                    "\n",
                                    "---\n",
                                    "\n",
                                    "## What is a Derivative?\n",
                                    "\n",
                                    "Imagine you're driving a car. Your speed indicates how your position changes over time. Similarly, a derivative measures how a function's output changes as its input changes. It's like the speed for functions. The derivative is calculated for every input of the original function. So, the derivative is also a function of the same input.\n",
                                    "\n",
                                    "---\n",
                                    "\n",
                                    "## Calculating an Approximation for a Derivative: Part 1\n",
                                    "\n",
                                    "Let’s approximate the derivative of the function **f(x) = x²** at **x = 2**. This means we want to calculate the speed of the function's growth at this point. Using a small change **Δx**, we find how much the function changes when **x** changes:\n",
                                    "\n",
                                    "\\[\n",
                                    "\\text{Approximation: } \\frac{f(x + \\Delta x) - f(x)}{\\Delta x}\n",
                                    "\\]\n",
                                    "\n",
                                    "For example, using **Δx = 1**, the function changes from **4** to **9** as **x** changes from **2** to **3**. The speed is:\n",
                                    "\n",
                                    "\\[\n",
                                    "\\frac{9 - 4}{1} = 5\n",
                                    "\\]\n",
                                    "\n",
                                    "---\n",
                                    "\n",
                                    "## Calculating an Approximation for a Derivative: Part 2\n",
                                    "\n",
                                    "We want the derivative at **x = 2**, but the above calculation measures the speed on the interval **[2, 3]**. To improve accuracy, we choose a smaller **Δx** (e.g., **Δx = 0.5**):\n",
                                    "\n",
                                    "\\[\n",
                                    "\\text{Approximation: } \\frac{f(2.5) - f(2)}{0.5} = 4.5\n",
                                    "\\]\n",
                                    "\n",
                                    "By shrinking **Δx**, we get better approximations. For example, using **[2, 2.00001]** gives a value very close to the actual derivative at **x = 2**.\n",
                                    "\n",
                                    "---\n",
                                    "\n",
                                    "## Calculating an Approximation for a Derivative: Part 3\n",
                                    "\n",
                                    "Here’s how to compute approximations with Python:\n",
                                    "\n",
                                    "```python\n",
                                    "# Define the function f(x) = x^2\n",
                                    "def f(x):\n",
                                    "    return x**2\n",
                                    "\n",
                                    "delta_x_values = [1, 0.5, 0.1, 0.01, 0.001]\n",
                                    "x = 2\n",
                                    "\n",
                                    "for delta_x in delta_x_values:\n",
                                    "    approx_derivative = (f(x + delta_x) - f(x)) / delta_x\n",
                                    "    print(f'Approx. derivative with delta_x = {delta_x}: {approx_derivative}')\n",
                                    "```\n",
                                    "\n",
                                    "### Output:\n",
                                    "\n",
                                    "```plaintext\n",
                                    "Approx. derivative with delta_x = 1: 5.0\n",
                                    "Approx. derivative with delta_x = 0.5: 4.5\n",
                                    "Approx. derivative with delta_x = 0.1: 4.1\n",
                                    "Approx. derivative with delta_x = 0.01: 4.01\n",
                                    "Approx. derivative with delta_x = 0.001: 4.001\n",
                                    "```\n",
                                    "\n",
                                    "The value approaches **4** as **Δx** becomes smaller.\n",
                                    "\n",
                                    "---\n",
                                    "\n",
                                    "## Limiting to 0\n",
                                    "\n",
                                    "To find the exact derivative, we calculate:\n",
                                    "\n",
                                    "\\[\n",
                                    "\\lim_{\\Delta x \\to 0} \\frac{f(x + \\Delta x) - f(x)}{\\Delta x}\n",
                                    "\\]\n",
                                    "\n",
                                    "This gives the exact derivative function, but for this lesson, we’ll focus on numerical approximations instead of heavy math.\n",
                                    "\n",
                                    "---\n",
                                    "\n",
                                    "## Implementing a Derivative in Python\n",
                                    "\n",
                                    "We can use the **forward difference method** to estimate derivatives numerically:\n",
                                    "\n",
                                    "```python\n",
                                    "# Numerical derivative using forward difference\n",
                                    "def derivative(f, x, h=1e-5):\n",
                                    "    return (f(x + h) - f(x)) / h\n",
                                    "\n",
                                    "# Sample function: f(x) = x^2\n",
                                    "f = lambda x: x**2\n",
                                    "\n",
                                    "# Compute derivative of f at x=3\n",
                                    "print(\"Derivative of f(x) at x=3:\", derivative(f, 3))\n",
                                    "```\n",
                                    "\n",
                                    "### Output:\n",
                                    "\n",
                                    "```plaintext\n",
                                    "Derivative of f(x) at x=3: 6.000009999951316\n",
                                    "```\n",
                                    "\n",
                                    "---\n",
                                    "\n",
                                    "## Lesson Summary\n",
                                    "\n",
                                    "To summarize, today we:\n",
                                    "\n",
                                    "1. 🧠 **Learned what derivatives are** and how they measure change.\n",
                                    "2. 📈 **Visualized and approximated derivatives** using Python code.\n",
                                    "3. 🔢 **Calculated derivatives numerically** with increasing accuracy.\n",
                                    "\n",
                                    "Next, you’ll move on to practice, where you’ll calculate derivatives for different functions using Python. Happy coding!\n"
                           ]
                  },
                  {
                           "cell_type": "markdown",
                           "metadata": {},
                           "source": [
                                    "## Approximate Derivative of Cubic Function"
                           ]
                  },
                  {
                           "cell_type": "markdown",
                           "metadata": {},
                           "source": [
                                    "## Calculate the Derivative of a Function at Given Points"
                           ]
                  },
                  {
                           "cell_type": "markdown",
                           "metadata": {},
                           "source": [
                                    "## Calculate and Compare Derivatives of a Linear Function"
                           ]
                  },
                  {
                           "cell_type": "markdown",
                           "metadata": {},
                           "source": [
                                    "## Plot and Calculate Derivative of a Quadratic Function"
                           ]
                  },
                  {
                           "cell_type": "markdown",
                           "metadata": {},
                           "source": [
                                    "## Calculate the Derivative of a Decaying Exponential Function"
                           ]
                  },
                  {
                           "cell_type": "markdown",
                           "metadata": {},
                           "source": [
                                    "## Calculate Acceleration Using Derivatives"
                           ]
                  }
         ],
         "metadata": {
                  "language_info": {
                           "name": "python"
                  }
         },
         "nbformat": 4,
         "nbformat_minor": 5
}
