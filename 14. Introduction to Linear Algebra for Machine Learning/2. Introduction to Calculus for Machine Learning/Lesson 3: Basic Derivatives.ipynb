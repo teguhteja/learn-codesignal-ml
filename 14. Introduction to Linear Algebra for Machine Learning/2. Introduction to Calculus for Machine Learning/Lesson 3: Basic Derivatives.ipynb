{
            "cells": [
  {
            "cell_type": "markdown",
            "metadata": {},
            "source": [
                "# Lesson 3: Basic Derivatives"
            ]
            }
 ,{
            "cell_type": "markdown",
            "metadata": {},
            "source": [
 "## Approximate Derivative of Cubic Function" 
   ]
            }
 ,{
            "cell_type": "markdown",
            "metadata": {},
            "source": [
 "## Calculate the Derivative of a Function at Given Points" 
   ]
            }
 ,{
            "cell_type": "markdown",
            "metadata": {},
            "source": [
 "## Calculate and Compare Derivatives of a Linear Function" 
   ]
            }
 ,{
            "cell_type": "markdown",
            "metadata": {},
            "source": [
 "## Plot and Calculate Derivative of a Quadratic Function" 
   ]
            }
 ,{
            "cell_type": "markdown",
            "metadata": {},
            "source": [
 "## Calculate the Derivative of a Decaying Exponential Function" 
   ]
            }
 ,{
            "cell_type": "markdown",
            "metadata": {},
            "source": [
 "## Calculate Acceleration Using Derivatives" 
   ]
            }
   ],
 "metadata": {},
 "nbformat": 4,
 "nbformat_minor": 5
}
