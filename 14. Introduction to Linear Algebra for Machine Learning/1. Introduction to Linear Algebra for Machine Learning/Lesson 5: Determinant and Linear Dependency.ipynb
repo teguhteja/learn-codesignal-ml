{
            "cells": [
  {
            "cell_type": "markdown",
            "metadata": {},
            "source": [
                "# Lesson 5: Determinant and Linear Dependency"
            ]
            }
 ,{
            "cell_type": "markdown",
            "metadata": {},
            "source": [
 "## Calculate Determinant and Check for Linear Dependency" 
   ]
            }
 ,{
            "cell_type": "markdown",
            "metadata": {},
            "source": [
 "## Define a Matrix with Zero Determinant" 
   ]
            }
 ,{
            "cell_type": "markdown",
            "metadata": {},
            "source": [
 "## Find the Determinant of a 3x3 Matrix" 
   ]
            }
   ],
 "metadata": {},
 "nbformat": 4,
 "nbformat_minor": 5
}
