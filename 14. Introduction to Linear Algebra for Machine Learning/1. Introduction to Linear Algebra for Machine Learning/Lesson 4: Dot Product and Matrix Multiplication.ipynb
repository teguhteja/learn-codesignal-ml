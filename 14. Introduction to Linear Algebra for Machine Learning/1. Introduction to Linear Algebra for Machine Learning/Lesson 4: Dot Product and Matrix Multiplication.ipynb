{
            "cells": [
  {
            "cell_type": "markdown",
            "metadata": {},
            "source": [
                "# Lesson 4: Dot Product and Matrix Multiplication"
            ]
            }
 ,{
            "cell_type": "markdown",
            "metadata": {},
            "source": [
 "## Calculating Dot Product of Forces in 3D Space" 
   ]
            }
 ,{
            "cell_type": "markdown",
            "metadata": {},
            "source": [
 "## Change Vectors to Achieve Zero Dot Product" 
   ]
            }
 ,{
            "cell_type": "markdown",
            "metadata": {},
            "source": [
 "## Check If Matrix Multiplication Is Possible and Compute the Result" 
   ]
            }
 ,{
            "cell_type": "markdown",
            "metadata": {},
            "source": [
 "## Matrix-Vector Multiplication" 
   ]
            }
   ],
 "metadata": {},
 "nbformat": 4,
 "nbformat_minor": 5
}
