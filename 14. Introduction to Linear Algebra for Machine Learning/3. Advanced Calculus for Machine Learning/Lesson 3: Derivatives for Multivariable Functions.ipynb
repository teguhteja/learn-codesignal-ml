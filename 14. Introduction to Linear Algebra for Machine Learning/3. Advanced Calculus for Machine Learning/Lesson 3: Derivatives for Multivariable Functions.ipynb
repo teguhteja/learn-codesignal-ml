{
            "cells": [
  {
            "cell_type": "markdown",
            "metadata": {},
            "source": [
                "# Lesson 3: Derivatives for Multivariable Functions"
            ]
            }
 ,{
            "cell_type": "markdown",
            "metadata": {},
            "source": [
 "## Calculating Partial Derivatives for a Given Function" 
   ]
            }
 ,{
            "cell_type": "markdown",
            "metadata": {},
            "source": [
 "## Computing Partial Derivatives for a 3-Variable Function Using Finite Difference" 
   ]
            }
 ,{
            "cell_type": "markdown",
            "metadata": {},
            "source": [
 "## Calculating Partial Derivatives in Stock Trading" 
   ]
            }
   ],
 "metadata": {},
 "nbformat": 4,
 "nbformat_minor": 5
}
