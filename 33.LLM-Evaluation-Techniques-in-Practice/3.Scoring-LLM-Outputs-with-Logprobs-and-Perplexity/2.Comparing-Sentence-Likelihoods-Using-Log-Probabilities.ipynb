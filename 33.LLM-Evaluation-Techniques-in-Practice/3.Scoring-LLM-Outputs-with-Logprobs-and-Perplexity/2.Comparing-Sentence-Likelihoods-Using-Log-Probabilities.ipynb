{
            "cells": [
  {
            "cell_type": "markdown",
            "metadata": {},
            "source": [
                "# Unit 2"
            ]
            }
 ,{
            "cell_type": "markdown",
            "metadata": {},
            "source": [
                "## Comparing Sentence Likelihoods Using Log Probabilities"
            ]
            }
 ,{
            "cell_type": "markdown",
            "metadata": {},
            "source": [
                "## Extracting Log Probabilities from Responses"
            ]
            }
 ,{
            "cell_type": "markdown",
            "metadata": {},
            "source": [
                "## Comparing Sentences with Log Probabilities"
            ]
            }
 ,{
            "cell_type": "markdown",
            "metadata": {},
            "source": [
                "## Finding the Most Plausible Sentence"
            ]
            }
 ,{
            "cell_type": "markdown",
            "metadata": {},
            "source": [
                "## Finding the Most Plausible Sentence"
            ]
            }
   ],
 "metadata": {},
 "nbformat": 4,
 "nbformat_minor": 5
}
