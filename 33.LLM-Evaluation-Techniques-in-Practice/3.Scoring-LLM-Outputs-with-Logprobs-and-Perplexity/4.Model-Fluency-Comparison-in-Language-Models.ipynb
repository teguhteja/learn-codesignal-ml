{
            "cells": [
  {
            "cell_type": "markdown",
            "metadata": {},
            "source": [
                "# Unit 4"
            ]
            }
 ,{
            "cell_type": "markdown",
            "metadata": {},
            "source": [
                "## Model Fluency Comparison in Language Models"
            ]
            }
 ,{
            "cell_type": "markdown",
            "metadata": {},
            "source": [
                "## Extracting Token Text from API Responses"
            ]
            }
 ,{
            "cell_type": "markdown",
            "metadata": {},
            "source": [
                "## Calculating Perplexity for Model Comparison"
            ]
            }
 ,{
            "cell_type": "markdown",
            "metadata": {},
            "source": [
                "## Evaluating Multiple Sentences for Fluency"
            ]
            }
   ],
 "metadata": {},
 "nbformat": 4,
 "nbformat_minor": 5
}
