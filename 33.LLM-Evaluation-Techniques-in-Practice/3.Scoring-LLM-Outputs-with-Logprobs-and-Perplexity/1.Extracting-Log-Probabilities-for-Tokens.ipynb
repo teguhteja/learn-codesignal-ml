{
            "cells": [
  {
            "cell_type": "markdown",
            "metadata": {},
            "source": [
                "# Unit 1"
            ]
            }
 ,{
            "cell_type": "markdown",
            "metadata": {},
            "source": [
                "## Extracting Log Probabilities for Tokens"
            ]
            }
 ,{
            "cell_type": "markdown",
            "metadata": {},
            "source": [
                "## Fixing Token Probability Display Code"
            ]
            }
 ,{
            "cell_type": "markdown",
            "metadata": {},
            "source": [
                "## Making Token Probabilities Dynamic"
            ]
            }
 ,{
            "cell_type": "markdown",
            "metadata": {},
            "source": [
                "## Filtering Tokens by Probability Threshold"
            ]
            }
 ,{
            "cell_type": "markdown",
            "metadata": {},
            "source": [
                "## Filtering Tokens by Probability Threshold"
            ]
            }
   ],
 "metadata": {},
 "nbformat": 4,
 "nbformat_minor": 5
}
