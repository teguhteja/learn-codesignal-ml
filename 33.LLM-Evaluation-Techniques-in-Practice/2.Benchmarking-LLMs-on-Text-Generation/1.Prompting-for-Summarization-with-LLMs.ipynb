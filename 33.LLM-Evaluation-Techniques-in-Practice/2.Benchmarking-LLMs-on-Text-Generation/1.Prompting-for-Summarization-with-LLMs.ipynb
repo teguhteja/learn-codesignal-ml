{
            "cells": [
  {
            "cell_type": "markdown",
            "metadata": {},
            "source": [
                "# Unit 1"
            ]
            }
 ,{
            "cell_type": "markdown",
            "metadata": {},
            "source": [
                "## Prompting for Summarization with LLMs"
            ]
            }
 ,{
            "cell_type": "markdown",
            "metadata": {},
            "source": [
                "## Reading CSV Files with Python"
            ]
            }
 ,{
            "cell_type": "markdown",
            "metadata": {},
            "source": [
                "## Simplifying Prompts for Better Summaries"
            ]
            }
 ,{
            "cell_type": "markdown",
            "metadata": {},
            "source": [
                "## Crafting Custom Prompts for Better Summaries"
            ]
            }
 ,{
            "cell_type": "markdown",
            "metadata": {},
            "source": [
                "## Crafting Custom Prompts for Better Summaries"
            ]
            }
   ],
 "metadata": {},
 "nbformat": 4,
 "nbformat_minor": 5
}
