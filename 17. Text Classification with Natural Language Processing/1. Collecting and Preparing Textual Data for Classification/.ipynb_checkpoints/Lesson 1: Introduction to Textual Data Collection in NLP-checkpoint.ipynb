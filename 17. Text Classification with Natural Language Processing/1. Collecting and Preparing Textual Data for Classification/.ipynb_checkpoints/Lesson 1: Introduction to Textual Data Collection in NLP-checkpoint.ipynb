{
            "cells": [
  {
            "cell_type": "markdown",
            "metadata": {},
            "source": [
                "# Lesson 1: Introduction to Textual Data Collection in NLP"
            ]
            }
 ,{
            "cell_type": "markdown",
            "metadata": {},
            "source": [
 "## Explore More of the 20 Newsgroups Dataset" 
   ]
            }
 ,{
            "cell_type": "markdown",
            "metadata": {},
            "source": [
 "## Uncover the End of 20 Newsgroups Dataset" 
   ]
            }
 ,{
            "cell_type": "markdown",
            "metadata": {},
            "source": [
 "## Fetch Specific Categories from Dataset" 
   ]
            }
 ,{
            "cell_type": "markdown",
            "metadata": {},
            "source": [
 "## Fetching the Third Article from Dataset" 
   ]
            }
 ,{
            "cell_type": "markdown",
            "metadata": {},
            "source": [
 "## Exploring Text Length in Newsgroups Dataset" 
   ]
            }
   ],
 "metadata": {},
 "nbformat": 4,
 "nbformat_minor": 5
}
