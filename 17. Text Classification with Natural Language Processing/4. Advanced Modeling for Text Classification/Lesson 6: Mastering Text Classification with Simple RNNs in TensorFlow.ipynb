{
            "cells": [
  {
            "cell_type": "markdown",
            "metadata": {},
            "source": [
                "# Lesson 6: Mastering Text Classification with Simple RNNs in TensorFlow"
            ]
            }
 ,{
            "cell_type": "markdown",
            "metadata": {},
            "source": [
 "## Changing Activation Function in Dense Layer" 
   ]
            }
 ,{
            "cell_type": "markdown",
            "metadata": {},
            "source": [
 "## Configuring SimpleRNN and Dense Layers in Model" 
   ]
            }
 ,{
            "cell_type": "markdown",
            "metadata": {},
            "source": [
 "## Fill in the blanks: Building a Simple RNN with TensorFlow" 
   ]
            }
 ,{
            "cell_type": "markdown",
            "metadata": {},
            "source": [
 "## Adding Layers to the RNN Model" 
   ]
            }
   ],
 "metadata": {},
 "nbformat": 4,
 "nbformat_minor": 5
}
