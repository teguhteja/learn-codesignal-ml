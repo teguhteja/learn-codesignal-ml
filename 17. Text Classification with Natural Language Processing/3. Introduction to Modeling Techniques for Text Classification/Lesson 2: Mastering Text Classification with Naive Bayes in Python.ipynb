{
            "cells": [
  {
            "cell_type": "markdown",
            "metadata": {},
            "source": [
                "# Lesson 2: Mastering Text Classification with Naive Bayes in Python"
            ]
            }
 ,{
            "cell_type": "markdown",
            "metadata": {},
            "source": [
 "## Tuning Alpha Parameter in Naive Bayes Model" 
   ]
            }
 ,{
            "cell_type": "markdown",
            "metadata": {},
            "source": [
 "## Fill in the Blanks: Building Naive Bayes Model" 
   ]
            }
 ,{
            "cell_type": "markdown",
            "metadata": {},
            "source": [
 "## Fill in the Blanks: Predicting Using Naive Bayes Model" 
   ]
            }
 ,{
            "cell_type": "markdown",
            "metadata": {},
            "source": [
 "## Visualize Naive Bayes Model Predictions" 
   ]
            }
 ,{
            "cell_type": "markdown",
            "metadata": {},
            "source": [
 "## Evaluate Naive Bayes Model with Confusion Matrix" 
   ]
            }
   ],
 "metadata": {},
 "nbformat": 4,
 "nbformat_minor": 5
}
