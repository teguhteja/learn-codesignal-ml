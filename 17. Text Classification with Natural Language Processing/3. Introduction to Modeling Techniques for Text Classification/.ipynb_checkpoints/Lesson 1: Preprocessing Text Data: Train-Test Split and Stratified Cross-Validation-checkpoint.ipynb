{
            "cells": [
  {
            "cell_type": "markdown",
            "metadata": {},
            "source": [
                "# Lesson 1: Preprocessing Text Data: Train-Test Split and Stratified Cross-Validation"
            ]
            }
 ,{
            "cell_type": "markdown",
            "metadata": {},
            "source": [
 "## Implement Stratified Cross-Validation in Train-Test Split" 
   ]
            }
 ,{
            "cell_type": "markdown",
            "metadata": {},
            "source": [
 "## Analyzing Spam and Ham Distribution in Train-Test Split" 
   ]
            }
 ,{
            "cell_type": "markdown",
            "metadata": {},
            "source": [
 "## Exploring the Spam Dataset" 
   ]
            }
 ,{
            "cell_type": "markdown",
            "metadata": {},
            "source": [
 "## Stratified Train-Test Split for Text Data" 
   ]
            }
 ,{
            "cell_type": "markdown",
            "metadata": {},
            "source": [
 "## Stratified Train-Test Split and Class Distribution Analysis" 
   ]
            }
   ],
 "metadata": {},
 "nbformat": 4,
 "nbformat_minor": 5
}
