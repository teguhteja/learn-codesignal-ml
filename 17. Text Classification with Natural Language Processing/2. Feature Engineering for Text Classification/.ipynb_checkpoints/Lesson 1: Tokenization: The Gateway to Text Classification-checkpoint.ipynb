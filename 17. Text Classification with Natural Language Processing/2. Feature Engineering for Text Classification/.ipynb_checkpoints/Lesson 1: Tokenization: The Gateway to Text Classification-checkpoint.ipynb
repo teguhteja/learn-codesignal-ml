{
            "cells": [
  {
            "cell_type": "markdown",
            "metadata": {},
            "source": [
                "# Lesson 1: Tokenization: The Gateway to Text Classification"
            ]
            }
 ,{
            "cell_type": "markdown",
            "metadata": {},
            "source": [
 "## Filter Punctuation from Tokenized Review" 
   ]
            }
 ,{
            "cell_type": "markdown",
            "metadata": {},
            "source": [
 "## Filtering Word Tokens from a Sentence" 
   ]
            }
 ,{
            "cell_type": "markdown",
            "metadata": {},
            "source": [
 "## Completing Code for Data Loading and Tokenizing" 
   ]
            }
 ,{
            "cell_type": "markdown",
            "metadata": {},
            "source": [
 "## Tokenizing and Filtering a Movie Review" 
   ]
            }
 ,{
            "cell_type": "markdown",
            "metadata": {},
            "source": [
 "## Tokenizing First Review and Printing Tokens" 
   ]
            }
   ],
 "metadata": {},
 "nbformat": 4,
 "nbformat_minor": 5
}
