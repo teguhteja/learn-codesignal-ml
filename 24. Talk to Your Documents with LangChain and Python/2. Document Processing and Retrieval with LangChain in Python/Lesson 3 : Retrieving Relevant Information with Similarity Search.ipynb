{
            "cells": [
  {
            "cell_type": "markdown",
            "metadata": {},
            "source": [
                "# Lesson 3 : Retrieving Relevant Information with Similarity Search"
            ]
            }
 ,{
            "cell_type": "markdown",
            "metadata": {},
            "source": [
 "## Exploring Vector Store Details" 
   ]
            }
 ,{
            "cell_type": "markdown",
            "metadata": {},
            "source": [
 "## Formulate a Query for the Similarity Search" 
   ]
            }
 ,{
            "cell_type": "markdown",
            "metadata": {},
            "source": [
 "## Adjusting Document Retrieval Quantity" 
   ]
            }
 ,{
            "cell_type": "markdown",
            "metadata": {},
            "source": [
 "## Similarity Search with FAISS" 
   ]
            }
   ],
 "metadata": {},
 "nbformat": 4,
 "nbformat_minor": 5
}
