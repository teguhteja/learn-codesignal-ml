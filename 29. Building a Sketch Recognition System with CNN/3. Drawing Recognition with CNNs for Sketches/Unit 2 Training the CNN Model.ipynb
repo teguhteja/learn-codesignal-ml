{
            "cells": [
  {
            "cell_type": "markdown",
            "metadata": {},
            "source": [
                "# Unit 2 Training the CNN Model"
            ]
            }
 ,{
            "cell_type": "markdown",
            "metadata": {},
            "source": [
 "## Compiling and Training Your Sketch Recognizer" 
   ]
            }
 ,{
            "cell_type": "markdown",
            "metadata": {},
            "source": [
 "## Evaluating Model Performance and Generalization" 
   ]
            }
 ,{
            "cell_type": "markdown",
            "metadata": {},
            "source": [
 "## Saving and Loading Your Sketch Recognizer" 
   ]
            }
   ],
 "metadata": {},
 "nbformat": 4,
 "nbformat_minor": 5
}
