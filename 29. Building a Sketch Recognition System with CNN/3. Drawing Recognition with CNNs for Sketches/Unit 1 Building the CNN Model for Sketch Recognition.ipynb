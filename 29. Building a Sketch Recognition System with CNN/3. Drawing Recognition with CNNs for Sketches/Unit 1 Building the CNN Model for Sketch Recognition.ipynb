{
            "cells": [
  {
            "cell_type": "markdown",
            "metadata": {},
            "source": [
                "# Unit 1 Building the CNN Model for Sketch Recognition"
            ]
            }
 ,{
            "cell_type": "markdown",
            "metadata": {},
            "source": [
 "## Adding Dense Layer to the Model" 
   ]
            }
 ,{
            "cell_type": "markdown",
            "metadata": {},
            "source": [
 "## Building the CNN Foundation" 
   ]
            }
 ,{
            "cell_type": "markdown",
            "metadata": {},
            "source": [
 "## Completing the CNN Architecture" 
   ]
            }
   ],
 "metadata": {},
 "nbformat": 4,
 "nbformat_minor": 5
}
