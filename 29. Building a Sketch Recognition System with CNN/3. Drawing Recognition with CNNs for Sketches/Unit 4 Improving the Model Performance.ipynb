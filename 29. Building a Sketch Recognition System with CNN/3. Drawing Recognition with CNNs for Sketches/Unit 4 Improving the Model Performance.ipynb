{
            "cells": [
  {
            "cell_type": "markdown",
            "metadata": {},
            "source": [
                "# Unit 4 Improving the Model Performance"
            ]
            }
 ,{
            "cell_type": "markdown",
            "metadata": {},
            "source": [
 "## Preventing Overfitting with Dropout and EarlyStopping" 
   ]
            }
 ,{
            "cell_type": "markdown",
            "metadata": {},
            "source": [
 "## Automatic Training Termination with EarlyStopping" 
   ]
            }
   ],
 "metadata": {},
 "nbformat": 4,
 "nbformat_minor": 5
}
