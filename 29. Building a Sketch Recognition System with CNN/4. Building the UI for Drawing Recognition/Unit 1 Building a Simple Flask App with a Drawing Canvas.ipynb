{
            "cells": [
  {
            "cell_type": "markdown",
            "metadata": {},
            "source": [
                "# Unit 1 Building a Simple Flask App with a Drawing Canvas"
            ]
            }
 ,{
            "cell_type": "markdown",
            "metadata": {},
            "source": [
 "## Preparing Flask for Drawing Recognition" 
   ]
            }
 ,{
            "cell_type": "markdown",
            "metadata": {},
            "source": [
 "## Creating the Drawing Canvas Interface" 
   ]
            }
 ,{
            "cell_type": "markdown",
            "metadata": {},
            "source": [
 "## Styling Your Drawing App Interface" 
   ]
            }
   ],
 "metadata": {},
 "nbformat": 4,
 "nbformat_minor": 5
}
