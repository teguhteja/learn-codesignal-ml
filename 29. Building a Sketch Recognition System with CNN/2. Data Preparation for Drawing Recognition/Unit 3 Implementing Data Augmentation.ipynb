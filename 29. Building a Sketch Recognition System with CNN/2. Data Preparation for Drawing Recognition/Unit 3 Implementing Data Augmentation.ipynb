{
            "cells": [
  {
            "cell_type": "markdown",
            "metadata": {},
            "source": [
                "# Unit 3 Implementing Data Augmentation"
            ]
            }
 ,{
            "cell_type": "markdown",
            "metadata": {},
            "source": [
 "## Basic Image Augmentation for Drawings" 
   ]
            }
 ,{
            "cell_type": "markdown",
            "metadata": {},
            "source": [
 "## Enhanced Data Augmentation for Drawings" 
   ]
            }
 ,{
            "cell_type": "markdown",
            "metadata": {},
            "source": [
 "## Visualizing Multiple Augmentations of One Drawing" 
   ]
            }
 ,{
            "cell_type": "markdown",
            "metadata": {},
            "source": [
 "## Comparing Fill Modes for Drawing Augmentation" 
   ]
            }
   ],
 "metadata": {},
 "nbformat": 4,
 "nbformat_minor": 5
}
