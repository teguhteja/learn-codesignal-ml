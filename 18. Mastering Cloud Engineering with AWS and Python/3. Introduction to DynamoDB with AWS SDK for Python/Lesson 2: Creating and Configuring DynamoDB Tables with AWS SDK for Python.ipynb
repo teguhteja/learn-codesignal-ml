{
            "cells": [
  {
            "cell_type": "markdown",
            "metadata": {},
            "source": [
                "# Lesson 2: Creating and Configuring DynamoDB Tables with AWS SDK for Python"
            ]
            }
 ,{
            "cell_type": "markdown",
            "metadata": {},
            "source": [
 "## Creating a DynamoDB Table with Boto3" 
   ]
            }
 ,{
            "cell_type": "markdown",
            "metadata": {},
            "source": [
 "## Switching DynamoDB Billing Modes" 
   ]
            }
 ,{
            "cell_type": "markdown",
            "metadata": {},
            "source": [
 "## Fixing DynamoDB Table Creation Script" 
   ]
            }
 ,{
            "cell_type": "markdown",
            "metadata": {},
            "source": [
 "## Expanding DynamoDB Table Structure" 
   ]
            }
 ,{
            "cell_type": "markdown",
            "metadata": {},
            "source": [
 "## Managing DynamoDB Tables with Python" 
   ]
            }
   ],
 "metadata": {},
 "nbformat": 4,
 "nbformat_minor": 5
}
