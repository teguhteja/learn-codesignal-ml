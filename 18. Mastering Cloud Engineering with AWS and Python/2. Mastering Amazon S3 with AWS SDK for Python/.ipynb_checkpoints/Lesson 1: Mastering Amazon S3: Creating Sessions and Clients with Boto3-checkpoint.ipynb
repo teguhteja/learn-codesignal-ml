{
            "cells": [
  {
            "cell_type": "markdown",
            "metadata": {},
            "source": [
                "# Lesson 1: Mastering Amazon S3: Creating Sessions and Clients with Boto3"
            ]
            }
 ,{
            "cell_type": "markdown",
            "metadata": {},
            "source": [
 "## Creating AWS Session and Initializing Amazon S3" 
   ]
            }
 ,{
            "cell_type": "markdown",
            "metadata": {},
            "source": [
 "## Working with AWS Sessions and Amazon S3" 
   ]
            }
 ,{
            "cell_type": "markdown",
            "metadata": {},
            "source": [
 "## Creating an AWS Session and S3 Resource and Client" 
   ]
            }
   ],
 "metadata": {},
 "nbformat": 4,
 "nbformat_minor": 5
}
