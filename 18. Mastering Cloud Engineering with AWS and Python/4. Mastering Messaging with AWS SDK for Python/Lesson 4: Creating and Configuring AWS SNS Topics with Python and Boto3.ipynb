{
            "cells": [
  {
            "cell_type": "markdown",
            "metadata": {},
            "source": [
                "# Lesson 4: Creating and Configuring AWS SNS Topics with Python and Boto3"
            ]
            }
 ,{
            "cell_type": "markdown",
            "metadata": {},
            "source": [
 "## Running SNS Topic Creation Scripts" 
   ]
            }
 ,{
            "cell_type": "markdown",
            "metadata": {},
            "source": [
 "## Setting Display Name for AWS SNS Topics" 
   ]
            }
 ,{
            "cell_type": "markdown",
            "metadata": {},
            "source": [
 "## Listing Topics in SNS with Pagination" 
   ]
            }
 ,{
            "cell_type": "markdown",
            "metadata": {},
            "source": [
 "## Creating and Setting SNS Topic Using Python Boto3" 
   ]
            }
   ],
 "metadata": {},
 "nbformat": 4,
 "nbformat_minor": 5
}
