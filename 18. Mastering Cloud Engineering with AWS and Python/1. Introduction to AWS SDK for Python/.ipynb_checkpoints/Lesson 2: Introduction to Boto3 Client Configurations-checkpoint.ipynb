{
            "cells": [
  {
            "cell_type": "markdown",
            "metadata": {},
            "source": [
                "# Lesson 2: Introduction to Boto3 Client Configurations"
            ]
            }
 ,{
            "cell_type": "markdown",
            "metadata": {},
            "source": [
 "## Configuring Boto3 for Automatic Retries and Custom Endpoints" 
   ]
            }
 ,{
            "cell_type": "markdown",
            "metadata": {},
            "source": [
 "## Add Custom Retry Strategy to Boto3 S3 Client" 
   ]
            }
 ,{
            "cell_type": "markdown",
            "metadata": {},
            "source": [
 "## Add Custom Endpoint to Boto3 S3 Client" 
   ]
            }
   ],
 "metadata": {},
 "nbformat": 4,
 "nbformat_minor": 5
}
