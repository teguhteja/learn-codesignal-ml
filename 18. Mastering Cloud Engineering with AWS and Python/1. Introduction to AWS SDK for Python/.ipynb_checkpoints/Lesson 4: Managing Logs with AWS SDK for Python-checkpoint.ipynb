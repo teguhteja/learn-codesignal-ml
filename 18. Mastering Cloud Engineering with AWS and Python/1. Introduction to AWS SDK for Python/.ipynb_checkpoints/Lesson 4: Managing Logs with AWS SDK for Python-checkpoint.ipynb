{
            "cells": [
  {
            "cell_type": "markdown",
            "metadata": {},
            "source": [
                "# Lesson 4: Managing Logs with AWS SDK for Python"
            ]
            }
 ,{
            "cell_type": "markdown",
            "metadata": {},
            "source": [
 "## Running AWS Debug Logging and S3 Operations" 
   ]
            }
 ,{
            "cell_type": "markdown",
            "metadata": {},
            "source": [
 "## Elevating AWS Python Logging to DEBUG Level" 
   ]
            }
   ],
 "metadata": {},
 "nbformat": 4,
 "nbformat_minor": 5
}
