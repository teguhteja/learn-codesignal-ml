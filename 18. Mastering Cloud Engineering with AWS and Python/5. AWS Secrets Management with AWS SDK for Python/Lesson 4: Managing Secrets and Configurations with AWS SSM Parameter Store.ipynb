{
            "cells": [
  {
            "cell_type": "markdown",
            "metadata": {},
            "source": [
                "# Lesson 4: Managing Secrets and Configurations with AWS SSM Parameter Store"
            ]
            }
 ,{
            "cell_type": "markdown",
            "metadata": {},
            "source": [
 "## Running AWS SSM Parameter Store Operations" 
   ]
            }
 ,{
            "cell_type": "markdown",
            "metadata": {},
            "source": [
 "## Creating and Fetching AWS SSM Parameters" 
   ]
            }
 ,{
            "cell_type": "markdown",
            "metadata": {},
            "source": [
 "## Modifying and Verifying SSM Parameter Values" 
   ]
            }
 ,{
            "cell_type": "markdown",
            "metadata": {},
            "source": [
 "## Managing Parameters with AWS SSM Overwrite Feature" 
   ]
            }
 ,{
            "cell_type": "markdown",
            "metadata": {},
            "source": [
 "## Deleting Single and Multiple Parameters in AWS" 
   ]
            }
 ,{
            "cell_type": "markdown",
            "metadata": {},
            "source": [
 "## Mastering AWS SSM Parameter Store Operations" 
   ]
            }
   ],
 "metadata": {},
 "nbformat": 4,
 "nbformat_minor": 5
}
