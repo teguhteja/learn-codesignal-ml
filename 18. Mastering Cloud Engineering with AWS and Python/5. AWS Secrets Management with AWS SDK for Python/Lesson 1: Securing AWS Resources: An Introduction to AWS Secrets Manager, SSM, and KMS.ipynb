{
            "cells": [
  {
            "cell_type": "markdown",
            "metadata": {},
            "source": [
                "# Lesson 1: Securing AWS Resources: An Introduction to AWS Secrets Manager, SSM, and KMS"
            ]
            }
 ,{
            "cell_type": "markdown",
            "metadata": {},
            "source": [
 "## Initializing AWS Secret Management Services" 
   ]
            }
 ,{
            "cell_type": "markdown",
            "metadata": {},
            "source": [
 "## Creating AWS Clients with Custom Session" 
   ]
            }
 ,{
            "cell_type": "markdown",
            "metadata": {},
            "source": [
 "## Initializing AWS Services Clients" 
   ]
            }
   ],
 "metadata": {},
 "nbformat": 4,
 "nbformat_minor": 5
}
