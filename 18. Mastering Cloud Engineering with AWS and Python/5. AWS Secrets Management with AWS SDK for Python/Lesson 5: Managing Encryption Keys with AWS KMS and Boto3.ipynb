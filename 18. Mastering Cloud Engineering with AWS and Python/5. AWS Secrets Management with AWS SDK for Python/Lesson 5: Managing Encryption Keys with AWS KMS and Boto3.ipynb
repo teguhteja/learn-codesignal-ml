{
            "cells": [
  {
            "cell_type": "markdown",
            "metadata": {},
            "source": [
                "# Lesson 5: Managing Encryption Keys with AWS KMS and Boto3"
            ]
            }
 ,{
            "cell_type": "markdown",
            "metadata": {},
            "source": [
 "## Creating a Customer Master Key in AWS KMS" 
   ]
            }
 ,{
            "cell_type": "markdown",
            "metadata": {},
            "source": [
 "## Generating a Data Key with KMS" 
   ]
            }
 ,{
            "cell_type": "markdown",
            "metadata": {},
            "source": [
 "## Describing a Customer Master Key Metadata" 
   ]
            }
 ,{
            "cell_type": "markdown",
            "metadata": {},
            "source": [
 "## Enabling Rotation for AWS KMS Keys" 
   ]
            }
   ],
 "metadata": {},
 "nbformat": 4,
 "nbformat_minor": 5
}
