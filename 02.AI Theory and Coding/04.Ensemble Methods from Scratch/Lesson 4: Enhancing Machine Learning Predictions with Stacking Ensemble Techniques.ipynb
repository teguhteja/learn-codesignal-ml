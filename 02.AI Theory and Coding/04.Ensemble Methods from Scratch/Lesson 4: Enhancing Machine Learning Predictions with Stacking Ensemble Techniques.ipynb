{
         "cells": [
                  {
                           "cell_type": "markdown",
                           "metadata": {},
                           "source": [
                                    "# Lesson 4: Enhancing Machine Learning Predictions with Stacking Ensemble Techniques\n",
                                    "\n",
                                    "## Introduction and Overview\n",
                                    "Welcome to our insightful journey into Stacking, a robust ensemble learning technique prevalent in machine learning. The primary objective of this lesson is to design and implement a basic Stacking model using a diverse set of classifiers in Python. Stacking is an ensemble learning method that combines a series of predictions from various models, known as base models, to build a new model called the meta-model. The performance enhancements in the dataset stem from the final prediction made by this meta-model. We will delve into understanding stacking, train base models, craft a meta-model, implement them in Python, and finally touch on evaluating and understanding the concept of accuracy in this context.\n",
                                    "\n",
                                    "## Understanding Stacking: Theoretical Insight\n",
                                    "Stacking is an ensemble learning method that ingeniously combines different models to refine the performance of the final predictive model. By leveraging a repertoire of diverse base models, Stacking enhances prediction accuracy by capturing disparate variations.\n",
                                    "\n",
                                    "## Importance of Base Models and Their Implementation\n",
                                    "Base models serve as the building blocks of Stacking, with each model predicting target values independently. We begin our Python journey by loading the Iris dataset and splitting it into training and testing sets. For a more granular approach, the training set is further divided into segments to craft our base and meta-models.\n",
                                    "\n",
                                    "```python\n",
                                    "import numpy as np\n",
                                    "from sklearn.datasets import load_iris\n",
                                    "from sklearn.model_selection import train_test_split\n",
                                    "from sklearn.svm import SVC\n",
                                    "from sklearn.tree import DecisionTreeClassifier\n",
                                    "from sklearn.ensemble import RandomForestClassifier\n",
                                    "\n",
                                    "iris = load_iris()\n",
                                    "X_train, X_holdout, y_train, y_holdout = train_test_split(iris.data, iris.target, test_size=0.2, random_state=42)\n",
                                    "X_train_base, X_train_meta, y_train_base, y_train_meta = train_test_split(X_train, y_train, test_size=0.5, random_state=42)\n",
                                    "base_models = [SVC(), DecisionTreeClassifier(), RandomForestClassifier()]\n",
                                    "```\n",
                                    "\n",
                                    "In this segment, an array of diverse classifiers has been initiated—Support Vector Classifier (SVC), Decision Tree Classifier, and RandomForestClassifier—as our base models. The choice of diverse base models helps us capture diverse patterns in the data, thereby reducing bias.\n",
                                    "\n",
                                    "## Understanding the Role of Meta-Model\n",
                                    "Next, we pivot to the linchpin of our stacking ensemble, which is the meta-model. This second-level model uses the predictions of the base models to refine the final prediction. The Python-specific implementation proceeds smoothly.\n",
                                    "\n",
                                    "```python\n",
                                    "from sklearn.linear_model import LogisticRegression\n",
                                    "\n",
                                    "base_model_preds = []\n",
                                    "for model in base_models:\n",
                                    "    model.fit(X_train_base, y_train_base)\n",
                                    "    pred = model.predict(X_train_meta)\n",
                                    "    base_model_preds.append(pred)\n",
                                    "\n",
                                    "stacking_dataset = np.column_stack(base_model_preds)\n",
                                    "meta_model = LogisticRegression()\n",
                                    "meta_model.fit(stacking_dataset, y_train_meta)\n",
                                    "```\n",
                                    "\n",
                                    "In this stage, each base model learns about the data and makes predictions. `X_train_base` and `y_train_base` are used to train each base model. `X_train_meta` is then used to make predictions for each base model.\n",
                                    "\n",
                                    "After training the base models, their predictions are stacked together, forming a new dataset called `stacking_dataset`. This dataset is used as an input or feature set to train a Logistic Regression model, which is selected as the meta-model here. Known for its simplicity and efficiency, the Logistic Regression model is a robust and reliable algorithm for binary or multi-class classification tasks.\n",
                                    "\n",
                                    "## Implementing Stacking: Writing Python Code\n",
                                    "After training the base models and the meta-model, we navigate toward the complete construction of our Stacking model.\n",
                                    "\n",
                                    "```python\n",
                                    "holdout_preds = []\n",
                                    "for model in base_models:\n",
                                    "    pred = model.predict(X_holdout)\n",
                                    "    holdout_preds.append(pred)\n",
                                    "\n",
                                    "stacking_holdout_dataset = np.column_stack(holdout_preds)\n",
                                    "meta_model_holdout_preds = meta_model.predict(stacking_holdout_dataset)\n",
                                    "```\n",
                                    "\n",
                                    "In this block of Python code, all the base models run the test/holdout set, `X_holdout`, for predictions. These predictions form a composite feed for the meta-model to make the final prediction.\n",
                                    "\n",
                                    "## Model Evaluation: Assessing the Performance\n",
                                    "With training now behind us, we measure the performance of our model using the acclaimed `accuracy_score` method from `sklearn`.\n",
                                    "\n",
                                    "```python\n",
                                    "from sklearn.metrics import accuracy_score\n",
                                    "\n",
                                    "accuracy = accuracy_score(y_holdout, meta_model_holdout_preds)\n",
                                    "print(f'Accuracy: {accuracy*100:.2f}%')\n",
                                    "```\n",
                                    "\n",
                                    "This final chunk of Python code measures the performance of our model using 'accuracy', a factor that demonstrates how often the model's predictions match the actual values.\n",
                                    "\n",
                                    "## Lesson Summary and Practice\n",
                                    "Congratulations! You've successfully navigated through the fascinating landscape of stacking. By training base models, crafting a meta-model, and consolidating them into a stacking model, you now possess the skills and knowledge to tackle real-world machine learning problems. Up next are practice exercises to solidify your grasp of these key concepts. So, roll up your sleeves and dive headfirst into the practice pool. Happy practicing!\n"
                           ]
                  },
                  {
                           "cell_type": "markdown",
                           "metadata": {},
                           "source": [
                                    "## Launching the Stacking Model into Orbit"
                           ]
                  },
                  {
                           "cell_type": "markdown",
                           "metadata": {},
                           "source": [
                                    "## Switching the Meta-Model in Stacking Ensemble"
                           ]
                  },
                  {
                           "cell_type": "markdown",
                           "metadata": {},
                           "source": [
                                    "## Stacking Ensemble: Combining Base Model Predictions"
                           ]
                  }
         ],
         "metadata": {
                  "language_info": {
                           "name": "python"
                  }
         },
         "nbformat": 4,
         "nbformat_minor": 5
}
