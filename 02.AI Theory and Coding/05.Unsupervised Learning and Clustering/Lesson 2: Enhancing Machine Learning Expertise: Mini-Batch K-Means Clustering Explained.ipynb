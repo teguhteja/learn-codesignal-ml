{
         "cells": [
                  {
                           "cell_type": "markdown",
                           "metadata": {},
                           "source": [
                                    "# Lesson 2: Enhancing Machine Learning Expertise: Mini-Batch K-Means Clustering Explained\n",
                                    "\n",
                                    "# Enhancing Machine Learning Expertise: Mini-Batch K-Means Clustering Explained\n",
                                    "\n",
                                    "## Introduction\n",
                                    "Welcome back to our exploration of clustering algorithms! Today, we'll cover an improved version of the k-means algorithm — the **mini-batch k-means**. While related to k-means, this variant enhances computational speed while maintaining exceptional clustering quality. Let's discuss its Python implementation.\n",
                                    "\n",
                                    "## Understanding the Mini-Batch Concept\n",
                                    "In machine learning, **mini-batches** refer to subsets of data randomly selected for each algorithm iteration. This approach optimizes computational functions. Specifically, for mini-batch k-means, this technique significantly accelerates the clustering process.\n",
                                    "\n",
                                    "## Generative Dataset and Preliminaries\n",
                                    "Before delving into the mini-batch k-means implementation, we must establish preparatory functions and a working dataset. Our dataset consists of two distinct clusters. We'll calculate the **Euclidean distance** and randomly initialize our centroids to assign each data point to its closest centroid.\n",
                                    "\n",
                                    "The formula for Euclidean distance is:\n",
                                    "\n",
                                    "\\[\n",
                                    "d(a, b) = \\sqrt{\\sum (a - b)^2}\n",
                                    "\\]\n",
                                    "\n",
                                    "This represents the straight-line distance between two points.\n",
                                    "\n",
                                    "```python\n",
                                    "import numpy as np\n",
                                    "import matplotlib.pyplot as plt\n",
                                    "\n",
                                    "np.random.seed(0)\n",
                                    "data = np.vstack([np.random.normal(loc=3, scale=1, size=(100,2)), np.random.normal(loc=-3, scale=1, size=(100,2))])\n",
                                    "\n",
                                    "def euclidean_distance(a, b):\n",
                                    "    return np.linalg.norm(a - b, axis=-1)\n",
                                    "\n",
                                    "def initialize_centers(data, k):\n",
                                    "    idx = np.random.choice(len(data), size=k)\n",
                                    "    return data[idx, :]\n",
                                    "```\n",
                                    "\n",
                                    "This implementation of the `euclidean_distance` function assumes `a` and `b` are numpy arrays, with potentially multidimensional data. The function calculates the **Frobenius norm** (Euclidean norm for n-dimensional space).\n",
                                    "\n",
                                    "## Python Mini-Batch K-Means Algorithm\n",
                                    "Let's put theory into practice by implementing the mini-batch k-means. The `mini_batch_kMeans` function accepts:\n",
                                    "\n",
                                    "- **data**: 2D coordinates representing data points.\n",
                                    "- **k**: The number of clusters.\n",
                                    "- **iterations**: The number of algorithm iterations.\n",
                                    "- **batch_size**: The number of data points randomly selected in each iteration.\n",
                                    "\n",
                                    "The algorithm starts by initializing the centroids, then iteratively selects a mini-batch, calculates Euclidean distances, assigns points to the closest centroid, and recalculates the centroids.\n",
                                    "\n",
                                    "```python\n",
                                    "# Implement mini-batch K-Means\n",
                                    "def mini_batch_kMeans(data, k, iterations=10, batch_size=20):\n",
                                    "    centers = initialize_centers(data, k)\n",
                                    "    for _ in range(iterations):\n",
                                    "        idx = np.random.choice(len(data), size=batch_size)\n",
                                    "        batch = data[idx, :]\n",
                                    "        dists = euclidean_distance(batch[:, None, :], centers[None, :, :])\n",
                                    "        labels = np.argmin(dists, axis=1)\n",
                                    "        for i in range(k):\n",
                                    "            if np.sum(labels == i) > 0:\n",
                                    "                centers[i] = np.mean(batch[labels == i], axis=0)\n",
                                    "    return centers\n",
                                    "\n",
                                    "centers = mini_batch_kMeans(data, k=2)\n",
                                    "```\n",
                                    "\n",
                                    "## Interpreting the Results\n",
                                    "After obtaining the final centroids, it's time to visualize the formed clusters. Each color represents a data point assigned to a centroid, and the red dots mark the centroid positions.\n",
                                    "\n",
                                    "```python\n",
                                    "plt.scatter(data[:, 0], data[:, 1], s=50)\n",
                                    "plt.scatter(centers[:, 0], centers[:, 1], c='red', s=200, alpha=0.5)\n",
                                    "plt.show()\n",
                                    "```\n",
                                    "\n",
                                    "Here is the resulting image:\n",
                                    "\n",
                                    "\n",
                                    "\n",
                                    "## Strengths, Drawbacks, and Applications\n",
                                    "The mini-batch k-means algorithm is a powerful tool with advantages like **computational speed** and applicability to **large datasets**. However, it may not be as precise as the classic k-means. This algorithm shines in **large-scale data mining** operations where time and resources are constrained.\n",
                                    "\n",
                                    "## Lesson Summary and Practice\n",
                                    "Today's exploration introduced the efficient **mini-batch k-means** clustering, implemented through Python. Practice with different parameters to understand how they affect the output. Stay tuned for more engaging exercises in the next lesson!\n"
                           ]
                  },
                  {
                           "cell_type": "markdown",
                           "metadata": {},
                           "source": [
                                    "## Visualizing Mini-Batch K-Means Clustering"
                           ]
                  },
                  {
                           "cell_type": "markdown",
                           "metadata": {},
                           "source": [
                                    "## Adjusting Batch Size in Mini-Batch K-Means"
                           ]
                  },
                  {
                           "cell_type": "markdown",
                           "metadata": {},
                           "source": [
                                    "## Updating the Mini-Batch K-Means Centroids"
                           ]
                  },
                  {
                           "cell_type": "markdown",
                           "metadata": {},
                           "source": [
                                    "## Update Cluster Centers in Mini-Batch K-Means"
                           ]
                  }
         ],
         "metadata": {
                  "language_info": {
                           "name": "python"
                  }
         },
         "nbformat": 4,
         "nbformat_minor": 5
}
