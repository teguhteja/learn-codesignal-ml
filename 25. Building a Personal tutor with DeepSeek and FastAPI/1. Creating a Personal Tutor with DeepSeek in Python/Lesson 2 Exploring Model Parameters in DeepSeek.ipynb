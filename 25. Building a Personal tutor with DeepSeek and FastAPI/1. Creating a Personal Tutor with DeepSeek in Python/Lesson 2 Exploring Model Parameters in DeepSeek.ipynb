{
            "cells": [
  {
            "cell_type": "markdown",
            "metadata": {},
            "source": [
                "# Lesson 2 Exploring Model Parameters in DeepSeek"
            ]
            }
 ,{
            "cell_type": "markdown",
            "metadata": {},
            "source": [
 "## Exploring Default AI Behavior with Basic Parameters" 
   ]
            }
 ,{
            "cell_type": "markdown",
            "metadata": {},
            "source": [
 "## Controlling Response Length with max_tokens Parameter" 
   ]
            }
 ,{
            "cell_type": "markdown",
            "metadata": {},
            "source": [
 "## Adding Temperature Parameter to Control AI Creativity" 
   ]
            }
 ,{
            "cell_type": "markdown",
            "metadata": {},
            "source": [
 "## Exploring High Temperature Settings for AI Responses" 
   ]
            }
 ,{
            "cell_type": "markdown",
            "metadata": {},
            "source": [
 "## Implementing Presence Penalty to Encourage Topic Diversity" 
   ]
            }
 ,{
            "cell_type": "markdown",
            "metadata": {},
            "source": [
 "## Reducing Repetition with Frequency Penalty Parameter" 
   ]
            }
   ],
 "metadata": {},
 "nbformat": 4,
 "nbformat_minor": 5
}
