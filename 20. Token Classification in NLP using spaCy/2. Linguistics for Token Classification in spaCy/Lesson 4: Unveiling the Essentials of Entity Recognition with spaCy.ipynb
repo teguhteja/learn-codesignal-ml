{
            "cells": [
  {
            "cell_type": "markdown",
            "metadata": {},
            "source": [
                "# Lesson 4: Unveiling the Essentials of Entity Recognition with spaCy"
            ]
            }
 ,{
            "cell_type": "markdown",
            "metadata": {},
            "source": [
 "## Filtering Out Organization Entities" 
   ]
            }
 ,{
            "cell_type": "markdown",
            "metadata": {},
            "source": [
 "## Identifying Specific Entities in Custom Text" 
   ]
            }
 ,{
            "cell_type": "markdown",
            "metadata": {},
            "source": [
 "## Extracting 'ORG' and 'GPE' Entities with Spacy" 
   ]
            }
 ,{
            "cell_type": "markdown",
            "metadata": {},
            "source": [
 "## Unique Geopolitical Entities in Reuters Dataset" 
   ]
            }
   ],
 "metadata": {},
 "nbformat": 4,
 "nbformat_minor": 5
}
