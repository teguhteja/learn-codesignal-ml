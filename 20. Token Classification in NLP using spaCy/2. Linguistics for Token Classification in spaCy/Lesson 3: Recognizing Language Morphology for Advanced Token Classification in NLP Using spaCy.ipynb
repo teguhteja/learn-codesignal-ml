{
            "cells": [
  {
            "cell_type": "markdown",
            "metadata": {},
            "source": [
                "# Lesson 3: Recognizing Language Morphology for Advanced Token Classification in NLP Using spaCy"
            ]
            }
 ,{
            "cell_type": "markdown",
            "metadata": {},
            "source": [
 "## Extracting Specific Morphological Features for Verbs" 
   ]
            }
 ,{
            "cell_type": "markdown",
            "metadata": {},
            "source": [
 "## Extract Number Feature from Noun Tokens" 
   ]
            }
 ,{
            "cell_type": "markdown",
            "metadata": {},
            "source": [
 "## Create a Sentence with Specific Morphological Features" 
   ]
            }
 ,{
            "cell_type": "markdown",
            "metadata": {},
            "source": [
 "## Discovering Feature-Rich Sentence in Text Analysis" 
   ]
            }
   ],
 "metadata": {},
 "nbformat": 4,
 "nbformat_minor": 5
}
