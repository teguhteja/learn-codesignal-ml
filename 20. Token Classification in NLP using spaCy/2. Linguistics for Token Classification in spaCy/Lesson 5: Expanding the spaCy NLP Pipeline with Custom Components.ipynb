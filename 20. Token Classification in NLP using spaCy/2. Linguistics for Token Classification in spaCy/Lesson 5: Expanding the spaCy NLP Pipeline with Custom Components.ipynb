{
            "cells": [
  {
            "cell_type": "markdown",
            "metadata": {},
            "source": [
                "# Lesson 5: Expanding the spaCy NLP Pipeline with Custom Components"
            ]
            }
 ,{
            "cell_type": "markdown",
            "metadata": {},
            "source": [
 "## Modify Phonetic Key Function in spaCy" 
   ]
            }
 ,{
            "cell_type": "markdown",
            "metadata": {},
            "source": [
 "## Implement Verb Count Pipeline Component" 
   ]
            }
 ,{
            "cell_type": "markdown",
            "metadata": {},
            "source": [
 "## Creating a Vowel Detection Custom Extension in spaCy" 
   ]
            }
   ],
 "metadata": {},
 "nbformat": 4,
 "nbformat_minor": 5
}
