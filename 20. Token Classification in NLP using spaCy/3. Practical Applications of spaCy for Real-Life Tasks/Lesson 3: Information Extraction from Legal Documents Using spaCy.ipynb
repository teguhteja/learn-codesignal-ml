{
            "cells": [
  {
            "cell_type": "markdown",
            "metadata": {},
            "source": [
                "# Lesson 3: Information Extraction from Legal Documents Using spaCy"
            ]
            }
 ,{
            "cell_type": "markdown",
            "metadata": {},
            "source": [
 "## Extract Key Entities from Text" 
   ]
            }
 ,{
            "cell_type": "markdown",
            "metadata": {},
            "source": [
 "## Filter Entities With spaCy" 
   ]
            }
   ],
 "metadata": {},
 "nbformat": 4,
 "nbformat_minor": 5
}
