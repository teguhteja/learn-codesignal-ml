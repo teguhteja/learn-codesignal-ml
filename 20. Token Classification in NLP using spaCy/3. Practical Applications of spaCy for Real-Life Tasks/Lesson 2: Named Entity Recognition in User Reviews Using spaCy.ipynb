{
            "cells": [
  {
            "cell_type": "markdown",
            "metadata": {},
            "source": [
                "# Lesson 2: Named Entity Recognition in User Reviews Using spaCy"
            ]
            }
 ,{
            "cell_type": "markdown",
            "metadata": {},
            "source": [
 "## Filter Reviews Discussing Prices" 
   ]
            }
 ,{
            "cell_type": "markdown",
            "metadata": {},
            "source": [
 "## Sorting Reviews by Dates" 
   ]
            }
 ,{
            "cell_type": "markdown",
            "metadata": {},
            "source": [
 "## Identifying Locations and Averaging Scores" 
   ]
            }
   ],
 "metadata": {},
 "nbformat": 4,
 "nbformat_minor": 5
}
