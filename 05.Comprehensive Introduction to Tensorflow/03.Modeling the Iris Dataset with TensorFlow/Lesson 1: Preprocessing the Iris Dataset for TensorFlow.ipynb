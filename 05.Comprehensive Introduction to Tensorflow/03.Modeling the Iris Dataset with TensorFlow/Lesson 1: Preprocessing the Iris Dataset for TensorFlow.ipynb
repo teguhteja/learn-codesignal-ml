{
    "cells": [
     {
      "cell_type": "markdown",
      "metadata": {},
      "source": [
       "## Exploring and Preprocessing the Iris Dataset"
      ]
     },
     {
      "cell_type": "markdown",
      "metadata": {},
      "source": [
       "## Changing Train-Test Split Ratio"
      ]
     },
     {
      "cell_type": "markdown",
      "metadata": {},
      "source": [
       "## Fix the Data Preprocessing Bugs"
      ]
     },
     {
      "cell_type": "markdown",
      "metadata": {},
      "source": [
       "## Hands-on Data Preprocessing"
      ]
     },
     {
      "cell_type": "markdown",
      "metadata": {},
      "source": [
       "## End-to-end Preprocessing the Iris Dataset"
      ]
     }
    ],
    "metadata": {
     "language_info": {
      "name": "python"
     }
    },
    "nbformat": 4,
    "nbformat_minor": 2
   }
   