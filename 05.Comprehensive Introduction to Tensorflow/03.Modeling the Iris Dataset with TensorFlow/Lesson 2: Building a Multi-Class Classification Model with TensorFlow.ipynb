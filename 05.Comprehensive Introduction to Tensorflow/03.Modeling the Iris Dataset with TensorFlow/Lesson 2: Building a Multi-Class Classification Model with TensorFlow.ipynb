{
    "cells": [
     {
      "cell_type": "markdown",
      "metadata": {},
      "source": [
       "## Multi-Class Model Training Basics"
      ]
     },
     {
      "cell_type": "markdown",
      "metadata": {},
      "source": [
       "## Changing Training Parameters in TensorFlow"
      ]
     },
     {
      "cell_type": "markdown",
      "metadata": {},
      "source": [
       "## Fixing TensorFlow Model Training"
      ]
     },
     {
      "cell_type": "markdown",
      "metadata": {},
      "source": [
       "## Building a TensorFlow Model"
      ]
     },
     {
      "cell_type": "markdown",
      "metadata": {},
      "source": [
       "## Implementation of a TensorFlow Model"
      ]
     }
    ],
    "metadata": {
     "language_info": {
      "name": "python"
     }
    },
    "nbformat": 4,
    "nbformat_minor": 2
   }
   