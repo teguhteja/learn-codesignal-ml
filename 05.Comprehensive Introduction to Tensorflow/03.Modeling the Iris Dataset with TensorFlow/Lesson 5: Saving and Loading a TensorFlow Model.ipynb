{
    "cells": [
     {
      "cell_type": "markdown",
      "metadata": {},
      "source": [
       "## Model Saving and Loading Basics with TensorFlow"
      ]
     },
     {
      "cell_type": "markdown",
      "metadata": {},
      "source": [
       "## Changing Saved Model's Name"
      ]
     },
     {
      "cell_type": "markdown",
      "metadata": {},
      "source": [
       "## Fix Model Saving and Loading"
      ]
     },
     {
      "cell_type": "markdown",
      "metadata": {},
      "source": [
       "## Implementing Save and Load in TensorFlow"
      ]
     },
     {
      "cell_type": "markdown",
      "metadata": {},
      "source": [
       "## Save, Load, and Verify Models"
      ]
     }
    ],
    "metadata": {
     "language_info": {
      "name": "python"
     }
    },
    "nbformat": 4,
    "nbformat_minor": 2
   }
   