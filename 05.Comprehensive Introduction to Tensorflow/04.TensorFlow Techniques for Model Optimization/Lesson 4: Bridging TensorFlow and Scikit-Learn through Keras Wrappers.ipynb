{
    "cells": [
     {
      "cell_type": "markdown",
      "metadata": {},
      "source": [
       "## Bridging Libraries for Evaluation"
      ]
     },
     {
      "cell_type": "markdown",
      "metadata": {},
      "source": [
       "## Adjust Cross Validation Parameters"
      ]
     },
     {
      "cell_type": "markdown",
      "metadata": {},
      "source": [
       "## Fix K-Fold Cross-Validation Bug"
      ]
     },
     {
      "cell_type": "markdown",
      "metadata": {},
      "source": [
       "## Integrate Scikit-Learn with TensorFlow"
      ]
     },
     {
      "cell_type": "markdown",
      "metadata": {},
      "source": [
       "## Bridging TensorFlow and Scikit-Learn"
      ]
     }
    ],
    "metadata": {
     "language_info": {
      "name": "python"
     }
    },
    "nbformat": 4,
    "nbformat_minor": 2
   }
   