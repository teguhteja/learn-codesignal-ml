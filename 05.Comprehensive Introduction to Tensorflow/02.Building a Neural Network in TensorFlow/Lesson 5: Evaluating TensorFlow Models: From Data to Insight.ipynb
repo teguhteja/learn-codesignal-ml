{
    "cells": [
     {
      "cell_type": "markdown",
      "metadata": {},
      "source": [
       "## Using TensorFlow to Evaluate a Model"
      ]
     },
     {
      "cell_type": "markdown",
      "metadata": {},
      "source": [
       "## Change the Evaluation Metric"
      ]
     },
     {
      "cell_type": "markdown",
      "metadata": {},
      "source": [
       "## Fix Neural Network Evaluation Code"
      ]
     },
     {
      "cell_type": "markdown",
      "metadata": {},
      "source": [
       "## Implement TensorFlow's Evaluate Method"
      ]
     },
     {
      "cell_type": "markdown",
      "metadata": {},
      "source": [
       "## Evaluating a TensorFlow Model"
      ]
     }
    ],
    "metadata": {
     "language_info": {
      "name": "python"
     }
    },
    "nbformat": 4,
    "nbformat_minor": 2
   }
   