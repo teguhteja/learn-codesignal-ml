{
 "cells": [
  {
   "attachments": {
    "image-2.png": {
     "image/png": "[encoded data removed]"
    },
    "image-3.png": {
     "image/png": "[encoded data removed]"
    },
    "image.png": {
     "image/png": "[encoded data removed]"
    }
   },
   "cell_type": "markdown",
   "metadata": {},
   "source": [
    "## Topic Overview\n",
    "Hello and welcome to the fascinating world of Neural Networks (NNs) and TensorFlow. In this lesson, we'll explore how to initialize a Neural Network model using TensorFlow, an open-source library widely popular amongst Machine Learning enthusiasts and practitioners. The primary intention of this lesson is to help you understand and implement a Neural Network Model and expand its layers using TensorFlow. By the end, you will be able to initialize a Neural Network and add layers to it.\n",
    "\n",
    "## The Big Picture: Neural Networks and TensorFlow\n",
    "A Neural Network is a series of algorithms that tries to identify patterns and relationships in a dataset via a process that mimics how the human brain works. Neural Networks are a key player in many aspects of Machine Learning, including language recognition, image identification, and even self-driving cars!\n",
    "\n",
    "TensorFlow, on the other hand, is an end-to-end open-source platform that helps in building, training, and deploying such complex Neural Networks. Its capacity to run models on a variety of platforms - from mobiles to servers in data centers, makes it more flexible and preferable.\n",
    "\n",
    "## TensorFlow In-Depth: Initializing a Sequential Model\n",
    "Let's dive in and understand how to initialize a Sequential Model using TensorFlow. A Sequential model is a type of artificial neural network where the layers are arranged in a sequence, with each layer receiving input solely from the previous layer and sending output only to the next layer. This architecture is linear in terms of data flow, making it straightforward to build and manage. It's particularly well-suited for problems where input data can be processed in a step-by-step manner.\n",
    "\n",
    "Here we show one way to initialize a model, by setting predefined layers; alternatively, we could also initialize it empty and add layers later.\n",
    "\n",
    "```Python\n",
    "import tensorflow as tf\n",
    "\n",
    "# Initialize a Sequential model with initial layers\n",
    "model = tf.keras.Sequential([\n",
    "    tf.keras.layers.Input(shape=(2,)),\n",
    "    tf.keras.layers.Dense(10, activation='relu')\n",
    "])\n",
    "```\n",
    "\n",
    "In the code snippet above:\n",
    "\n",
    "- tf.keras.Sequential is used to initialize a linear stack of layers.\n",
    "- Each layer inside the Sequential model is represented with tf.keras.layers.\n",
    "- Input(shape=(2,)) specifies the shape of the input data, in this case, it's 2D.\n",
    "- Dense(10, activation='relu') is a densely connected Neural Network layer with 10 neurons and 'relu' activation function.\n",
    "- The final Dense layer added to the model is considered the output layer in TensorFlow, which provides the final output of the neural network based on the specified neurons and activation function.\n",
    "\n",
    "Finally, after initializing the model, we can look at its architecture using the model.summary() function which provides a line-by-line description of your model.\n",
    "\n",
    "```Python\n",
    "print(\"Initialized Model:\")\n",
    "model.summary()\n",
    "```\n",
    "\n",
    "The output of the above code will be:\n",
    "\n",
    "```sh\n",
    "Initialized Model:\n",
    "Model: \"sequential\"\n",
    "┏━━━━━━━━━━━━━━━━━━━━━━━━━━━━━━━━━┳━━━━━━━━━━━━━━━━━━━━━━━━┳━━━━━━━━━━━━━━━┓\n",
    "┃ Layer (type)                    ┃ Output Shape           ┃       Param # ┃\n",
    "┡━━━━━━━━━━━━━━━━━━━━━━━━━━━━━━━━━╇━━━━━━━━━━━━━━━━━━━━━━━━╇━━━━━━━━━━━━━━━┩\n",
    "│ dense (Dense)                   │ (None, 10)             │            30 │\n",
    "└─────────────────────────────────┴────────────────────────┴───────────────┘\n",
    "Total params: 30 (120.00 B)\n",
    "Trainable params: 30 (120.00 B)\n",
    "Non-trainable params: 0 (0.00 B)\n",
    "```\n",
    "\n",
    "This output provides a summary of the Sequential model architecture. It details the first dense layer showing the output shape of (None, 10) indicating 10 neurons and a parameter count of 30, which refers to the weights and biases initialized for this layer. The parameter count of 30 is calculated as follows: for each of the 10 neurons, there are 2 weights (since the input shape is 2), and each neuron also has one bias term. Therefore, the total parameter count is \n",
    "\n",
    "![image.png](attachment:image.png)\n",
    "\n",
    "## Extending The Model: Adding More Layers\n",
    "As we previously mentioned that a model could have layers added after initialization, it can also benefit from additional layers to make more complex decisions. TensorFlow makes it fairly simple to add layers to an existing model through the add() function.\n",
    "\n",
    "```Python\n",
    "# Add another layer to the existing model \n",
    "model.add(tf.keras.layers.Dense(1, activation='sigmoid'))\n",
    "```\n",
    "\n",
    "Here, Dense layer with one neuron and 'sigmoid' activation function is added to the model. Let's see how our model has changed now.\n",
    "\n",
    "```Python\n",
    "# Display the model's architecture after adding a layer\n",
    "print(\"\\nModel after adding more layers later:\")\n",
    "model.summary()\n",
    "```\n",
    "The output of the above code will be:\n",
    "\n",
    "```sh\n",
    "Model after adding more layers later:\n",
    "Model: \"sequential\"\n",
    "┏━━━━━━━━━━━━━━━━━━━━━━━━━━━━━━━━━┳━━━━━━━━━━━━━━━━━━━━━━━━┳━━━━━━━━━━━━━━━┓\n",
    "┃ Layer (type)                    ┃ Output Shape           ┃       Param # ┃\n",
    "┡━━━━━━━━━━━━━━━━━━━━━━━━━━━━━━━━━╇━━━━━━━━━━━━━━━━━━━━━━━━╇━━━━━━━━━━━━━━━┩\n",
    "│ dense (Dense)                   │ (None, 10)             │            30 │\n",
    "├─────────────────────────────────┼────────────────────────┼───────────────┤\n",
    "│ dense_1 (Dense)                 │ (None, 1)              │            11 │\n",
    "└─────────────────────────────────┴────────────────────────┴───────────────┘\n",
    "Total params: 41 (164.00 B)\n",
    "Trainable params: 41 (164.00 B)\n",
    "Non-trainable params: 0 (0.00 B)\n",
    "```\n",
    "\n",
    "This output showcases the updated model architecture after adding an additional dense layer with one neuron, now serving as the output layer. The model now has 41 parameters in total, with the new layer contributing 11 parameters (10 weights from the previous layer plus 1 bias) — demonstrating the slight increase in complexity and capability to capture more nuanced patterns in the data.\n",
    "\n",
    "## Understanding The Activation Functions\n",
    "Among the various entities in a Neural Network, activation functions play a crucial part. Think of an activation function as a gatekeeper, deciding how much information should go forward into the next layer.\n",
    "\n",
    "In TensorFlow, each layer in a Neural Network comprises neurons. These neurons are connected with weights and biases. Each incoming signal (input) is multiplied by a weight, and then a bias is added to it. The activation function is finally applied to this weighted sum to determine the output of the neuron.\n",
    "\n",
    "In our code example, we have used two types of activation functions:\n",
    "\n",
    "1. ReLU: ReLU, or Rectified Linear Unit, transforms the input to the maximum of either 0 or the input itself. If the input is positive, it’s returned as it is, while if it’s negative, it returns zero. The ReLU function is often used in hidden layers to add non-linearity to the network and can be represented mathematically as:\n",
    "![image-2.png](attachment:image-2.png)\n",
    "\n",
    "2. Sigmoid: The sigmoid function maps any input into a value between 0 and 1, making it particularly useful in the output layer of a neural network model when we want probabilities. The sigmoid function can be represented mathematically as, where 𝑒 (e) is the base of the natural logarithm:\n",
    "3. ![image-3.png](attachment:image-3.png)\n",
    "\n",
    "Both these activation functions operate on the input after it is adjusted by the weights and biases. Here is how we used them in our neural network:\n",
    "\n",
    "```Python\n",
    "tf.keras.layers.Dense(10, activation='relu')   # in hidden layer\n",
    "model.add(tf.keras.layers.Dense(1, activation='sigmoid'))   # in output layer\n",
    "```\n",
    "\n",
    "By transforming the sigmoid and ReLU functions through weights and biases, we can control how the information flows through the layers and how learning takes place within the network.\n",
    "\n",
    "## Lesson Summary and Practice\n",
    "There you have it! Today, we dived into Neural Networks and TensorFlow. You learned how to initialize a Neural Network model using TensorFlow and how to add layers to an existing model. Moreover, you gained an understanding of activation functions – ReLU and Sigmoid and why they are used in different layers of the model.\n",
    "\n",
    "Remember, practice is key in mastering topics. So get ready to roll up your sleeves and apply these skills in the following hands-on exercises! Rest assured, this knowledge will serve as a solid foundation as you venture further into the world of Machine Learning. Keep learning and keep growing!\n",
    "\n"
   ]
  },
  {
   "cell_type": "markdown",
   "metadata": {},
   "source": [
    "## Building a Sequential Model in TensorFlow\n",
    "Great job on understanding the basics of initializing and extending a Neural Network model in TensorFlow!\n",
    "\n",
    "In this task, you will learn how to initialize a Sequential model and observe its structure. Additionally, we will showcase how adding another layer changes the model. Simply execute the code to see the results.\n",
    "\n",
    "```py\n",
    "import tensorflow as tf\n",
    "\n",
    "# Initialize a Sequential model with initial layers\n",
    "model = tf.keras.Sequential([\n",
    "    tf.keras.layers.Input(shape=(2,)),\n",
    "    tf.keras.layers.Dense(10, activation='relu')\n",
    "])\n",
    "\n",
    "# Display the model's architecture after initialization \n",
    "print(\"Initialized Model:\")\n",
    "model.summary()\n",
    "\n",
    "# Add another layer to the existing model \n",
    "model.add(tf.keras.layers.Dense(1, activation='sigmoid'))\n",
    "\n",
    "# Display the model's architecture after adding a layer\n",
    "print(\"\\nModel after adding a layer:\")\n",
    "model.summary()\n",
    "\n",
    "```"
   ]
  },
  {
   "cell_type": "markdown",
   "metadata": {},
   "source": [
    "## Adjusting Model Neurons and Activation Functions"
   ]
  },
  {
   "cell_type": "markdown",
   "metadata": {},
   "source": [
    "## Fixing Common Issues in Neural Network Models"
   ]
  },
  {
   "cell_type": "markdown",
   "metadata": {},
   "source": [
    "## Adding Layers to Sequential Models in TensorFlow"
   ]
  },
  {
   "cell_type": "markdown",
   "metadata": {},
   "source": [
    "## Creating and Configuring Models and Layers in TensorFlow"
   ]
  }
 ],
 "metadata": {
  "language_info": {
   "name": "python"
  }
 },
 "nbformat": 4,
 "nbformat_minor": 2
}
