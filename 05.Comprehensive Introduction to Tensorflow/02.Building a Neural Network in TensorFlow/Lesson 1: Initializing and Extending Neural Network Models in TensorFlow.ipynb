{
    "cells": [
     {
      "cell_type": "markdown",
      "metadata": {},
      "source": [
       "## Building a Sequential Model in TensorFlow"
      ]
     },
     {
      "cell_type": "markdown",
      "metadata": {},
      "source": [
       "## Adjusting Model Neurons and Activation Functions"
      ]
     },
     {
      "cell_type": "markdown",
      "metadata": {},
      "source": [
       "## Fixing Common Issues in Neural Network Models"
      ]
     },
     {
      "cell_type": "markdown",
      "metadata": {},
      "source": [
       "## Adding Layers to Sequential Models in TensorFlow"
      ]
     },
     {
      "cell_type": "markdown",
      "metadata": {},
      "source": [
       "## Creating and Configuring Models and Layers in TensorFlow"
      ]
     }
    ],
    "metadata": {
     "language_info": {
      "name": "python"
     }
    },
    "nbformat": 4,
    "nbformat_minor": 2
   }
   