{
    "cells": [
     {
      "cell_type": "markdown",
      "metadata": {},
      "source": [
       "## Making Predictions with TensorFlow"
      ]
     },
     {
      "cell_type": "markdown",
      "metadata": {},
      "source": [
       "## Adjusting Prediction Threshold in TensorFlow"
      ]
     },
     {
      "cell_type": "markdown",
      "metadata": {},
      "source": [
       "## Debugging Prediction of New Input for Trained Model"
      ]
     },
     {
      "cell_type": "markdown",
      "metadata": {},
      "source": [
       "## Predicting Student Outcomes with TensorFlow"
      ]
     },
     {
      "cell_type": "markdown",
      "metadata": {},
      "source": [
       "## Making Predictions with TensorFlow Models"
      ]
     }
    ],
    "metadata": {
     "language_info": {
      "name": "python"
     }
    },
    "nbformat": 4,
    "nbformat_minor": 2
   }
   