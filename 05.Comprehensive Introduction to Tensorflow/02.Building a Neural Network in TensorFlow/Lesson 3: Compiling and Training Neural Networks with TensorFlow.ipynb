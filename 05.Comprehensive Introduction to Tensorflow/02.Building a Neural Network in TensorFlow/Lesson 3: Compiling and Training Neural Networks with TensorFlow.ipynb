{
    "cells": [
     {
      "cell_type": "markdown",
      "metadata": {},
      "source": [
       "## Training Neural Networks in TensorFlow"
      ]
     },
     {
      "cell_type": "markdown",
      "metadata": {},
      "source": [
       "## Changing Optimizer and Epochs"
      ]
     },
     {
      "cell_type": "markdown",
      "metadata": {},
      "source": [
       "## Fixing Model Compilation Errors"
      ]
     },
     {
      "cell_type": "markdown",
      "metadata": {},
      "source": [
       "## Implementing the Training Step"
      ]
     },
     {
      "cell_type": "markdown",
      "metadata": {},
      "source": [
       "## Compiling and Training a Neural Network"
      ]
     }
    ],
    "metadata": {
     "language_info": {
      "name": "python"
     }
    },
    "nbformat": 4,
    "nbformat_minor": 2
   }
   