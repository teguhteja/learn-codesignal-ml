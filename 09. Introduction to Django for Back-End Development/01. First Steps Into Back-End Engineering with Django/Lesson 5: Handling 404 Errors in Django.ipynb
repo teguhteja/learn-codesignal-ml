{
            "cells": [
  {
            "cell_type": "markdown",
            "metadata": {},
            "source": [
                "# Lesson 5: Handling 404 Errors in Django"
            ]
            }
 ,{
            "cell_type": "markdown",
            "metadata": {},
            "source": [
 "## Handling 404 Errors Gracefully" 
   ]
            }
 ,{
            "cell_type": "markdown",
            "metadata": {},
            "source": [
 "## Create a Custom 404 Message" 
   ]
            }
 ,{
            "cell_type": "markdown",
            "metadata": {},
            "source": [
 "## Fix Custom 404 Handler" 
   ]
            }
   ],
 "metadata": {},
 "nbformat": 4,
 "nbformat_minor": 5
}
