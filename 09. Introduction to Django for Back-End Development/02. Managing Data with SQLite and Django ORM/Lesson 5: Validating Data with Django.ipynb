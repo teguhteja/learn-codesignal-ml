{
         "cells": [
                  {
                           "cell_type": "markdown",
                           "metadata": {},
                           "source": [
                                    "# Lesson 5: Validating Data with Django\n",
                                    "\n",
                                    "# Validating Data with Django\n",
                                    "\n",
                                    "Welcome back! After learning how to create relationships between models, it's time to ensure the integrity and quality of the data being stored. In this lesson, we will focus on validating data within your Django applications. Validation is a crucial step to ensure that the data flowing into your database meets certain standards and rules.\n",
                                    "\n",
                                    "## What You'll Learn\n",
                                    "By the end of this lesson, you will be proficient in:\n",
                                    "- Adding custom validation rules to your Django models.\n",
                                    "- Handling validation errors within your views.\n",
                                    "\n",
                                    "## Adding Custom Validation to Your Django Models\n",
                                    "\n",
                                    "To get started, let's create a validation function for our `Todo` model to ensure that the task description is at least three characters long. Here's how you can add custom validation in your `models.py` file:\n",
                                    "\n",
                                    "```python\n",
                                    "from django.db import models\n",
                                    "from django.core.exceptions import ValidationError\n",
                                    "\n",
                                    "def validate_task(value):\n",
                                    "    if len(value) < 3:\n",
                                    "        raise ValidationError('Task must be at least 3 characters long.')\n",
                                    "\n",
                                    "class Todo(models.Model):\n",
                                    "    task = models.CharField(max_length=200, validators=[validate_task])\n",
                                    "\n",
                                    "    def __str__(self):\n",
                                    "        return self.task\n",
                                    "```\n",
                                    "\n",
                                    "In this example, the `validate_task` function checks if the length of the task is less than three characters and raises a `ValidationError` if the condition is met.\n",
                                    "\n",
                                    "## Incorporating Validation into the `add_todo` View\n",
                                    "\n",
                                    "Next, let's incorporate this validation into the `add_todo` view:\n",
                                    "\n",
                                    "```python\n",
                                    "from django.http import JsonResponse\n",
                                    "from django.views.decorators.csrf import csrf_exempt\n",
                                    "from .models import Todo\n",
                                    "from django.core.exceptions import ValidationError\n",
                                    "import json\n",
                                    "\n",
                                    "@csrf_exempt\n",
                                    "def add_todo(request):\n",
                                    "    if request.method == 'POST':\n",
                                    "        data = json.loads(request.body)\n",
                                    "        new_todo = Todo(task=data['task'])\n",
                                    "        try:\n",
                                    "            new_todo.full_clean()  # Validates the model instance\n",
                                    "            new_todo.save()  # Saves the instance to the database\n",
                                    "            return JsonResponse({'id': new_todo.id, 'task': new_todo.task}, status=201)\n",
                                    "        except ValidationError as e:\n",
                                    "            return JsonResponse({'message': str(e)}, status=400)  # Handles validation error\n",
                                    "    return JsonResponse({'message': 'Invalid request'}, status=400)\n",
                                    "```\n",
                                    "\n",
                                    "In this view, the `full_clean()` method ensures that the model instance is validated before it is saved to the database. If a validation error occurs, it is caught and returned in the response.\n",
                                    "\n",
                                    "## Testing the Validation\n",
                                    "\n",
                                    "After adding these changes, you can test the validation by sending a POST request with a task that is less than three characters long. For example:\n",
                                    "\n",
                                    "```json\n",
                                    "{\n",
                                    "  \"task\": \"Do\"\n",
                                    "}\n",
                                    "```\n",
                                    "\n",
                                    "You should receive a `400 Bad Request` response with the message:\n",
                                    "\n",
                                    "```\n",
                                    "Task must be at least 3 characters long.\n",
                                    "```\n",
                                    "\n",
                                    "## Why It Matters\n",
                                    "\n",
                                    "Data validation is an essential part of building reliable and user-friendly web applications. By enforcing data integrity rules, you can:\n",
                                    "- Prevent invalid data from entering your database.\n",
                                    "- Enhance the user experience by providing immediate feedback on data entry errors.\n",
                                    "- Ensure that your application behaves as expected.\n",
                                    "\n",
                                    "---\n",
                                    "\n",
                                    "Exciting, right? Now it's time to put these concepts into practice. Let's move on to the practice section and start validating data together!"
                           ]
                  },
                  {
                           "cell_type": "markdown",
                           "metadata": {},
                           "source": [
                                    "## Run Data Validation in Django"
                           ]
                  },
                  {
                           "cell_type": "markdown",
                           "metadata": {},
                           "source": [
                                    "## Update Validation Rule for Task"
                           ]
                  },
                  {
                           "cell_type": "markdown",
                           "metadata": {},
                           "source": [
                                    "## Data Validation Bug Fixing"
                           ]
                  },
                  {
                           "cell_type": "markdown",
                           "metadata": {},
                           "source": [
                                    "## Custom Validation for Todo Tasks"
                           ]
                  }
         ],
         "metadata": {
                  "language_info": {
                           "name": "python"
                  }
         },
         "nbformat": 4,
         "nbformat_minor": 5
}
