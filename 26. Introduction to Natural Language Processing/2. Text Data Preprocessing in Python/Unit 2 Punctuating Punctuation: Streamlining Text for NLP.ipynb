{
            "cells": [
  {
            "cell_type": "markdown",
            "metadata": {},
            "source": [
                "# Unit 2 Punctuating Punctuation: Streamlining Text for NLP"
            ]
            }
 ,{
            "cell_type": "markdown",
            "metadata": {},
            "source": [
 "## Removing Text Punctuation Simplified" 
   ]
            }
 ,{
            "cell_type": "markdown",
            "metadata": {},
            "source": [
 "## Removing Commas from Text" 
   ]
            }
 ,{
            "cell_type": "markdown",
            "metadata": {},
            "source": [
 "## Debugging Punctuation Removal Exercise" 
   ]
            }
 ,{
            "cell_type": "markdown",
            "metadata": {},
            "source": [
 "## Crafting Clean Text Data" 
   ]
            }
   ],
 "metadata": {},
 "nbformat": 4,
 "nbformat_minor": 5
}
