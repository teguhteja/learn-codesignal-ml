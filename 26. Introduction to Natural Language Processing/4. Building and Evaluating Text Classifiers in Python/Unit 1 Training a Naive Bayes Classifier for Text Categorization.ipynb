{
            "cells": [
  {
            "cell_type": "markdown",
            "metadata": {},
            "source": [
                "# Unit 1 Training a Naive Bayes Classifier for Text Categorization"
            ]
            }
 ,{
            "cell_type": "markdown",
            "metadata": {},
            "source": [
 "## Running the Naive Bayes Classifier" 
   ]
            }
 ,{
            "cell_type": "markdown",
            "metadata": {},
            "source": [
 "## Adjusting Classifier Test Size" 
   ]
            }
 ,{
            "cell_type": "markdown",
            "metadata": {},
            "source": [
 "## Mastering the Naive Bayes Classifier" 
   ]
            }
 ,{
            "cell_type": "markdown",
            "metadata": {},
            "source": [
 "## Crafting a Naive Bayes Classifier" 
   ]
            }
   ],
 "metadata": {},
 "nbformat": 4,
 "nbformat_minor": 5
}
