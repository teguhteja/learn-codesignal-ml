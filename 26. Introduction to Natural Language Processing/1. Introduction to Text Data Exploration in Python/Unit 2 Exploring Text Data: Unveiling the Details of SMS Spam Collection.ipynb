{
            "cells": [
  {
            "cell_type": "markdown",
            "metadata": {},
            "source": [
                "# Unit 2 Exploring Text Data: Unveiling the Details of SMS Spam Collection"
            ]
            }
 ,{
            "cell_type": "markdown",
            "metadata": {},
            "source": [
 "## Exploring SMS Spam Dataset Insights" 
   ]
            }
 ,{
            "cell_type": "markdown",
            "metadata": {},
            "source": [
 "## Fix the Column Reference Error" 
   ]
            }
 ,{
            "cell_type": "markdown",
            "metadata": {},
            "source": [
 "## Extracting Information and Columns from Dataset" 
   ]
            }
 ,{
            "cell_type": "markdown",
            "metadata": {},
            "source": [
 "## Unlocking Insights: SMS Spam Data Exploration" 
   ]
            }
 ,{
            "cell_type": "markdown",
            "metadata": {},
            "source": [
 "## Mastering Pandas with SMS Spam Data" 
   ]
            }
   ],
 "metadata": {},
 "nbformat": 4,
 "nbformat_minor": 5
}
