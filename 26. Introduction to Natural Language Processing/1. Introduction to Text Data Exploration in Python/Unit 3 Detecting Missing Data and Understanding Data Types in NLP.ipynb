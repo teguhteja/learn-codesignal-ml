{
         "cells": [
                  {
                           "cell_type": "markdown",
                           "metadata": {},
                           "source": [
                                    "# Unit 3 Detecting Missing Data and Understanding Data Types in NLP\n",
                                    "\n",
                                    "# Detecting Missing Data and Understanding Data Types in NLP\n",
                                    "\n",
                                    "---\n",
                                    "\n",
                                    "## Introduction\n",
                                    "\n",
                                    "Welcome back! In this lesson, we'll continue using the SMS Spam Collection dataset and deepen our understanding of text datasets by jumping into a key preparatory step in **Natural Language Processing (NLP)**: detecting missing data and identifying data types. Real-world text datasets usually entail imperfections like missing values that could affect our analysis and outcomes if untreated. They can also be composed of different data types that need to be properly handled for precise and efficient processing. Our exemplary solution code provides you a practical approach to address these steps using Python and pandas.\n",
                                    "\n",
                                    "## Understanding Missing Data\n",
                                    "\n",
                                    "**Missing data** is essentially the absence of data where there should be data. In other words, an entry in a column (field) is missing if no data is stored for that entry in our dataset. Missing data can be a nuisance for statisticians and data analysts since it can severely skew results and lead to biased models.\n",
                                    "\n",
                                    "To detect missing data, we commonly use the `isnull()` function from the pandas library, which returns a DataFrame where all cells are either `True` (if the original cell value is missing) or `False` (if the original cell value is not missing). To get a summation of missing values in each column, we can use the `sum()` function.\n",
                                    "\n",
                                    "```python\n",
                                    "print(df.isnull().sum())\n",
                                    "```\n",
                                    "\n",
                                    "The output of the above code will be:\n",
                                    "\n",
                                    "```\n",
                                    "label      0\n",
                                    "message    0\n",
                                    "dtype: int64\n",
                                    "```\n",
                                    "\n",
                                    "This output indicates there are no missing records in the `message` and `label` columns of our DataFrame.\n",
                                    "\n",
                                    "## Identifying Data Types\n",
                                    "\n",
                                    "It's vital to know what types of data are stored in our columns (or variables) because they dictate the operations we can perform and the techniques for data cleaning and wrangling we should employ. For instance, text must be processed differently from numerical or categorical data.\n",
                                    "\n",
                                    "Common data types used in Python include:\n",
                                    "\n",
                                    "* **Boolean types:** `bool`\n",
                                    "* **Integer types:** `int`\n",
                                    "* **Float types:** `float`\n",
                                    "* **Text string:** `str`\n",
                                    "* **Timestamps:** `datetime`\n",
                                    "\n",
                                    "We use the pandas `dtypes` attribute to determine the data types of each column in our DataFrame.\n",
                                    "\n",
                                    "```python\n",
                                    "print(df.dtypes)\n",
                                    "```\n",
                                    "\n",
                                    "The output of the above code will be:\n",
                                    "\n",
                                    "```\n",
                                    "label      object\n",
                                    "message    object\n",
                                    "dtype: object\n",
                                    "```\n",
                                    "\n",
                                    "This output illustrates that the `message` and `label` columns are of type `object`, which is typically used for text or mixed types of data in pandas.\n",
                                    "\n",
                                    "## Lesson Summary and Upcoming Practice\n",
                                    "\n",
                                    "Congratulations! You've added another layer to your data handling toolkit by learning how to detect missing data and identify data types. By implementing these techniques, you'll be able to prepare your dataset more effectively for subsequent NLP tasks.\n",
                                    "\n",
                                    "Remember, practice is essential for retaining new knowledge and enhancing your skills. The exercises which follow offer practical implementations of the concepts we covered in this lesson.\n",
                                    "\n",
                                    "In the upcoming lessons, we'll delve deeper into text data preprocessing, so stay tuned!"
                           ]
                  },
                  {
                           "cell_type": "markdown",
                           "metadata": {},
                           "source": [
                                    "## Exploring Missing Values and Types\n",
                                    "\n",
                                    "Put your understanding of detecting missing values and recognizing data types into practice using pandas on the SMS Spam Collection dataset. Execute the provided code to count missing values and review data types—no code modifications required, simply run it to see the output. This task is a stepping stone for mastering initial data assessment techniques.\n",
                                    "\n",
                                    "```python\n",
                                    "import pandas as pd\n",
                                    "from datasets import load_dataset\n",
                                    "\n",
                                    "# Load the SMS Spam Collection dataset\n",
                                    "sms_spam = load_dataset('codesignal/sms-spam-collection')\n",
                                    "\n",
                                    "# Convert to pandas DataFrame for convenient handling\n",
                                    "df = pd.DataFrame(sms_spam['train'])\n",
                                    "\n",
                                    "# Print the count of missing values for each column in the DataFrame\n",
                                    "print(df.isnull().sum(), '\\n')\n",
                                    "\n",
                                    "# Print the data types of each column in the DataFrame\n",
                                    "print(df.dtypes)\n",
                                    "\n",
                                    "```"
                           ]
                  },
                  {
                           "cell_type": "markdown",
                           "metadata": {},
                           "source": [
                                    "## Identify Missing Values in the SMS Spam Collection Dataset"
                           ]
                  },
                  {
                           "cell_type": "markdown",
                           "metadata": {},
                           "source": [
                                    "## Understanding Column Data Types"
                           ]
                  },
                  {
                           "cell_type": "markdown",
                           "metadata": {},
                           "source": [
                                    "## Mastering Data Inspection Essentials"
                           ]
                  }
         ],
         "metadata": {
                  "language_info": {
                           "name": "python"
                  }
         },
         "nbformat": 4,
         "nbformat_minor": 5
}
