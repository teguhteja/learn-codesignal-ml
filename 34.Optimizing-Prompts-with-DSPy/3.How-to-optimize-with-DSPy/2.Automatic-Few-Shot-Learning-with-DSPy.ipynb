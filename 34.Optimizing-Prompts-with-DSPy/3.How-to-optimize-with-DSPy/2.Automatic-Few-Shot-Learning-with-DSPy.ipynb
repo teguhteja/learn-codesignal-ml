{
            "cells": [
  {
            "cell_type": "markdown",
            "metadata": {},
            "source": [
                "# Unit 2"
            ]
            }
 ,{
            "cell_type": "markdown",
            "metadata": {},
            "source": [
                "## Automatic Few-Shot Learning with DSPy"
            ]
            }
 ,{
            "cell_type": "markdown",
            "metadata": {},
            "source": [
                "## Implementing Your First Few-Shot Optimizer"
            ]
            }
 ,{
            "cell_type": "markdown",
            "metadata": {},
            "source": [
                "## Self Generated Examples with BootstrapFewShot"
            ]
            }
 ,{
            "cell_type": "markdown",
            "metadata": {},
            "source": [
                "## Finding Optimal Examples with Random Search"
            ]
            }
 ,{
            "cell_type": "markdown",
            "metadata": {},
            "source": [
                "## Dynamic Example Selection with KNNFewShot"
            ]
            }
 ,{
            "cell_type": "markdown",
            "metadata": {},
            "source": [
                "## Dynamic Example Selection with KNNFewShot"
            ]
            }
   ],
 "metadata": {},
 "nbformat": 4,
 "nbformat_minor": 5
}
